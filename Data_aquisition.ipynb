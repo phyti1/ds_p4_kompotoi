{
 "metadata": {
  "language_info": {
   "codemirror_mode": {
    "name": "ipython",
    "version": 3
   },
   "file_extension": ".py",
   "mimetype": "text/x-python",
   "name": "python",
   "nbconvert_exporter": "python",
   "pygments_lexer": "ipython3",
   "version": "3.9.4-final"
  },
  "orig_nbformat": 2,
  "kernelspec": {
   "name": "python394jvsc74a57bd05a8dfbfd32fb00bbc17b1b5ed9a75c3d0d227413af784821a14e9b99de62ed8e",
   "display_name": "Python 3.9.4 64-bit"
  }
 },
 "nbformat": 4,
 "nbformat_minor": 2,
 "cells": [
  {
   "source": [
    "## Daten aus API einlesen\n",
    "Diesdasananas\n",
    "\n",
    "Api Dokumentation gemäss: https://doc.iofrog.com/apidocumentation/api.html\n",
    "Postman requests: https://www.getpostman.com/collections/eb80441a4500fd9a0634"
   ],
   "cell_type": "markdown",
   "metadata": {}
  },
  {
   "cell_type": "code",
   "execution_count": 1,
   "metadata": {},
   "outputs": [],
   "source": [
    "# packages import\n",
    "import requests\n",
    "import json\n",
    "import pandas as pd\n"
   ]
  },
  {
   "source": [
    "Login to api"
   ],
   "cell_type": "markdown",
   "metadata": {}
  },
  {
   "cell_type": "code",
   "execution_count": 2,
   "metadata": {},
   "outputs": [],
   "source": [
    "url = \"https://www.iofrog.com/api/v2/auth/signin/\"\n",
    "\n",
    "payload = json.dumps({\n",
    "  \"username\": \"pascal.berger@students.fhnw.ch\",\n",
    "  \"password\": \"123321\"\n",
    "})\n",
    "headers = {\n",
    "  'Content-Type': 'application/json',\n",
    "  'Cookie': ''\n",
    "}\n",
    "\n",
    "login_response = requests.request(\"POST\", url, headers=headers, data=payload)\n",
    "#print(login_response.text)\n"
   ]
  },
  {
   "cell_type": "code",
   "execution_count": 3,
   "metadata": {},
   "outputs": [
    {
     "output_type": "execute_result",
     "data": {
      "text/plain": [
       "                                             user  \\\n",
       "firstName                                  Pascal   \n",
       "lastName                                   Berger   \n",
       "isActivated                                  True   \n",
       "level                                      expert   \n",
       "partner                                    heliot   \n",
       "lang                                           en   \n",
       "timeZone                            Europe/Berlin   \n",
       "units         {'temperature': 'C', 'system': 'M'}   \n",
       "accessToken                                   NaN   \n",
       "refreshToken                                  NaN   \n",
       "\n",
       "                                                          token  \n",
       "firstName                                                   NaN  \n",
       "lastName                                                    NaN  \n",
       "isActivated                                                 NaN  \n",
       "level                                                       NaN  \n",
       "partner                                                     NaN  \n",
       "lang                                                        NaN  \n",
       "timeZone                                                    NaN  \n",
       "units                                                       NaN  \n",
       "accessToken   eyJhbGciOiJIUzI1NiIsInR5cCI6IkpXVCJ9.eyJpZCI6I...  \n",
       "refreshToken  607448e7914447151b7a7c5b.91ff3d83a1a2c3b9f3008...  "
      ],
      "text/html": "<div>\n<style scoped>\n    .dataframe tbody tr th:only-of-type {\n        vertical-align: middle;\n    }\n\n    .dataframe tbody tr th {\n        vertical-align: top;\n    }\n\n    .dataframe thead th {\n        text-align: right;\n    }\n</style>\n<table border=\"1\" class=\"dataframe\">\n  <thead>\n    <tr style=\"text-align: right;\">\n      <th></th>\n      <th>user</th>\n      <th>token</th>\n    </tr>\n  </thead>\n  <tbody>\n    <tr>\n      <th>firstName</th>\n      <td>Pascal</td>\n      <td>NaN</td>\n    </tr>\n    <tr>\n      <th>lastName</th>\n      <td>Berger</td>\n      <td>NaN</td>\n    </tr>\n    <tr>\n      <th>isActivated</th>\n      <td>True</td>\n      <td>NaN</td>\n    </tr>\n    <tr>\n      <th>level</th>\n      <td>expert</td>\n      <td>NaN</td>\n    </tr>\n    <tr>\n      <th>partner</th>\n      <td>heliot</td>\n      <td>NaN</td>\n    </tr>\n    <tr>\n      <th>lang</th>\n      <td>en</td>\n      <td>NaN</td>\n    </tr>\n    <tr>\n      <th>timeZone</th>\n      <td>Europe/Berlin</td>\n      <td>NaN</td>\n    </tr>\n    <tr>\n      <th>units</th>\n      <td>{'temperature': 'C', 'system': 'M'}</td>\n      <td>NaN</td>\n    </tr>\n    <tr>\n      <th>accessToken</th>\n      <td>NaN</td>\n      <td>eyJhbGciOiJIUzI1NiIsInR5cCI6IkpXVCJ9.eyJpZCI6I...</td>\n    </tr>\n    <tr>\n      <th>refreshToken</th>\n      <td>NaN</td>\n      <td>607448e7914447151b7a7c5b.91ff3d83a1a2c3b9f3008...</td>\n    </tr>\n  </tbody>\n</table>\n</div>"
     },
     "metadata": {},
     "execution_count": 3
    }
   ],
   "source": [
    "login_data = pd.read_json(login_response.text)\n",
    "access_token = login_data.loc['accessToken', 'token']\n",
    "login_data"
   ]
  },
  {
   "source": [
    "get devices data"
   ],
   "cell_type": "markdown",
   "metadata": {}
  },
  {
   "cell_type": "code",
   "execution_count": 4,
   "metadata": {},
   "outputs": [],
   "source": [
    "url = \"https://www.iofrog.com/api/v2/devices/dashboard\"\n",
    "\n",
    "payload = json.dumps([\n",
    "  {\n",
    "    \"data\": [],\n",
    "    \"count\": 2,\n",
    "    \"meta\": {}\n",
    "  }\n",
    "])\n",
    "headers = {\n",
    "  'Authorization': 'Bearer ' + access_token,\n",
    "  'Content-Type': 'application/json',\n",
    "  'Cookie': ''\n",
    "}\n",
    "\n",
    "devices_response = requests.request(\"GET\", url, headers=headers, data=payload)\n",
    "#print(devices_response.text)\n"
   ]
  },
  {
   "cell_type": "code",
   "execution_count": 5,
   "metadata": {},
   "outputs": [
    {
     "output_type": "execute_result",
     "data": {
      "text/plain": [
       "        id                   groupId                           name  \\\n",
       "0  2203AF9  60476e95362d421c28ee0058  SimplePack POC_02203AF9 TeamA   \n",
       "1  1F2504E  60476e95362d421c28ee0058  Türe Beschleunigung (PTH-04E)   \n",
       "2  2203AFA  60476e95362d421c28ee0058   Türe Magnet aussen (POC-AFA)   \n",
       "3  2203AAB  60476e95362d421c28ee0058    Türe Magnet innen (POC-AAB)   \n",
       "4  1F25047  60476e95362d421c28ee0058    Türriegel Beschl. (PTH-047)   \n",
       "5  2203ACB  60476e95362d421c28ee0058     Türriegel Magnet (POC-ACB)   \n",
       "\n",
       "                          typeId        modeId downlinkData  active  \\\n",
       "0  simple_pack_plus_full_3_0_6_0  reed_counter                 True   \n",
       "1  simple_pack_plus_full_3_0_6_0   put_me_back                 True   \n",
       "2  simple_pack_plus_full_3_0_6_0  reed_counter                 True   \n",
       "3  simple_pack_plus_full_3_0_6_0  reed_counter                 True   \n",
       "4  simple_pack_plus_full_3_0_6_0   put_me_back                 True   \n",
       "5  simple_pack_plus_full_3_0_6_0  reed_counter                 True   \n",
       "\n",
       "                     location                                      viewConfig  \\\n",
       "0  {'lat': None, 'lng': None}     {'locationSource': 'atlas', 'view': 'last'}   \n",
       "1  {'lat': None, 'lng': None}     {'locationSource': 'atlas', 'view': 'last'}   \n",
       "2  {'lat': None, 'lng': None}  {'locationSource': 'fallback', 'view': 'last'}   \n",
       "3  {'lat': None, 'lng': None}  {'locationSource': 'fallback', 'view': 'last'}   \n",
       "4  {'lat': None, 'lng': None}  {'locationSource': 'fallback', 'view': 'last'}   \n",
       "5  {'lat': None, 'lng': None}  {'locationSource': 'fallback', 'view': 'last'}   \n",
       "\n",
       "                                              status  \\\n",
       "0  {'isRegistered': True, 'isReadyForActivation':...   \n",
       "1  {'isRegistered': True, 'isReadyForActivation':...   \n",
       "2  {'isRegistered': True, 'isReadyForActivation':...   \n",
       "3  {'isRegistered': True, 'isReadyForActivation':...   \n",
       "4  {'isRegistered': True, 'isReadyForActivation':...   \n",
       "5  {'isRegistered': True, 'isReadyForActivation':...   \n",
       "\n",
       "                                       subscriptions  \\\n",
       "0  [{'_id': '6050c0467d354e09ee4aa73e', 'provider...   \n",
       "1  [{'_id': '6050bd897d354e09ee4a5d37', 'provider...   \n",
       "2  [{'_id': '60489ad5362d421c28f49667', 'provider...   \n",
       "3  [{'_id': '60489bab362d421c28f49a02', 'provider...   \n",
       "4  [{'_id': '60489b3f362d421c28f498b2', 'provider...   \n",
       "5  [{'_id': '60489995362d421c28f48edd', 'provider...   \n",
       "\n",
       "                                    lastDataMessages trackedKeys badges  \\\n",
       "0  [{'_id': '60742c3a914447151b7754c6', 'keys': [...          []     []   \n",
       "1  [{'_id': '60743afe3625b3466a8386f3', 'keys': [...          []     []   \n",
       "2  [{'_id': '6073e71c3625b3466a7a4643', 'keys': [...          []     []   \n",
       "3  [{'_id': '6074452c3625b3466a84d19d', 'keys': [...          []     []   \n",
       "4  [{'_id': '6074456d3625b3466a84d816', 'keys': [...          []     []   \n",
       "5  [{'_id': '607444163625b3466a84b009', 'keys': [...          []     []   \n",
       "\n",
       "                                     lastDataMessage  \\\n",
       "0  {'_id': '60742c3a914447151b7754c6', 'keys': [{...   \n",
       "1  {'_id': '60743afe3625b3466a8386f3', 'keys': [{...   \n",
       "2  {'_id': '6073e71c3625b3466a7a4643', 'keys': [{...   \n",
       "3  {'_id': '6074452c3625b3466a84d19d', 'keys': [{...   \n",
       "4  {'_id': '6074456d3625b3466a84d816', 'keys': [{...   \n",
       "5  {'_id': '607444163625b3466a84b009', 'keys': [{...   \n",
       "\n",
       "                             lastSourceBasedLocation  \n",
       "0                                                NaN  \n",
       "1                                                NaN  \n",
       "2  {'geoplaces': [], '_id': '605b4291f4e46133dc9b...  \n",
       "3  {'geoplaces': [], '_id': '6059fbafb3ae30315afb...  \n",
       "4  {'geoplaces': [], '_id': '6058b9d703380b4c4fd1...  \n",
       "5  {'geoplaces': [], '_id': '605b68f2f4e46133dc9e...  "
      ],
      "text/html": "<div>\n<style scoped>\n    .dataframe tbody tr th:only-of-type {\n        vertical-align: middle;\n    }\n\n    .dataframe tbody tr th {\n        vertical-align: top;\n    }\n\n    .dataframe thead th {\n        text-align: right;\n    }\n</style>\n<table border=\"1\" class=\"dataframe\">\n  <thead>\n    <tr style=\"text-align: right;\">\n      <th></th>\n      <th>id</th>\n      <th>groupId</th>\n      <th>name</th>\n      <th>typeId</th>\n      <th>modeId</th>\n      <th>downlinkData</th>\n      <th>active</th>\n      <th>location</th>\n      <th>viewConfig</th>\n      <th>status</th>\n      <th>subscriptions</th>\n      <th>lastDataMessages</th>\n      <th>trackedKeys</th>\n      <th>badges</th>\n      <th>lastDataMessage</th>\n      <th>lastSourceBasedLocation</th>\n    </tr>\n  </thead>\n  <tbody>\n    <tr>\n      <th>0</th>\n      <td>2203AF9</td>\n      <td>60476e95362d421c28ee0058</td>\n      <td>SimplePack POC_02203AF9 TeamA</td>\n      <td>simple_pack_plus_full_3_0_6_0</td>\n      <td>reed_counter</td>\n      <td></td>\n      <td>True</td>\n      <td>{'lat': None, 'lng': None}</td>\n      <td>{'locationSource': 'atlas', 'view': 'last'}</td>\n      <td>{'isRegistered': True, 'isReadyForActivation':...</td>\n      <td>[{'_id': '6050c0467d354e09ee4aa73e', 'provider...</td>\n      <td>[{'_id': '60742c3a914447151b7754c6', 'keys': [...</td>\n      <td>[]</td>\n      <td>[]</td>\n      <td>{'_id': '60742c3a914447151b7754c6', 'keys': [{...</td>\n      <td>NaN</td>\n    </tr>\n    <tr>\n      <th>1</th>\n      <td>1F2504E</td>\n      <td>60476e95362d421c28ee0058</td>\n      <td>Türe Beschleunigung (PTH-04E)</td>\n      <td>simple_pack_plus_full_3_0_6_0</td>\n      <td>put_me_back</td>\n      <td></td>\n      <td>True</td>\n      <td>{'lat': None, 'lng': None}</td>\n      <td>{'locationSource': 'atlas', 'view': 'last'}</td>\n      <td>{'isRegistered': True, 'isReadyForActivation':...</td>\n      <td>[{'_id': '6050bd897d354e09ee4a5d37', 'provider...</td>\n      <td>[{'_id': '60743afe3625b3466a8386f3', 'keys': [...</td>\n      <td>[]</td>\n      <td>[]</td>\n      <td>{'_id': '60743afe3625b3466a8386f3', 'keys': [{...</td>\n      <td>NaN</td>\n    </tr>\n    <tr>\n      <th>2</th>\n      <td>2203AFA</td>\n      <td>60476e95362d421c28ee0058</td>\n      <td>Türe Magnet aussen (POC-AFA)</td>\n      <td>simple_pack_plus_full_3_0_6_0</td>\n      <td>reed_counter</td>\n      <td></td>\n      <td>True</td>\n      <td>{'lat': None, 'lng': None}</td>\n      <td>{'locationSource': 'fallback', 'view': 'last'}</td>\n      <td>{'isRegistered': True, 'isReadyForActivation':...</td>\n      <td>[{'_id': '60489ad5362d421c28f49667', 'provider...</td>\n      <td>[{'_id': '6073e71c3625b3466a7a4643', 'keys': [...</td>\n      <td>[]</td>\n      <td>[]</td>\n      <td>{'_id': '6073e71c3625b3466a7a4643', 'keys': [{...</td>\n      <td>{'geoplaces': [], '_id': '605b4291f4e46133dc9b...</td>\n    </tr>\n    <tr>\n      <th>3</th>\n      <td>2203AAB</td>\n      <td>60476e95362d421c28ee0058</td>\n      <td>Türe Magnet innen (POC-AAB)</td>\n      <td>simple_pack_plus_full_3_0_6_0</td>\n      <td>reed_counter</td>\n      <td></td>\n      <td>True</td>\n      <td>{'lat': None, 'lng': None}</td>\n      <td>{'locationSource': 'fallback', 'view': 'last'}</td>\n      <td>{'isRegistered': True, 'isReadyForActivation':...</td>\n      <td>[{'_id': '60489bab362d421c28f49a02', 'provider...</td>\n      <td>[{'_id': '6074452c3625b3466a84d19d', 'keys': [...</td>\n      <td>[]</td>\n      <td>[]</td>\n      <td>{'_id': '6074452c3625b3466a84d19d', 'keys': [{...</td>\n      <td>{'geoplaces': [], '_id': '6059fbafb3ae30315afb...</td>\n    </tr>\n    <tr>\n      <th>4</th>\n      <td>1F25047</td>\n      <td>60476e95362d421c28ee0058</td>\n      <td>Türriegel Beschl. (PTH-047)</td>\n      <td>simple_pack_plus_full_3_0_6_0</td>\n      <td>put_me_back</td>\n      <td></td>\n      <td>True</td>\n      <td>{'lat': None, 'lng': None}</td>\n      <td>{'locationSource': 'fallback', 'view': 'last'}</td>\n      <td>{'isRegistered': True, 'isReadyForActivation':...</td>\n      <td>[{'_id': '60489b3f362d421c28f498b2', 'provider...</td>\n      <td>[{'_id': '6074456d3625b3466a84d816', 'keys': [...</td>\n      <td>[]</td>\n      <td>[]</td>\n      <td>{'_id': '6074456d3625b3466a84d816', 'keys': [{...</td>\n      <td>{'geoplaces': [], '_id': '6058b9d703380b4c4fd1...</td>\n    </tr>\n    <tr>\n      <th>5</th>\n      <td>2203ACB</td>\n      <td>60476e95362d421c28ee0058</td>\n      <td>Türriegel Magnet (POC-ACB)</td>\n      <td>simple_pack_plus_full_3_0_6_0</td>\n      <td>reed_counter</td>\n      <td></td>\n      <td>True</td>\n      <td>{'lat': None, 'lng': None}</td>\n      <td>{'locationSource': 'fallback', 'view': 'last'}</td>\n      <td>{'isRegistered': True, 'isReadyForActivation':...</td>\n      <td>[{'_id': '60489995362d421c28f48edd', 'provider...</td>\n      <td>[{'_id': '607444163625b3466a84b009', 'keys': [...</td>\n      <td>[]</td>\n      <td>[]</td>\n      <td>{'_id': '607444163625b3466a84b009', 'keys': [{...</td>\n      <td>{'geoplaces': [], '_id': '605b68f2f4e46133dc9e...</td>\n    </tr>\n  </tbody>\n</table>\n</div>"
     },
     "metadata": {},
     "execution_count": 5
    }
   ],
   "source": [
    "#print(devices_response.text)\n",
    "#device_data = pd.read_json(devices_response.text)\n",
    "\n",
    "device_dict = json.loads(devices_response.text)\n",
    "device_data = pd.DataFrame.from_dict(device_dict['data'])\n",
    "#device_data = pd.json_normalize(device_dict)\n",
    "#device_dict['data']\n",
    "device_data"
   ]
  },
  {
   "cell_type": "code",
   "execution_count": 6,
   "metadata": {
    "tags": []
   },
   "outputs": [],
   "source": [
    "url = \"https://www.iofrog.com/api/v2/devices/2203AAB/messages/\"\n",
    "\n",
    "payload = json.dumps({\n",
    "  \"data\": [\n",
    "    {\n",
    "      \"_id\": \"1f704bc5-5055-43eb-a851-c87b6b0bf7b9\",\n",
    "      \"isAlarm\": False,\n",
    "      \"isDismissed\": False,\n",
    "      \"timestamp\": 1584093653,\n",
    "      \"type\": \"data_uplink\",\n",
    "      \"seqNumber\": 1,\n",
    "      \"keys\": [\n",
    "        {\n",
    "          \"isCode\": False,\n",
    "          \"_id\": \"1111111111111111111111\",\n",
    "          \"key\": \"key\",\n",
    "          \"value\": \"value\",\n",
    "          \"keyLocale\": \"Klíč\",\n",
    "          \"valueLocale\": \"Hodnota\",\n",
    "          \"color\": \"alarm\",\n",
    "          \"icon\": \"icon name (from fontAwesome)\"\n",
    "        }\n",
    "      ]\n",
    "    }\n",
    "  ],\n",
    "  \"count\": 1\n",
    "})\n",
    "headers = {\n",
    "  'Authorization': 'Bearer ' + access_token,\n",
    "  'Content-Type': 'application/json',\n",
    "  'Cookie': ''\n",
    "}\n",
    "\n",
    "message_response = requests.request(\"GET\", url, headers=headers, data=payload)\n",
    "\n",
    "# print(response.text)\n"
   ]
  },
  {
   "cell_type": "code",
   "execution_count": 7,
   "metadata": {
    "tags": []
   },
   "outputs": [
    {
     "output_type": "execute_result",
     "data": {
      "text/plain": [
       "                         _id   timestamp        type  seqNumber deviceId  \\\n",
       "0   6074452c3625b3466a84d19d  1618232619  data_bidir      599.0  2203AAB   \n",
       "1   607443f73625b3466a84acc1  1618232310  data_bidir      598.0  2203AAB   \n",
       "2   6074401c914447151b797685  1618231322  data_bidir      597.0  2203AAB   \n",
       "3   60743f61914447151b795db1  1618231136  data_bidir      596.0  2203AAB   \n",
       "4   60743acb914447151b78cab0  1618229962  data_bidir      595.0  2203AAB   \n",
       "..                       ...         ...         ...        ...      ...   \n",
       "95  6070856a6d938d118a00cd94  1617986921  data_bidir      504.0  2203AAB   \n",
       "96  60707b9e6d938d118aff7bd8  1617984414  data_bidir      503.0  2203AAB   \n",
       "97  60707b616d938d118aff6c15  1617984352  data_bidir      502.0  2203AAB   \n",
       "98  60707b246d938d118aff63a7  1617984292  data_bidir      501.0  2203AAB   \n",
       "99  607079b56d938d118aff2243  1617983924  data_bidir      500.0  2203AAB   \n",
       "\n",
       "                     created  __v        action battery counter          mode  \\\n",
       "0   2021-04-12T13:03:40.387Z    0  reed_counter       0     729  reed_counter   \n",
       "1   2021-04-12T12:58:31.441Z    0  reed_counter       0     728  reed_counter   \n",
       "2   2021-04-12T12:42:04.667Z    0  reed_counter       0     727  reed_counter   \n",
       "3   2021-04-12T12:38:57.276Z    0  reed_counter       0     726  reed_counter   \n",
       "4   2021-04-12T12:19:23.251Z    0  reed_counter       0     725  reed_counter   \n",
       "..                       ...  ...           ...     ...     ...           ...   \n",
       "95  2021-04-09T16:48:42.497Z    0  reed_counter       0     640  reed_counter   \n",
       "96  2021-04-09T16:06:54.873Z    0  reed_counter       0     639  reed_counter   \n",
       "97  2021-04-09T16:05:53.712Z    0  reed_counter       0     637  reed_counter   \n",
       "98  2021-04-09T16:04:52.857Z    0  reed_counter       0     636  reed_counter   \n",
       "99  2021-04-09T15:58:45.150Z    0  reed_counter       0     635  reed_counter   \n",
       "\n",
       "   temperature _merge  \n",
       "0            0   both  \n",
       "1            0   both  \n",
       "2            0   both  \n",
       "3            0   both  \n",
       "4            0   both  \n",
       "..         ...    ...  \n",
       "95           0   both  \n",
       "96           0   both  \n",
       "97           0   both  \n",
       "98           0   both  \n",
       "99           0   both  \n",
       "\n",
       "[100 rows x 13 columns]"
      ],
      "text/html": "<div>\n<style scoped>\n    .dataframe tbody tr th:only-of-type {\n        vertical-align: middle;\n    }\n\n    .dataframe tbody tr th {\n        vertical-align: top;\n    }\n\n    .dataframe thead th {\n        text-align: right;\n    }\n</style>\n<table border=\"1\" class=\"dataframe\">\n  <thead>\n    <tr style=\"text-align: right;\">\n      <th></th>\n      <th>_id</th>\n      <th>timestamp</th>\n      <th>type</th>\n      <th>seqNumber</th>\n      <th>deviceId</th>\n      <th>created</th>\n      <th>__v</th>\n      <th>action</th>\n      <th>battery</th>\n      <th>counter</th>\n      <th>mode</th>\n      <th>temperature</th>\n      <th>_merge</th>\n    </tr>\n  </thead>\n  <tbody>\n    <tr>\n      <th>0</th>\n      <td>6074452c3625b3466a84d19d</td>\n      <td>1618232619</td>\n      <td>data_bidir</td>\n      <td>599.0</td>\n      <td>2203AAB</td>\n      <td>2021-04-12T13:03:40.387Z</td>\n      <td>0</td>\n      <td>reed_counter</td>\n      <td>0</td>\n      <td>729</td>\n      <td>reed_counter</td>\n      <td>0</td>\n      <td>both</td>\n    </tr>\n    <tr>\n      <th>1</th>\n      <td>607443f73625b3466a84acc1</td>\n      <td>1618232310</td>\n      <td>data_bidir</td>\n      <td>598.0</td>\n      <td>2203AAB</td>\n      <td>2021-04-12T12:58:31.441Z</td>\n      <td>0</td>\n      <td>reed_counter</td>\n      <td>0</td>\n      <td>728</td>\n      <td>reed_counter</td>\n      <td>0</td>\n      <td>both</td>\n    </tr>\n    <tr>\n      <th>2</th>\n      <td>6074401c914447151b797685</td>\n      <td>1618231322</td>\n      <td>data_bidir</td>\n      <td>597.0</td>\n      <td>2203AAB</td>\n      <td>2021-04-12T12:42:04.667Z</td>\n      <td>0</td>\n      <td>reed_counter</td>\n      <td>0</td>\n      <td>727</td>\n      <td>reed_counter</td>\n      <td>0</td>\n      <td>both</td>\n    </tr>\n    <tr>\n      <th>3</th>\n      <td>60743f61914447151b795db1</td>\n      <td>1618231136</td>\n      <td>data_bidir</td>\n      <td>596.0</td>\n      <td>2203AAB</td>\n      <td>2021-04-12T12:38:57.276Z</td>\n      <td>0</td>\n      <td>reed_counter</td>\n      <td>0</td>\n      <td>726</td>\n      <td>reed_counter</td>\n      <td>0</td>\n      <td>both</td>\n    </tr>\n    <tr>\n      <th>4</th>\n      <td>60743acb914447151b78cab0</td>\n      <td>1618229962</td>\n      <td>data_bidir</td>\n      <td>595.0</td>\n      <td>2203AAB</td>\n      <td>2021-04-12T12:19:23.251Z</td>\n      <td>0</td>\n      <td>reed_counter</td>\n      <td>0</td>\n      <td>725</td>\n      <td>reed_counter</td>\n      <td>0</td>\n      <td>both</td>\n    </tr>\n    <tr>\n      <th>...</th>\n      <td>...</td>\n      <td>...</td>\n      <td>...</td>\n      <td>...</td>\n      <td>...</td>\n      <td>...</td>\n      <td>...</td>\n      <td>...</td>\n      <td>...</td>\n      <td>...</td>\n      <td>...</td>\n      <td>...</td>\n      <td>...</td>\n    </tr>\n    <tr>\n      <th>95</th>\n      <td>6070856a6d938d118a00cd94</td>\n      <td>1617986921</td>\n      <td>data_bidir</td>\n      <td>504.0</td>\n      <td>2203AAB</td>\n      <td>2021-04-09T16:48:42.497Z</td>\n      <td>0</td>\n      <td>reed_counter</td>\n      <td>0</td>\n      <td>640</td>\n      <td>reed_counter</td>\n      <td>0</td>\n      <td>both</td>\n    </tr>\n    <tr>\n      <th>96</th>\n      <td>60707b9e6d938d118aff7bd8</td>\n      <td>1617984414</td>\n      <td>data_bidir</td>\n      <td>503.0</td>\n      <td>2203AAB</td>\n      <td>2021-04-09T16:06:54.873Z</td>\n      <td>0</td>\n      <td>reed_counter</td>\n      <td>0</td>\n      <td>639</td>\n      <td>reed_counter</td>\n      <td>0</td>\n      <td>both</td>\n    </tr>\n    <tr>\n      <th>97</th>\n      <td>60707b616d938d118aff6c15</td>\n      <td>1617984352</td>\n      <td>data_bidir</td>\n      <td>502.0</td>\n      <td>2203AAB</td>\n      <td>2021-04-09T16:05:53.712Z</td>\n      <td>0</td>\n      <td>reed_counter</td>\n      <td>0</td>\n      <td>637</td>\n      <td>reed_counter</td>\n      <td>0</td>\n      <td>both</td>\n    </tr>\n    <tr>\n      <th>98</th>\n      <td>60707b246d938d118aff63a7</td>\n      <td>1617984292</td>\n      <td>data_bidir</td>\n      <td>501.0</td>\n      <td>2203AAB</td>\n      <td>2021-04-09T16:04:52.857Z</td>\n      <td>0</td>\n      <td>reed_counter</td>\n      <td>0</td>\n      <td>636</td>\n      <td>reed_counter</td>\n      <td>0</td>\n      <td>both</td>\n    </tr>\n    <tr>\n      <th>99</th>\n      <td>607079b56d938d118aff2243</td>\n      <td>1617983924</td>\n      <td>data_bidir</td>\n      <td>500.0</td>\n      <td>2203AAB</td>\n      <td>2021-04-09T15:58:45.150Z</td>\n      <td>0</td>\n      <td>reed_counter</td>\n      <td>0</td>\n      <td>635</td>\n      <td>reed_counter</td>\n      <td>0</td>\n      <td>both</td>\n    </tr>\n  </tbody>\n</table>\n<p>100 rows × 13 columns</p>\n</div>"
     },
     "metadata": {},
     "execution_count": 7
    }
   ],
   "source": [
    "# data prep\n",
    "\n",
    "\n",
    "message_dict = json.loads(message_response.text)\n",
    "#print(message_dict['data'])\n",
    "message_data = pd.DataFrame.from_dict(message_dict['data'])\n",
    "\n",
    "message_data = message_data.drop(columns=['keys'])\n",
    "\n",
    "message_data_keys = pd.json_normalize(message_dict['data'], record_path='keys', record_prefix='keys_', meta='_id')\n",
    "message_data_keys = message_data_keys.pivot(index=['_id'], columns='keys_key', values='keys_value')\n",
    "message_data_keys.reset_index(inplace=True)\n",
    "message_data_keys = message_data_keys.groupby('_id').sum()\n",
    "#print(message_data_keys)\n",
    "# join df's\n",
    "message_data = message_data.merge(message_data_keys, on=['_id'], how='left', indicator=True)\n",
    "\n",
    "message_data\n",
    "\n"
   ]
  },
  {
   "cell_type": "code",
   "execution_count": 8,
   "metadata": {},
   "outputs": [
    {
     "output_type": "stream",
     "name": "stderr",
     "text": [
      "C:\\Users\\Pascal\\AppData\\Local\\Programs\\Python\\Python39\\lib\\site-packages\\pandas\\plotting\\_matplotlib\\core.py:613: UserWarning: The handle <matplotlib.lines.Line2D object at 0x000001DD1AEEDD00> has a label of '__v' which cannot be automatically added to the legend.\n  ax.legend(handles, labels, loc=\"best\", title=title)\n"
     ]
    },
    {
     "output_type": "execute_result",
     "data": {
      "text/plain": [
       "<AxesSubplot:>"
      ]
     },
     "metadata": {},
     "execution_count": 8
    },
    {
     "output_type": "display_data",
     "data": {
      "text/plain": "<Figure size 432x288 with 1 Axes>",
      "image/svg+xml": "<?xml version=\"1.0\" encoding=\"utf-8\" standalone=\"no\"?>\r\n<!DOCTYPE svg PUBLIC \"-//W3C//DTD SVG 1.1//EN\"\r\n  \"http://www.w3.org/Graphics/SVG/1.1/DTD/svg11.dtd\">\r\n<svg height=\"259.116562pt\" version=\"1.1\" viewBox=\"0 0 372.103125 259.116562\" width=\"372.103125pt\" xmlns=\"http://www.w3.org/2000/svg\" xmlns:xlink=\"http://www.w3.org/1999/xlink\">\r\n <metadata>\r\n  <rdf:RDF xmlns:cc=\"http://creativecommons.org/ns#\" xmlns:dc=\"http://purl.org/dc/elements/1.1/\" xmlns:rdf=\"http://www.w3.org/1999/02/22-rdf-syntax-ns#\">\r\n   <cc:Work>\r\n    <dc:type rdf:resource=\"http://purl.org/dc/dcmitype/StillImage\"/>\r\n    <dc:date>2021-04-12T15:19:37.236563</dc:date>\r\n    <dc:format>image/svg+xml</dc:format>\r\n    <dc:creator>\r\n     <cc:Agent>\r\n      <dc:title>Matplotlib v3.4.1, https://matplotlib.org/</dc:title>\r\n     </cc:Agent>\r\n    </dc:creator>\r\n   </cc:Work>\r\n  </rdf:RDF>\r\n </metadata>\r\n <defs>\r\n  <style type=\"text/css\">*{stroke-linecap:butt;stroke-linejoin:round;}</style>\r\n </defs>\r\n <g id=\"figure_1\">\r\n  <g id=\"patch_1\">\r\n   <path d=\"M 0 259.116562 \r\nL 372.103125 259.116562 \r\nL 372.103125 0 \r\nL 0 0 \r\nz\r\n\" style=\"fill:none;\"/>\r\n  </g>\r\n  <g id=\"axes_1\">\r\n   <g id=\"patch_2\">\r\n    <path d=\"M 30.103125 235.238437 \r\nL 364.903125 235.238437 \r\nL 364.903125 17.798437 \r\nL 30.103125 17.798437 \r\nz\r\n\" style=\"fill:#ffffff;\"/>\r\n   </g>\r\n   <g id=\"matplotlib.axis_1\">\r\n    <g id=\"xtick_1\">\r\n     <g id=\"line2d_1\">\r\n      <defs>\r\n       <path d=\"M 0 0 \r\nL 0 3.5 \r\n\" id=\"m29b75cf266\" style=\"stroke:#000000;stroke-width:0.8;\"/>\r\n      </defs>\r\n      <g>\r\n       <use style=\"stroke:#000000;stroke-width:0.8;\" x=\"45.321307\" xlink:href=\"#m29b75cf266\" y=\"235.238437\"/>\r\n      </g>\r\n     </g>\r\n     <g id=\"text_1\">\r\n      <!-- 0 -->\r\n      <g transform=\"translate(42.140057 249.836875)scale(0.1 -0.1)\">\r\n       <defs>\r\n        <path d=\"M 2034 4250 \r\nQ 1547 4250 1301 3770 \r\nQ 1056 3291 1056 2328 \r\nQ 1056 1369 1301 889 \r\nQ 1547 409 2034 409 \r\nQ 2525 409 2770 889 \r\nQ 3016 1369 3016 2328 \r\nQ 3016 3291 2770 3770 \r\nQ 2525 4250 2034 4250 \r\nz\r\nM 2034 4750 \r\nQ 2819 4750 3233 4129 \r\nQ 3647 3509 3647 2328 \r\nQ 3647 1150 3233 529 \r\nQ 2819 -91 2034 -91 \r\nQ 1250 -91 836 529 \r\nQ 422 1150 422 2328 \r\nQ 422 3509 836 4129 \r\nQ 1250 4750 2034 4750 \r\nz\r\n\" id=\"DejaVuSans-30\" transform=\"scale(0.015625)\"/>\r\n       </defs>\r\n       <use xlink:href=\"#DejaVuSans-30\"/>\r\n      </g>\r\n     </g>\r\n    </g>\r\n    <g id=\"xtick_2\">\r\n     <g id=\"line2d_2\">\r\n      <g>\r\n       <use style=\"stroke:#000000;stroke-width:0.8;\" x=\"106.80891\" xlink:href=\"#m29b75cf266\" y=\"235.238437\"/>\r\n      </g>\r\n     </g>\r\n     <g id=\"text_2\">\r\n      <!-- 20 -->\r\n      <g transform=\"translate(100.44641 249.836875)scale(0.1 -0.1)\">\r\n       <defs>\r\n        <path d=\"M 1228 531 \r\nL 3431 531 \r\nL 3431 0 \r\nL 469 0 \r\nL 469 531 \r\nQ 828 903 1448 1529 \r\nQ 2069 2156 2228 2338 \r\nQ 2531 2678 2651 2914 \r\nQ 2772 3150 2772 3378 \r\nQ 2772 3750 2511 3984 \r\nQ 2250 4219 1831 4219 \r\nQ 1534 4219 1204 4116 \r\nQ 875 4013 500 3803 \r\nL 500 4441 \r\nQ 881 4594 1212 4672 \r\nQ 1544 4750 1819 4750 \r\nQ 2544 4750 2975 4387 \r\nQ 3406 4025 3406 3419 \r\nQ 3406 3131 3298 2873 \r\nQ 3191 2616 2906 2266 \r\nQ 2828 2175 2409 1742 \r\nQ 1991 1309 1228 531 \r\nz\r\n\" id=\"DejaVuSans-32\" transform=\"scale(0.015625)\"/>\r\n       </defs>\r\n       <use xlink:href=\"#DejaVuSans-32\"/>\r\n       <use x=\"63.623047\" xlink:href=\"#DejaVuSans-30\"/>\r\n      </g>\r\n     </g>\r\n    </g>\r\n    <g id=\"xtick_3\">\r\n     <g id=\"line2d_3\">\r\n      <g>\r\n       <use style=\"stroke:#000000;stroke-width:0.8;\" x=\"168.296513\" xlink:href=\"#m29b75cf266\" y=\"235.238437\"/>\r\n      </g>\r\n     </g>\r\n     <g id=\"text_3\">\r\n      <!-- 40 -->\r\n      <g transform=\"translate(161.934013 249.836875)scale(0.1 -0.1)\">\r\n       <defs>\r\n        <path d=\"M 2419 4116 \r\nL 825 1625 \r\nL 2419 1625 \r\nL 2419 4116 \r\nz\r\nM 2253 4666 \r\nL 3047 4666 \r\nL 3047 1625 \r\nL 3713 1625 \r\nL 3713 1100 \r\nL 3047 1100 \r\nL 3047 0 \r\nL 2419 0 \r\nL 2419 1100 \r\nL 313 1100 \r\nL 313 1709 \r\nL 2253 4666 \r\nz\r\n\" id=\"DejaVuSans-34\" transform=\"scale(0.015625)\"/>\r\n       </defs>\r\n       <use xlink:href=\"#DejaVuSans-34\"/>\r\n       <use x=\"63.623047\" xlink:href=\"#DejaVuSans-30\"/>\r\n      </g>\r\n     </g>\r\n    </g>\r\n    <g id=\"xtick_4\">\r\n     <g id=\"line2d_4\">\r\n      <g>\r\n       <use style=\"stroke:#000000;stroke-width:0.8;\" x=\"229.784117\" xlink:href=\"#m29b75cf266\" y=\"235.238437\"/>\r\n      </g>\r\n     </g>\r\n     <g id=\"text_4\">\r\n      <!-- 60 -->\r\n      <g transform=\"translate(223.421617 249.836875)scale(0.1 -0.1)\">\r\n       <defs>\r\n        <path d=\"M 2113 2584 \r\nQ 1688 2584 1439 2293 \r\nQ 1191 2003 1191 1497 \r\nQ 1191 994 1439 701 \r\nQ 1688 409 2113 409 \r\nQ 2538 409 2786 701 \r\nQ 3034 994 3034 1497 \r\nQ 3034 2003 2786 2293 \r\nQ 2538 2584 2113 2584 \r\nz\r\nM 3366 4563 \r\nL 3366 3988 \r\nQ 3128 4100 2886 4159 \r\nQ 2644 4219 2406 4219 \r\nQ 1781 4219 1451 3797 \r\nQ 1122 3375 1075 2522 \r\nQ 1259 2794 1537 2939 \r\nQ 1816 3084 2150 3084 \r\nQ 2853 3084 3261 2657 \r\nQ 3669 2231 3669 1497 \r\nQ 3669 778 3244 343 \r\nQ 2819 -91 2113 -91 \r\nQ 1303 -91 875 529 \r\nQ 447 1150 447 2328 \r\nQ 447 3434 972 4092 \r\nQ 1497 4750 2381 4750 \r\nQ 2619 4750 2861 4703 \r\nQ 3103 4656 3366 4563 \r\nz\r\n\" id=\"DejaVuSans-36\" transform=\"scale(0.015625)\"/>\r\n       </defs>\r\n       <use xlink:href=\"#DejaVuSans-36\"/>\r\n       <use x=\"63.623047\" xlink:href=\"#DejaVuSans-30\"/>\r\n      </g>\r\n     </g>\r\n    </g>\r\n    <g id=\"xtick_5\">\r\n     <g id=\"line2d_5\">\r\n      <g>\r\n       <use style=\"stroke:#000000;stroke-width:0.8;\" x=\"291.27172\" xlink:href=\"#m29b75cf266\" y=\"235.238437\"/>\r\n      </g>\r\n     </g>\r\n     <g id=\"text_5\">\r\n      <!-- 80 -->\r\n      <g transform=\"translate(284.90922 249.836875)scale(0.1 -0.1)\">\r\n       <defs>\r\n        <path d=\"M 2034 2216 \r\nQ 1584 2216 1326 1975 \r\nQ 1069 1734 1069 1313 \r\nQ 1069 891 1326 650 \r\nQ 1584 409 2034 409 \r\nQ 2484 409 2743 651 \r\nQ 3003 894 3003 1313 \r\nQ 3003 1734 2745 1975 \r\nQ 2488 2216 2034 2216 \r\nz\r\nM 1403 2484 \r\nQ 997 2584 770 2862 \r\nQ 544 3141 544 3541 \r\nQ 544 4100 942 4425 \r\nQ 1341 4750 2034 4750 \r\nQ 2731 4750 3128 4425 \r\nQ 3525 4100 3525 3541 \r\nQ 3525 3141 3298 2862 \r\nQ 3072 2584 2669 2484 \r\nQ 3125 2378 3379 2068 \r\nQ 3634 1759 3634 1313 \r\nQ 3634 634 3220 271 \r\nQ 2806 -91 2034 -91 \r\nQ 1263 -91 848 271 \r\nQ 434 634 434 1313 \r\nQ 434 1759 690 2068 \r\nQ 947 2378 1403 2484 \r\nz\r\nM 1172 3481 \r\nQ 1172 3119 1398 2916 \r\nQ 1625 2713 2034 2713 \r\nQ 2441 2713 2670 2916 \r\nQ 2900 3119 2900 3481 \r\nQ 2900 3844 2670 4047 \r\nQ 2441 4250 2034 4250 \r\nQ 1625 4250 1398 4047 \r\nQ 1172 3844 1172 3481 \r\nz\r\n\" id=\"DejaVuSans-38\" transform=\"scale(0.015625)\"/>\r\n       </defs>\r\n       <use xlink:href=\"#DejaVuSans-38\"/>\r\n       <use x=\"63.623047\" xlink:href=\"#DejaVuSans-30\"/>\r\n      </g>\r\n     </g>\r\n    </g>\r\n    <g id=\"xtick_6\">\r\n     <g id=\"line2d_6\">\r\n      <g>\r\n       <use style=\"stroke:#000000;stroke-width:0.8;\" x=\"352.759323\" xlink:href=\"#m29b75cf266\" y=\"235.238437\"/>\r\n      </g>\r\n     </g>\r\n     <g id=\"text_6\">\r\n      <!-- 100 -->\r\n      <g transform=\"translate(343.215573 249.836875)scale(0.1 -0.1)\">\r\n       <defs>\r\n        <path d=\"M 794 531 \r\nL 1825 531 \r\nL 1825 4091 \r\nL 703 3866 \r\nL 703 4441 \r\nL 1819 4666 \r\nL 2450 4666 \r\nL 2450 531 \r\nL 3481 531 \r\nL 3481 0 \r\nL 794 0 \r\nL 794 531 \r\nz\r\n\" id=\"DejaVuSans-31\" transform=\"scale(0.015625)\"/>\r\n       </defs>\r\n       <use xlink:href=\"#DejaVuSans-31\"/>\r\n       <use x=\"63.623047\" xlink:href=\"#DejaVuSans-30\"/>\r\n       <use x=\"127.246094\" xlink:href=\"#DejaVuSans-30\"/>\r\n      </g>\r\n     </g>\r\n    </g>\r\n   </g>\r\n   <g id=\"matplotlib.axis_2\">\r\n    <g id=\"ytick_1\">\r\n     <g id=\"line2d_7\">\r\n      <defs>\r\n       <path d=\"M 0 0 \r\nL -3.5 0 \r\n\" id=\"m0c66dcd4be\" style=\"stroke:#000000;stroke-width:0.8;\"/>\r\n      </defs>\r\n      <g>\r\n       <use style=\"stroke:#000000;stroke-width:0.8;\" x=\"30.103125\" xlink:href=\"#m0c66dcd4be\" y=\"225.354801\"/>\r\n      </g>\r\n     </g>\r\n     <g id=\"text_7\">\r\n      <!-- 0.0 -->\r\n      <g transform=\"translate(7.2 229.15402)scale(0.1 -0.1)\">\r\n       <defs>\r\n        <path d=\"M 684 794 \r\nL 1344 794 \r\nL 1344 0 \r\nL 684 0 \r\nL 684 794 \r\nz\r\n\" id=\"DejaVuSans-2e\" transform=\"scale(0.015625)\"/>\r\n       </defs>\r\n       <use xlink:href=\"#DejaVuSans-30\"/>\r\n       <use x=\"63.623047\" xlink:href=\"#DejaVuSans-2e\"/>\r\n       <use x=\"95.410156\" xlink:href=\"#DejaVuSans-30\"/>\r\n      </g>\r\n     </g>\r\n    </g>\r\n    <g id=\"ytick_2\">\r\n     <g id=\"line2d_8\">\r\n      <g>\r\n       <use style=\"stroke:#000000;stroke-width:0.8;\" x=\"30.103125\" xlink:href=\"#m0c66dcd4be\" y=\"200.924107\"/>\r\n      </g>\r\n     </g>\r\n     <g id=\"text_8\">\r\n      <!-- 0.2 -->\r\n      <g transform=\"translate(7.2 204.723326)scale(0.1 -0.1)\">\r\n       <use xlink:href=\"#DejaVuSans-30\"/>\r\n       <use x=\"63.623047\" xlink:href=\"#DejaVuSans-2e\"/>\r\n       <use x=\"95.410156\" xlink:href=\"#DejaVuSans-32\"/>\r\n      </g>\r\n     </g>\r\n    </g>\r\n    <g id=\"ytick_3\">\r\n     <g id=\"line2d_9\">\r\n      <g>\r\n       <use style=\"stroke:#000000;stroke-width:0.8;\" x=\"30.103125\" xlink:href=\"#m0c66dcd4be\" y=\"176.493414\"/>\r\n      </g>\r\n     </g>\r\n     <g id=\"text_9\">\r\n      <!-- 0.4 -->\r\n      <g transform=\"translate(7.2 180.292632)scale(0.1 -0.1)\">\r\n       <use xlink:href=\"#DejaVuSans-30\"/>\r\n       <use x=\"63.623047\" xlink:href=\"#DejaVuSans-2e\"/>\r\n       <use x=\"95.410156\" xlink:href=\"#DejaVuSans-34\"/>\r\n      </g>\r\n     </g>\r\n    </g>\r\n    <g id=\"ytick_4\">\r\n     <g id=\"line2d_10\">\r\n      <g>\r\n       <use style=\"stroke:#000000;stroke-width:0.8;\" x=\"30.103125\" xlink:href=\"#m0c66dcd4be\" y=\"152.06272\"/>\r\n      </g>\r\n     </g>\r\n     <g id=\"text_10\">\r\n      <!-- 0.6 -->\r\n      <g transform=\"translate(7.2 155.861939)scale(0.1 -0.1)\">\r\n       <use xlink:href=\"#DejaVuSans-30\"/>\r\n       <use x=\"63.623047\" xlink:href=\"#DejaVuSans-2e\"/>\r\n       <use x=\"95.410156\" xlink:href=\"#DejaVuSans-36\"/>\r\n      </g>\r\n     </g>\r\n    </g>\r\n    <g id=\"ytick_5\">\r\n     <g id=\"line2d_11\">\r\n      <g>\r\n       <use style=\"stroke:#000000;stroke-width:0.8;\" x=\"30.103125\" xlink:href=\"#m0c66dcd4be\" y=\"127.632026\"/>\r\n      </g>\r\n     </g>\r\n     <g id=\"text_11\">\r\n      <!-- 0.8 -->\r\n      <g transform=\"translate(7.2 131.431245)scale(0.1 -0.1)\">\r\n       <use xlink:href=\"#DejaVuSans-30\"/>\r\n       <use x=\"63.623047\" xlink:href=\"#DejaVuSans-2e\"/>\r\n       <use x=\"95.410156\" xlink:href=\"#DejaVuSans-38\"/>\r\n      </g>\r\n     </g>\r\n    </g>\r\n    <g id=\"ytick_6\">\r\n     <g id=\"line2d_12\">\r\n      <g>\r\n       <use style=\"stroke:#000000;stroke-width:0.8;\" x=\"30.103125\" xlink:href=\"#m0c66dcd4be\" y=\"103.201333\"/>\r\n      </g>\r\n     </g>\r\n     <g id=\"text_12\">\r\n      <!-- 1.0 -->\r\n      <g transform=\"translate(7.2 107.000551)scale(0.1 -0.1)\">\r\n       <use xlink:href=\"#DejaVuSans-31\"/>\r\n       <use x=\"63.623047\" xlink:href=\"#DejaVuSans-2e\"/>\r\n       <use x=\"95.410156\" xlink:href=\"#DejaVuSans-30\"/>\r\n      </g>\r\n     </g>\r\n    </g>\r\n    <g id=\"ytick_7\">\r\n     <g id=\"line2d_13\">\r\n      <g>\r\n       <use style=\"stroke:#000000;stroke-width:0.8;\" x=\"30.103125\" xlink:href=\"#m0c66dcd4be\" y=\"78.770639\"/>\r\n      </g>\r\n     </g>\r\n     <g id=\"text_13\">\r\n      <!-- 1.2 -->\r\n      <g transform=\"translate(7.2 82.569858)scale(0.1 -0.1)\">\r\n       <use xlink:href=\"#DejaVuSans-31\"/>\r\n       <use x=\"63.623047\" xlink:href=\"#DejaVuSans-2e\"/>\r\n       <use x=\"95.410156\" xlink:href=\"#DejaVuSans-32\"/>\r\n      </g>\r\n     </g>\r\n    </g>\r\n    <g id=\"ytick_8\">\r\n     <g id=\"line2d_14\">\r\n      <g>\r\n       <use style=\"stroke:#000000;stroke-width:0.8;\" x=\"30.103125\" xlink:href=\"#m0c66dcd4be\" y=\"54.339945\"/>\r\n      </g>\r\n     </g>\r\n     <g id=\"text_14\">\r\n      <!-- 1.4 -->\r\n      <g transform=\"translate(7.2 58.139164)scale(0.1 -0.1)\">\r\n       <use xlink:href=\"#DejaVuSans-31\"/>\r\n       <use x=\"63.623047\" xlink:href=\"#DejaVuSans-2e\"/>\r\n       <use x=\"95.410156\" xlink:href=\"#DejaVuSans-34\"/>\r\n      </g>\r\n     </g>\r\n    </g>\r\n    <g id=\"ytick_9\">\r\n     <g id=\"line2d_15\">\r\n      <g>\r\n       <use style=\"stroke:#000000;stroke-width:0.8;\" x=\"30.103125\" xlink:href=\"#m0c66dcd4be\" y=\"29.909252\"/>\r\n      </g>\r\n     </g>\r\n     <g id=\"text_15\">\r\n      <!-- 1.6 -->\r\n      <g transform=\"translate(7.2 33.70847)scale(0.1 -0.1)\">\r\n       <use xlink:href=\"#DejaVuSans-31\"/>\r\n       <use x=\"63.623047\" xlink:href=\"#DejaVuSans-2e\"/>\r\n       <use x=\"95.410156\" xlink:href=\"#DejaVuSans-36\"/>\r\n      </g>\r\n     </g>\r\n    </g>\r\n    <g id=\"text_16\">\r\n     <!-- 1e9 -->\r\n     <g transform=\"translate(30.103125 14.798437)scale(0.1 -0.1)\">\r\n      <defs>\r\n       <path d=\"M 3597 1894 \r\nL 3597 1613 \r\nL 953 1613 \r\nQ 991 1019 1311 708 \r\nQ 1631 397 2203 397 \r\nQ 2534 397 2845 478 \r\nQ 3156 559 3463 722 \r\nL 3463 178 \r\nQ 3153 47 2828 -22 \r\nQ 2503 -91 2169 -91 \r\nQ 1331 -91 842 396 \r\nQ 353 884 353 1716 \r\nQ 353 2575 817 3079 \r\nQ 1281 3584 2069 3584 \r\nQ 2775 3584 3186 3129 \r\nQ 3597 2675 3597 1894 \r\nz\r\nM 3022 2063 \r\nQ 3016 2534 2758 2815 \r\nQ 2500 3097 2075 3097 \r\nQ 1594 3097 1305 2825 \r\nQ 1016 2553 972 2059 \r\nL 3022 2063 \r\nz\r\n\" id=\"DejaVuSans-65\" transform=\"scale(0.015625)\"/>\r\n       <path d=\"M 703 97 \r\nL 703 672 \r\nQ 941 559 1184 500 \r\nQ 1428 441 1663 441 \r\nQ 2288 441 2617 861 \r\nQ 2947 1281 2994 2138 \r\nQ 2813 1869 2534 1725 \r\nQ 2256 1581 1919 1581 \r\nQ 1219 1581 811 2004 \r\nQ 403 2428 403 3163 \r\nQ 403 3881 828 4315 \r\nQ 1253 4750 1959 4750 \r\nQ 2769 4750 3195 4129 \r\nQ 3622 3509 3622 2328 \r\nQ 3622 1225 3098 567 \r\nQ 2575 -91 1691 -91 \r\nQ 1453 -91 1209 -44 \r\nQ 966 3 703 97 \r\nz\r\nM 1959 2075 \r\nQ 2384 2075 2632 2365 \r\nQ 2881 2656 2881 3163 \r\nQ 2881 3666 2632 3958 \r\nQ 2384 4250 1959 4250 \r\nQ 1534 4250 1286 3958 \r\nQ 1038 3666 1038 3163 \r\nQ 1038 2656 1286 2365 \r\nQ 1534 2075 1959 2075 \r\nz\r\n\" id=\"DejaVuSans-39\" transform=\"scale(0.015625)\"/>\r\n      </defs>\r\n      <use xlink:href=\"#DejaVuSans-31\"/>\r\n      <use x=\"63.623047\" xlink:href=\"#DejaVuSans-65\"/>\r\n      <use x=\"125.146484\" xlink:href=\"#DejaVuSans-39\"/>\r\n     </g>\r\n    </g>\r\n   </g>\r\n   <g id=\"line2d_16\">\r\n    <path clip-path=\"url(#pd8d25d7a1d)\" d=\"M 45.321307 27.682074 \r\nL 48.395687 27.682112 \r\nL 51.470067 27.682232 \r\nL 54.544447 27.682255 \r\nL 57.618827 27.682398 \r\nL 60.693208 27.682406 \r\nL 63.767588 27.682798 \r\nL 66.841968 27.682919 \r\nL 69.916348 27.682927 \r\nL 72.990728 27.683055 \r\nL 76.065108 27.683063 \r\nL 79.139489 27.683267 \r\nL 82.213869 27.683335 \r\nL 85.288249 27.683744 \r\nL 88.362629 27.684228 \r\nL 91.437009 27.684281 \r\nL 94.511389 27.68441 \r\nL 97.58577 27.684433 \r\nL 100.66015 27.684441 \r\nL 103.73453 27.685031 \r\nL 106.80891 27.685037 \r\nL 109.88329 27.685038 \r\nL 112.95767 27.688636 \r\nL 116.032051 27.689957 \r\nL 119.106431 27.689972 \r\nL 122.180811 27.691546 \r\nL 125.255191 27.691554 \r\nL 128.329571 27.691704 \r\nL 131.403951 27.691711 \r\nL 134.478332 27.691771 \r\nL 137.552712 27.691778 \r\nL 140.627092 27.691876 \r\nL 143.701472 27.692019 \r\nL 146.775852 27.692026 \r\nL 149.850232 27.692108 \r\nL 152.924613 27.692116 \r\nL 155.998993 27.692211 \r\nL 159.073373 27.692262 \r\nL 162.147753 27.692277 \r\nL 165.222133 27.69271 \r\nL 168.296513 27.69309 \r\nL 171.370894 27.693105 \r\nL 174.445274 27.693419 \r\nL 177.519654 27.693426 \r\nL 180.594034 27.695119 \r\nL 183.668414 27.69515 \r\nL 186.742794 27.69578 \r\nL 189.817175 27.695781 \r\nL 192.891555 27.695833 \r\nL 195.965935 27.695848 \r\nL 199.040315 27.699368 \r\nL 202.114695 27.699884 \r\nL 205.189075 27.699892 \r\nL 208.263456 27.700042 \r\nL 211.337836 27.70005 \r\nL 214.412216 27.701121 \r\nL 217.486596 27.701144 \r\nL 220.560976 27.701556 \r\nL 223.635356 27.701571 \r\nL 226.709737 27.701608 \r\nL 229.784117 27.701616 \r\nL 232.858497 27.702184 \r\nL 235.932877 27.702191 \r\nL 239.007257 27.702206 \r\nL 242.081637 27.702512 \r\nL 245.156018 27.702519 \r\nL 248.230398 27.702728 \r\nL 251.304778 27.702936 \r\nL 254.379158 27.703305 \r\nL 257.453538 27.703312 \r\nL 260.527918 27.703806 \r\nL 263.602299 27.703821 \r\nL 266.676679 27.704016 \r\nL 269.751059 27.704053 \r\nL 272.825439 27.70433 \r\nL 275.899819 27.704353 \r\nL 278.974199 27.705298 \r\nL 282.04858 27.705343 \r\nL 285.12296 27.705395 \r\nL 288.19734 27.705448 \r\nL 291.27172 27.705471 \r\nL 294.3461 27.70651 \r\nL 297.42048 27.706514 \r\nL 300.494861 27.706514 \r\nL 303.569241 27.706515 \r\nL 306.643621 27.710024 \r\nL 309.718001 27.710039 \r\nL 312.792381 27.710102 \r\nL 315.866761 27.710843 \r\nL 318.941142 27.710941 \r\nL 322.015522 27.710956 \r\nL 325.089902 27.711638 \r\nL 328.164282 27.711645 \r\nL 331.238662 27.712064 \r\nL 334.313042 27.712072 \r\nL 337.387423 27.712087 \r\nL 340.461803 27.712393 \r\nL 343.536183 27.712401 \r\nL 346.610563 27.712408 \r\nL 349.684943 27.712453 \r\n\" style=\"fill:none;stroke:#1f77b4;stroke-linecap:square;stroke-width:1.5;\"/>\r\n   </g>\r\n   <g id=\"line2d_17\">\r\n    <path clip-path=\"url(#pd8d25d7a1d)\" d=\"M 45.321307 225.354728 \r\nL 48.395687 225.354728 \r\nL 51.470067 225.354728 \r\nL 54.544447 225.354728 \r\nL 57.618827 225.354728 \r\nL 60.693208 225.354729 \r\nL 63.767588 225.354729 \r\nL 66.841968 225.354729 \r\nL 69.916348 225.354729 \r\nL 72.990728 225.354729 \r\nL 76.065108 225.354729 \r\nL 79.139489 225.354729 \r\nL 82.213869 225.354729 \r\nL 85.288249 225.35473 \r\nL 88.362629 225.35473 \r\nL 91.437009 225.35473 \r\nL 94.511389 225.35473 \r\nL 97.58577 225.35473 \r\nL 100.66015 225.35473 \r\nL 103.73453 225.35473 \r\nL 106.80891 225.35473 \r\nL 109.88329 225.354731 \r\nL 112.95767 225.354731 \r\nL 116.032051 225.354731 \r\nL 119.106431 225.354731 \r\nL 122.180811 225.354731 \r\nL 125.255191 225.354731 \r\nL 128.329571 225.354731 \r\nL 131.403951 225.354731 \r\nL 134.478332 225.354732 \r\nL 137.552712 225.354732 \r\nL 140.627092 225.354732 \r\nL 143.701472 225.354732 \r\nL 146.775852 225.354732 \r\nL 149.850232 225.354732 \r\nL 152.924613 225.354732 \r\nL 155.998993 225.354732 \r\nL 159.073373 225.354732 \r\nL 162.147753 225.354733 \r\nL 165.222133 225.354733 \r\nL 168.296513 225.354733 \r\nL 171.370894 225.354733 \r\nL 174.445274 225.354733 \r\nL 177.519654 225.354733 \r\nL 180.594034 225.354733 \r\nL 183.668414 225.354733 \r\nL 186.742794 225.354734 \r\nL 189.817175 225.354734 \r\nL 192.891555 225.354734 \r\nL 195.965935 225.354734 \r\nL 199.040315 225.354734 \r\nL 202.114695 225.354734 \r\nL 205.189075 225.354734 \r\nL 208.263456 225.354734 \r\nL 211.337836 225.354735 \r\nL 214.412216 225.354735 \r\nL 217.486596 225.354735 \r\nL 220.560976 225.354735 \r\nL 223.635356 225.354735 \r\nL 226.709737 225.354735 \r\nL 229.784117 225.354735 \r\nL 232.858497 225.354735 \r\nL 235.932877 225.354736 \r\nL 239.007257 225.354736 \r\nL 242.081637 225.354736 \r\nL 245.156018 225.354736 \r\nL 248.230398 225.354736 \r\nL 251.304778 225.354736 \r\nL 254.379158 225.354736 \r\nL 257.453538 225.354736 \r\nL 260.527918 225.354737 \r\nL 263.602299 225.354737 \r\nL 266.676679 225.354737 \r\nL 269.751059 225.354737 \r\nL 272.825439 225.354737 \r\nL 275.899819 225.354737 \r\nL 278.974199 225.354737 \r\nL 282.04858 225.354737 \r\nL 285.12296 225.354737 \r\nL 288.19734 225.354738 \r\nL 291.27172 225.354738 \r\nL 294.3461 225.354738 \r\nL 297.42048 225.354738 \r\nM 303.569241 225.354738 \r\nL 306.643621 225.354738 \r\nL 309.718001 225.354738 \r\nL 312.792381 225.354739 \r\nL 315.866761 225.354739 \r\nL 318.941142 225.354739 \r\nL 322.015522 225.354739 \r\nL 325.089902 225.354739 \r\nL 328.164282 225.354739 \r\nL 331.238662 225.354739 \r\nL 334.313042 225.354739 \r\nL 337.387423 225.35474 \r\nL 340.461803 225.35474 \r\nL 343.536183 225.35474 \r\nL 346.610563 225.35474 \r\nL 349.684943 225.35474 \r\n\" style=\"fill:none;stroke:#ff7f0e;stroke-linecap:square;stroke-width:1.5;\"/>\r\n   </g>\r\n   <g id=\"line2d_18\">\r\n    <path clip-path=\"url(#pd8d25d7a1d)\" d=\"M 45.321307 225.354801 \r\nL 48.395687 225.354801 \r\nL 51.470067 225.354801 \r\nL 54.544447 225.354801 \r\nL 57.618827 225.354801 \r\nL 60.693208 225.354801 \r\nL 63.767588 225.354801 \r\nL 66.841968 225.354801 \r\nL 69.916348 225.354801 \r\nL 72.990728 225.354801 \r\nL 76.065108 225.354801 \r\nL 79.139489 225.354801 \r\nL 82.213869 225.354801 \r\nL 85.288249 225.354801 \r\nL 88.362629 225.354801 \r\nL 91.437009 225.354801 \r\nL 94.511389 225.354801 \r\nL 97.58577 225.354801 \r\nL 100.66015 225.354801 \r\nL 103.73453 225.354801 \r\nL 106.80891 225.354801 \r\nL 109.88329 225.354801 \r\nL 112.95767 225.354801 \r\nL 116.032051 225.354801 \r\nL 119.106431 225.354801 \r\nL 122.180811 225.354801 \r\nL 125.255191 225.354801 \r\nL 128.329571 225.354801 \r\nL 131.403951 225.354801 \r\nL 134.478332 225.354801 \r\nL 137.552712 225.354801 \r\nL 140.627092 225.354801 \r\nL 143.701472 225.354801 \r\nL 146.775852 225.354801 \r\nL 149.850232 225.354801 \r\nL 152.924613 225.354801 \r\nL 155.998993 225.354801 \r\nL 159.073373 225.354801 \r\nL 162.147753 225.354801 \r\nL 165.222133 225.354801 \r\nL 168.296513 225.354801 \r\nL 171.370894 225.354801 \r\nL 174.445274 225.354801 \r\nL 177.519654 225.354801 \r\nL 180.594034 225.354801 \r\nL 183.668414 225.354801 \r\nL 186.742794 225.354801 \r\nL 189.817175 225.354801 \r\nL 192.891555 225.354801 \r\nL 195.965935 225.354801 \r\nL 199.040315 225.354801 \r\nL 202.114695 225.354801 \r\nL 205.189075 225.354801 \r\nL 208.263456 225.354801 \r\nL 211.337836 225.354801 \r\nL 214.412216 225.354801 \r\nL 217.486596 225.354801 \r\nL 220.560976 225.354801 \r\nL 223.635356 225.354801 \r\nL 226.709737 225.354801 \r\nL 229.784117 225.354801 \r\nL 232.858497 225.354801 \r\nL 235.932877 225.354801 \r\nL 239.007257 225.354801 \r\nL 242.081637 225.354801 \r\nL 245.156018 225.354801 \r\nL 248.230398 225.354801 \r\nL 251.304778 225.354801 \r\nL 254.379158 225.354801 \r\nL 257.453538 225.354801 \r\nL 260.527918 225.354801 \r\nL 263.602299 225.354801 \r\nL 266.676679 225.354801 \r\nL 269.751059 225.354801 \r\nL 272.825439 225.354801 \r\nL 275.899819 225.354801 \r\nL 278.974199 225.354801 \r\nL 282.04858 225.354801 \r\nL 285.12296 225.354801 \r\nL 288.19734 225.354801 \r\nL 291.27172 225.354801 \r\nL 294.3461 225.354801 \r\nL 297.42048 225.354801 \r\nL 300.494861 225.354801 \r\nL 303.569241 225.354801 \r\nL 306.643621 225.354801 \r\nL 309.718001 225.354801 \r\nL 312.792381 225.354801 \r\nL 315.866761 225.354801 \r\nL 318.941142 225.354801 \r\nL 322.015522 225.354801 \r\nL 325.089902 225.354801 \r\nL 328.164282 225.354801 \r\nL 331.238662 225.354801 \r\nL 334.313042 225.354801 \r\nL 337.387423 225.354801 \r\nL 340.461803 225.354801 \r\nL 343.536183 225.354801 \r\nL 346.610563 225.354801 \r\nL 349.684943 225.354801 \r\n\" style=\"fill:none;stroke:#2ca02c;stroke-linecap:square;stroke-width:1.5;\"/>\r\n   </g>\r\n   <g id=\"patch_3\">\r\n    <path d=\"M 30.103125 235.238437 \r\nL 30.103125 17.798437 \r\n\" style=\"fill:none;stroke:#000000;stroke-linecap:square;stroke-linejoin:miter;stroke-width:0.8;\"/>\r\n   </g>\r\n   <g id=\"patch_4\">\r\n    <path d=\"M 364.903125 235.238437 \r\nL 364.903125 17.798437 \r\n\" style=\"fill:none;stroke:#000000;stroke-linecap:square;stroke-linejoin:miter;stroke-width:0.8;\"/>\r\n   </g>\r\n   <g id=\"patch_5\">\r\n    <path d=\"M 30.103125 235.238437 \r\nL 364.903125 235.238437 \r\n\" style=\"fill:none;stroke:#000000;stroke-linecap:square;stroke-linejoin:miter;stroke-width:0.8;\"/>\r\n   </g>\r\n   <g id=\"patch_6\">\r\n    <path d=\"M 30.103125 17.798437 \r\nL 364.903125 17.798437 \r\n\" style=\"fill:none;stroke:#000000;stroke-linecap:square;stroke-linejoin:miter;stroke-width:0.8;\"/>\r\n   </g>\r\n   <g id=\"legend_1\">\r\n    <g id=\"patch_7\">\r\n     <path d=\"M 268.020313 142.696562 \r\nL 357.903125 142.696562 \r\nQ 359.903125 142.696562 359.903125 140.696562 \r\nL 359.903125 112.340312 \r\nQ 359.903125 110.340312 357.903125 110.340312 \r\nL 268.020313 110.340312 \r\nQ 266.020313 110.340312 266.020313 112.340312 \r\nL 266.020313 140.696562 \r\nQ 266.020313 142.696562 268.020313 142.696562 \r\nz\r\n\" style=\"fill:#ffffff;opacity:0.8;stroke:#cccccc;stroke-linejoin:miter;\"/>\r\n    </g>\r\n    <g id=\"line2d_19\">\r\n     <path d=\"M 270.020313 118.43875 \r\nL 290.020313 118.43875 \r\n\" style=\"fill:none;stroke:#1f77b4;stroke-linecap:square;stroke-width:1.5;\"/>\r\n    </g>\r\n    <g id=\"line2d_20\"/>\r\n    <g id=\"text_17\">\r\n     <!-- timestamp -->\r\n     <g transform=\"translate(298.020313 121.93875)scale(0.1 -0.1)\">\r\n      <defs>\r\n       <path d=\"M 1172 4494 \r\nL 1172 3500 \r\nL 2356 3500 \r\nL 2356 3053 \r\nL 1172 3053 \r\nL 1172 1153 \r\nQ 1172 725 1289 603 \r\nQ 1406 481 1766 481 \r\nL 2356 481 \r\nL 2356 0 \r\nL 1766 0 \r\nQ 1100 0 847 248 \r\nQ 594 497 594 1153 \r\nL 594 3053 \r\nL 172 3053 \r\nL 172 3500 \r\nL 594 3500 \r\nL 594 4494 \r\nL 1172 4494 \r\nz\r\n\" id=\"DejaVuSans-74\" transform=\"scale(0.015625)\"/>\r\n       <path d=\"M 603 3500 \r\nL 1178 3500 \r\nL 1178 0 \r\nL 603 0 \r\nL 603 3500 \r\nz\r\nM 603 4863 \r\nL 1178 4863 \r\nL 1178 4134 \r\nL 603 4134 \r\nL 603 4863 \r\nz\r\n\" id=\"DejaVuSans-69\" transform=\"scale(0.015625)\"/>\r\n       <path d=\"M 3328 2828 \r\nQ 3544 3216 3844 3400 \r\nQ 4144 3584 4550 3584 \r\nQ 5097 3584 5394 3201 \r\nQ 5691 2819 5691 2113 \r\nL 5691 0 \r\nL 5113 0 \r\nL 5113 2094 \r\nQ 5113 2597 4934 2840 \r\nQ 4756 3084 4391 3084 \r\nQ 3944 3084 3684 2787 \r\nQ 3425 2491 3425 1978 \r\nL 3425 0 \r\nL 2847 0 \r\nL 2847 2094 \r\nQ 2847 2600 2669 2842 \r\nQ 2491 3084 2119 3084 \r\nQ 1678 3084 1418 2786 \r\nQ 1159 2488 1159 1978 \r\nL 1159 0 \r\nL 581 0 \r\nL 581 3500 \r\nL 1159 3500 \r\nL 1159 2956 \r\nQ 1356 3278 1631 3431 \r\nQ 1906 3584 2284 3584 \r\nQ 2666 3584 2933 3390 \r\nQ 3200 3197 3328 2828 \r\nz\r\n\" id=\"DejaVuSans-6d\" transform=\"scale(0.015625)\"/>\r\n       <path d=\"M 2834 3397 \r\nL 2834 2853 \r\nQ 2591 2978 2328 3040 \r\nQ 2066 3103 1784 3103 \r\nQ 1356 3103 1142 2972 \r\nQ 928 2841 928 2578 \r\nQ 928 2378 1081 2264 \r\nQ 1234 2150 1697 2047 \r\nL 1894 2003 \r\nQ 2506 1872 2764 1633 \r\nQ 3022 1394 3022 966 \r\nQ 3022 478 2636 193 \r\nQ 2250 -91 1575 -91 \r\nQ 1294 -91 989 -36 \r\nQ 684 19 347 128 \r\nL 347 722 \r\nQ 666 556 975 473 \r\nQ 1284 391 1588 391 \r\nQ 1994 391 2212 530 \r\nQ 2431 669 2431 922 \r\nQ 2431 1156 2273 1281 \r\nQ 2116 1406 1581 1522 \r\nL 1381 1569 \r\nQ 847 1681 609 1914 \r\nQ 372 2147 372 2553 \r\nQ 372 3047 722 3315 \r\nQ 1072 3584 1716 3584 \r\nQ 2034 3584 2315 3537 \r\nQ 2597 3491 2834 3397 \r\nz\r\n\" id=\"DejaVuSans-73\" transform=\"scale(0.015625)\"/>\r\n       <path d=\"M 2194 1759 \r\nQ 1497 1759 1228 1600 \r\nQ 959 1441 959 1056 \r\nQ 959 750 1161 570 \r\nQ 1363 391 1709 391 \r\nQ 2188 391 2477 730 \r\nQ 2766 1069 2766 1631 \r\nL 2766 1759 \r\nL 2194 1759 \r\nz\r\nM 3341 1997 \r\nL 3341 0 \r\nL 2766 0 \r\nL 2766 531 \r\nQ 2569 213 2275 61 \r\nQ 1981 -91 1556 -91 \r\nQ 1019 -91 701 211 \r\nQ 384 513 384 1019 \r\nQ 384 1609 779 1909 \r\nQ 1175 2209 1959 2209 \r\nL 2766 2209 \r\nL 2766 2266 \r\nQ 2766 2663 2505 2880 \r\nQ 2244 3097 1772 3097 \r\nQ 1472 3097 1187 3025 \r\nQ 903 2953 641 2809 \r\nL 641 3341 \r\nQ 956 3463 1253 3523 \r\nQ 1550 3584 1831 3584 \r\nQ 2591 3584 2966 3190 \r\nQ 3341 2797 3341 1997 \r\nz\r\n\" id=\"DejaVuSans-61\" transform=\"scale(0.015625)\"/>\r\n       <path d=\"M 1159 525 \r\nL 1159 -1331 \r\nL 581 -1331 \r\nL 581 3500 \r\nL 1159 3500 \r\nL 1159 2969 \r\nQ 1341 3281 1617 3432 \r\nQ 1894 3584 2278 3584 \r\nQ 2916 3584 3314 3078 \r\nQ 3713 2572 3713 1747 \r\nQ 3713 922 3314 415 \r\nQ 2916 -91 2278 -91 \r\nQ 1894 -91 1617 61 \r\nQ 1341 213 1159 525 \r\nz\r\nM 3116 1747 \r\nQ 3116 2381 2855 2742 \r\nQ 2594 3103 2138 3103 \r\nQ 1681 3103 1420 2742 \r\nQ 1159 2381 1159 1747 \r\nQ 1159 1113 1420 752 \r\nQ 1681 391 2138 391 \r\nQ 2594 391 2855 752 \r\nQ 3116 1113 3116 1747 \r\nz\r\n\" id=\"DejaVuSans-70\" transform=\"scale(0.015625)\"/>\r\n      </defs>\r\n      <use xlink:href=\"#DejaVuSans-74\"/>\r\n      <use x=\"39.208984\" xlink:href=\"#DejaVuSans-69\"/>\r\n      <use x=\"66.992188\" xlink:href=\"#DejaVuSans-6d\"/>\r\n      <use x=\"164.404297\" xlink:href=\"#DejaVuSans-65\"/>\r\n      <use x=\"225.927734\" xlink:href=\"#DejaVuSans-73\"/>\r\n      <use x=\"278.027344\" xlink:href=\"#DejaVuSans-74\"/>\r\n      <use x=\"317.236328\" xlink:href=\"#DejaVuSans-61\"/>\r\n      <use x=\"378.515625\" xlink:href=\"#DejaVuSans-6d\"/>\r\n      <use x=\"475.927734\" xlink:href=\"#DejaVuSans-70\"/>\r\n     </g>\r\n    </g>\r\n    <g id=\"line2d_21\">\r\n     <path d=\"M 270.020313 133.116875 \r\nL 290.020313 133.116875 \r\n\" style=\"fill:none;stroke:#ff7f0e;stroke-linecap:square;stroke-width:1.5;\"/>\r\n    </g>\r\n    <g id=\"line2d_22\"/>\r\n    <g id=\"text_18\">\r\n     <!-- seqNumber -->\r\n     <g transform=\"translate(298.020313 136.616875)scale(0.1 -0.1)\">\r\n      <defs>\r\n       <path d=\"M 947 1747 \r\nQ 947 1113 1208 752 \r\nQ 1469 391 1925 391 \r\nQ 2381 391 2643 752 \r\nQ 2906 1113 2906 1747 \r\nQ 2906 2381 2643 2742 \r\nQ 2381 3103 1925 3103 \r\nQ 1469 3103 1208 2742 \r\nQ 947 2381 947 1747 \r\nz\r\nM 2906 525 \r\nQ 2725 213 2448 61 \r\nQ 2172 -91 1784 -91 \r\nQ 1150 -91 751 415 \r\nQ 353 922 353 1747 \r\nQ 353 2572 751 3078 \r\nQ 1150 3584 1784 3584 \r\nQ 2172 3584 2448 3432 \r\nQ 2725 3281 2906 2969 \r\nL 2906 3500 \r\nL 3481 3500 \r\nL 3481 -1331 \r\nL 2906 -1331 \r\nL 2906 525 \r\nz\r\n\" id=\"DejaVuSans-71\" transform=\"scale(0.015625)\"/>\r\n       <path d=\"M 628 4666 \r\nL 1478 4666 \r\nL 3547 763 \r\nL 3547 4666 \r\nL 4159 4666 \r\nL 4159 0 \r\nL 3309 0 \r\nL 1241 3903 \r\nL 1241 0 \r\nL 628 0 \r\nL 628 4666 \r\nz\r\n\" id=\"DejaVuSans-4e\" transform=\"scale(0.015625)\"/>\r\n       <path d=\"M 544 1381 \r\nL 544 3500 \r\nL 1119 3500 \r\nL 1119 1403 \r\nQ 1119 906 1312 657 \r\nQ 1506 409 1894 409 \r\nQ 2359 409 2629 706 \r\nQ 2900 1003 2900 1516 \r\nL 2900 3500 \r\nL 3475 3500 \r\nL 3475 0 \r\nL 2900 0 \r\nL 2900 538 \r\nQ 2691 219 2414 64 \r\nQ 2138 -91 1772 -91 \r\nQ 1169 -91 856 284 \r\nQ 544 659 544 1381 \r\nz\r\nM 1991 3584 \r\nL 1991 3584 \r\nz\r\n\" id=\"DejaVuSans-75\" transform=\"scale(0.015625)\"/>\r\n       <path d=\"M 3116 1747 \r\nQ 3116 2381 2855 2742 \r\nQ 2594 3103 2138 3103 \r\nQ 1681 3103 1420 2742 \r\nQ 1159 2381 1159 1747 \r\nQ 1159 1113 1420 752 \r\nQ 1681 391 2138 391 \r\nQ 2594 391 2855 752 \r\nQ 3116 1113 3116 1747 \r\nz\r\nM 1159 2969 \r\nQ 1341 3281 1617 3432 \r\nQ 1894 3584 2278 3584 \r\nQ 2916 3584 3314 3078 \r\nQ 3713 2572 3713 1747 \r\nQ 3713 922 3314 415 \r\nQ 2916 -91 2278 -91 \r\nQ 1894 -91 1617 61 \r\nQ 1341 213 1159 525 \r\nL 1159 0 \r\nL 581 0 \r\nL 581 4863 \r\nL 1159 4863 \r\nL 1159 2969 \r\nz\r\n\" id=\"DejaVuSans-62\" transform=\"scale(0.015625)\"/>\r\n       <path d=\"M 2631 2963 \r\nQ 2534 3019 2420 3045 \r\nQ 2306 3072 2169 3072 \r\nQ 1681 3072 1420 2755 \r\nQ 1159 2438 1159 1844 \r\nL 1159 0 \r\nL 581 0 \r\nL 581 3500 \r\nL 1159 3500 \r\nL 1159 2956 \r\nQ 1341 3275 1631 3429 \r\nQ 1922 3584 2338 3584 \r\nQ 2397 3584 2469 3576 \r\nQ 2541 3569 2628 3553 \r\nL 2631 2963 \r\nz\r\n\" id=\"DejaVuSans-72\" transform=\"scale(0.015625)\"/>\r\n      </defs>\r\n      <use xlink:href=\"#DejaVuSans-73\"/>\r\n      <use x=\"52.099609\" xlink:href=\"#DejaVuSans-65\"/>\r\n      <use x=\"113.623047\" xlink:href=\"#DejaVuSans-71\"/>\r\n      <use x=\"177.099609\" xlink:href=\"#DejaVuSans-4e\"/>\r\n      <use x=\"251.904297\" xlink:href=\"#DejaVuSans-75\"/>\r\n      <use x=\"315.283203\" xlink:href=\"#DejaVuSans-6d\"/>\r\n      <use x=\"412.695312\" xlink:href=\"#DejaVuSans-62\"/>\r\n      <use x=\"476.171875\" xlink:href=\"#DejaVuSans-65\"/>\r\n      <use x=\"537.695312\" xlink:href=\"#DejaVuSans-72\"/>\r\n     </g>\r\n    </g>\r\n   </g>\r\n  </g>\r\n </g>\r\n <defs>\r\n  <clipPath id=\"pd8d25d7a1d\">\r\n   <rect height=\"217.44\" width=\"334.8\" x=\"30.103125\" y=\"17.798437\"/>\r\n  </clipPath>\r\n </defs>\r\n</svg>\r\n",
      "image/png": "[encoded data removed]"
     },
     "metadata": {
      "needs_background": "light"
     }
    }
   ],
   "source": [
    "message_data.plot()"
   ]
  },
  {
   "source": [
    "drive api (testing still)"
   ],
   "cell_type": "markdown",
   "metadata": {}
  },
  {
   "cell_type": "code",
   "execution_count": 9,
   "metadata": {},
   "outputs": [
    {
     "output_type": "error",
     "ename": "ModuleNotFoundError",
     "evalue": "No module named 'pydrive'",
     "traceback": [
      "\u001b[1;31m---------------------------------------------------------------------------\u001b[0m",
      "\u001b[1;31mModuleNotFoundError\u001b[0m                       Traceback (most recent call last)",
      "\u001b[1;32m<ipython-input-9-1a4a3093e5d1>\u001b[0m in \u001b[0;36m<module>\u001b[1;34m\u001b[0m\n\u001b[0;32m      1\u001b[0m \u001b[1;31m# pip install pydrive\u001b[0m\u001b[1;33m\u001b[0m\u001b[1;33m\u001b[0m\u001b[1;33m\u001b[0m\u001b[0m\n\u001b[1;32m----> 2\u001b[1;33m \u001b[1;32mfrom\u001b[0m \u001b[0mpydrive\u001b[0m\u001b[1;33m.\u001b[0m\u001b[0mauth\u001b[0m \u001b[1;32mimport\u001b[0m \u001b[0mGoogleAuth\u001b[0m\u001b[1;33m\u001b[0m\u001b[1;33m\u001b[0m\u001b[0m\n\u001b[0m\u001b[0;32m      3\u001b[0m \u001b[1;32mfrom\u001b[0m \u001b[0mpydrive\u001b[0m\u001b[1;33m.\u001b[0m\u001b[0mdrive\u001b[0m \u001b[1;32mimport\u001b[0m \u001b[0mGoogleDrive\u001b[0m\u001b[1;33m\u001b[0m\u001b[1;33m\u001b[0m\u001b[0m\n",
      "\u001b[1;31mModuleNotFoundError\u001b[0m: No module named 'pydrive'"
     ]
    }
   ],
   "source": [
    "# pip install pydrive\n",
    "from pydrive.auth import GoogleAuth\n",
    "from pydrive.drive import GoogleDrive"
   ]
  },
  {
   "cell_type": "code",
   "execution_count": 11,
   "metadata": {
    "tags": []
   },
   "outputs": [
    {
     "output_type": "stream",
     "name": "stdout",
     "text": [
      "Your browser has been opened to visit:\n\n    https://accounts.google.com/o/oauth2/auth?client_id=491460359726-lj3ilu22ir8ckqnjefot5gs99vmig1d2.apps.googleusercontent.com&redirect_uri=http%3A%2F%2Flocalhost%3A8080%2F&scope=https%3A%2F%2Fwww.googleapis.com%2Fauth%2Fdrive&access_type=offline&response_type=code\n\n"
     ]
    }
   ],
   "source": [
    "# Rename the downloaded JSON file to client_secrets.json\n",
    "# The client_secrets.json file needs to be in the same directory as the script.\n",
    "gauth = GoogleAuth()\n",
    "drive = GoogleDrive(gauth)\n",
    "# List files in Google Drive\n",
    "fileList = drive.ListFile({'q': \"'1pxYux33QnFcvrpP17Q88_xY1nW79aJL-' in parents and trashed=false\"}).GetList()\n",
    "# for file1 in fileList:\n",
    "#   print('title: %s, id: %s' % (file1['title'], file1['id']))\n",
    "\n",
    "  "
   ]
  },
  {
   "cell_type": "code",
   "execution_count": 51,
   "metadata": {},
   "outputs": [
    {
     "output_type": "stream",
     "name": "stdout",
     "text": [
      "unsupported file\n"
     ]
    }
   ],
   "source": [
    "fileCons = list()\n",
    "\n",
    "for file1 in fileList:\n",
    "  if 'downloadUrl' in file1:\n",
    "    fileCons.append(requests.get(file1['downloadUrl']).content)\n",
    "  else:\n",
    "    print('unsupported file')"
   ]
  },
  {
   "cell_type": "code",
   "execution_count": 53,
   "metadata": {},
   "outputs": [
    {
     "output_type": "stream",
     "name": "stdout",
     "text": [
      "[b'{\\n \"error\": {\\n  \"errors\": [\\n   {\\n    \"domain\": \"usageLimits\",\\n    \"reason\": \"dailyLimitExceededUnreg\",\\n    \"message\": \"Daily Limit for Unauthenticated Use Exceeded. Continued use requires signup.\",\\n    \"extendedHelp\": \"https://code.google.com/apis/console\"\\n   }\\n  ],\\n  \"code\": 403,\\n  \"message\": \"Daily Limit for Unauthenticated Use Exceeded. Continued use requires signup.\"\\n }\\n}\\n']\n"
     ]
    }
   ],
   "source": [
    "print(fileCons)"
   ]
  },
  {
   "cell_type": "code",
   "execution_count": null,
   "metadata": {},
   "outputs": [],
   "source": []
  }
 ]
}