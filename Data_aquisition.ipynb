{
 "cells": [
  {
   "cell_type": "markdown",
   "metadata": {},
   "source": [
    "## Daten aus API einlesen\n",
    "Diesdasananas\n",
    "\n",
    "Api Dokumentation gemäss: https://doc.iofrog.com/apidocumentation/api.html\n",
    "Postman requests: https://www.getpostman.com/collections/eb80441a4500fd9a0634"
   ]
  },
  {
   "cell_type": "code",
   "execution_count": 2,
   "metadata": {},
   "outputs": [],
   "source": [
    "# packages import\n",
    "import requests\n",
    "import json\n",
    "import pandas as pd\n"
   ]
  },
  {
   "cell_type": "markdown",
   "metadata": {},
   "source": [
    "Login to api"
   ]
  },
  {
   "cell_type": "code",
   "execution_count": 3,
   "metadata": {},
   "outputs": [],
   "source": [
    "url = \"https://www.iofrog.com/api/v2/auth/signin/\"\n",
    "\n",
    "payload = json.dumps({\n",
    "  \"username\": \"pascal.berger@students.fhnw.ch\",\n",
    "  \"password\": \"123321\"\n",
    "})\n",
    "headers = {\n",
    "  'Content-Type': 'application/json',\n",
    "  'Cookie': ''\n",
    "}\n",
    "\n",
    "login_response = requests.request(\"POST\", url, headers=headers, data=payload)\n",
    "#print(login_response.text)\n"
   ]
  },
  {
   "cell_type": "code",
   "execution_count": 4,
   "metadata": {},
   "outputs": [
    {
     "output_type": "execute_result",
     "data": {
      "text/plain": [
       "                                             user  \\\n",
       "firstName                                  Pascal   \n",
       "lastName                                   Berger   \n",
       "isActivated                                  True   \n",
       "level                                      expert   \n",
       "partner                                    heliot   \n",
       "lang                                           en   \n",
       "timeZone                            Europe/Berlin   \n",
       "units         {'temperature': 'C', 'system': 'M'}   \n",
       "accessToken                                   NaN   \n",
       "refreshToken                                  NaN   \n",
       "\n",
       "                                                          token  \n",
       "firstName                                                   NaN  \n",
       "lastName                                                    NaN  \n",
       "isActivated                                                 NaN  \n",
       "level                                                       NaN  \n",
       "partner                                                     NaN  \n",
       "lang                                                        NaN  \n",
       "timeZone                                                    NaN  \n",
       "units                                                       NaN  \n",
       "accessToken   eyJhbGciOiJIUzI1NiIsInR5cCI6IkpXVCJ9.eyJpZCI6I...  \n",
       "refreshToken  6079a807d131ef46643cff2b.501d1892c785d7431c11f...  "
      ],
      "text/html": "<div>\n<style scoped>\n    .dataframe tbody tr th:only-of-type {\n        vertical-align: middle;\n    }\n\n    .dataframe tbody tr th {\n        vertical-align: top;\n    }\n\n    .dataframe thead th {\n        text-align: right;\n    }\n</style>\n<table border=\"1\" class=\"dataframe\">\n  <thead>\n    <tr style=\"text-align: right;\">\n      <th></th>\n      <th>user</th>\n      <th>token</th>\n    </tr>\n  </thead>\n  <tbody>\n    <tr>\n      <th>firstName</th>\n      <td>Pascal</td>\n      <td>NaN</td>\n    </tr>\n    <tr>\n      <th>lastName</th>\n      <td>Berger</td>\n      <td>NaN</td>\n    </tr>\n    <tr>\n      <th>isActivated</th>\n      <td>True</td>\n      <td>NaN</td>\n    </tr>\n    <tr>\n      <th>level</th>\n      <td>expert</td>\n      <td>NaN</td>\n    </tr>\n    <tr>\n      <th>partner</th>\n      <td>heliot</td>\n      <td>NaN</td>\n    </tr>\n    <tr>\n      <th>lang</th>\n      <td>en</td>\n      <td>NaN</td>\n    </tr>\n    <tr>\n      <th>timeZone</th>\n      <td>Europe/Berlin</td>\n      <td>NaN</td>\n    </tr>\n    <tr>\n      <th>units</th>\n      <td>{'temperature': 'C', 'system': 'M'}</td>\n      <td>NaN</td>\n    </tr>\n    <tr>\n      <th>accessToken</th>\n      <td>NaN</td>\n      <td>eyJhbGciOiJIUzI1NiIsInR5cCI6IkpXVCJ9.eyJpZCI6I...</td>\n    </tr>\n    <tr>\n      <th>refreshToken</th>\n      <td>NaN</td>\n      <td>6079a807d131ef46643cff2b.501d1892c785d7431c11f...</td>\n    </tr>\n  </tbody>\n</table>\n</div>"
     },
     "metadata": {},
     "execution_count": 4
    }
   ],
   "source": [
    "login_data = pd.read_json(login_response.text)\n",
    "access_token = login_data.loc['accessToken', 'token']\n",
    "login_data"
   ]
  },
  {
   "cell_type": "markdown",
   "metadata": {},
   "source": [
    "get devices data"
   ]
  },
  {
   "cell_type": "code",
   "execution_count": 5,
   "metadata": {},
   "outputs": [],
   "source": [
    "url = \"https://www.iofrog.com/api/v2/devices/dashboard\"\n",
    "\n",
    "# payload = json.dumps([\n",
    "#   {\n",
    "#     \"data\": [],\n",
    "#     \"count\": 2,\n",
    "#     \"meta\": {}\n",
    "#   }\n",
    "# ])\n",
    "headers = {\n",
    "  'Authorization': 'Bearer ' + access_token,\n",
    "  'Content-Type': 'application/json',\n",
    "  'Cookie': ''\n",
    "}\n",
    "\n",
    "devices_response = requests.request(\"GET\", url, headers=headers)\n",
    "#print(devices_response.text)\n"
   ]
  },
  {
   "cell_type": "code",
   "execution_count": 6,
   "metadata": {},
   "outputs": [
    {
     "output_type": "execute_result",
     "data": {
      "text/plain": [
       "        id                   groupId                           name  \\\n",
       "0  2203AF9  60476e95362d421c28ee0058  SimplePack POC_02203AF9 TeamA   \n",
       "1  1F2504E  60476e95362d421c28ee0058  Türe Beschleunigung (PTH-04E)   \n",
       "2  2203AFA  60476e95362d421c28ee0058   Türe Magnet aussen (POC-AFA)   \n",
       "3  2203AAB  60476e95362d421c28ee0058    Türe Magnet innen (POC-AAB)   \n",
       "4  1F25047  60476e95362d421c28ee0058    Türriegel Beschl. (PTH-047)   \n",
       "5  2203ACB  60476e95362d421c28ee0058     Türriegel Magnet (POC-ACB)   \n",
       "\n",
       "                          typeId        modeId downlinkData  active  \\\n",
       "0  simple_pack_plus_full_3_0_6_0  reed_counter                 True   \n",
       "1  simple_pack_plus_full_3_0_6_0   put_me_back                 True   \n",
       "2  simple_pack_plus_full_3_0_6_0  reed_counter                 True   \n",
       "3  simple_pack_plus_full_3_0_6_0  reed_counter                 True   \n",
       "4  simple_pack_plus_full_3_0_6_0   put_me_back                 True   \n",
       "5  simple_pack_plus_full_3_0_6_0  reed_counter                 True   \n",
       "\n",
       "                     location                                      viewConfig  \\\n",
       "0  {'lat': None, 'lng': None}     {'locationSource': 'atlas', 'view': 'last'}   \n",
       "1  {'lat': None, 'lng': None}     {'locationSource': 'atlas', 'view': 'last'}   \n",
       "2  {'lat': None, 'lng': None}  {'locationSource': 'fallback', 'view': 'last'}   \n",
       "3  {'lat': None, 'lng': None}  {'locationSource': 'fallback', 'view': 'last'}   \n",
       "4  {'lat': None, 'lng': None}  {'locationSource': 'fallback', 'view': 'last'}   \n",
       "5  {'lat': None, 'lng': None}  {'locationSource': 'fallback', 'view': 'last'}   \n",
       "\n",
       "                                              status  \\\n",
       "0  {'isRegistered': True, 'isReadyForActivation':...   \n",
       "1  {'isRegistered': True, 'isReadyForActivation':...   \n",
       "2  {'isRegistered': True, 'isReadyForActivation':...   \n",
       "3  {'isRegistered': True, 'isReadyForActivation':...   \n",
       "4  {'isRegistered': True, 'isReadyForActivation':...   \n",
       "5  {'isRegistered': True, 'isReadyForActivation':...   \n",
       "\n",
       "                                       subscriptions  \\\n",
       "0  [{'_id': '6050c0467d354e09ee4aa73e', 'provider...   \n",
       "1  [{'_id': '6050bd897d354e09ee4a5d37', 'provider...   \n",
       "2  [{'_id': '60489ad5362d421c28f49667', 'provider...   \n",
       "3  [{'_id': '60489bab362d421c28f49a02', 'provider...   \n",
       "4  [{'_id': '60489b3f362d421c28f498b2', 'provider...   \n",
       "5  [{'_id': '60489995362d421c28f48edd', 'provider...   \n",
       "\n",
       "                                    lastDataMessages trackedKeys badges  \\\n",
       "0  [{'_id': '607906bc4568aa5ea543c9e0', 'keys': [...          []     []   \n",
       "1  [{'_id': '6079a0b9d131ef46643c3272', 'keys': [...          []     []   \n",
       "2  [{'_id': '60793e43100aad2989c9ebba', 'keys': [...          []     []   \n",
       "3  [{'_id': '6079a0c11ef743213d9aa8f8', 'keys': [...          []     []   \n",
       "4  [{'_id': '6079a0e61ef743213d9aac8a', 'keys': [...          []     []   \n",
       "5  [{'_id': '6079a0d31ef743213d9aaa87', 'keys': [...          []     []   \n",
       "\n",
       "                                     lastDataMessage  \\\n",
       "0  {'_id': '607906bc4568aa5ea543c9e0', 'keys': [{...   \n",
       "1  {'_id': '6079a0b9d131ef46643c3272', 'keys': [{...   \n",
       "2  {'_id': '60793e43100aad2989c9ebba', 'keys': [{...   \n",
       "3  {'_id': '6079a0c11ef743213d9aa8f8', 'keys': [{...   \n",
       "4  {'_id': '6079a0e61ef743213d9aac8a', 'keys': [{...   \n",
       "5  {'_id': '6079a0d31ef743213d9aaa87', 'keys': [{...   \n",
       "\n",
       "                             lastSourceBasedLocation  \n",
       "0                                                NaN  \n",
       "1                                                NaN  \n",
       "2  {'geoplaces': [], '_id': '605b4291f4e46133dc9b...  \n",
       "3  {'geoplaces': [], '_id': '6059fbafb3ae30315afb...  \n",
       "4  {'geoplaces': [], '_id': '6058b9d703380b4c4fd1...  \n",
       "5  {'geoplaces': [], '_id': '605b68f2f4e46133dc9e...  "
      ],
      "text/html": "<div>\n<style scoped>\n    .dataframe tbody tr th:only-of-type {\n        vertical-align: middle;\n    }\n\n    .dataframe tbody tr th {\n        vertical-align: top;\n    }\n\n    .dataframe thead th {\n        text-align: right;\n    }\n</style>\n<table border=\"1\" class=\"dataframe\">\n  <thead>\n    <tr style=\"text-align: right;\">\n      <th></th>\n      <th>id</th>\n      <th>groupId</th>\n      <th>name</th>\n      <th>typeId</th>\n      <th>modeId</th>\n      <th>downlinkData</th>\n      <th>active</th>\n      <th>location</th>\n      <th>viewConfig</th>\n      <th>status</th>\n      <th>subscriptions</th>\n      <th>lastDataMessages</th>\n      <th>trackedKeys</th>\n      <th>badges</th>\n      <th>lastDataMessage</th>\n      <th>lastSourceBasedLocation</th>\n    </tr>\n  </thead>\n  <tbody>\n    <tr>\n      <th>0</th>\n      <td>2203AF9</td>\n      <td>60476e95362d421c28ee0058</td>\n      <td>SimplePack POC_02203AF9 TeamA</td>\n      <td>simple_pack_plus_full_3_0_6_0</td>\n      <td>reed_counter</td>\n      <td></td>\n      <td>True</td>\n      <td>{'lat': None, 'lng': None}</td>\n      <td>{'locationSource': 'atlas', 'view': 'last'}</td>\n      <td>{'isRegistered': True, 'isReadyForActivation':...</td>\n      <td>[{'_id': '6050c0467d354e09ee4aa73e', 'provider...</td>\n      <td>[{'_id': '607906bc4568aa5ea543c9e0', 'keys': [...</td>\n      <td>[]</td>\n      <td>[]</td>\n      <td>{'_id': '607906bc4568aa5ea543c9e0', 'keys': [{...</td>\n      <td>NaN</td>\n    </tr>\n    <tr>\n      <th>1</th>\n      <td>1F2504E</td>\n      <td>60476e95362d421c28ee0058</td>\n      <td>Türe Beschleunigung (PTH-04E)</td>\n      <td>simple_pack_plus_full_3_0_6_0</td>\n      <td>put_me_back</td>\n      <td></td>\n      <td>True</td>\n      <td>{'lat': None, 'lng': None}</td>\n      <td>{'locationSource': 'atlas', 'view': 'last'}</td>\n      <td>{'isRegistered': True, 'isReadyForActivation':...</td>\n      <td>[{'_id': '6050bd897d354e09ee4a5d37', 'provider...</td>\n      <td>[{'_id': '6079a0b9d131ef46643c3272', 'keys': [...</td>\n      <td>[]</td>\n      <td>[]</td>\n      <td>{'_id': '6079a0b9d131ef46643c3272', 'keys': [{...</td>\n      <td>NaN</td>\n    </tr>\n    <tr>\n      <th>2</th>\n      <td>2203AFA</td>\n      <td>60476e95362d421c28ee0058</td>\n      <td>Türe Magnet aussen (POC-AFA)</td>\n      <td>simple_pack_plus_full_3_0_6_0</td>\n      <td>reed_counter</td>\n      <td></td>\n      <td>True</td>\n      <td>{'lat': None, 'lng': None}</td>\n      <td>{'locationSource': 'fallback', 'view': 'last'}</td>\n      <td>{'isRegistered': True, 'isReadyForActivation':...</td>\n      <td>[{'_id': '60489ad5362d421c28f49667', 'provider...</td>\n      <td>[{'_id': '60793e43100aad2989c9ebba', 'keys': [...</td>\n      <td>[]</td>\n      <td>[]</td>\n      <td>{'_id': '60793e43100aad2989c9ebba', 'keys': [{...</td>\n      <td>{'geoplaces': [], '_id': '605b4291f4e46133dc9b...</td>\n    </tr>\n    <tr>\n      <th>3</th>\n      <td>2203AAB</td>\n      <td>60476e95362d421c28ee0058</td>\n      <td>Türe Magnet innen (POC-AAB)</td>\n      <td>simple_pack_plus_full_3_0_6_0</td>\n      <td>reed_counter</td>\n      <td></td>\n      <td>True</td>\n      <td>{'lat': None, 'lng': None}</td>\n      <td>{'locationSource': 'fallback', 'view': 'last'}</td>\n      <td>{'isRegistered': True, 'isReadyForActivation':...</td>\n      <td>[{'_id': '60489bab362d421c28f49a02', 'provider...</td>\n      <td>[{'_id': '6079a0c11ef743213d9aa8f8', 'keys': [...</td>\n      <td>[]</td>\n      <td>[]</td>\n      <td>{'_id': '6079a0c11ef743213d9aa8f8', 'keys': [{...</td>\n      <td>{'geoplaces': [], '_id': '6059fbafb3ae30315afb...</td>\n    </tr>\n    <tr>\n      <th>4</th>\n      <td>1F25047</td>\n      <td>60476e95362d421c28ee0058</td>\n      <td>Türriegel Beschl. (PTH-047)</td>\n      <td>simple_pack_plus_full_3_0_6_0</td>\n      <td>put_me_back</td>\n      <td></td>\n      <td>True</td>\n      <td>{'lat': None, 'lng': None}</td>\n      <td>{'locationSource': 'fallback', 'view': 'last'}</td>\n      <td>{'isRegistered': True, 'isReadyForActivation':...</td>\n      <td>[{'_id': '60489b3f362d421c28f498b2', 'provider...</td>\n      <td>[{'_id': '6079a0e61ef743213d9aac8a', 'keys': [...</td>\n      <td>[]</td>\n      <td>[]</td>\n      <td>{'_id': '6079a0e61ef743213d9aac8a', 'keys': [{...</td>\n      <td>{'geoplaces': [], '_id': '6058b9d703380b4c4fd1...</td>\n    </tr>\n    <tr>\n      <th>5</th>\n      <td>2203ACB</td>\n      <td>60476e95362d421c28ee0058</td>\n      <td>Türriegel Magnet (POC-ACB)</td>\n      <td>simple_pack_plus_full_3_0_6_0</td>\n      <td>reed_counter</td>\n      <td></td>\n      <td>True</td>\n      <td>{'lat': None, 'lng': None}</td>\n      <td>{'locationSource': 'fallback', 'view': 'last'}</td>\n      <td>{'isRegistered': True, 'isReadyForActivation':...</td>\n      <td>[{'_id': '60489995362d421c28f48edd', 'provider...</td>\n      <td>[{'_id': '6079a0d31ef743213d9aaa87', 'keys': [...</td>\n      <td>[]</td>\n      <td>[]</td>\n      <td>{'_id': '6079a0d31ef743213d9aaa87', 'keys': [{...</td>\n      <td>{'geoplaces': [], '_id': '605b68f2f4e46133dc9e...</td>\n    </tr>\n  </tbody>\n</table>\n</div>"
     },
     "metadata": {},
     "execution_count": 6
    }
   ],
   "source": [
    "#print(devices_response.text)\n",
    "#device_data = pd.read_json(devices_response.text)\n",
    "\n",
    "device_dict = json.loads(devices_response.text)\n",
    "device_data = pd.DataFrame.from_dict(device_dict['data'])\n",
    "#device_data = pd.json_normalize(device_dict)\n",
    "#device_dict['data']\n",
    "device_data"
   ]
  },
  {
   "source": [
    "## Sensordaten einlesen"
   ],
   "cell_type": "markdown",
   "metadata": {}
  },
  {
   "cell_type": "code",
   "execution_count": 7,
   "metadata": {
    "tags": []
   },
   "outputs": [
    {
     "output_type": "stream",
     "name": "stdout",
     "text": [
      "Wall time: 7.63 s\n"
     ]
    },
    {
     "output_type": "execute_result",
     "data": {
      "text/plain": [
       "                          _id   timestamp        type  seqNumber deviceId  \\\n",
       "0    607906bc4568aa5ea543c9e0  1618544314  data_bidir      143.0  2203AF9   \n",
       "1    607895968227aa5e8573d5e6  1618515349  data_bidir      142.0  2203AF9   \n",
       "2    6078954a8227aa5e8573d226  1618515273  data_bidir      141.0  2203AF9   \n",
       "3    607824844568aa5ea52ea8ba  1618486404  data_bidir      140.0  2203AF9   \n",
       "4    6077e6ce4a4e60184af43e28  1618470605  data_bidir      139.0  2203AF9   \n",
       "..                        ...         ...         ...        ...      ...   \n",
       "362  605b7844f4e46133dc9f0885  1616607298  data_bidir      153.0  2203ACB   \n",
       "363  605b7262f4e46133dc9eae68  1616605778  data_bidir      152.0  2203ACB   \n",
       "364  605b6b38f4e46133dc9e40bf  1616603959  data_bidir      151.0  2203ACB   \n",
       "365  605b67ab7746444305bd79a8  1616603049  data_bidir      150.0  2203ACB   \n",
       "366  605b644df4e46133dc9dd3f5  1616602140  data_bidir      149.0  2203ACB   \n",
       "\n",
       "                      created  __v        action battery counter  ... reed_on  \\\n",
       "0    2021-04-16T03:38:36.137Z    0   heartbeat_1       3       0  ...     NaN   \n",
       "1    2021-04-15T19:35:50.070Z    0   heartbeat_1       3       0  ...     NaN   \n",
       "2    2021-04-15T19:34:34.269Z    0   heartbeat_2       3       0  ...     NaN   \n",
       "3    2021-04-15T11:33:24.725Z    0   heartbeat_1       3       0  ...     NaN   \n",
       "4    2021-04-15T07:10:06.889Z    0  reed_counter       0      32  ...     NaN   \n",
       "..                        ...  ...           ...     ...     ...  ...     ...   \n",
       "362  2021-03-24T17:35:00.665Z    0  reed_counter       0      64  ...     NaN   \n",
       "363  2021-03-24T17:09:54.843Z    0  reed_counter       0      63  ...     NaN   \n",
       "364  2021-03-24T16:39:20.359Z    0  reed_counter       0      60  ...     NaN   \n",
       "365  2021-03-24T16:24:11.052Z    0  reed_counter       0      59  ...     NaN   \n",
       "366  2021-03-24T16:09:49.988Z    0  reed_counter       0      57  ...     NaN   \n",
       "\n",
       "    x_fin x_max x_min y_fin y_max y_min z_fin z_max z_min  \n",
       "0     NaN   NaN   NaN   NaN   NaN   NaN   NaN   NaN   NaN  \n",
       "1     NaN   NaN   NaN   NaN   NaN   NaN   NaN   NaN   NaN  \n",
       "2     NaN   NaN   NaN   NaN   NaN   NaN   NaN   NaN   NaN  \n",
       "3     NaN   NaN   NaN   NaN   NaN   NaN   NaN   NaN   NaN  \n",
       "4     NaN   NaN   NaN   NaN   NaN   NaN   NaN   NaN   NaN  \n",
       "..    ...   ...   ...   ...   ...   ...   ...   ...   ...  \n",
       "362   NaN   NaN   NaN   NaN   NaN   NaN   NaN   NaN   NaN  \n",
       "363   NaN   NaN   NaN   NaN   NaN   NaN   NaN   NaN   NaN  \n",
       "364   NaN   NaN   NaN   NaN   NaN   NaN   NaN   NaN   NaN  \n",
       "365   NaN   NaN   NaN   NaN   NaN   NaN   NaN   NaN   NaN  \n",
       "366   NaN   NaN   NaN   NaN   NaN   NaN   NaN   NaN   NaN  \n",
       "\n",
       "[2907 rows x 37 columns]"
      ],
      "text/html": "<div>\n<style scoped>\n    .dataframe tbody tr th:only-of-type {\n        vertical-align: middle;\n    }\n\n    .dataframe tbody tr th {\n        vertical-align: top;\n    }\n\n    .dataframe thead th {\n        text-align: right;\n    }\n</style>\n<table border=\"1\" class=\"dataframe\">\n  <thead>\n    <tr style=\"text-align: right;\">\n      <th></th>\n      <th>_id</th>\n      <th>timestamp</th>\n      <th>type</th>\n      <th>seqNumber</th>\n      <th>deviceId</th>\n      <th>created</th>\n      <th>__v</th>\n      <th>action</th>\n      <th>battery</th>\n      <th>counter</th>\n      <th>...</th>\n      <th>reed_on</th>\n      <th>x_fin</th>\n      <th>x_max</th>\n      <th>x_min</th>\n      <th>y_fin</th>\n      <th>y_max</th>\n      <th>y_min</th>\n      <th>z_fin</th>\n      <th>z_max</th>\n      <th>z_min</th>\n    </tr>\n  </thead>\n  <tbody>\n    <tr>\n      <th>0</th>\n      <td>607906bc4568aa5ea543c9e0</td>\n      <td>1618544314</td>\n      <td>data_bidir</td>\n      <td>143.0</td>\n      <td>2203AF9</td>\n      <td>2021-04-16T03:38:36.137Z</td>\n      <td>0</td>\n      <td>heartbeat_1</td>\n      <td>3</td>\n      <td>0</td>\n      <td>...</td>\n      <td>NaN</td>\n      <td>NaN</td>\n      <td>NaN</td>\n      <td>NaN</td>\n      <td>NaN</td>\n      <td>NaN</td>\n      <td>NaN</td>\n      <td>NaN</td>\n      <td>NaN</td>\n      <td>NaN</td>\n    </tr>\n    <tr>\n      <th>1</th>\n      <td>607895968227aa5e8573d5e6</td>\n      <td>1618515349</td>\n      <td>data_bidir</td>\n      <td>142.0</td>\n      <td>2203AF9</td>\n      <td>2021-04-15T19:35:50.070Z</td>\n      <td>0</td>\n      <td>heartbeat_1</td>\n      <td>3</td>\n      <td>0</td>\n      <td>...</td>\n      <td>NaN</td>\n      <td>NaN</td>\n      <td>NaN</td>\n      <td>NaN</td>\n      <td>NaN</td>\n      <td>NaN</td>\n      <td>NaN</td>\n      <td>NaN</td>\n      <td>NaN</td>\n      <td>NaN</td>\n    </tr>\n    <tr>\n      <th>2</th>\n      <td>6078954a8227aa5e8573d226</td>\n      <td>1618515273</td>\n      <td>data_bidir</td>\n      <td>141.0</td>\n      <td>2203AF9</td>\n      <td>2021-04-15T19:34:34.269Z</td>\n      <td>0</td>\n      <td>heartbeat_2</td>\n      <td>3</td>\n      <td>0</td>\n      <td>...</td>\n      <td>NaN</td>\n      <td>NaN</td>\n      <td>NaN</td>\n      <td>NaN</td>\n      <td>NaN</td>\n      <td>NaN</td>\n      <td>NaN</td>\n      <td>NaN</td>\n      <td>NaN</td>\n      <td>NaN</td>\n    </tr>\n    <tr>\n      <th>3</th>\n      <td>607824844568aa5ea52ea8ba</td>\n      <td>1618486404</td>\n      <td>data_bidir</td>\n      <td>140.0</td>\n      <td>2203AF9</td>\n      <td>2021-04-15T11:33:24.725Z</td>\n      <td>0</td>\n      <td>heartbeat_1</td>\n      <td>3</td>\n      <td>0</td>\n      <td>...</td>\n      <td>NaN</td>\n      <td>NaN</td>\n      <td>NaN</td>\n      <td>NaN</td>\n      <td>NaN</td>\n      <td>NaN</td>\n      <td>NaN</td>\n      <td>NaN</td>\n      <td>NaN</td>\n      <td>NaN</td>\n    </tr>\n    <tr>\n      <th>4</th>\n      <td>6077e6ce4a4e60184af43e28</td>\n      <td>1618470605</td>\n      <td>data_bidir</td>\n      <td>139.0</td>\n      <td>2203AF9</td>\n      <td>2021-04-15T07:10:06.889Z</td>\n      <td>0</td>\n      <td>reed_counter</td>\n      <td>0</td>\n      <td>32</td>\n      <td>...</td>\n      <td>NaN</td>\n      <td>NaN</td>\n      <td>NaN</td>\n      <td>NaN</td>\n      <td>NaN</td>\n      <td>NaN</td>\n      <td>NaN</td>\n      <td>NaN</td>\n      <td>NaN</td>\n      <td>NaN</td>\n    </tr>\n    <tr>\n      <th>...</th>\n      <td>...</td>\n      <td>...</td>\n      <td>...</td>\n      <td>...</td>\n      <td>...</td>\n      <td>...</td>\n      <td>...</td>\n      <td>...</td>\n      <td>...</td>\n      <td>...</td>\n      <td>...</td>\n      <td>...</td>\n      <td>...</td>\n      <td>...</td>\n      <td>...</td>\n      <td>...</td>\n      <td>...</td>\n      <td>...</td>\n      <td>...</td>\n      <td>...</td>\n      <td>...</td>\n    </tr>\n    <tr>\n      <th>362</th>\n      <td>605b7844f4e46133dc9f0885</td>\n      <td>1616607298</td>\n      <td>data_bidir</td>\n      <td>153.0</td>\n      <td>2203ACB</td>\n      <td>2021-03-24T17:35:00.665Z</td>\n      <td>0</td>\n      <td>reed_counter</td>\n      <td>0</td>\n      <td>64</td>\n      <td>...</td>\n      <td>NaN</td>\n      <td>NaN</td>\n      <td>NaN</td>\n      <td>NaN</td>\n      <td>NaN</td>\n      <td>NaN</td>\n      <td>NaN</td>\n      <td>NaN</td>\n      <td>NaN</td>\n      <td>NaN</td>\n    </tr>\n    <tr>\n      <th>363</th>\n      <td>605b7262f4e46133dc9eae68</td>\n      <td>1616605778</td>\n      <td>data_bidir</td>\n      <td>152.0</td>\n      <td>2203ACB</td>\n      <td>2021-03-24T17:09:54.843Z</td>\n      <td>0</td>\n      <td>reed_counter</td>\n      <td>0</td>\n      <td>63</td>\n      <td>...</td>\n      <td>NaN</td>\n      <td>NaN</td>\n      <td>NaN</td>\n      <td>NaN</td>\n      <td>NaN</td>\n      <td>NaN</td>\n      <td>NaN</td>\n      <td>NaN</td>\n      <td>NaN</td>\n      <td>NaN</td>\n    </tr>\n    <tr>\n      <th>364</th>\n      <td>605b6b38f4e46133dc9e40bf</td>\n      <td>1616603959</td>\n      <td>data_bidir</td>\n      <td>151.0</td>\n      <td>2203ACB</td>\n      <td>2021-03-24T16:39:20.359Z</td>\n      <td>0</td>\n      <td>reed_counter</td>\n      <td>0</td>\n      <td>60</td>\n      <td>...</td>\n      <td>NaN</td>\n      <td>NaN</td>\n      <td>NaN</td>\n      <td>NaN</td>\n      <td>NaN</td>\n      <td>NaN</td>\n      <td>NaN</td>\n      <td>NaN</td>\n      <td>NaN</td>\n      <td>NaN</td>\n    </tr>\n    <tr>\n      <th>365</th>\n      <td>605b67ab7746444305bd79a8</td>\n      <td>1616603049</td>\n      <td>data_bidir</td>\n      <td>150.0</td>\n      <td>2203ACB</td>\n      <td>2021-03-24T16:24:11.052Z</td>\n      <td>0</td>\n      <td>reed_counter</td>\n      <td>0</td>\n      <td>59</td>\n      <td>...</td>\n      <td>NaN</td>\n      <td>NaN</td>\n      <td>NaN</td>\n      <td>NaN</td>\n      <td>NaN</td>\n      <td>NaN</td>\n      <td>NaN</td>\n      <td>NaN</td>\n      <td>NaN</td>\n      <td>NaN</td>\n    </tr>\n    <tr>\n      <th>366</th>\n      <td>605b644df4e46133dc9dd3f5</td>\n      <td>1616602140</td>\n      <td>data_bidir</td>\n      <td>149.0</td>\n      <td>2203ACB</td>\n      <td>2021-03-24T16:09:49.988Z</td>\n      <td>0</td>\n      <td>reed_counter</td>\n      <td>0</td>\n      <td>57</td>\n      <td>...</td>\n      <td>NaN</td>\n      <td>NaN</td>\n      <td>NaN</td>\n      <td>NaN</td>\n      <td>NaN</td>\n      <td>NaN</td>\n      <td>NaN</td>\n      <td>NaN</td>\n      <td>NaN</td>\n      <td>NaN</td>\n    </tr>\n  </tbody>\n</table>\n<p>2907 rows × 37 columns</p>\n</div>"
     },
     "metadata": {},
     "execution_count": 7
    }
   ],
   "source": [
    "%%time\n",
    "message_data_combined = pd.DataFrame()\n",
    "\n",
    "for deviceid in device_data['id'].items():\n",
    "  deviceid = deviceid[1]\n",
    "  url = \"https://www.iofrog.com/api/v2/devices/\" + deviceid + \"/messages?timestampFrom=1616601600&limit=5000\"\n",
    "\n",
    "  # payload = json.dumps({\n",
    "  #   \"data\": [\n",
    "  #     {\n",
    "  #       \"_id\": \"1f704bc5-5055-43eb-a851-c87b6b0bf7b9\",\n",
    "  #       \"isAlarm\": False,\n",
    "  #       \"isDismissed\": False,\n",
    "  #       \"timestamp\": 1584093653,\n",
    "  #       \"type\": \"data_uplink\",\n",
    "  #       \"seqNumber\": 1,\n",
    "  #       \"keys\": [\n",
    "  #         {\n",
    "  #           \"isCode\": False,\n",
    "  #           \"_id\": \"1111111111111111111111\",\n",
    "  #           \"key\": \"key\",\n",
    "  #           \"value\": \"value\",\n",
    "  #           \"keyLocale\": \"Klíč\",\n",
    "  #           \"valueLocale\": \"Hodnota\",\n",
    "  #           \"color\": \"alarm\",\n",
    "  #           \"icon\": \"icon name (from fontAwesome)\"\n",
    "  #         }\n",
    "  #       ]\n",
    "  #     }\n",
    "  #   ],\n",
    "  #   \"count\": 1\n",
    "  # })\n",
    "  headers = {\n",
    "    'Authorization': 'Bearer ' + access_token,\n",
    "    'Content-Type': 'application/json',\n",
    "    'Cookie': ''\n",
    "  }\n",
    "  message_response = requests.request(\"GET\", url, headers=headers)\n",
    "  # print(response.text)\n",
    "  message_dict = json.loads(message_response.text)\n",
    "  # json response to dataframe\n",
    "  if 'code' in message_dict:\n",
    "    print(\"Error reading sensor messages from device: \" + deviceid)\n",
    "    print(message_dict)\n",
    "  else:\n",
    "    message_data = pd.DataFrame.from_dict(message_dict['data'])\n",
    "    message_data = message_data.drop(columns=['keys'])\n",
    "    message_data_keys = pd.json_normalize(message_dict['data'], record_path='keys', record_prefix='keys_', meta='_id')\n",
    "    message_data_keys = message_data_keys.pivot(index=['_id'], columns='keys_key', values='keys_value')\n",
    "    message_data_keys.reset_index(inplace=True)\n",
    "    message_data_keys = message_data_keys.groupby('_id').sum()\n",
    "    #print(message_data_keys)\n",
    "    # join df's\n",
    "    message_data = message_data.merge(message_data_keys, on=['_id'], how='left', indicator=True)\n",
    "    message_data_combined = pd.concat([message_data_combined, message_data])\n",
    "\n",
    "message_data_combined"
   ]
  },
  {
   "source": [
    "## Datetime string zu Datetime Objekten konvertieren"
   ],
   "cell_type": "markdown",
   "metadata": {}
  },
  {
   "cell_type": "code",
   "execution_count": 8,
   "metadata": {},
   "outputs": [
    {
     "output_type": "execute_result",
     "data": {
      "text/plain": [
       "                          _id   timestamp        type  seqNumber deviceId  \\\n",
       "0    607906bc4568aa5ea543c9e0  1618544314  data_bidir      143.0  2203AF9   \n",
       "1    607895968227aa5e8573d5e6  1618515349  data_bidir      142.0  2203AF9   \n",
       "2    6078954a8227aa5e8573d226  1618515273  data_bidir      141.0  2203AF9   \n",
       "3    607824844568aa5ea52ea8ba  1618486404  data_bidir      140.0  2203AF9   \n",
       "4    6077e6ce4a4e60184af43e28  1618470605  data_bidir      139.0  2203AF9   \n",
       "..                        ...         ...         ...        ...      ...   \n",
       "362  605b7844f4e46133dc9f0885  1616607298  data_bidir      153.0  2203ACB   \n",
       "363  605b7262f4e46133dc9eae68  1616605778  data_bidir      152.0  2203ACB   \n",
       "364  605b6b38f4e46133dc9e40bf  1616603959  data_bidir      151.0  2203ACB   \n",
       "365  605b67ab7746444305bd79a8  1616603049  data_bidir      150.0  2203ACB   \n",
       "366  605b644df4e46133dc9dd3f5  1616602140  data_bidir      149.0  2203ACB   \n",
       "\n",
       "                             created  __v        action battery counter  ...  \\\n",
       "0   2021-04-16 03:38:36.137000+00:00    0   heartbeat_1       3       0  ...   \n",
       "1   2021-04-15 19:35:50.070000+00:00    0   heartbeat_1       3       0  ...   \n",
       "2   2021-04-15 19:34:34.269000+00:00    0   heartbeat_2       3       0  ...   \n",
       "3   2021-04-15 11:33:24.725000+00:00    0   heartbeat_1       3       0  ...   \n",
       "4   2021-04-15 07:10:06.889000+00:00    0  reed_counter       0      32  ...   \n",
       "..                               ...  ...           ...     ...     ...  ...   \n",
       "362 2021-03-24 17:35:00.665000+00:00    0  reed_counter       0      64  ...   \n",
       "363 2021-03-24 17:09:54.843000+00:00    0  reed_counter       0      63  ...   \n",
       "364 2021-03-24 16:39:20.359000+00:00    0  reed_counter       0      60  ...   \n",
       "365 2021-03-24 16:24:11.052000+00:00    0  reed_counter       0      59  ...   \n",
       "366 2021-03-24 16:09:49.988000+00:00    0  reed_counter       0      57  ...   \n",
       "\n",
       "    reed_on x_fin x_max x_min y_fin y_max y_min z_fin z_max z_min  \n",
       "0       NaN   NaN   NaN   NaN   NaN   NaN   NaN   NaN   NaN   NaN  \n",
       "1       NaN   NaN   NaN   NaN   NaN   NaN   NaN   NaN   NaN   NaN  \n",
       "2       NaN   NaN   NaN   NaN   NaN   NaN   NaN   NaN   NaN   NaN  \n",
       "3       NaN   NaN   NaN   NaN   NaN   NaN   NaN   NaN   NaN   NaN  \n",
       "4       NaN   NaN   NaN   NaN   NaN   NaN   NaN   NaN   NaN   NaN  \n",
       "..      ...   ...   ...   ...   ...   ...   ...   ...   ...   ...  \n",
       "362     NaN   NaN   NaN   NaN   NaN   NaN   NaN   NaN   NaN   NaN  \n",
       "363     NaN   NaN   NaN   NaN   NaN   NaN   NaN   NaN   NaN   NaN  \n",
       "364     NaN   NaN   NaN   NaN   NaN   NaN   NaN   NaN   NaN   NaN  \n",
       "365     NaN   NaN   NaN   NaN   NaN   NaN   NaN   NaN   NaN   NaN  \n",
       "366     NaN   NaN   NaN   NaN   NaN   NaN   NaN   NaN   NaN   NaN  \n",
       "\n",
       "[2907 rows x 37 columns]"
      ],
      "text/html": "<div>\n<style scoped>\n    .dataframe tbody tr th:only-of-type {\n        vertical-align: middle;\n    }\n\n    .dataframe tbody tr th {\n        vertical-align: top;\n    }\n\n    .dataframe thead th {\n        text-align: right;\n    }\n</style>\n<table border=\"1\" class=\"dataframe\">\n  <thead>\n    <tr style=\"text-align: right;\">\n      <th></th>\n      <th>_id</th>\n      <th>timestamp</th>\n      <th>type</th>\n      <th>seqNumber</th>\n      <th>deviceId</th>\n      <th>created</th>\n      <th>__v</th>\n      <th>action</th>\n      <th>battery</th>\n      <th>counter</th>\n      <th>...</th>\n      <th>reed_on</th>\n      <th>x_fin</th>\n      <th>x_max</th>\n      <th>x_min</th>\n      <th>y_fin</th>\n      <th>y_max</th>\n      <th>y_min</th>\n      <th>z_fin</th>\n      <th>z_max</th>\n      <th>z_min</th>\n    </tr>\n  </thead>\n  <tbody>\n    <tr>\n      <th>0</th>\n      <td>607906bc4568aa5ea543c9e0</td>\n      <td>1618544314</td>\n      <td>data_bidir</td>\n      <td>143.0</td>\n      <td>2203AF9</td>\n      <td>2021-04-16 03:38:36.137000+00:00</td>\n      <td>0</td>\n      <td>heartbeat_1</td>\n      <td>3</td>\n      <td>0</td>\n      <td>...</td>\n      <td>NaN</td>\n      <td>NaN</td>\n      <td>NaN</td>\n      <td>NaN</td>\n      <td>NaN</td>\n      <td>NaN</td>\n      <td>NaN</td>\n      <td>NaN</td>\n      <td>NaN</td>\n      <td>NaN</td>\n    </tr>\n    <tr>\n      <th>1</th>\n      <td>607895968227aa5e8573d5e6</td>\n      <td>1618515349</td>\n      <td>data_bidir</td>\n      <td>142.0</td>\n      <td>2203AF9</td>\n      <td>2021-04-15 19:35:50.070000+00:00</td>\n      <td>0</td>\n      <td>heartbeat_1</td>\n      <td>3</td>\n      <td>0</td>\n      <td>...</td>\n      <td>NaN</td>\n      <td>NaN</td>\n      <td>NaN</td>\n      <td>NaN</td>\n      <td>NaN</td>\n      <td>NaN</td>\n      <td>NaN</td>\n      <td>NaN</td>\n      <td>NaN</td>\n      <td>NaN</td>\n    </tr>\n    <tr>\n      <th>2</th>\n      <td>6078954a8227aa5e8573d226</td>\n      <td>1618515273</td>\n      <td>data_bidir</td>\n      <td>141.0</td>\n      <td>2203AF9</td>\n      <td>2021-04-15 19:34:34.269000+00:00</td>\n      <td>0</td>\n      <td>heartbeat_2</td>\n      <td>3</td>\n      <td>0</td>\n      <td>...</td>\n      <td>NaN</td>\n      <td>NaN</td>\n      <td>NaN</td>\n      <td>NaN</td>\n      <td>NaN</td>\n      <td>NaN</td>\n      <td>NaN</td>\n      <td>NaN</td>\n      <td>NaN</td>\n      <td>NaN</td>\n    </tr>\n    <tr>\n      <th>3</th>\n      <td>607824844568aa5ea52ea8ba</td>\n      <td>1618486404</td>\n      <td>data_bidir</td>\n      <td>140.0</td>\n      <td>2203AF9</td>\n      <td>2021-04-15 11:33:24.725000+00:00</td>\n      <td>0</td>\n      <td>heartbeat_1</td>\n      <td>3</td>\n      <td>0</td>\n      <td>...</td>\n      <td>NaN</td>\n      <td>NaN</td>\n      <td>NaN</td>\n      <td>NaN</td>\n      <td>NaN</td>\n      <td>NaN</td>\n      <td>NaN</td>\n      <td>NaN</td>\n      <td>NaN</td>\n      <td>NaN</td>\n    </tr>\n    <tr>\n      <th>4</th>\n      <td>6077e6ce4a4e60184af43e28</td>\n      <td>1618470605</td>\n      <td>data_bidir</td>\n      <td>139.0</td>\n      <td>2203AF9</td>\n      <td>2021-04-15 07:10:06.889000+00:00</td>\n      <td>0</td>\n      <td>reed_counter</td>\n      <td>0</td>\n      <td>32</td>\n      <td>...</td>\n      <td>NaN</td>\n      <td>NaN</td>\n      <td>NaN</td>\n      <td>NaN</td>\n      <td>NaN</td>\n      <td>NaN</td>\n      <td>NaN</td>\n      <td>NaN</td>\n      <td>NaN</td>\n      <td>NaN</td>\n    </tr>\n    <tr>\n      <th>...</th>\n      <td>...</td>\n      <td>...</td>\n      <td>...</td>\n      <td>...</td>\n      <td>...</td>\n      <td>...</td>\n      <td>...</td>\n      <td>...</td>\n      <td>...</td>\n      <td>...</td>\n      <td>...</td>\n      <td>...</td>\n      <td>...</td>\n      <td>...</td>\n      <td>...</td>\n      <td>...</td>\n      <td>...</td>\n      <td>...</td>\n      <td>...</td>\n      <td>...</td>\n      <td>...</td>\n    </tr>\n    <tr>\n      <th>362</th>\n      <td>605b7844f4e46133dc9f0885</td>\n      <td>1616607298</td>\n      <td>data_bidir</td>\n      <td>153.0</td>\n      <td>2203ACB</td>\n      <td>2021-03-24 17:35:00.665000+00:00</td>\n      <td>0</td>\n      <td>reed_counter</td>\n      <td>0</td>\n      <td>64</td>\n      <td>...</td>\n      <td>NaN</td>\n      <td>NaN</td>\n      <td>NaN</td>\n      <td>NaN</td>\n      <td>NaN</td>\n      <td>NaN</td>\n      <td>NaN</td>\n      <td>NaN</td>\n      <td>NaN</td>\n      <td>NaN</td>\n    </tr>\n    <tr>\n      <th>363</th>\n      <td>605b7262f4e46133dc9eae68</td>\n      <td>1616605778</td>\n      <td>data_bidir</td>\n      <td>152.0</td>\n      <td>2203ACB</td>\n      <td>2021-03-24 17:09:54.843000+00:00</td>\n      <td>0</td>\n      <td>reed_counter</td>\n      <td>0</td>\n      <td>63</td>\n      <td>...</td>\n      <td>NaN</td>\n      <td>NaN</td>\n      <td>NaN</td>\n      <td>NaN</td>\n      <td>NaN</td>\n      <td>NaN</td>\n      <td>NaN</td>\n      <td>NaN</td>\n      <td>NaN</td>\n      <td>NaN</td>\n    </tr>\n    <tr>\n      <th>364</th>\n      <td>605b6b38f4e46133dc9e40bf</td>\n      <td>1616603959</td>\n      <td>data_bidir</td>\n      <td>151.0</td>\n      <td>2203ACB</td>\n      <td>2021-03-24 16:39:20.359000+00:00</td>\n      <td>0</td>\n      <td>reed_counter</td>\n      <td>0</td>\n      <td>60</td>\n      <td>...</td>\n      <td>NaN</td>\n      <td>NaN</td>\n      <td>NaN</td>\n      <td>NaN</td>\n      <td>NaN</td>\n      <td>NaN</td>\n      <td>NaN</td>\n      <td>NaN</td>\n      <td>NaN</td>\n      <td>NaN</td>\n    </tr>\n    <tr>\n      <th>365</th>\n      <td>605b67ab7746444305bd79a8</td>\n      <td>1616603049</td>\n      <td>data_bidir</td>\n      <td>150.0</td>\n      <td>2203ACB</td>\n      <td>2021-03-24 16:24:11.052000+00:00</td>\n      <td>0</td>\n      <td>reed_counter</td>\n      <td>0</td>\n      <td>59</td>\n      <td>...</td>\n      <td>NaN</td>\n      <td>NaN</td>\n      <td>NaN</td>\n      <td>NaN</td>\n      <td>NaN</td>\n      <td>NaN</td>\n      <td>NaN</td>\n      <td>NaN</td>\n      <td>NaN</td>\n      <td>NaN</td>\n    </tr>\n    <tr>\n      <th>366</th>\n      <td>605b644df4e46133dc9dd3f5</td>\n      <td>1616602140</td>\n      <td>data_bidir</td>\n      <td>149.0</td>\n      <td>2203ACB</td>\n      <td>2021-03-24 16:09:49.988000+00:00</td>\n      <td>0</td>\n      <td>reed_counter</td>\n      <td>0</td>\n      <td>57</td>\n      <td>...</td>\n      <td>NaN</td>\n      <td>NaN</td>\n      <td>NaN</td>\n      <td>NaN</td>\n      <td>NaN</td>\n      <td>NaN</td>\n      <td>NaN</td>\n      <td>NaN</td>\n      <td>NaN</td>\n      <td>NaN</td>\n    </tr>\n  </tbody>\n</table>\n<p>2907 rows × 37 columns</p>\n</div>"
     },
     "metadata": {},
     "execution_count": 8
    }
   ],
   "source": [
    "message_data_combined[\"created\"] = pd.to_datetime(message_data_combined[\"created\"])\n",
    "message_data_combined"
   ]
  },
  {
   "cell_type": "code",
   "execution_count": 9,
   "metadata": {},
   "outputs": [],
   "source": [
    "message_data_combined['counter'] = pd.to_numeric(message_data_combined['counter'])"
   ]
  },
  {
   "source": [
    "### Only use sensors in reed counter mode"
   ],
   "cell_type": "markdown",
   "metadata": {}
  },
  {
   "cell_type": "code",
   "execution_count": 10,
   "metadata": {},
   "outputs": [
    {
     "output_type": "execute_result",
     "data": {
      "text/plain": [
       "                           _id   timestamp        type  seqNumber deviceId  \\\n",
       "1285  605b6426f4e46133dc9dd098  1616602127  data_bidir      564.0  1F25047   \n",
       "1284  605b645b7746444305bd442a  1616602195  data_bidir      565.0  1F25047   \n",
       "1283  605b646b7746444305bd4543  1616602212  data_bidir      566.0  1F25047   \n",
       "1282  605b64ac7746444305bd4a12  1616602281  data_bidir      567.0  1F25047   \n",
       "1281  605b66f87746444305bd6e2f  1616602864  data_bidir      568.0  1F25047   \n",
       "...                        ...         ...         ...        ...      ...   \n",
       "4     6077e8c34568aa5ea5214efc  1618471106  data_bidir      308.0  2203AFA   \n",
       "3     60785a5c8227aa5e856e3bc7  1618500185  data_bidir      309.0  2203AFA   \n",
       "2     60785a8f4568aa5ea53894ed  1618500238  data_bidir      310.0  2203AFA   \n",
       "1     6078cc0a8227aa5e8576d5b8  1618529289  data_bidir      311.0  2203AFA   \n",
       "0     60793e43100aad2989c9ebba  1618558529  data_bidir      312.0  2203AFA   \n",
       "\n",
       "                              created  __v                    action battery  \\\n",
       "1285 2021-03-24 16:09:10.882000+00:00    0                first_move       0   \n",
       "1284 2021-03-24 16:10:03.512000+00:00    0       orientation_changed       0   \n",
       "1283 2021-03-24 16:10:19.624000+00:00    0                first_move       0   \n",
       "1282 2021-03-24 16:11:24.607000+00:00    0       orientation_changed       0   \n",
       "1281 2021-03-24 16:21:12.376000+00:00    0  end_of_orientation_alarm       0   \n",
       "...                               ...  ...                       ...     ...   \n",
       "4    2021-04-15 07:18:27.529000+00:00    0               heartbeat_2       3   \n",
       "3    2021-04-15 15:23:08.274000+00:00    0               heartbeat_2     2.9   \n",
       "2    2021-04-15 15:23:59.505000+00:00    0               heartbeat_1     2.9   \n",
       "1    2021-04-15 23:28:10.650000+00:00    0               heartbeat_2     2.9   \n",
       "0    2021-04-16 07:35:31.154000+00:00    0               heartbeat_2       3   \n",
       "\n",
       "      counter  ... reed_on x_fin x_max x_min y_fin y_max y_min z_fin z_max  \\\n",
       "1285      NaN  ...     NaN     0     0     0     0     0     0     0     0   \n",
       "1284      NaN  ...     NaN    32    32    16   960   976   960    32    32   \n",
       "1283      NaN  ...     NaN     0     0     0     0     0     0     0     0   \n",
       "1282      NaN  ...     NaN   912   928   912   432   448   416    32    32   \n",
       "1281      NaN  ...     NaN     0     0     0     0     0     0     0     0   \n",
       "...       ...  ...     ...   ...   ...   ...   ...   ...   ...   ...   ...   \n",
       "4         NaN  ...     NaN   NaN   NaN   NaN   NaN   NaN   NaN   NaN   NaN   \n",
       "3         NaN  ...     NaN   NaN   NaN   NaN   NaN   NaN   NaN   NaN   NaN   \n",
       "2         NaN  ...     NaN   NaN   NaN   NaN   NaN   NaN   NaN   NaN   NaN   \n",
       "1         NaN  ...     NaN   NaN   NaN   NaN   NaN   NaN   NaN   NaN   NaN   \n",
       "0         NaN  ...     NaN   NaN   NaN   NaN   NaN   NaN   NaN   NaN   NaN   \n",
       "\n",
       "     z_min  \n",
       "1285     0  \n",
       "1284    16  \n",
       "1283     0  \n",
       "1282     0  \n",
       "1281     0  \n",
       "...    ...  \n",
       "4      NaN  \n",
       "3      NaN  \n",
       "2      NaN  \n",
       "1      NaN  \n",
       "0      NaN  \n",
       "\n",
       "[2907 rows x 37 columns]"
      ],
      "text/html": "<div>\n<style scoped>\n    .dataframe tbody tr th:only-of-type {\n        vertical-align: middle;\n    }\n\n    .dataframe tbody tr th {\n        vertical-align: top;\n    }\n\n    .dataframe thead th {\n        text-align: right;\n    }\n</style>\n<table border=\"1\" class=\"dataframe\">\n  <thead>\n    <tr style=\"text-align: right;\">\n      <th></th>\n      <th>_id</th>\n      <th>timestamp</th>\n      <th>type</th>\n      <th>seqNumber</th>\n      <th>deviceId</th>\n      <th>created</th>\n      <th>__v</th>\n      <th>action</th>\n      <th>battery</th>\n      <th>counter</th>\n      <th>...</th>\n      <th>reed_on</th>\n      <th>x_fin</th>\n      <th>x_max</th>\n      <th>x_min</th>\n      <th>y_fin</th>\n      <th>y_max</th>\n      <th>y_min</th>\n      <th>z_fin</th>\n      <th>z_max</th>\n      <th>z_min</th>\n    </tr>\n  </thead>\n  <tbody>\n    <tr>\n      <th>1285</th>\n      <td>605b6426f4e46133dc9dd098</td>\n      <td>1616602127</td>\n      <td>data_bidir</td>\n      <td>564.0</td>\n      <td>1F25047</td>\n      <td>2021-03-24 16:09:10.882000+00:00</td>\n      <td>0</td>\n      <td>first_move</td>\n      <td>0</td>\n      <td>NaN</td>\n      <td>...</td>\n      <td>NaN</td>\n      <td>0</td>\n      <td>0</td>\n      <td>0</td>\n      <td>0</td>\n      <td>0</td>\n      <td>0</td>\n      <td>0</td>\n      <td>0</td>\n      <td>0</td>\n    </tr>\n    <tr>\n      <th>1284</th>\n      <td>605b645b7746444305bd442a</td>\n      <td>1616602195</td>\n      <td>data_bidir</td>\n      <td>565.0</td>\n      <td>1F25047</td>\n      <td>2021-03-24 16:10:03.512000+00:00</td>\n      <td>0</td>\n      <td>orientation_changed</td>\n      <td>0</td>\n      <td>NaN</td>\n      <td>...</td>\n      <td>NaN</td>\n      <td>32</td>\n      <td>32</td>\n      <td>16</td>\n      <td>960</td>\n      <td>976</td>\n      <td>960</td>\n      <td>32</td>\n      <td>32</td>\n      <td>16</td>\n    </tr>\n    <tr>\n      <th>1283</th>\n      <td>605b646b7746444305bd4543</td>\n      <td>1616602212</td>\n      <td>data_bidir</td>\n      <td>566.0</td>\n      <td>1F25047</td>\n      <td>2021-03-24 16:10:19.624000+00:00</td>\n      <td>0</td>\n      <td>first_move</td>\n      <td>0</td>\n      <td>NaN</td>\n      <td>...</td>\n      <td>NaN</td>\n      <td>0</td>\n      <td>0</td>\n      <td>0</td>\n      <td>0</td>\n      <td>0</td>\n      <td>0</td>\n      <td>0</td>\n      <td>0</td>\n      <td>0</td>\n    </tr>\n    <tr>\n      <th>1282</th>\n      <td>605b64ac7746444305bd4a12</td>\n      <td>1616602281</td>\n      <td>data_bidir</td>\n      <td>567.0</td>\n      <td>1F25047</td>\n      <td>2021-03-24 16:11:24.607000+00:00</td>\n      <td>0</td>\n      <td>orientation_changed</td>\n      <td>0</td>\n      <td>NaN</td>\n      <td>...</td>\n      <td>NaN</td>\n      <td>912</td>\n      <td>928</td>\n      <td>912</td>\n      <td>432</td>\n      <td>448</td>\n      <td>416</td>\n      <td>32</td>\n      <td>32</td>\n      <td>0</td>\n    </tr>\n    <tr>\n      <th>1281</th>\n      <td>605b66f87746444305bd6e2f</td>\n      <td>1616602864</td>\n      <td>data_bidir</td>\n      <td>568.0</td>\n      <td>1F25047</td>\n      <td>2021-03-24 16:21:12.376000+00:00</td>\n      <td>0</td>\n      <td>end_of_orientation_alarm</td>\n      <td>0</td>\n      <td>NaN</td>\n      <td>...</td>\n      <td>NaN</td>\n      <td>0</td>\n      <td>0</td>\n      <td>0</td>\n      <td>0</td>\n      <td>0</td>\n      <td>0</td>\n      <td>0</td>\n      <td>0</td>\n      <td>0</td>\n    </tr>\n    <tr>\n      <th>...</th>\n      <td>...</td>\n      <td>...</td>\n      <td>...</td>\n      <td>...</td>\n      <td>...</td>\n      <td>...</td>\n      <td>...</td>\n      <td>...</td>\n      <td>...</td>\n      <td>...</td>\n      <td>...</td>\n      <td>...</td>\n      <td>...</td>\n      <td>...</td>\n      <td>...</td>\n      <td>...</td>\n      <td>...</td>\n      <td>...</td>\n      <td>...</td>\n      <td>...</td>\n      <td>...</td>\n    </tr>\n    <tr>\n      <th>4</th>\n      <td>6077e8c34568aa5ea5214efc</td>\n      <td>1618471106</td>\n      <td>data_bidir</td>\n      <td>308.0</td>\n      <td>2203AFA</td>\n      <td>2021-04-15 07:18:27.529000+00:00</td>\n      <td>0</td>\n      <td>heartbeat_2</td>\n      <td>3</td>\n      <td>NaN</td>\n      <td>...</td>\n      <td>NaN</td>\n      <td>NaN</td>\n      <td>NaN</td>\n      <td>NaN</td>\n      <td>NaN</td>\n      <td>NaN</td>\n      <td>NaN</td>\n      <td>NaN</td>\n      <td>NaN</td>\n      <td>NaN</td>\n    </tr>\n    <tr>\n      <th>3</th>\n      <td>60785a5c8227aa5e856e3bc7</td>\n      <td>1618500185</td>\n      <td>data_bidir</td>\n      <td>309.0</td>\n      <td>2203AFA</td>\n      <td>2021-04-15 15:23:08.274000+00:00</td>\n      <td>0</td>\n      <td>heartbeat_2</td>\n      <td>2.9</td>\n      <td>NaN</td>\n      <td>...</td>\n      <td>NaN</td>\n      <td>NaN</td>\n      <td>NaN</td>\n      <td>NaN</td>\n      <td>NaN</td>\n      <td>NaN</td>\n      <td>NaN</td>\n      <td>NaN</td>\n      <td>NaN</td>\n      <td>NaN</td>\n    </tr>\n    <tr>\n      <th>2</th>\n      <td>60785a8f4568aa5ea53894ed</td>\n      <td>1618500238</td>\n      <td>data_bidir</td>\n      <td>310.0</td>\n      <td>2203AFA</td>\n      <td>2021-04-15 15:23:59.505000+00:00</td>\n      <td>0</td>\n      <td>heartbeat_1</td>\n      <td>2.9</td>\n      <td>NaN</td>\n      <td>...</td>\n      <td>NaN</td>\n      <td>NaN</td>\n      <td>NaN</td>\n      <td>NaN</td>\n      <td>NaN</td>\n      <td>NaN</td>\n      <td>NaN</td>\n      <td>NaN</td>\n      <td>NaN</td>\n      <td>NaN</td>\n    </tr>\n    <tr>\n      <th>1</th>\n      <td>6078cc0a8227aa5e8576d5b8</td>\n      <td>1618529289</td>\n      <td>data_bidir</td>\n      <td>311.0</td>\n      <td>2203AFA</td>\n      <td>2021-04-15 23:28:10.650000+00:00</td>\n      <td>0</td>\n      <td>heartbeat_2</td>\n      <td>2.9</td>\n      <td>NaN</td>\n      <td>...</td>\n      <td>NaN</td>\n      <td>NaN</td>\n      <td>NaN</td>\n      <td>NaN</td>\n      <td>NaN</td>\n      <td>NaN</td>\n      <td>NaN</td>\n      <td>NaN</td>\n      <td>NaN</td>\n      <td>NaN</td>\n    </tr>\n    <tr>\n      <th>0</th>\n      <td>60793e43100aad2989c9ebba</td>\n      <td>1618558529</td>\n      <td>data_bidir</td>\n      <td>312.0</td>\n      <td>2203AFA</td>\n      <td>2021-04-16 07:35:31.154000+00:00</td>\n      <td>0</td>\n      <td>heartbeat_2</td>\n      <td>3</td>\n      <td>NaN</td>\n      <td>...</td>\n      <td>NaN</td>\n      <td>NaN</td>\n      <td>NaN</td>\n      <td>NaN</td>\n      <td>NaN</td>\n      <td>NaN</td>\n      <td>NaN</td>\n      <td>NaN</td>\n      <td>NaN</td>\n      <td>NaN</td>\n    </tr>\n  </tbody>\n</table>\n<p>2907 rows × 37 columns</p>\n</div>"
     },
     "metadata": {},
     "execution_count": 10
    }
   ],
   "source": [
    "# message_data_rc = message_data_combined[message_data_combined['action'] == 'reed_counter']\n",
    "message_data_combined.sort_values(by=['deviceId', 'created'], inplace=True)\n",
    "message_data_combined"
   ]
  },
  {
   "source": [
    "### Generate differential values from counter, fill 0 with old values"
   ],
   "cell_type": "markdown",
   "metadata": {}
  },
  {
   "cell_type": "code",
   "execution_count": 11,
   "metadata": {},
   "outputs": [
    {
     "output_type": "error",
     "ename": "SyntaxError",
     "evalue": "invalid syntax (<ipython-input-11-d7dee984d0c6>, line 1)",
     "traceback": [
      "\u001b[1;36m  File \u001b[1;32m\"<ipython-input-11-d7dee984d0c6>\"\u001b[1;36m, line \u001b[1;32m1\u001b[0m\n\u001b[1;33m    message_data_rc['counter_new'] = message_data_combined..loc['counter'].diff().shift(-1)\u001b[0m\n\u001b[1;37m                                                           ^\u001b[0m\n\u001b[1;31mSyntaxError\u001b[0m\u001b[1;31m:\u001b[0m invalid syntax\n"
     ]
    }
   ],
   "source": [
    "message_data_rc['counter_new'] = message_data_combined..loc['counter'].diff().shift(-1)\n",
    "\n",
    "for deviceId in message_data_rc['deviceId'].unique():\n",
    "    # replace nas with previous values\n",
    "    message_data_rc.loc[message_data_rc['deviceId'] == deviceid, 'counter'].fillna(method='ffill')  # replace(to_replace=0, method='ffill')\n",
    "    try:\n",
    "        # set first value of every sensor to 0, otherwise it will contain a negative value\n",
    "        message_data_rc.loc[message_data_rc['deviceId'] == deviceId, 'counter_new'][0] = 0\n",
    "    except:\n",
    "        pass\n",
    "\n",
    "\n",
    "print(message_data_rc['counter_new'].isna().sum())\n",
    "message_data_rc"
   ]
  },
  {
   "source": [
    "### Pivot counter column for each sensor"
   ],
   "cell_type": "markdown",
   "metadata": {}
  },
  {
   "cell_type": "code",
   "execution_count": 11,
   "metadata": {},
   "outputs": [
    {
     "output_type": "execute_result",
     "data": {
      "text/plain": [
       "                             created  counter_2203AAB  counter_2203ACB  \\\n",
       "0   2021-03-24 16:09:49.988000+00:00              NaN             57.0   \n",
       "1   2021-03-24 16:24:11.052000+00:00              NaN             59.0   \n",
       "2   2021-03-24 16:39:20.359000+00:00              NaN             60.0   \n",
       "3   2021-03-24 17:09:54.843000+00:00              NaN             63.0   \n",
       "4   2021-03-24 17:35:00.665000+00:00              NaN             64.0   \n",
       "..                               ...              ...              ...   \n",
       "970 2021-04-16 12:08:17.263000+00:00            919.0              NaN   \n",
       "971 2021-04-16 12:09:10.050000+00:00              NaN            375.0   \n",
       "972 2021-04-16 12:10:20.803000+00:00            920.0              NaN   \n",
       "973 2021-04-16 12:31:50.784000+00:00            921.0              NaN   \n",
       "974 2021-04-16 12:32:54.405000+00:00            922.0              NaN   \n",
       "\n",
       "     counter_2203AF9  counter_new_2203AAB  counter_new_2203ACB  \\\n",
       "0                NaN                  NaN                  2.0   \n",
       "1                NaN                  NaN                  1.0   \n",
       "2                NaN                  NaN                  3.0   \n",
       "3                NaN                  NaN                  1.0   \n",
       "4                NaN                  NaN                  1.0   \n",
       "..               ...                  ...                  ...   \n",
       "970              NaN                  1.0                  NaN   \n",
       "971              NaN                  NaN               -373.0   \n",
       "972              NaN                  1.0                  NaN   \n",
       "973              NaN                  1.0                  NaN   \n",
       "974              NaN               -865.0                  NaN   \n",
       "\n",
       "     counter_new_2203AF9  \n",
       "0                    NaN  \n",
       "1                    NaN  \n",
       "2                    NaN  \n",
       "3                    NaN  \n",
       "4                    NaN  \n",
       "..                   ...  \n",
       "970                  NaN  \n",
       "971                  NaN  \n",
       "972                  NaN  \n",
       "973                  NaN  \n",
       "974                  NaN  \n",
       "\n",
       "[975 rows x 7 columns]"
      ],
      "text/html": "<div>\n<style scoped>\n    .dataframe tbody tr th:only-of-type {\n        vertical-align: middle;\n    }\n\n    .dataframe tbody tr th {\n        vertical-align: top;\n    }\n\n    .dataframe thead th {\n        text-align: right;\n    }\n</style>\n<table border=\"1\" class=\"dataframe\">\n  <thead>\n    <tr style=\"text-align: right;\">\n      <th></th>\n      <th>created</th>\n      <th>counter_2203AAB</th>\n      <th>counter_2203ACB</th>\n      <th>counter_2203AF9</th>\n      <th>counter_new_2203AAB</th>\n      <th>counter_new_2203ACB</th>\n      <th>counter_new_2203AF9</th>\n    </tr>\n  </thead>\n  <tbody>\n    <tr>\n      <th>0</th>\n      <td>2021-03-24 16:09:49.988000+00:00</td>\n      <td>NaN</td>\n      <td>57.0</td>\n      <td>NaN</td>\n      <td>NaN</td>\n      <td>2.0</td>\n      <td>NaN</td>\n    </tr>\n    <tr>\n      <th>1</th>\n      <td>2021-03-24 16:24:11.052000+00:00</td>\n      <td>NaN</td>\n      <td>59.0</td>\n      <td>NaN</td>\n      <td>NaN</td>\n      <td>1.0</td>\n      <td>NaN</td>\n    </tr>\n    <tr>\n      <th>2</th>\n      <td>2021-03-24 16:39:20.359000+00:00</td>\n      <td>NaN</td>\n      <td>60.0</td>\n      <td>NaN</td>\n      <td>NaN</td>\n      <td>3.0</td>\n      <td>NaN</td>\n    </tr>\n    <tr>\n      <th>3</th>\n      <td>2021-03-24 17:09:54.843000+00:00</td>\n      <td>NaN</td>\n      <td>63.0</td>\n      <td>NaN</td>\n      <td>NaN</td>\n      <td>1.0</td>\n      <td>NaN</td>\n    </tr>\n    <tr>\n      <th>4</th>\n      <td>2021-03-24 17:35:00.665000+00:00</td>\n      <td>NaN</td>\n      <td>64.0</td>\n      <td>NaN</td>\n      <td>NaN</td>\n      <td>1.0</td>\n      <td>NaN</td>\n    </tr>\n    <tr>\n      <th>...</th>\n      <td>...</td>\n      <td>...</td>\n      <td>...</td>\n      <td>...</td>\n      <td>...</td>\n      <td>...</td>\n      <td>...</td>\n    </tr>\n    <tr>\n      <th>970</th>\n      <td>2021-04-16 12:08:17.263000+00:00</td>\n      <td>919.0</td>\n      <td>NaN</td>\n      <td>NaN</td>\n      <td>1.0</td>\n      <td>NaN</td>\n      <td>NaN</td>\n    </tr>\n    <tr>\n      <th>971</th>\n      <td>2021-04-16 12:09:10.050000+00:00</td>\n      <td>NaN</td>\n      <td>375.0</td>\n      <td>NaN</td>\n      <td>NaN</td>\n      <td>-373.0</td>\n      <td>NaN</td>\n    </tr>\n    <tr>\n      <th>972</th>\n      <td>2021-04-16 12:10:20.803000+00:00</td>\n      <td>920.0</td>\n      <td>NaN</td>\n      <td>NaN</td>\n      <td>1.0</td>\n      <td>NaN</td>\n      <td>NaN</td>\n    </tr>\n    <tr>\n      <th>973</th>\n      <td>2021-04-16 12:31:50.784000+00:00</td>\n      <td>921.0</td>\n      <td>NaN</td>\n      <td>NaN</td>\n      <td>1.0</td>\n      <td>NaN</td>\n      <td>NaN</td>\n    </tr>\n    <tr>\n      <th>974</th>\n      <td>2021-04-16 12:32:54.405000+00:00</td>\n      <td>922.0</td>\n      <td>NaN</td>\n      <td>NaN</td>\n      <td>-865.0</td>\n      <td>NaN</td>\n      <td>NaN</td>\n    </tr>\n  </tbody>\n</table>\n<p>975 rows × 7 columns</p>\n</div>"
     },
     "metadata": {},
     "execution_count": 11
    }
   ],
   "source": [
    "message_data_counters = message_data_rc.pivot(index=['created'], columns='deviceId', values='counter').reset_index().add_prefix('counter_')\n",
    "message_data_counters.rename(columns={'counter_created':'created', 'counter_deviceId':'deviceId'}, inplace = True)\n",
    "message_data_counters_new = message_data_rc.pivot(index=['created'], columns='deviceId', values='counter_new').reset_index().add_prefix('counter_new_')\n",
    "message_data_counters_new.rename(columns={'counter_new_created':'created'}, inplace = True)\n",
    "# merge with counter new columns\n",
    "message_data_counters = pd.merge(message_data_counters, message_data_counters_new, how='outer', on=['created'])\n",
    "message_data_counters.columns.name = None\n",
    "\n",
    "message_data_counters"
   ]
  },
  {
   "source": [
    "## Visualize commulative data"
   ],
   "cell_type": "markdown",
   "metadata": {}
  },
  {
   "cell_type": "code",
   "execution_count": 20,
   "metadata": {},
   "outputs": [
    {
     "output_type": "execute_result",
     "data": {
      "text/plain": [
       "<AxesSubplot:xlabel='created'>"
      ]
     },
     "metadata": {},
     "execution_count": 20
    },
    {
     "output_type": "display_data",
     "data": {
      "text/plain": "<Figure size 1584x720 with 1 Axes>",
      "image/svg+xml": "<?xml version=\"1.0\" encoding=\"utf-8\" standalone=\"no\"?>\r\n<!DOCTYPE svg PUBLIC \"-//W3C//DTD SVG 1.1//EN\"\r\n  \"http://www.w3.org/Graphics/SVG/1.1/DTD/svg11.dtd\">\r\n<svg height=\"562.11744pt\" version=\"1.1\" viewBox=\"0 0 1268.0875 562.11744\" width=\"1268.0875pt\" xmlns=\"http://www.w3.org/2000/svg\" xmlns:xlink=\"http://www.w3.org/1999/xlink\">\r\n <metadata>\r\n  <rdf:RDF xmlns:cc=\"http://creativecommons.org/ns#\" xmlns:dc=\"http://purl.org/dc/elements/1.1/\" xmlns:rdf=\"http://www.w3.org/1999/02/22-rdf-syntax-ns#\">\r\n   <cc:Work>\r\n    <dc:type rdf:resource=\"http://purl.org/dc/dcmitype/StillImage\"/>\r\n    <dc:date>2021-04-16T15:10:45.508410</dc:date>\r\n    <dc:format>image/svg+xml</dc:format>\r\n    <dc:creator>\r\n     <cc:Agent>\r\n      <dc:title>Matplotlib v3.4.1, https://matplotlib.org/</dc:title>\r\n     </cc:Agent>\r\n    </dc:creator>\r\n   </cc:Work>\r\n  </rdf:RDF>\r\n </metadata>\r\n <defs>\r\n  <style type=\"text/css\">*{stroke-linecap:butt;stroke-linejoin:round;}</style>\r\n </defs>\r\n <g id=\"figure_1\">\r\n  <g id=\"patch_1\">\r\n   <path d=\"M 0 562.11744 \r\nL 1268.0875 562.11744 \r\nL 1268.0875 0 \r\nL 0 0 \r\nz\r\n\" style=\"fill:none;\"/>\r\n  </g>\r\n  <g id=\"axes_1\">\r\n   <g id=\"patch_2\">\r\n    <path d=\"M 33.2875 496.8 \r\nL 1260.8875 496.8 \r\nL 1260.8875 7.2 \r\nL 33.2875 7.2 \r\nz\r\n\" style=\"fill:#ffffff;\"/>\r\n   </g>\r\n   <g id=\"matplotlib.axis_1\">\r\n    <g id=\"xtick_1\">\r\n     <g id=\"line2d_1\">\r\n      <defs>\r\n       <path d=\"M 0 0 \r\nL 0 3.5 \r\n\" id=\"m4431f7495f\" style=\"stroke:#000000;stroke-width:0.8;\"/>\r\n      </defs>\r\n      <g>\r\n       <use style=\"stroke:#000000;stroke-width:0.8;\" x=\"105.034528\" xlink:href=\"#m4431f7495f\" y=\"496.8\"/>\r\n      </g>\r\n     </g>\r\n     <g id=\"text_1\">\r\n      <!-- 2021-03-25 -->\r\n      <g transform=\"translate(53.665076 539.438252)rotate(-30)scale(0.1 -0.1)\">\r\n       <defs>\r\n        <path d=\"M 1228 531 \r\nL 3431 531 \r\nL 3431 0 \r\nL 469 0 \r\nL 469 531 \r\nQ 828 903 1448 1529 \r\nQ 2069 2156 2228 2338 \r\nQ 2531 2678 2651 2914 \r\nQ 2772 3150 2772 3378 \r\nQ 2772 3750 2511 3984 \r\nQ 2250 4219 1831 4219 \r\nQ 1534 4219 1204 4116 \r\nQ 875 4013 500 3803 \r\nL 500 4441 \r\nQ 881 4594 1212 4672 \r\nQ 1544 4750 1819 4750 \r\nQ 2544 4750 2975 4387 \r\nQ 3406 4025 3406 3419 \r\nQ 3406 3131 3298 2873 \r\nQ 3191 2616 2906 2266 \r\nQ 2828 2175 2409 1742 \r\nQ 1991 1309 1228 531 \r\nz\r\n\" id=\"DejaVuSans-32\" transform=\"scale(0.015625)\"/>\r\n        <path d=\"M 2034 4250 \r\nQ 1547 4250 1301 3770 \r\nQ 1056 3291 1056 2328 \r\nQ 1056 1369 1301 889 \r\nQ 1547 409 2034 409 \r\nQ 2525 409 2770 889 \r\nQ 3016 1369 3016 2328 \r\nQ 3016 3291 2770 3770 \r\nQ 2525 4250 2034 4250 \r\nz\r\nM 2034 4750 \r\nQ 2819 4750 3233 4129 \r\nQ 3647 3509 3647 2328 \r\nQ 3647 1150 3233 529 \r\nQ 2819 -91 2034 -91 \r\nQ 1250 -91 836 529 \r\nQ 422 1150 422 2328 \r\nQ 422 3509 836 4129 \r\nQ 1250 4750 2034 4750 \r\nz\r\n\" id=\"DejaVuSans-30\" transform=\"scale(0.015625)\"/>\r\n        <path d=\"M 794 531 \r\nL 1825 531 \r\nL 1825 4091 \r\nL 703 3866 \r\nL 703 4441 \r\nL 1819 4666 \r\nL 2450 4666 \r\nL 2450 531 \r\nL 3481 531 \r\nL 3481 0 \r\nL 794 0 \r\nL 794 531 \r\nz\r\n\" id=\"DejaVuSans-31\" transform=\"scale(0.015625)\"/>\r\n        <path d=\"M 313 2009 \r\nL 1997 2009 \r\nL 1997 1497 \r\nL 313 1497 \r\nL 313 2009 \r\nz\r\n\" id=\"DejaVuSans-2d\" transform=\"scale(0.015625)\"/>\r\n        <path d=\"M 2597 2516 \r\nQ 3050 2419 3304 2112 \r\nQ 3559 1806 3559 1356 \r\nQ 3559 666 3084 287 \r\nQ 2609 -91 1734 -91 \r\nQ 1441 -91 1130 -33 \r\nQ 819 25 488 141 \r\nL 488 750 \r\nQ 750 597 1062 519 \r\nQ 1375 441 1716 441 \r\nQ 2309 441 2620 675 \r\nQ 2931 909 2931 1356 \r\nQ 2931 1769 2642 2001 \r\nQ 2353 2234 1838 2234 \r\nL 1294 2234 \r\nL 1294 2753 \r\nL 1863 2753 \r\nQ 2328 2753 2575 2939 \r\nQ 2822 3125 2822 3475 \r\nQ 2822 3834 2567 4026 \r\nQ 2313 4219 1838 4219 \r\nQ 1578 4219 1281 4162 \r\nQ 984 4106 628 3988 \r\nL 628 4550 \r\nQ 988 4650 1302 4700 \r\nQ 1616 4750 1894 4750 \r\nQ 2613 4750 3031 4423 \r\nQ 3450 4097 3450 3541 \r\nQ 3450 3153 3228 2886 \r\nQ 3006 2619 2597 2516 \r\nz\r\n\" id=\"DejaVuSans-33\" transform=\"scale(0.015625)\"/>\r\n        <path d=\"M 691 4666 \r\nL 3169 4666 \r\nL 3169 4134 \r\nL 1269 4134 \r\nL 1269 2991 \r\nQ 1406 3038 1543 3061 \r\nQ 1681 3084 1819 3084 \r\nQ 2600 3084 3056 2656 \r\nQ 3513 2228 3513 1497 \r\nQ 3513 744 3044 326 \r\nQ 2575 -91 1722 -91 \r\nQ 1428 -91 1123 -41 \r\nQ 819 9 494 109 \r\nL 494 744 \r\nQ 775 591 1075 516 \r\nQ 1375 441 1709 441 \r\nQ 2250 441 2565 725 \r\nQ 2881 1009 2881 1497 \r\nQ 2881 1984 2565 2268 \r\nQ 2250 2553 1709 2553 \r\nQ 1456 2553 1204 2497 \r\nQ 953 2441 691 2322 \r\nL 691 4666 \r\nz\r\n\" id=\"DejaVuSans-35\" transform=\"scale(0.015625)\"/>\r\n       </defs>\r\n       <use xlink:href=\"#DejaVuSans-32\"/>\r\n       <use x=\"63.623047\" xlink:href=\"#DejaVuSans-30\"/>\r\n       <use x=\"127.246094\" xlink:href=\"#DejaVuSans-32\"/>\r\n       <use x=\"190.869141\" xlink:href=\"#DejaVuSans-31\"/>\r\n       <use x=\"254.492188\" xlink:href=\"#DejaVuSans-2d\"/>\r\n       <use x=\"290.576172\" xlink:href=\"#DejaVuSans-30\"/>\r\n       <use x=\"354.199219\" xlink:href=\"#DejaVuSans-33\"/>\r\n       <use x=\"417.822266\" xlink:href=\"#DejaVuSans-2d\"/>\r\n       <use x=\"453.90625\" xlink:href=\"#DejaVuSans-32\"/>\r\n       <use x=\"517.529297\" xlink:href=\"#DejaVuSans-35\"/>\r\n      </g>\r\n     </g>\r\n    </g>\r\n    <g id=\"xtick_2\">\r\n     <g id=\"line2d_2\">\r\n      <g>\r\n       <use style=\"stroke:#000000;stroke-width:0.8;\" x=\"300.401078\" xlink:href=\"#m4431f7495f\" y=\"496.8\"/>\r\n      </g>\r\n     </g>\r\n     <g id=\"text_2\">\r\n      <!-- 2021-03-29 -->\r\n      <g transform=\"translate(249.031627 539.438252)rotate(-30)scale(0.1 -0.1)\">\r\n       <defs>\r\n        <path d=\"M 703 97 \r\nL 703 672 \r\nQ 941 559 1184 500 \r\nQ 1428 441 1663 441 \r\nQ 2288 441 2617 861 \r\nQ 2947 1281 2994 2138 \r\nQ 2813 1869 2534 1725 \r\nQ 2256 1581 1919 1581 \r\nQ 1219 1581 811 2004 \r\nQ 403 2428 403 3163 \r\nQ 403 3881 828 4315 \r\nQ 1253 4750 1959 4750 \r\nQ 2769 4750 3195 4129 \r\nQ 3622 3509 3622 2328 \r\nQ 3622 1225 3098 567 \r\nQ 2575 -91 1691 -91 \r\nQ 1453 -91 1209 -44 \r\nQ 966 3 703 97 \r\nz\r\nM 1959 2075 \r\nQ 2384 2075 2632 2365 \r\nQ 2881 2656 2881 3163 \r\nQ 2881 3666 2632 3958 \r\nQ 2384 4250 1959 4250 \r\nQ 1534 4250 1286 3958 \r\nQ 1038 3666 1038 3163 \r\nQ 1038 2656 1286 2365 \r\nQ 1534 2075 1959 2075 \r\nz\r\n\" id=\"DejaVuSans-39\" transform=\"scale(0.015625)\"/>\r\n       </defs>\r\n       <use xlink:href=\"#DejaVuSans-32\"/>\r\n       <use x=\"63.623047\" xlink:href=\"#DejaVuSans-30\"/>\r\n       <use x=\"127.246094\" xlink:href=\"#DejaVuSans-32\"/>\r\n       <use x=\"190.869141\" xlink:href=\"#DejaVuSans-31\"/>\r\n       <use x=\"254.492188\" xlink:href=\"#DejaVuSans-2d\"/>\r\n       <use x=\"290.576172\" xlink:href=\"#DejaVuSans-30\"/>\r\n       <use x=\"354.199219\" xlink:href=\"#DejaVuSans-33\"/>\r\n       <use x=\"417.822266\" xlink:href=\"#DejaVuSans-2d\"/>\r\n       <use x=\"453.90625\" xlink:href=\"#DejaVuSans-32\"/>\r\n       <use x=\"517.529297\" xlink:href=\"#DejaVuSans-39\"/>\r\n      </g>\r\n     </g>\r\n    </g>\r\n    <g id=\"xtick_3\">\r\n     <g id=\"line2d_3\">\r\n      <g>\r\n       <use style=\"stroke:#000000;stroke-width:0.8;\" x=\"446.925991\" xlink:href=\"#m4431f7495f\" y=\"496.8\"/>\r\n      </g>\r\n     </g>\r\n     <g id=\"text_3\">\r\n      <!-- 2021-04-01 -->\r\n      <g transform=\"translate(395.55654 539.438252)rotate(-30)scale(0.1 -0.1)\">\r\n       <defs>\r\n        <path d=\"M 2419 4116 \r\nL 825 1625 \r\nL 2419 1625 \r\nL 2419 4116 \r\nz\r\nM 2253 4666 \r\nL 3047 4666 \r\nL 3047 1625 \r\nL 3713 1625 \r\nL 3713 1100 \r\nL 3047 1100 \r\nL 3047 0 \r\nL 2419 0 \r\nL 2419 1100 \r\nL 313 1100 \r\nL 313 1709 \r\nL 2253 4666 \r\nz\r\n\" id=\"DejaVuSans-34\" transform=\"scale(0.015625)\"/>\r\n       </defs>\r\n       <use xlink:href=\"#DejaVuSans-32\"/>\r\n       <use x=\"63.623047\" xlink:href=\"#DejaVuSans-30\"/>\r\n       <use x=\"127.246094\" xlink:href=\"#DejaVuSans-32\"/>\r\n       <use x=\"190.869141\" xlink:href=\"#DejaVuSans-31\"/>\r\n       <use x=\"254.492188\" xlink:href=\"#DejaVuSans-2d\"/>\r\n       <use x=\"290.576172\" xlink:href=\"#DejaVuSans-30\"/>\r\n       <use x=\"354.199219\" xlink:href=\"#DejaVuSans-34\"/>\r\n       <use x=\"417.822266\" xlink:href=\"#DejaVuSans-2d\"/>\r\n       <use x=\"453.90625\" xlink:href=\"#DejaVuSans-30\"/>\r\n       <use x=\"517.529297\" xlink:href=\"#DejaVuSans-31\"/>\r\n      </g>\r\n     </g>\r\n    </g>\r\n    <g id=\"xtick_4\">\r\n     <g id=\"line2d_4\">\r\n      <g>\r\n       <use style=\"stroke:#000000;stroke-width:0.8;\" x=\"642.292542\" xlink:href=\"#m4431f7495f\" y=\"496.8\"/>\r\n      </g>\r\n     </g>\r\n     <g id=\"text_4\">\r\n      <!-- 2021-04-05 -->\r\n      <g transform=\"translate(590.923091 539.438252)rotate(-30)scale(0.1 -0.1)\">\r\n       <use xlink:href=\"#DejaVuSans-32\"/>\r\n       <use x=\"63.623047\" xlink:href=\"#DejaVuSans-30\"/>\r\n       <use x=\"127.246094\" xlink:href=\"#DejaVuSans-32\"/>\r\n       <use x=\"190.869141\" xlink:href=\"#DejaVuSans-31\"/>\r\n       <use x=\"254.492188\" xlink:href=\"#DejaVuSans-2d\"/>\r\n       <use x=\"290.576172\" xlink:href=\"#DejaVuSans-30\"/>\r\n       <use x=\"354.199219\" xlink:href=\"#DejaVuSans-34\"/>\r\n       <use x=\"417.822266\" xlink:href=\"#DejaVuSans-2d\"/>\r\n       <use x=\"453.90625\" xlink:href=\"#DejaVuSans-30\"/>\r\n       <use x=\"517.529297\" xlink:href=\"#DejaVuSans-35\"/>\r\n      </g>\r\n     </g>\r\n    </g>\r\n    <g id=\"xtick_5\">\r\n     <g id=\"line2d_5\">\r\n      <g>\r\n       <use style=\"stroke:#000000;stroke-width:0.8;\" x=\"837.659093\" xlink:href=\"#m4431f7495f\" y=\"496.8\"/>\r\n      </g>\r\n     </g>\r\n     <g id=\"text_5\">\r\n      <!-- 2021-04-09 -->\r\n      <g transform=\"translate(786.289641 539.438252)rotate(-30)scale(0.1 -0.1)\">\r\n       <use xlink:href=\"#DejaVuSans-32\"/>\r\n       <use x=\"63.623047\" xlink:href=\"#DejaVuSans-30\"/>\r\n       <use x=\"127.246094\" xlink:href=\"#DejaVuSans-32\"/>\r\n       <use x=\"190.869141\" xlink:href=\"#DejaVuSans-31\"/>\r\n       <use x=\"254.492188\" xlink:href=\"#DejaVuSans-2d\"/>\r\n       <use x=\"290.576172\" xlink:href=\"#DejaVuSans-30\"/>\r\n       <use x=\"354.199219\" xlink:href=\"#DejaVuSans-34\"/>\r\n       <use x=\"417.822266\" xlink:href=\"#DejaVuSans-2d\"/>\r\n       <use x=\"453.90625\" xlink:href=\"#DejaVuSans-30\"/>\r\n       <use x=\"517.529297\" xlink:href=\"#DejaVuSans-39\"/>\r\n      </g>\r\n     </g>\r\n    </g>\r\n    <g id=\"xtick_6\">\r\n     <g id=\"line2d_6\">\r\n      <g>\r\n       <use style=\"stroke:#000000;stroke-width:0.8;\" x=\"1033.025643\" xlink:href=\"#m4431f7495f\" y=\"496.8\"/>\r\n      </g>\r\n     </g>\r\n     <g id=\"text_6\">\r\n      <!-- 2021-04-13 -->\r\n      <g transform=\"translate(981.656192 539.438252)rotate(-30)scale(0.1 -0.1)\">\r\n       <use xlink:href=\"#DejaVuSans-32\"/>\r\n       <use x=\"63.623047\" xlink:href=\"#DejaVuSans-30\"/>\r\n       <use x=\"127.246094\" xlink:href=\"#DejaVuSans-32\"/>\r\n       <use x=\"190.869141\" xlink:href=\"#DejaVuSans-31\"/>\r\n       <use x=\"254.492188\" xlink:href=\"#DejaVuSans-2d\"/>\r\n       <use x=\"290.576172\" xlink:href=\"#DejaVuSans-30\"/>\r\n       <use x=\"354.199219\" xlink:href=\"#DejaVuSans-34\"/>\r\n       <use x=\"417.822266\" xlink:href=\"#DejaVuSans-2d\"/>\r\n       <use x=\"453.90625\" xlink:href=\"#DejaVuSans-31\"/>\r\n       <use x=\"517.529297\" xlink:href=\"#DejaVuSans-33\"/>\r\n      </g>\r\n     </g>\r\n    </g>\r\n    <g id=\"xtick_7\">\r\n     <g id=\"line2d_7\">\r\n      <g>\r\n       <use style=\"stroke:#000000;stroke-width:0.8;\" x=\"1228.392194\" xlink:href=\"#m4431f7495f\" y=\"496.8\"/>\r\n      </g>\r\n     </g>\r\n     <g id=\"text_7\">\r\n      <!-- 2021-04-17 -->\r\n      <g transform=\"translate(1177.022743 539.438252)rotate(-30)scale(0.1 -0.1)\">\r\n       <defs>\r\n        <path d=\"M 525 4666 \r\nL 3525 4666 \r\nL 3525 4397 \r\nL 1831 0 \r\nL 1172 0 \r\nL 2766 4134 \r\nL 525 4134 \r\nL 525 4666 \r\nz\r\n\" id=\"DejaVuSans-37\" transform=\"scale(0.015625)\"/>\r\n       </defs>\r\n       <use xlink:href=\"#DejaVuSans-32\"/>\r\n       <use x=\"63.623047\" xlink:href=\"#DejaVuSans-30\"/>\r\n       <use x=\"127.246094\" xlink:href=\"#DejaVuSans-32\"/>\r\n       <use x=\"190.869141\" xlink:href=\"#DejaVuSans-31\"/>\r\n       <use x=\"254.492188\" xlink:href=\"#DejaVuSans-2d\"/>\r\n       <use x=\"290.576172\" xlink:href=\"#DejaVuSans-30\"/>\r\n       <use x=\"354.199219\" xlink:href=\"#DejaVuSans-34\"/>\r\n       <use x=\"417.822266\" xlink:href=\"#DejaVuSans-2d\"/>\r\n       <use x=\"453.90625\" xlink:href=\"#DejaVuSans-31\"/>\r\n       <use x=\"517.529297\" xlink:href=\"#DejaVuSans-37\"/>\r\n      </g>\r\n     </g>\r\n    </g>\r\n    <g id=\"text_8\">\r\n     <!-- created -->\r\n     <g transform=\"translate(628.04375 552.837752)scale(0.1 -0.1)\">\r\n      <defs>\r\n       <path d=\"M 3122 3366 \r\nL 3122 2828 \r\nQ 2878 2963 2633 3030 \r\nQ 2388 3097 2138 3097 \r\nQ 1578 3097 1268 2742 \r\nQ 959 2388 959 1747 \r\nQ 959 1106 1268 751 \r\nQ 1578 397 2138 397 \r\nQ 2388 397 2633 464 \r\nQ 2878 531 3122 666 \r\nL 3122 134 \r\nQ 2881 22 2623 -34 \r\nQ 2366 -91 2075 -91 \r\nQ 1284 -91 818 406 \r\nQ 353 903 353 1747 \r\nQ 353 2603 823 3093 \r\nQ 1294 3584 2113 3584 \r\nQ 2378 3584 2631 3529 \r\nQ 2884 3475 3122 3366 \r\nz\r\n\" id=\"DejaVuSans-63\" transform=\"scale(0.015625)\"/>\r\n       <path d=\"M 2631 2963 \r\nQ 2534 3019 2420 3045 \r\nQ 2306 3072 2169 3072 \r\nQ 1681 3072 1420 2755 \r\nQ 1159 2438 1159 1844 \r\nL 1159 0 \r\nL 581 0 \r\nL 581 3500 \r\nL 1159 3500 \r\nL 1159 2956 \r\nQ 1341 3275 1631 3429 \r\nQ 1922 3584 2338 3584 \r\nQ 2397 3584 2469 3576 \r\nQ 2541 3569 2628 3553 \r\nL 2631 2963 \r\nz\r\n\" id=\"DejaVuSans-72\" transform=\"scale(0.015625)\"/>\r\n       <path d=\"M 3597 1894 \r\nL 3597 1613 \r\nL 953 1613 \r\nQ 991 1019 1311 708 \r\nQ 1631 397 2203 397 \r\nQ 2534 397 2845 478 \r\nQ 3156 559 3463 722 \r\nL 3463 178 \r\nQ 3153 47 2828 -22 \r\nQ 2503 -91 2169 -91 \r\nQ 1331 -91 842 396 \r\nQ 353 884 353 1716 \r\nQ 353 2575 817 3079 \r\nQ 1281 3584 2069 3584 \r\nQ 2775 3584 3186 3129 \r\nQ 3597 2675 3597 1894 \r\nz\r\nM 3022 2063 \r\nQ 3016 2534 2758 2815 \r\nQ 2500 3097 2075 3097 \r\nQ 1594 3097 1305 2825 \r\nQ 1016 2553 972 2059 \r\nL 3022 2063 \r\nz\r\n\" id=\"DejaVuSans-65\" transform=\"scale(0.015625)\"/>\r\n       <path d=\"M 2194 1759 \r\nQ 1497 1759 1228 1600 \r\nQ 959 1441 959 1056 \r\nQ 959 750 1161 570 \r\nQ 1363 391 1709 391 \r\nQ 2188 391 2477 730 \r\nQ 2766 1069 2766 1631 \r\nL 2766 1759 \r\nL 2194 1759 \r\nz\r\nM 3341 1997 \r\nL 3341 0 \r\nL 2766 0 \r\nL 2766 531 \r\nQ 2569 213 2275 61 \r\nQ 1981 -91 1556 -91 \r\nQ 1019 -91 701 211 \r\nQ 384 513 384 1019 \r\nQ 384 1609 779 1909 \r\nQ 1175 2209 1959 2209 \r\nL 2766 2209 \r\nL 2766 2266 \r\nQ 2766 2663 2505 2880 \r\nQ 2244 3097 1772 3097 \r\nQ 1472 3097 1187 3025 \r\nQ 903 2953 641 2809 \r\nL 641 3341 \r\nQ 956 3463 1253 3523 \r\nQ 1550 3584 1831 3584 \r\nQ 2591 3584 2966 3190 \r\nQ 3341 2797 3341 1997 \r\nz\r\n\" id=\"DejaVuSans-61\" transform=\"scale(0.015625)\"/>\r\n       <path d=\"M 1172 4494 \r\nL 1172 3500 \r\nL 2356 3500 \r\nL 2356 3053 \r\nL 1172 3053 \r\nL 1172 1153 \r\nQ 1172 725 1289 603 \r\nQ 1406 481 1766 481 \r\nL 2356 481 \r\nL 2356 0 \r\nL 1766 0 \r\nQ 1100 0 847 248 \r\nQ 594 497 594 1153 \r\nL 594 3053 \r\nL 172 3053 \r\nL 172 3500 \r\nL 594 3500 \r\nL 594 4494 \r\nL 1172 4494 \r\nz\r\n\" id=\"DejaVuSans-74\" transform=\"scale(0.015625)\"/>\r\n       <path d=\"M 2906 2969 \r\nL 2906 4863 \r\nL 3481 4863 \r\nL 3481 0 \r\nL 2906 0 \r\nL 2906 525 \r\nQ 2725 213 2448 61 \r\nQ 2172 -91 1784 -91 \r\nQ 1150 -91 751 415 \r\nQ 353 922 353 1747 \r\nQ 353 2572 751 3078 \r\nQ 1150 3584 1784 3584 \r\nQ 2172 3584 2448 3432 \r\nQ 2725 3281 2906 2969 \r\nz\r\nM 947 1747 \r\nQ 947 1113 1208 752 \r\nQ 1469 391 1925 391 \r\nQ 2381 391 2643 752 \r\nQ 2906 1113 2906 1747 \r\nQ 2906 2381 2643 2742 \r\nQ 2381 3103 1925 3103 \r\nQ 1469 3103 1208 2742 \r\nQ 947 2381 947 1747 \r\nz\r\n\" id=\"DejaVuSans-64\" transform=\"scale(0.015625)\"/>\r\n      </defs>\r\n      <use xlink:href=\"#DejaVuSans-63\"/>\r\n      <use x=\"54.980469\" xlink:href=\"#DejaVuSans-72\"/>\r\n      <use x=\"93.84375\" xlink:href=\"#DejaVuSans-65\"/>\r\n      <use x=\"155.367188\" xlink:href=\"#DejaVuSans-61\"/>\r\n      <use x=\"216.646484\" xlink:href=\"#DejaVuSans-74\"/>\r\n      <use x=\"255.855469\" xlink:href=\"#DejaVuSans-65\"/>\r\n      <use x=\"317.378906\" xlink:href=\"#DejaVuSans-64\"/>\r\n     </g>\r\n    </g>\r\n   </g>\r\n   <g id=\"matplotlib.axis_2\">\r\n    <g id=\"ytick_1\">\r\n     <g id=\"line2d_8\">\r\n      <defs>\r\n       <path d=\"M 0 0 \r\nL -3.5 0 \r\n\" id=\"me3b911cb27\" style=\"stroke:#000000;stroke-width:0.8;\"/>\r\n      </defs>\r\n      <g>\r\n       <use style=\"stroke:#000000;stroke-width:0.8;\" x=\"33.2875\" xlink:href=\"#me3b911cb27\" y=\"475.513043\"/>\r\n      </g>\r\n     </g>\r\n     <g id=\"text_9\">\r\n      <!-- 0 -->\r\n      <g transform=\"translate(19.925 479.312262)scale(0.1 -0.1)\">\r\n       <use xlink:href=\"#DejaVuSans-30\"/>\r\n      </g>\r\n     </g>\r\n    </g>\r\n    <g id=\"ytick_2\">\r\n     <g id=\"line2d_9\">\r\n      <g>\r\n       <use style=\"stroke:#000000;stroke-width:0.8;\" x=\"33.2875\" xlink:href=\"#me3b911cb27\" y=\"378.75415\"/>\r\n      </g>\r\n     </g>\r\n     <g id=\"text_10\">\r\n      <!-- 200 -->\r\n      <g transform=\"translate(7.2 382.553369)scale(0.1 -0.1)\">\r\n       <use xlink:href=\"#DejaVuSans-32\"/>\r\n       <use x=\"63.623047\" xlink:href=\"#DejaVuSans-30\"/>\r\n       <use x=\"127.246094\" xlink:href=\"#DejaVuSans-30\"/>\r\n      </g>\r\n     </g>\r\n    </g>\r\n    <g id=\"ytick_3\">\r\n     <g id=\"line2d_10\">\r\n      <g>\r\n       <use style=\"stroke:#000000;stroke-width:0.8;\" x=\"33.2875\" xlink:href=\"#me3b911cb27\" y=\"281.995257\"/>\r\n      </g>\r\n     </g>\r\n     <g id=\"text_11\">\r\n      <!-- 400 -->\r\n      <g transform=\"translate(7.2 285.794476)scale(0.1 -0.1)\">\r\n       <use xlink:href=\"#DejaVuSans-34\"/>\r\n       <use x=\"63.623047\" xlink:href=\"#DejaVuSans-30\"/>\r\n       <use x=\"127.246094\" xlink:href=\"#DejaVuSans-30\"/>\r\n      </g>\r\n     </g>\r\n    </g>\r\n    <g id=\"ytick_4\">\r\n     <g id=\"line2d_11\">\r\n      <g>\r\n       <use style=\"stroke:#000000;stroke-width:0.8;\" x=\"33.2875\" xlink:href=\"#me3b911cb27\" y=\"185.236364\"/>\r\n      </g>\r\n     </g>\r\n     <g id=\"text_12\">\r\n      <!-- 600 -->\r\n      <g transform=\"translate(7.2 189.035582)scale(0.1 -0.1)\">\r\n       <defs>\r\n        <path d=\"M 2113 2584 \r\nQ 1688 2584 1439 2293 \r\nQ 1191 2003 1191 1497 \r\nQ 1191 994 1439 701 \r\nQ 1688 409 2113 409 \r\nQ 2538 409 2786 701 \r\nQ 3034 994 3034 1497 \r\nQ 3034 2003 2786 2293 \r\nQ 2538 2584 2113 2584 \r\nz\r\nM 3366 4563 \r\nL 3366 3988 \r\nQ 3128 4100 2886 4159 \r\nQ 2644 4219 2406 4219 \r\nQ 1781 4219 1451 3797 \r\nQ 1122 3375 1075 2522 \r\nQ 1259 2794 1537 2939 \r\nQ 1816 3084 2150 3084 \r\nQ 2853 3084 3261 2657 \r\nQ 3669 2231 3669 1497 \r\nQ 3669 778 3244 343 \r\nQ 2819 -91 2113 -91 \r\nQ 1303 -91 875 529 \r\nQ 447 1150 447 2328 \r\nQ 447 3434 972 4092 \r\nQ 1497 4750 2381 4750 \r\nQ 2619 4750 2861 4703 \r\nQ 3103 4656 3366 4563 \r\nz\r\n\" id=\"DejaVuSans-36\" transform=\"scale(0.015625)\"/>\r\n       </defs>\r\n       <use xlink:href=\"#DejaVuSans-36\"/>\r\n       <use x=\"63.623047\" xlink:href=\"#DejaVuSans-30\"/>\r\n       <use x=\"127.246094\" xlink:href=\"#DejaVuSans-30\"/>\r\n      </g>\r\n     </g>\r\n    </g>\r\n    <g id=\"ytick_5\">\r\n     <g id=\"line2d_12\">\r\n      <g>\r\n       <use style=\"stroke:#000000;stroke-width:0.8;\" x=\"33.2875\" xlink:href=\"#me3b911cb27\" y=\"88.47747\"/>\r\n      </g>\r\n     </g>\r\n     <g id=\"text_13\">\r\n      <!-- 800 -->\r\n      <g transform=\"translate(7.2 92.276689)scale(0.1 -0.1)\">\r\n       <defs>\r\n        <path d=\"M 2034 2216 \r\nQ 1584 2216 1326 1975 \r\nQ 1069 1734 1069 1313 \r\nQ 1069 891 1326 650 \r\nQ 1584 409 2034 409 \r\nQ 2484 409 2743 651 \r\nQ 3003 894 3003 1313 \r\nQ 3003 1734 2745 1975 \r\nQ 2488 2216 2034 2216 \r\nz\r\nM 1403 2484 \r\nQ 997 2584 770 2862 \r\nQ 544 3141 544 3541 \r\nQ 544 4100 942 4425 \r\nQ 1341 4750 2034 4750 \r\nQ 2731 4750 3128 4425 \r\nQ 3525 4100 3525 3541 \r\nQ 3525 3141 3298 2862 \r\nQ 3072 2584 2669 2484 \r\nQ 3125 2378 3379 2068 \r\nQ 3634 1759 3634 1313 \r\nQ 3634 634 3220 271 \r\nQ 2806 -91 2034 -91 \r\nQ 1263 -91 848 271 \r\nQ 434 634 434 1313 \r\nQ 434 1759 690 2068 \r\nQ 947 2378 1403 2484 \r\nz\r\nM 1172 3481 \r\nQ 1172 3119 1398 2916 \r\nQ 1625 2713 2034 2713 \r\nQ 2441 2713 2670 2916 \r\nQ 2900 3119 2900 3481 \r\nQ 2900 3844 2670 4047 \r\nQ 2441 4250 2034 4250 \r\nQ 1625 4250 1398 4047 \r\nQ 1172 3844 1172 3481 \r\nz\r\n\" id=\"DejaVuSans-38\" transform=\"scale(0.015625)\"/>\r\n       </defs>\r\n       <use xlink:href=\"#DejaVuSans-38\"/>\r\n       <use x=\"63.623047\" xlink:href=\"#DejaVuSans-30\"/>\r\n       <use x=\"127.246094\" xlink:href=\"#DejaVuSans-30\"/>\r\n      </g>\r\n     </g>\r\n    </g>\r\n   </g>\r\n   <g id=\"line2d_13\">\r\n    <path clip-path=\"url(#pdb30d33429)\" d=\"M 236.125971 396.170751 \r\nL 238.493477 395.686957 \r\nM 272.610899 393.751779 \r\nL 273.473301 393.267984 \r\nM 278.392688 391.816601 \r\nL 278.440095 391.332806 \r\nM 281.380803 390.365217 \r\nL 281.580794 389.881423 \r\nL 281.619848 389.397628 \r\nM 281.860192 388.913834 \r\nL 281.929588 387.946245 \r\nM 282.033335 387.462451 \r\nL 282.17245 385.527273 \r\nM 282.56572 384.075889 \r\nL 282.633139 382.624506 \r\nM 282.76503 382.140711 \r\nL 282.835801 380.689328 \r\nM 282.87764 380.205534 \r\nL 283.012793 377.786561 \r\nM 283.151168 377.302767 \r\nL 283.326753 375.851383 \r\nM 283.639545 375.367589 \r\nL 283.713446 373.432411 \r\nM 290.511451 372.464822 \r\nL 291.237416 371.981028 \r\nL 291.344027 371.497233 \r\nL 293.064804 371.013439 \r\nL 293.083617 370.529644 \r\nM 311.892739 370.04585 \r\nL 311.936333 369.562055 \r\nM 316.932476 369.078261 \r\nL 316.968851 368.594466 \r\nM 318.746501 368.110672 \r\nL 318.781158 367.626877 \r\nM 319.776365 366.175494 \r\nL 319.796776 365.6917 \r\nM 320.455139 364.724111 \r\nL 321.217773 364.240316 \r\nM 321.390998 363.756522 \r\nL 322.670333 363.272727 \r\nL 322.704534 362.788933 \r\nM 323.395901 362.305138 \r\nL 323.465356 360.853755 \r\nM 326.476538 357.950988 \r\nL 327.066415 357.467194 \r\nL 327.10095 356.983399 \r\nL 328.106033 356.499605 \r\nL 328.174956 356.01581 \r\nM 328.521382 355.532016 \r\nL 328.590459 355.048221 \r\nM 328.624852 354.564427 \r\nL 328.942166 354.080632 \r\nM 329.005747 353.596838 \r\nL 331.321094 352.629249 \r\nM 332.632815 351.66166 \r\nL 333.94861 351.177866 \r\nL 333.981092 350.694071 \r\nM 337.190587 350.210277 \r\nL 337.225046 349.726482 \r\nL 337.536356 349.242688 \r\nL 337.572255 348.758893 \r\nM 341.630602 348.275099 \r\nL 365.541039 347.30751 \r\nM 367.703521 346.339921 \r\nL 367.808483 345.856126 \r\nM 367.843613 345.372332 \r\nL 368.229018 344.404743 \r\nM 369.23186 343.920949 \r\nL 369.267713 343.437154 \r\nM 369.49084 342.95336 \r\nL 369.515763 341.985771 \r\nL 371.834577 341.018182 \r\nL 371.869383 340.534387 \r\nM 376.775138 339.566798 \r\nL 376.847403 339.083004 \r\nL 380.682448 338.115415 \r\nM 382.479332 337.631621 \r\nL 382.512852 337.147826 \r\nM 383.455707 336.664032 \r\nL 383.479313 336.180237 \r\nL 383.755628 335.696443 \r\nL 383.789956 335.212648 \r\nM 385.105518 333.761265 \r\nL 385.14003 333.27747 \r\nL 386.040432 331.826087 \r\nM 386.248265 331.342292 \r\nL 386.838394 330.374704 \r\nL 386.907304 329.407115 \r\nM 387.534337 328.439526 \r\nL 387.568808 327.955731 \r\nM 388.227783 327.471937 \r\nL 388.297538 326.988142 \r\nM 411.671285 325.052964 \r\nL 414.011226 324.085375 \r\nL 414.116423 323.117787 \r\nM 414.363871 322.633992 \r\nL 414.398561 322.150198 \r\nM 414.573135 321.666403 \r\nL 414.607841 321.182609 \r\nM 415.096014 320.698814 \r\nL 415.13066 320.21502 \r\nL 415.44459 319.731225 \r\nL 415.48036 319.247431 \r\nM 416.974228 318.763636 \r\nL 417.008708 318.279842 \r\nM 417.944215 317.796047 \r\nL 417.978654 317.312253 \r\nL 422.984039 316.828458 \r\nL 423.017113 316.344664 \r\nM 424.051373 315.377075 \r\nL 427.085287 314.893281 \r\nL 427.119557 314.409486 \r\nL 429.084765 313.925692 \r\nL 429.120725 313.441897 \r\nM 431.598185 312.958103 \r\nL 431.633449 312.474308 \r\nL 432.081544 311.506719 \r\nM 432.11812 311.022925 \r\nL 432.15253 310.53913 \r\nM 434.082504 310.055336 \r\nL 434.116921 309.571542 \r\nM 435.015425 308.603953 \r\nL 435.223304 307.636364 \r\nM 435.432969 307.152569 \r\nL 435.46741 306.668775 \r\nM 435.986849 306.18498 \r\nL 436.022463 305.701186 \r\nL 437.998797 305.217391 \r\nL 438.033325 304.733597 \r\nM 438.103029 304.249802 \r\nL 438.137818 303.766008 \r\nM 459.861264 303.282213 \r\nL 459.895954 302.798419 \r\nM 460.314985 302.314625 \r\nL 460.349676 301.83083 \r\nM 462.302217 300.379447 \r\nL 462.336835 299.895652 \r\nL 463.3152 298.928063 \r\nL 463.63255 298.444269 \r\nL 463.66717 297.960474 \r\nM 464.15482 297.47668 \r\nL 464.364043 296.992885 \r\nM 465.093873 296.025296 \r\nL 465.408443 294.573913 \r\nL 466.447813 293.606324 \r\nL 466.65589 292.638735 \r\nM 469.589858 291.671146 \r\nL 470.732074 291.187352 \r\nL 470.768101 290.703557 \r\nM 471.254486 290.219763 \r\nL 471.288802 289.735968 \r\nM 472.220518 289.252174 \r\nL 472.254886 288.768379 \r\nM 472.291517 288.284585 \r\nL 472.325826 287.800791 \r\nM 474.432363 286.833202 \r\nL 474.708852 286.349407 \r\nL 474.742926 285.865613 \r\nM 476.573805 285.381818 \r\nL 476.608148 284.898024 \r\nM 478.402142 283.930435 \r\nL 482.398783 282.962846 \r\nL 482.433263 282.479051 \r\nL 483.882604 281.995257 \r\nM 484.056308 281.027668 \r\nL 509.179312 280.543874 \r\nM 509.284002 280.060079 \r\nL 509.60045 279.09249 \r\nM 519.224238 277.641107 \r\nL 519.258541 277.157312 \r\nL 519.809914 276.673518 \r\nM 520.085493 275.705929 \r\nL 522.362268 275.222134 \r\nL 522.396621 274.73834 \r\nL 523.534975 274.254545 \r\nM 523.673232 273.770751 \r\nL 524.01949 272.803162 \r\nL 525.195291 271.835573 \r\nL 532.309545 271.351779 \r\nL 532.379147 270.867984 \r\nM 558.531072 270.38419 \r\nL 561.190769 269.900395 \r\nL 561.330746 269.416601 \r\nL 568.317064 268.932806 \r\nL 568.351562 268.449012 \r\nM 576.257898 267.481423 \r\nL 576.39688 266.997628 \r\nL 578.892976 266.513834 \r\nL 578.927495 266.03004 \r\nL 606.129737 265.546245 \r\nL 606.235231 265.062451 \r\nL 607.742591 264.094862 \r\nL 609.913424 263.611067 \r\nL 609.95172 263.127273 \r\nL 618.085297 262.159684 \r\nM 621.346495 261.192095 \r\nL 623.601686 259.740711 \r\nL 623.636069 259.256917 \r\nL 657.314519 258.773123 \r\nM 657.419721 258.289328 \r\nL 657.909157 257.805534 \r\nL 657.943935 257.321739 \r\nL 666.038988 256.837945 \r\nM 666.143324 256.35415 \r\nL 667.807867 255.870356 \r\nL 667.8423 255.386561 \r\nM 671.753856 254.902767 \r\nL 671.78882 254.418972 \r\nM 704.342579 253.935178 \r\nL 704.377446 253.451383 \r\nM 705.53714 252 \r\nL 706.554726 251.032411 \r\nM 707.150919 250.548617 \r\nL 707.185779 250.064822 \r\nM 709.820842 249.581028 \r\nL 709.852441 249.097233 \r\nL 711.704563 248.129644 \r\nL 711.774634 247.162055 \r\nL 712.054213 246.194466 \r\nL 714.677844 245.226877 \r\nL 714.78289 244.259289 \r\nM 714.817675 243.775494 \r\nL 714.852611 243.2917 \r\nL 715.901107 242.807905 \r\nL 715.935858 242.324111 \r\nL 717.716023 241.840316 \r\nL 717.752581 241.356522 \r\nL 719.149764 240.388933 \r\nM 719.289866 239.905138 \r\nL 719.534809 239.421344 \r\nL 719.604999 238.937549 \r\nM 719.992706 237.486166 \r\nL 722.194224 237.002372 \r\nL 722.369652 236.518577 \r\nM 722.404406 236.034783 \r\nL 723.695481 235.550988 \r\nM 723.870612 235.067194 \r\nL 729.886858 234.099605 \r\nL 755.108751 233.61581 \r\nL 755.249532 232.648221 \r\nL 758.694078 232.164427 \r\nM 762.373413 231.196838 \r\nL 762.408196 230.713043 \r\nL 764.1209 230.229249 \r\nL 764.155689 229.745455 \r\nM 765.133772 229.26166 \r\nL 765.168483 228.777866 \r\nM 765.657589 228.294071 \r\nL 765.833097 227.326482 \r\nL 766.041485 226.358893 \r\nM 771.032817 225.875099 \r\nL 771.067566 225.391304 \r\nM 774.142601 224.90751 \r\nL 776.451878 224.423715 \r\nM 778.975403 223.939921 \r\nL 779.011555 223.456126 \r\nL 802.282759 222.972332 \r\nL 802.317669 222.488538 \r\nL 802.773975 222.004743 \r\nM 802.808836 221.520949 \r\nL 804.527035 220.55336 \r\nL 806.560129 219.585771 \r\nM 806.664984 219.101976 \r\nL 806.699803 218.618182 \r\nM 807.122703 217.650593 \r\nL 807.153191 217.166798 \r\nL 807.397523 216.683004 \r\nM 807.85056 215.715415 \r\nL 808.268236 215.231621 \r\nL 808.302824 214.747826 \r\nM 808.688435 212.812648 \r\nL 808.75825 212.328854 \r\nM 810.495876 211.845059 \r\nL 811.710992 211.361265 \r\nL 811.745518 210.87747 \r\nM 811.954211 210.393676 \r\nL 811.988812 209.909881 \r\nL 812.162625 209.426087 \r\nM 812.301946 208.942292 \r\nL 814.108048 207.490909 \r\nL 814.144256 207.007115 \r\nM 816.470776 206.52332 \r\nL 816.69805 206.039526 \r\nL 816.734874 205.555731 \r\nM 817.115203 204.104348 \r\nL 817.188509 203.620553 \r\nM 817.952668 202.652964 \r\nL 818.161229 202.16917 \r\nM 818.404504 201.201581 \r\nL 818.856074 200.233992 \r\nM 819.730947 199.266403 \r\nL 819.827901 198.782609 \r\nM 819.862417 198.298814 \r\nL 820.209318 197.81502 \r\nL 820.243795 197.331225 \r\nL 825.062092 196.847431 \r\nM 825.238967 196.363636 \r\nL 828.338897 195.879842 \r\nL 828.373554 195.396047 \r\nL 829.317398 194.428458 \r\nL 847.490918 193.944664 \r\nM 847.670202 193.46087 \r\nL 848.030365 192.493281 \r\nL 849.642019 192.009486 \r\nM 849.747015 191.525692 \r\nL 849.92299 191.041897 \r\nM 850.09881 190.558103 \r\nL 851.078196 190.074308 \r\nM 851.253378 189.590514 \r\nL 851.498665 188.622925 \r\nL 853.561512 187.655336 \r\nM 853.772309 187.171542 \r\nL 853.806312 186.687747 \r\nL 855.375107 186.203953 \r\nM 855.409757 185.720158 \r\nL 856.453528 185.236364 \r\nL 858.220532 184.268775 \r\nM 859.569841 183.78498 \r\nL 859.604273 183.301186 \r\nM 860.406442 181.366008 \r\nL 860.475302 180.398419 \r\nM 860.50972 179.914625 \r\nL 860.786839 179.43083 \r\nM 860.856353 178.947036 \r\nL 862.067123 178.463241 \r\nL 862.170773 177.979447 \r\nM 864.941893 176.044269 \r\nL 865.011948 175.07668 \r\nM 865.289327 174.592885 \r\nL 865.323762 174.109091 \r\nL 867.921337 173.625296 \r\nL 867.955886 173.141502 \r\nM 868.477029 172.657708 \r\nL 868.511409 172.173913 \r\nM 869.067171 171.206324 \r\nL 869.519864 170.72253 \r\nL 869.554836 170.238735 \r\nL 869.935247 169.754941 \r\nL 870.177872 168.303557 \r\nM 870.385736 167.819763 \r\nL 870.454711 166.368379 \r\nL 871.872263 165.884585 \r\nL 871.941601 165.400791 \r\nM 871.976065 164.916996 \r\nL 873.914471 164.433202 \r\nL 873.948982 163.949407 \r\nM 877.105678 163.465613 \r\nL 877.176005 162.981818 \r\nL 877.629322 162.014229 \r\nL 881.349316 161.530435 \r\nM 902.594164 160.079051 \r\nL 902.838098 159.595257 \r\nM 903.0817 159.111462 \r\nL 903.290631 158.627668 \r\nL 907.663463 158.143874 \r\nM 909.049249 157.176285 \r\nL 909.222664 156.69249 \r\nL 910.122768 156.208696 \r\nL 910.192347 155.724901 \r\nM 912.479838 155.241107 \r\nL 912.510066 154.757312 \r\nL 915.180137 154.273518 \r\nL 916.147623 153.789723 \r\nL 916.18279 153.305929 \r\nM 917.598371 152.822134 \r\nL 917.701957 151.370751 \r\nM 920.363504 150.403162 \r\nL 920.606317 149.435573 \r\nM 927.577766 147.98419 \r\nL 927.612804 147.500395 \r\nL 928.307054 147.016601 \r\nL 928.341685 146.532806 \r\nM 947.019457 146.049012 \r\nL 947.08955 145.565217 \r\nL 950.253348 145.081423 \r\nL 950.392926 144.597628 \r\nM 958.227605 144.113834 \r\nL 958.262003 143.63004 \r\nM 959.714091 143.146245 \r\nL 959.783572 142.662451 \r\nM 961.544942 141.694862 \r\nL 963.546742 141.211067 \r\nM 963.6162 140.727273 \r\nL 964.304044 140.243478 \r\nL 964.328739 139.759684 \r\nL 964.708223 139.275889 \r\nL 964.742577 138.792095 \r\nM 965.401295 138.3083 \r\nL 965.853895 137.824506 \r\nL 965.88842 137.340711 \r\nM 966.165109 136.856917 \r\nL 966.199565 136.373123 \r\nM 966.892682 135.889328 \r\nL 966.927257 135.405534 \r\nM 974.282651 134.437945 \r\nL 997.078996 133.95415 \r\nL 999.812175 133.470356 \r\nL 999.84701 132.986561 \r\nM 1000.793726 131.051383 \r\nL 1003.036058 130.083794 \r\nM 1004.928311 129.116206 \r\nL 1005.243318 128.632411 \r\nL 1006.187638 128.148617 \r\nL 1006.222327 127.664822 \r\nM 1006.81675 127.181028 \r\nL 1006.851516 126.697233 \r\nM 1009.227748 125.24585 \r\nL 1009.262407 124.762055 \r\nM 1009.926079 124.278261 \r\nL 1010.032011 123.794466 \r\nL 1010.589831 123.310672 \r\nM 1010.764477 122.826877 \r\nL 1012.024515 121.859289 \r\nL 1012.128265 120.8917 \r\nM 1015.280455 119.924111 \r\nL 1016.572269 118.956522 \r\nL 1017.689872 118.472727 \r\nL 1017.724566 117.988933 \r\nL 1018.422869 117.505138 \r\nM 1018.562945 117.021344 \r\nL 1020.8335 116.537549 \r\nL 1020.867476 116.053755 \r\nL 1023.738805 115.086166 \r\nL 1045.614326 114.118577 \r\nL 1045.860486 113.634783 \r\nM 1047.147174 112.667194 \r\nL 1047.181993 112.183399 \r\nL 1047.708102 111.699605 \r\nL 1047.742941 111.21581 \r\nM 1050.894398 110.732016 \r\nL 1051.034769 110.248221 \r\nL 1053.162906 109.764427 \r\nL 1053.197549 109.280632 \r\nM 1053.580969 108.796838 \r\nL 1053.616377 108.313043 \r\nM 1055.393011 107.345455 \r\nL 1056.406366 106.377866 \r\nL 1056.511328 105.894071 \r\nM 1056.825003 105.410277 \r\nL 1059.191765 104.442688 \r\nL 1061.352409 103.958893 \r\nL 1061.387064 103.475099 \r\nM 1063.127707 102.991304 \r\nL 1063.162313 102.50751 \r\nL 1066.137166 102.023715 \r\nL 1066.169039 101.539921 \r\nM 1067.249684 100.572332 \r\nL 1068.017586 100.088538 \r\nL 1068.052799 99.604743 \r\nM 1090.993739 99.120949 \r\nL 1091.064338 98.637154 \r\nM 1094.718831 98.15336 \r\nL 1094.789409 97.669565 \r\nM 1096.332741 97.185771 \r\nL 1096.367571 96.701976 \r\nL 1098.246775 95.734387 \r\nL 1099.507797 95.250593 \r\nM 1099.648102 94.766798 \r\nL 1099.682874 94.283004 \r\nM 1099.790406 93.799209 \r\nL 1099.825086 93.315415 \r\nM 1101.534791 92.831621 \r\nL 1101.569491 92.347826 \r\nM 1101.744166 91.864032 \r\nL 1101.778872 91.380237 \r\nM 1103.69254 90.896443 \r\nL 1103.72709 90.412648 \r\nL 1103.900866 89.928854 \r\nM 1104.53107 88.961265 \r\nL 1104.774698 87.993676 \r\nM 1105.40104 87.026087 \r\nL 1106.131892 86.542292 \r\nL 1106.166511 86.058498 \r\nM 1108.776068 84.607115 \r\nL 1108.810673 84.12332 \r\nM 1109.924579 83.639526 \r\nL 1109.960995 83.155731 \r\nM 1111.109529 82.671937 \r\nL 1111.143634 82.188142 \r\nM 1111.943948 81.704348 \r\nL 1111.978813 81.220553 \r\nL 1113.267528 80.252964 \r\nM 1113.337459 79.76917 \r\nL 1113.374999 79.285375 \r\nM 1113.653875 78.801581 \r\nL 1113.688517 78.317787 \r\nL 1113.971769 77.833992 \r\nM 1114.354947 76.866403 \r\nL 1117.071991 76.382609 \r\nL 1140.594654 75.898814 \r\nL 1140.629484 75.41502 \r\nM 1145.574587 74.447431 \r\nL 1145.959855 73.963636 \r\nL 1147.312238 72.996047 \r\nL 1147.347001 72.512253 \r\nM 1147.521865 71.544664 \r\nL 1148.258498 70.577075 \r\nM 1148.43316 70.093281 \r\nL 1148.677884 68.158103 \r\nL 1149.689318 67.674308 \r\nL 1149.723917 67.190514 \r\nM 1151.047511 66.706719 \r\nL 1151.082195 66.222925 \r\nM 1151.32611 65.255336 \r\nL 1151.535247 64.771542 \r\nL 1151.570664 64.287747 \r\nM 1153.24325 63.320158 \r\nL 1153.835825 61.38498 \r\nM 1155.472043 60.417391 \r\nL 1155.510744 59.933597 \r\nM 1157.73362 59.449802 \r\nL 1158.081853 58.966008 \r\nL 1158.117913 58.482213 \r\nM 1158.221215 57.998419 \r\nL 1158.290712 57.514625 \r\nM 1159.126101 56.547036 \r\nL 1159.195256 55.579447 \r\nM 1159.440008 55.095652 \r\nL 1159.509056 54.611858 \r\nM 1159.579006 54.128063 \r\nL 1160.728795 53.644269 \r\nL 1160.901859 52.67668 \r\nM 1161.006606 52.192885 \r\nL 1161.458535 51.709091 \r\nL 1161.493057 51.225296 \r\nL 1162.571476 50.741502 \r\nL 1162.605745 50.257708 \r\nM 1163.057754 49.773913 \r\nL 1163.126944 48.806324 \r\nM 1163.30092 48.32253 \r\nL 1163.335482 47.838735 \r\nM 1164.768202 47.354941 \r\nL 1164.839995 45.903557 \r\nM 1164.979595 45.419763 \r\nL 1165.013812 44.935968 \r\nM 1165.779131 43.968379 \r\nL 1165.884424 43.000791 \r\nL 1166.197499 42.516996 \r\nL 1166.232065 42.033202 \r\nM 1167.068286 41.549407 \r\nL 1167.102937 41.065613 \r\nL 1167.803153 40.581818 \r\nM 1167.837846 40.098024 \r\nL 1168.29278 39.614229 \r\nL 1168.395799 38.162846 \r\nM 1169.900912 37.195257 \r\nL 1169.97121 36.711462 \r\nM 1179.031833 36.227668 \r\nL 1179.066692 35.743874 \r\nL 1179.627378 35.260079 \r\nL 1179.662278 34.776285 \r\nM 1199.700969 34.29249 \r\nL 1199.735822 33.808696 \r\nM 1201.713814 33.324901 \r\nL 1201.818222 32.841107 \r\nL 1203.937212 32.357312 \r\nL 1204.009588 31.389723 \r\nM 1204.322313 30.422134 \r\nL 1205.051535 29.93834 \r\nL 1205.0875 29.454545 \r\nL 1205.0875 29.454545 \r\n\" style=\"fill:none;stroke:#1f77b4;stroke-linecap:square;stroke-width:1.5;\"/>\r\n   </g>\r\n   <g id=\"line2d_14\">\r\n    <path clip-path=\"url(#pdb30d33429)\" d=\"M 89.0875 447.936759 \r\nL 89.574257 446.96917 \r\nL 90.088285 446.485375 \r\nL 91.125313 445.033992 \r\nL 93.524242 443.582609 \r\nL 124.931515 443.098814 \r\nL 126.136836 442.61502 \r\nL 126.478183 442.131225 \r\nL 128.701365 441.647431 \r\nL 134.51534 441.163636 \r\nL 135.37499 440.679842 \r\nM 137.595102 440.196047 \r\nL 139.30732 439.228458 \r\nL 141.031089 438.744664 \r\nL 144.44975 438.26087 \r\nL 166.1438 437.777075 \r\nL 171.827915 437.293281 \r\nL 172.68586 436.809486 \r\nL 173.034857 436.325692 \r\nL 174.234419 435.841897 \r\nL 179.191805 435.358103 \r\nL 180.217653 434.874308 \r\nL 182.785181 434.390514 \r\nL 182.956344 433.906719 \r\nL 183.81222 433.422925 \r\nL 185.016041 432.93913 \r\nL 185.696143 432.455336 \r\nL 186.038025 431.971542 \r\nL 186.380175 430.520158 \r\nM 186.551198 429.552569 \r\nL 187.577883 428.101186 \r\nL 189.119628 427.617391 \r\nL 189.809924 427.133597 \r\nM 282.186755 419.87668 \r\nL 282.358223 418.909091 \r\nM 417.069376 397.13834 \r\nL 417.926844 396.654545 \r\nM 874.007143 346.339921 \r\nL 877.091993 345.856126 \r\nM 910.241073 342.469565 \r\nL 912.46536 341.985771 \r\nM 916.228641 341.501976 \r\nL 917.596188 341.018182 \r\nM 959.827372 336.180237 \r\nL 961.537838 335.696443 \r\nM 1003.186668 331.342292 \r\nL 1004.913331 330.858498 \r\nM 1007.50294 329.890909 \r\nL 1009.227673 329.407115 \r\nM 1061.399129 322.633992 \r\nL 1063.118498 322.150198 \r\nM 1199.812834 295.541502 \r\nL 1201.706222 295.057708 \r\nM 1204.282317 294.090119 \r\n\" style=\"fill:none;stroke:#ff7f0e;stroke-linecap:square;stroke-width:1.5;\"/>\r\n   </g>\r\n   <g id=\"line2d_15\">\r\n    <path clip-path=\"url(#pdb30d33429)\" d=\"M 201.329413 474.06166 \r\nL 219.733495 473.577866 \r\nM 226.890943 472.610277 \r\nL 227.912418 472.126482 \r\nL 233.023457 471.642688 \r\nM 267.794142 471.158893 \r\nL 268.816625 470.675099 \r\nM 1145.297469 460.031621 \r\n\" style=\"fill:none;stroke:#2ca02c;stroke-linecap:square;stroke-width:1.5;\"/>\r\n   </g>\r\n   <g id=\"patch_3\">\r\n    <path d=\"M 33.2875 496.8 \r\nL 33.2875 7.2 \r\n\" style=\"fill:none;stroke:#000000;stroke-linecap:square;stroke-linejoin:miter;stroke-width:0.8;\"/>\r\n   </g>\r\n   <g id=\"patch_4\">\r\n    <path d=\"M 1260.8875 496.8 \r\nL 1260.8875 7.2 \r\n\" style=\"fill:none;stroke:#000000;stroke-linecap:square;stroke-linejoin:miter;stroke-width:0.8;\"/>\r\n   </g>\r\n   <g id=\"patch_5\">\r\n    <path d=\"M 33.2875 496.8 \r\nL 1260.8875 496.8 \r\n\" style=\"fill:none;stroke:#000000;stroke-linecap:square;stroke-linejoin:miter;stroke-width:0.8;\"/>\r\n   </g>\r\n   <g id=\"patch_6\">\r\n    <path d=\"M 33.2875 7.2 \r\nL 1260.8875 7.2 \r\n\" style=\"fill:none;stroke:#000000;stroke-linecap:square;stroke-linejoin:miter;stroke-width:0.8;\"/>\r\n   </g>\r\n   <g id=\"legend_1\">\r\n    <g id=\"patch_7\">\r\n     <path d=\"M 40.2875 60.06875 \r\nL 162.03125 60.06875 \r\nQ 164.03125 60.06875 164.03125 58.06875 \r\nL 164.03125 14.2 \r\nQ 164.03125 12.2 162.03125 12.2 \r\nL 40.2875 12.2 \r\nQ 38.2875 12.2 38.2875 14.2 \r\nL 38.2875 58.06875 \r\nQ 38.2875 60.06875 40.2875 60.06875 \r\nz\r\n\" style=\"fill:#ffffff;opacity:0.8;stroke:#cccccc;stroke-linejoin:miter;\"/>\r\n    </g>\r\n    <g id=\"line2d_16\">\r\n     <path d=\"M 42.2875 20.298437 \r\nL 62.2875 20.298437 \r\n\" style=\"fill:none;stroke:#1f77b4;stroke-linecap:square;stroke-width:1.5;\"/>\r\n    </g>\r\n    <g id=\"line2d_17\"/>\r\n    <g id=\"text_14\">\r\n     <!-- counter_2203AAB -->\r\n     <g transform=\"translate(70.2875 23.798437)scale(0.1 -0.1)\">\r\n      <defs>\r\n       <path d=\"M 1959 3097 \r\nQ 1497 3097 1228 2736 \r\nQ 959 2375 959 1747 \r\nQ 959 1119 1226 758 \r\nQ 1494 397 1959 397 \r\nQ 2419 397 2687 759 \r\nQ 2956 1122 2956 1747 \r\nQ 2956 2369 2687 2733 \r\nQ 2419 3097 1959 3097 \r\nz\r\nM 1959 3584 \r\nQ 2709 3584 3137 3096 \r\nQ 3566 2609 3566 1747 \r\nQ 3566 888 3137 398 \r\nQ 2709 -91 1959 -91 \r\nQ 1206 -91 779 398 \r\nQ 353 888 353 1747 \r\nQ 353 2609 779 3096 \r\nQ 1206 3584 1959 3584 \r\nz\r\n\" id=\"DejaVuSans-6f\" transform=\"scale(0.015625)\"/>\r\n       <path d=\"M 544 1381 \r\nL 544 3500 \r\nL 1119 3500 \r\nL 1119 1403 \r\nQ 1119 906 1312 657 \r\nQ 1506 409 1894 409 \r\nQ 2359 409 2629 706 \r\nQ 2900 1003 2900 1516 \r\nL 2900 3500 \r\nL 3475 3500 \r\nL 3475 0 \r\nL 2900 0 \r\nL 2900 538 \r\nQ 2691 219 2414 64 \r\nQ 2138 -91 1772 -91 \r\nQ 1169 -91 856 284 \r\nQ 544 659 544 1381 \r\nz\r\nM 1991 3584 \r\nL 1991 3584 \r\nz\r\n\" id=\"DejaVuSans-75\" transform=\"scale(0.015625)\"/>\r\n       <path d=\"M 3513 2113 \r\nL 3513 0 \r\nL 2938 0 \r\nL 2938 2094 \r\nQ 2938 2591 2744 2837 \r\nQ 2550 3084 2163 3084 \r\nQ 1697 3084 1428 2787 \r\nQ 1159 2491 1159 1978 \r\nL 1159 0 \r\nL 581 0 \r\nL 581 3500 \r\nL 1159 3500 \r\nL 1159 2956 \r\nQ 1366 3272 1645 3428 \r\nQ 1925 3584 2291 3584 \r\nQ 2894 3584 3203 3211 \r\nQ 3513 2838 3513 2113 \r\nz\r\n\" id=\"DejaVuSans-6e\" transform=\"scale(0.015625)\"/>\r\n       <path d=\"M 3263 -1063 \r\nL 3263 -1509 \r\nL -63 -1509 \r\nL -63 -1063 \r\nL 3263 -1063 \r\nz\r\n\" id=\"DejaVuSans-5f\" transform=\"scale(0.015625)\"/>\r\n       <path d=\"M 2188 4044 \r\nL 1331 1722 \r\nL 3047 1722 \r\nL 2188 4044 \r\nz\r\nM 1831 4666 \r\nL 2547 4666 \r\nL 4325 0 \r\nL 3669 0 \r\nL 3244 1197 \r\nL 1141 1197 \r\nL 716 0 \r\nL 50 0 \r\nL 1831 4666 \r\nz\r\n\" id=\"DejaVuSans-41\" transform=\"scale(0.015625)\"/>\r\n       <path d=\"M 1259 2228 \r\nL 1259 519 \r\nL 2272 519 \r\nQ 2781 519 3026 730 \r\nQ 3272 941 3272 1375 \r\nQ 3272 1813 3026 2020 \r\nQ 2781 2228 2272 2228 \r\nL 1259 2228 \r\nz\r\nM 1259 4147 \r\nL 1259 2741 \r\nL 2194 2741 \r\nQ 2656 2741 2882 2914 \r\nQ 3109 3088 3109 3444 \r\nQ 3109 3797 2882 3972 \r\nQ 2656 4147 2194 4147 \r\nL 1259 4147 \r\nz\r\nM 628 4666 \r\nL 2241 4666 \r\nQ 2963 4666 3353 4366 \r\nQ 3744 4066 3744 3513 \r\nQ 3744 3084 3544 2831 \r\nQ 3344 2578 2956 2516 \r\nQ 3422 2416 3680 2098 \r\nQ 3938 1781 3938 1306 \r\nQ 3938 681 3513 340 \r\nQ 3088 0 2303 0 \r\nL 628 0 \r\nL 628 4666 \r\nz\r\n\" id=\"DejaVuSans-42\" transform=\"scale(0.015625)\"/>\r\n      </defs>\r\n      <use xlink:href=\"#DejaVuSans-63\"/>\r\n      <use x=\"54.980469\" xlink:href=\"#DejaVuSans-6f\"/>\r\n      <use x=\"116.162109\" xlink:href=\"#DejaVuSans-75\"/>\r\n      <use x=\"179.541016\" xlink:href=\"#DejaVuSans-6e\"/>\r\n      <use x=\"242.919922\" xlink:href=\"#DejaVuSans-74\"/>\r\n      <use x=\"282.128906\" xlink:href=\"#DejaVuSans-65\"/>\r\n      <use x=\"343.652344\" xlink:href=\"#DejaVuSans-72\"/>\r\n      <use x=\"384.765625\" xlink:href=\"#DejaVuSans-5f\"/>\r\n      <use x=\"434.765625\" xlink:href=\"#DejaVuSans-32\"/>\r\n      <use x=\"498.388672\" xlink:href=\"#DejaVuSans-32\"/>\r\n      <use x=\"562.011719\" xlink:href=\"#DejaVuSans-30\"/>\r\n      <use x=\"625.634766\" xlink:href=\"#DejaVuSans-33\"/>\r\n      <use x=\"689.257812\" xlink:href=\"#DejaVuSans-41\"/>\r\n      <use x=\"760.416016\" xlink:href=\"#DejaVuSans-41\"/>\r\n      <use x=\"828.824219\" xlink:href=\"#DejaVuSans-42\"/>\r\n     </g>\r\n    </g>\r\n    <g id=\"line2d_18\">\r\n     <path d=\"M 42.2875 35.254687 \r\nL 62.2875 35.254687 \r\n\" style=\"fill:none;stroke:#ff7f0e;stroke-linecap:square;stroke-width:1.5;\"/>\r\n    </g>\r\n    <g id=\"line2d_19\"/>\r\n    <g id=\"text_15\">\r\n     <!-- counter_2203ACB -->\r\n     <g transform=\"translate(70.2875 38.754687)scale(0.1 -0.1)\">\r\n      <defs>\r\n       <path d=\"M 4122 4306 \r\nL 4122 3641 \r\nQ 3803 3938 3442 4084 \r\nQ 3081 4231 2675 4231 \r\nQ 1875 4231 1450 3742 \r\nQ 1025 3253 1025 2328 \r\nQ 1025 1406 1450 917 \r\nQ 1875 428 2675 428 \r\nQ 3081 428 3442 575 \r\nQ 3803 722 4122 1019 \r\nL 4122 359 \r\nQ 3791 134 3420 21 \r\nQ 3050 -91 2638 -91 \r\nQ 1578 -91 968 557 \r\nQ 359 1206 359 2328 \r\nQ 359 3453 968 4101 \r\nQ 1578 4750 2638 4750 \r\nQ 3056 4750 3426 4639 \r\nQ 3797 4528 4122 4306 \r\nz\r\n\" id=\"DejaVuSans-43\" transform=\"scale(0.015625)\"/>\r\n      </defs>\r\n      <use xlink:href=\"#DejaVuSans-63\"/>\r\n      <use x=\"54.980469\" xlink:href=\"#DejaVuSans-6f\"/>\r\n      <use x=\"116.162109\" xlink:href=\"#DejaVuSans-75\"/>\r\n      <use x=\"179.541016\" xlink:href=\"#DejaVuSans-6e\"/>\r\n      <use x=\"242.919922\" xlink:href=\"#DejaVuSans-74\"/>\r\n      <use x=\"282.128906\" xlink:href=\"#DejaVuSans-65\"/>\r\n      <use x=\"343.652344\" xlink:href=\"#DejaVuSans-72\"/>\r\n      <use x=\"384.765625\" xlink:href=\"#DejaVuSans-5f\"/>\r\n      <use x=\"434.765625\" xlink:href=\"#DejaVuSans-32\"/>\r\n      <use x=\"498.388672\" xlink:href=\"#DejaVuSans-32\"/>\r\n      <use x=\"562.011719\" xlink:href=\"#DejaVuSans-30\"/>\r\n      <use x=\"625.634766\" xlink:href=\"#DejaVuSans-33\"/>\r\n      <use x=\"689.257812\" xlink:href=\"#DejaVuSans-41\"/>\r\n      <use x=\"755.916016\" xlink:href=\"#DejaVuSans-43\"/>\r\n      <use x=\"825.740234\" xlink:href=\"#DejaVuSans-42\"/>\r\n     </g>\r\n    </g>\r\n    <g id=\"line2d_20\">\r\n     <path d=\"M 42.2875 50.210938 \r\nL 62.2875 50.210938 \r\n\" style=\"fill:none;stroke:#2ca02c;stroke-linecap:square;stroke-width:1.5;\"/>\r\n    </g>\r\n    <g id=\"line2d_21\"/>\r\n    <g id=\"text_16\">\r\n     <!-- counter_2203AF9 -->\r\n     <g transform=\"translate(70.2875 53.710938)scale(0.1 -0.1)\">\r\n      <defs>\r\n       <path d=\"M 628 4666 \r\nL 3309 4666 \r\nL 3309 4134 \r\nL 1259 4134 \r\nL 1259 2759 \r\nL 3109 2759 \r\nL 3109 2228 \r\nL 1259 2228 \r\nL 1259 0 \r\nL 628 0 \r\nL 628 4666 \r\nz\r\n\" id=\"DejaVuSans-46\" transform=\"scale(0.015625)\"/>\r\n      </defs>\r\n      <use xlink:href=\"#DejaVuSans-63\"/>\r\n      <use x=\"54.980469\" xlink:href=\"#DejaVuSans-6f\"/>\r\n      <use x=\"116.162109\" xlink:href=\"#DejaVuSans-75\"/>\r\n      <use x=\"179.541016\" xlink:href=\"#DejaVuSans-6e\"/>\r\n      <use x=\"242.919922\" xlink:href=\"#DejaVuSans-74\"/>\r\n      <use x=\"282.128906\" xlink:href=\"#DejaVuSans-65\"/>\r\n      <use x=\"343.652344\" xlink:href=\"#DejaVuSans-72\"/>\r\n      <use x=\"384.765625\" xlink:href=\"#DejaVuSans-5f\"/>\r\n      <use x=\"434.765625\" xlink:href=\"#DejaVuSans-32\"/>\r\n      <use x=\"498.388672\" xlink:href=\"#DejaVuSans-32\"/>\r\n      <use x=\"562.011719\" xlink:href=\"#DejaVuSans-30\"/>\r\n      <use x=\"625.634766\" xlink:href=\"#DejaVuSans-33\"/>\r\n      <use x=\"689.257812\" xlink:href=\"#DejaVuSans-41\"/>\r\n      <use x=\"757.666016\" xlink:href=\"#DejaVuSans-46\"/>\r\n      <use x=\"815.185547\" xlink:href=\"#DejaVuSans-39\"/>\r\n     </g>\r\n    </g>\r\n   </g>\r\n  </g>\r\n </g>\r\n <defs>\r\n  <clipPath id=\"pdb30d33429\">\r\n   <rect height=\"489.6\" width=\"1227.6\" x=\"33.2875\" y=\"7.2\"/>\r\n  </clipPath>\r\n </defs>\r\n</svg>\r\n",
      "image/png": "[encoded data removed]"
     },
     "metadata": {
      "needs_background": "light"
     }
    }
   ],
   "source": [
    "message_data_counters.iloc[:, 0:4].plot(x=\"created\", figsize = (22, 10))\n",
    "# for column in message_data_counters.columns:\n",
    "#     if column != 'created':\n",
    "#         message_data_counters[message_data_counters[column].notnull()].plot(x=\"created\", y=column, figsize = (22,5))"
   ]
  },
  {
   "cell_type": "code",
   "execution_count": 37,
   "metadata": {},
   "outputs": [],
   "source": []
  },
  {
   "source": [
    "\n",
    "---\n",
    "## Spielwiese"
   ],
   "cell_type": "markdown",
   "metadata": {}
  },
  {
   "cell_type": "markdown",
   "metadata": {},
   "source": [
    "## google drive api (testing still)"
   ]
  },
  {
   "cell_type": "code",
   "execution_count": 13,
   "metadata": {},
   "outputs": [],
   "source": [
    "# pip install pydrive\n",
    "from pydrive.auth import GoogleAuth\n",
    "from pydrive.drive import GoogleDrive"
   ]
  },
  {
   "cell_type": "code",
   "execution_count": 14,
   "metadata": {
    "tags": []
   },
   "outputs": [
    {
     "output_type": "stream",
     "name": "stdout",
     "text": [
      "Your browser has been opened to visit:\n",
      "\n",
      "    https://accounts.google.com/o/oauth2/auth?client_id=491460359726-lj3ilu22ir8ckqnjefot5gs99vmig1d2.apps.googleusercontent.com&redirect_uri=http%3A%2F%2Flocalhost%3A8080%2F&scope=https%3A%2F%2Fwww.googleapis.com%2Fauth%2Fdrive&access_type=offline&response_type=code\n",
      "\n",
      "Authentication successful.\n"
     ]
    }
   ],
   "source": [
    "# Rename the downloaded JSON file to client_secrets.json\n",
    "# The client_secrets.json file needs to be in the same directory as the script.\n",
    "gauth = GoogleAuth()\n",
    "drive = GoogleDrive(gauth)\n",
    "# List files in Google Drive\n",
    "fileList = drive.ListFile({'q': \"'1pxYux33QnFcvrpP17Q88_xY1nW79aJL-' in parents and trashed=false\"}).GetList()\n",
    "# for file1 in fileList:\n",
    "#   print('title: %s, id: %s' % (file1['title'], file1['id']))\n",
    "\n",
    "  "
   ]
  },
  {
   "cell_type": "code",
   "execution_count": 15,
   "metadata": {},
   "outputs": [
    {
     "output_type": "stream",
     "name": "stdout",
     "text": [
      "unsupported file\nGoogleDriveFile({'kind': 'drive#file', 'id': '1d0ORJisSlsO68xoX9jHrC8vsGZgaNfn1d45gVDojFCA', 'etag': '\"MTYxNjc3NDQ0MTgxNA\"', 'selfLink': 'https://www.googleapis.com/drive/v2/files/1d0ORJisSlsO68xoX9jHrC8vsGZgaNfn1d45gVDojFCA', 'alternateLink': 'https://docs.google.com/document/d/1d0ORJisSlsO68xoX9jHrC8vsGZgaNfn1d45gVDojFCA/edit?usp=drivesdk', 'embedLink': 'https://docs.google.com/document/d/1d0ORJisSlsO68xoX9jHrC8vsGZgaNfn1d45gVDojFCA/preview?ouid=115354251365952521942', 'iconLink': 'https://drive-thirdparty.googleusercontent.com/16/type/application/vnd.google-apps.document', 'thumbnailLink': 'https://docs.google.com/feeds/vt?gd=true&id=1d0ORJisSlsO68xoX9jHrC8vsGZgaNfn1d45gVDojFCA&v=1&s=AMedNnoAAAAAYHmn8w_fSqMPOeekA7KPOscof49ggOHX&sz=s220', 'title': 'Unbenanntes Dokument', 'mimeType': 'application/vnd.google-apps.document', 'labels': {'starred': False, 'hidden': False, 'trashed': False, 'restricted': False, 'viewed': True}, 'copyRequiresWriterPermission': False, 'createdDate': '2021-03-26T16:00:34.328Z', 'modifiedDate': '2021-03-26T16:00:41.814Z', 'modifiedByMeDate': '2021-03-26T16:00:41.814Z', 'lastViewedByMeDate': '2021-03-26T21:07:37.076Z', 'markedViewedByMeDate': '1970-01-01T00:00:00.000Z', 'version': '7', 'parents': [{'kind': 'drive#parentReference', 'id': '1pxYux33QnFcvrpP17Q88_xY1nW79aJL-', 'selfLink': 'https://www.googleapis.com/drive/v2/files/1d0ORJisSlsO68xoX9jHrC8vsGZgaNfn1d45gVDojFCA/parents/1pxYux33QnFcvrpP17Q88_xY1nW79aJL-', 'parentLink': 'https://www.googleapis.com/drive/v2/files/1pxYux33QnFcvrpP17Q88_xY1nW79aJL-', 'isRoot': False}], 'exportLinks': {'application/rtf': 'https://docs.google.com/feeds/download/documents/export/Export?id=1d0ORJisSlsO68xoX9jHrC8vsGZgaNfn1d45gVDojFCA&exportFormat=rtf', 'application/vnd.oasis.opendocument.text': 'https://docs.google.com/feeds/download/documents/export/Export?id=1d0ORJisSlsO68xoX9jHrC8vsGZgaNfn1d45gVDojFCA&exportFormat=odt', 'text/html': 'https://docs.google.com/feeds/download/documents/export/Export?id=1d0ORJisSlsO68xoX9jHrC8vsGZgaNfn1d45gVDojFCA&exportFormat=html', 'application/pdf': 'https://docs.google.com/feeds/download/documents/export/Export?id=1d0ORJisSlsO68xoX9jHrC8vsGZgaNfn1d45gVDojFCA&exportFormat=pdf', 'application/epub+zip': 'https://docs.google.com/feeds/download/documents/export/Export?id=1d0ORJisSlsO68xoX9jHrC8vsGZgaNfn1d45gVDojFCA&exportFormat=epub', 'application/zip': 'https://docs.google.com/feeds/download/documents/export/Export?id=1d0ORJisSlsO68xoX9jHrC8vsGZgaNfn1d45gVDojFCA&exportFormat=zip', 'application/vnd.openxmlformats-officedocument.wordprocessingml.document': 'https://docs.google.com/feeds/download/documents/export/Export?id=1d0ORJisSlsO68xoX9jHrC8vsGZgaNfn1d45gVDojFCA&exportFormat=docx', 'text/plain': 'https://docs.google.com/feeds/download/documents/export/Export?id=1d0ORJisSlsO68xoX9jHrC8vsGZgaNfn1d45gVDojFCA&exportFormat=txt'}, 'userPermission': {'kind': 'drive#permission', 'etag': '\"wInpqOdzFPUYlvE5WTHjs4Tnug8\"', 'id': 'me', 'selfLink': 'https://www.googleapis.com/drive/v2/files/1d0ORJisSlsO68xoX9jHrC8vsGZgaNfn1d45gVDojFCA/permissions/me', 'role': 'owner', 'type': 'user'}, 'quotaBytesUsed': '0', 'ownerNames': ['Pascal Berger'], 'owners': [{'kind': 'drive#user', 'displayName': 'Pascal Berger', 'isAuthenticatedUser': True, 'permissionId': '13414944967758792359', 'emailAddress': 'pascal.berger21@gmail.com'}], 'lastModifyingUserName': 'Pascal Berger', 'lastModifyingUser': {'kind': 'drive#user', 'displayName': 'Pascal Berger', 'isAuthenticatedUser': True, 'permissionId': '13414944967758792359', 'emailAddress': 'pascal.berger21@gmail.com'}, 'capabilities': {'canCopy': True, 'canEdit': True}, 'editable': True, 'copyable': True, 'writersCanShare': True, 'shared': True, 'explicitlyTrashed': False, 'appDataContents': False, 'spaces': ['drive']})\n"
     ]
    }
   ],
   "source": [
    "fileCons = list()\n",
    "\n",
    "for file1 in fileList:\n",
    "  if 'downloadUrl' in file1:\n",
    "    fileCons.append(requests.get(file1['downloadUrl']).content)\n",
    "  else:\n",
    "    print('unsupported file')\n",
    "    print(file1)"
   ]
  },
  {
   "cell_type": "code",
   "execution_count": 16,
   "metadata": {},
   "outputs": [
    {
     "output_type": "stream",
     "name": "stdout",
     "text": [
      "[b'{\\n \"error\": {\\n  \"errors\": [\\n   {\\n    \"domain\": \"usageLimits\",\\n    \"reason\": \"dailyLimitExceededUnreg\",\\n    \"message\": \"Daily Limit for Unauthenticated Use Exceeded. Continued use requires signup.\",\\n    \"extendedHelp\": \"https://code.google.com/apis/console\"\\n   }\\n  ],\\n  \"code\": 403,\\n  \"message\": \"Daily Limit for Unauthenticated Use Exceeded. Continued use requires signup.\"\\n }\\n}\\n']\n"
     ]
    }
   ],
   "source": [
    "print(fileCons)"
   ]
  },
  {
   "cell_type": "code",
   "execution_count": null,
   "metadata": {},
   "outputs": [],
   "source": []
  }
 ],
 "metadata": {
  "kernelspec": {
   "name": "python394jvsc74a57bd05a8dfbfd32fb00bbc17b1b5ed9a75c3d0d227413af784821a14e9b99de62ed8e",
   "display_name": "Python 3.9.4 64-bit"
  },
  "language_info": {
   "codemirror_mode": {
    "name": "ipython",
    "version": 3
   },
   "file_extension": ".py",
   "mimetype": "text/x-python",
   "name": "python",
   "nbconvert_exporter": "python",
   "pygments_lexer": "ipython3",
   "version": "3.9.4-final"
  }
 },
 "nbformat": 4,
 "nbformat_minor": 2
}