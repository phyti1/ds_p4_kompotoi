{
 "metadata": {
  "language_info": {
   "codemirror_mode": {
    "name": "ipython",
    "version": 3
   },
   "file_extension": ".py",
   "mimetype": "text/x-python",
   "name": "python",
   "nbconvert_exporter": "python",
   "pygments_lexer": "ipython3",
   "version": "3.8.5"
  },
  "orig_nbformat": 2,
  "kernelspec": {
   "name": "python3",
   "display_name": "Python 3.8.5 32-bit",
   "metadata": {
    "interpreter": {
     "hash": "7a542ca580817fc4dd55327026e074e2fa0cd470fc5dee9350c2d8b13822db8d"
    }
   }
  }
 },
 "nbformat": 4,
 "nbformat_minor": 2,
 "cells": [
  {
   "source": [
    "## Daten aus API einlesen\n",
    "Diesdasananas\n",
    "\n",
    "Api Dokumentation gemäss: https://doc.iofrog.com/apidocumentation/api.html\n",
    "Postman requests: https://www.getpostman.com/collections/eb80441a4500fd9a0634"
   ],
   "cell_type": "markdown",
   "metadata": {}
  },
  {
   "cell_type": "code",
   "execution_count": 22,
   "metadata": {},
   "outputs": [],
   "source": [
    "# packages import\n",
    "import requests\n",
    "import json\n",
    "import pandas as pd\n",
    "\n"
   ]
  },
  {
   "source": [
    "Login to api"
   ],
   "cell_type": "markdown",
   "metadata": {}
  },
  {
   "cell_type": "code",
   "execution_count": 23,
   "metadata": {},
   "outputs": [],
   "source": [
    "url = \"https://www.iofrog.com/api/v2/auth/signin/\"\n",
    "\n",
    "payload = json.dumps({\n",
    "  \"username\": \"pascal.berger@students.fhnw.ch\",\n",
    "  \"password\": \"123321\"\n",
    "})\n",
    "headers = {\n",
    "  'Content-Type': 'application/json',\n",
    "  'Cookie': ''\n",
    "}\n",
    "\n",
    "login_response = requests.request(\"POST\", url, headers=headers, data=payload)\n",
    "#print(login_response.text)\n"
   ]
  },
  {
   "cell_type": "code",
   "execution_count": 24,
   "metadata": {},
   "outputs": [
    {
     "output_type": "execute_result",
     "data": {
      "text/plain": [
       "                                             user  \\\n",
       "firstName                                  Pascal   \n",
       "lastName                                   Berger   \n",
       "isActivated                                  True   \n",
       "level                                      expert   \n",
       "partner                                    heliot   \n",
       "lang                                           en   \n",
       "timeZone                            Europe/Berlin   \n",
       "units         {'temperature': 'C', 'system': 'M'}   \n",
       "accessToken                                   NaN   \n",
       "refreshToken                                  NaN   \n",
       "\n",
       "                                                          token  \n",
       "firstName                                                   NaN  \n",
       "lastName                                                    NaN  \n",
       "isActivated                                                 NaN  \n",
       "level                                                       NaN  \n",
       "partner                                                     NaN  \n",
       "lang                                                        NaN  \n",
       "timeZone                                                    NaN  \n",
       "units                                                       NaN  \n",
       "accessToken   eyJhbGciOiJIUzI1NiIsInR5cCI6IkpXVCJ9.eyJpZCI6I...  \n",
       "refreshToken  605c54497746444305ca2511.93c2f327ec17d30bc4d67...  "
      ],
      "text/html": "<div>\n<style scoped>\n    .dataframe tbody tr th:only-of-type {\n        vertical-align: middle;\n    }\n\n    .dataframe tbody tr th {\n        vertical-align: top;\n    }\n\n    .dataframe thead th {\n        text-align: right;\n    }\n</style>\n<table border=\"1\" class=\"dataframe\">\n  <thead>\n    <tr style=\"text-align: right;\">\n      <th></th>\n      <th>user</th>\n      <th>token</th>\n    </tr>\n  </thead>\n  <tbody>\n    <tr>\n      <th>firstName</th>\n      <td>Pascal</td>\n      <td>NaN</td>\n    </tr>\n    <tr>\n      <th>lastName</th>\n      <td>Berger</td>\n      <td>NaN</td>\n    </tr>\n    <tr>\n      <th>isActivated</th>\n      <td>True</td>\n      <td>NaN</td>\n    </tr>\n    <tr>\n      <th>level</th>\n      <td>expert</td>\n      <td>NaN</td>\n    </tr>\n    <tr>\n      <th>partner</th>\n      <td>heliot</td>\n      <td>NaN</td>\n    </tr>\n    <tr>\n      <th>lang</th>\n      <td>en</td>\n      <td>NaN</td>\n    </tr>\n    <tr>\n      <th>timeZone</th>\n      <td>Europe/Berlin</td>\n      <td>NaN</td>\n    </tr>\n    <tr>\n      <th>units</th>\n      <td>{'temperature': 'C', 'system': 'M'}</td>\n      <td>NaN</td>\n    </tr>\n    <tr>\n      <th>accessToken</th>\n      <td>NaN</td>\n      <td>eyJhbGciOiJIUzI1NiIsInR5cCI6IkpXVCJ9.eyJpZCI6I...</td>\n    </tr>\n    <tr>\n      <th>refreshToken</th>\n      <td>NaN</td>\n      <td>605c54497746444305ca2511.93c2f327ec17d30bc4d67...</td>\n    </tr>\n  </tbody>\n</table>\n</div>"
     },
     "metadata": {},
     "execution_count": 24
    }
   ],
   "source": [
    "login_data = pd.read_json(login_response.text)\n",
    "access_token = login_data.loc['accessToken', 'token']\n",
    "login_data"
   ]
  },
  {
   "source": [
    "get devices data"
   ],
   "cell_type": "markdown",
   "metadata": {}
  },
  {
   "cell_type": "code",
   "execution_count": 25,
   "metadata": {},
   "outputs": [],
   "source": [
    "url = \"https://www.iofrog.com/api/v2/devices/dashboard\"\n",
    "\n",
    "payload = json.dumps([\n",
    "  {\n",
    "    \"data\": [],\n",
    "    \"count\": 2,\n",
    "    \"meta\": {}\n",
    "  }\n",
    "])\n",
    "headers = {\n",
    "  'Authorization': 'Bearer ' + access_token,\n",
    "  'Content-Type': 'application/json',\n",
    "  'Cookie': ''\n",
    "}\n",
    "\n",
    "devices_response = requests.request(\"GET\", url, headers=headers, data=payload)\n",
    "#print(devices_response.text)\n"
   ]
  },
  {
   "cell_type": "code",
   "execution_count": 42,
   "metadata": {},
   "outputs": [
    {
     "output_type": "execute_result",
     "data": {
      "text/plain": [
       "        id                   groupId                            name  \\\n",
       "0  2203AAB  60476e95362d421c28ee0058   SimplePack POC_02203AAB TeamA   \n",
       "1  2203AF9  60476e95362d421c28ee0058   SimplePack POC_02203AF9 TeamA   \n",
       "2  2203ACB  60476e95362d421c28ee0058   SimplePackPOC_02203ACB  TeamB   \n",
       "3  2203AFA  60476e95362d421c28ee0058    SimplePackPOC_02203AFA TeamB   \n",
       "4  1F25047  60476e95362d421c28ee0058  SimplePackPTH_01F25047 TeamB\\t   \n",
       "5  1F2504E  60476e95362d421c28ee0058    SimplePackPTH_01F2504E TeamA   \n",
       "\n",
       "                          typeId        modeId  \\\n",
       "0  simple_pack_plus_full_3_0_6_0  reed_counter   \n",
       "1  simple_pack_plus_full_3_0_6_0           NaN   \n",
       "2  simple_pack_plus_full_3_0_6_0          reed   \n",
       "3  simple_pack_plus_full_3_0_6_0      press_me   \n",
       "4  simple_pack_plus_full_3_0_6_0   put_me_back   \n",
       "5  simple_pack_plus_full_3_0_6_0           NaN   \n",
       "\n",
       "                       downlinkData  active                    location  \\\n",
       "0                  0000000051410788    True  {'lat': None, 'lng': None}   \n",
       "1  011307880F07500A000000000000515E    True  {'lat': None, 'lng': None}   \n",
       "2                  0000000000000788    True  {'lat': None, 'lng': None}   \n",
       "3                  0000000000000788    True  {'lat': None, 'lng': None}   \n",
       "4                                      True  {'lat': None, 'lng': None}   \n",
       "5                  00000F0707880106    True  {'lat': None, 'lng': None}   \n",
       "\n",
       "                                       viewConfig  \\\n",
       "0  {'locationSource': 'fallback', 'view': 'last'}   \n",
       "1     {'locationSource': 'atlas', 'view': 'last'}   \n",
       "2  {'locationSource': 'fallback', 'view': 'last'}   \n",
       "3  {'locationSource': 'fallback', 'view': 'last'}   \n",
       "4  {'locationSource': 'fallback', 'view': 'last'}   \n",
       "5     {'locationSource': 'atlas', 'view': 'last'}   \n",
       "\n",
       "                                              status  \\\n",
       "0  {'isRegistered': True, 'isReadyForActivation':...   \n",
       "1  {'isRegistered': True, 'isReadyForActivation':...   \n",
       "2  {'isRegistered': True, 'isReadyForActivation':...   \n",
       "3  {'isRegistered': True, 'isReadyForActivation':...   \n",
       "4  {'isRegistered': True, 'isReadyForActivation':...   \n",
       "5  {'isRegistered': True, 'isReadyForActivation':...   \n",
       "\n",
       "                                       subscriptions  \\\n",
       "0  [{'_id': '60489bab362d421c28f49a02', 'provider...   \n",
       "1  [{'_id': '6050c0467d354e09ee4aa73e', 'provider...   \n",
       "2  [{'_id': '60489995362d421c28f48edd', 'provider...   \n",
       "3  [{'_id': '60489ad5362d421c28f49667', 'provider...   \n",
       "4  [{'_id': '60489b3f362d421c28f498b2', 'provider...   \n",
       "5  [{'_id': '6050bd897d354e09ee4a5d37', 'provider...   \n",
       "\n",
       "                             lastSourceBasedLocation  \\\n",
       "0  {'geoplaces': [], '_id': '6059fbafb3ae30315afb...   \n",
       "1                                                NaN   \n",
       "2  {'geoplaces': [], '_id': '605b68f2f4e46133dc9e...   \n",
       "3  {'geoplaces': [], '_id': '605b4291f4e46133dc9b...   \n",
       "4  {'geoplaces': [], '_id': '6058b9d703380b4c4fd1...   \n",
       "5                                                NaN   \n",
       "\n",
       "                                     lastDataMessage trackedKeys badges  \n",
       "0  {'_id': '605b57c4f4e46133dc9d069f', 'keys': [{...          []     []  \n",
       "1  {'_id': '605b445e7746444305bb202d', 'keys': [{...          []     []  \n",
       "2  {'_id': '605bc092f4e46133dca2fd8a', 'keys': [{...          []     []  \n",
       "3  {'_id': '605c42ed7746444305c91bad', 'keys': [{...          []     []  \n",
       "4  {'_id': '605c4ba2f4e46133dca9fa98', 'keys': [{...          []     []  \n",
       "5  {'_id': '605c4da57746444305c9bc7d', 'keys': [{...          []     []  "
      ],
      "text/html": "<div>\n<style scoped>\n    .dataframe tbody tr th:only-of-type {\n        vertical-align: middle;\n    }\n\n    .dataframe tbody tr th {\n        vertical-align: top;\n    }\n\n    .dataframe thead th {\n        text-align: right;\n    }\n</style>\n<table border=\"1\" class=\"dataframe\">\n  <thead>\n    <tr style=\"text-align: right;\">\n      <th></th>\n      <th>id</th>\n      <th>groupId</th>\n      <th>name</th>\n      <th>typeId</th>\n      <th>modeId</th>\n      <th>downlinkData</th>\n      <th>active</th>\n      <th>location</th>\n      <th>viewConfig</th>\n      <th>status</th>\n      <th>subscriptions</th>\n      <th>lastSourceBasedLocation</th>\n      <th>lastDataMessage</th>\n      <th>trackedKeys</th>\n      <th>badges</th>\n    </tr>\n  </thead>\n  <tbody>\n    <tr>\n      <th>0</th>\n      <td>2203AAB</td>\n      <td>60476e95362d421c28ee0058</td>\n      <td>SimplePack POC_02203AAB TeamA</td>\n      <td>simple_pack_plus_full_3_0_6_0</td>\n      <td>reed_counter</td>\n      <td>0000000051410788</td>\n      <td>True</td>\n      <td>{'lat': None, 'lng': None}</td>\n      <td>{'locationSource': 'fallback', 'view': 'last'}</td>\n      <td>{'isRegistered': True, 'isReadyForActivation':...</td>\n      <td>[{'_id': '60489bab362d421c28f49a02', 'provider...</td>\n      <td>{'geoplaces': [], '_id': '6059fbafb3ae30315afb...</td>\n      <td>{'_id': '605b57c4f4e46133dc9d069f', 'keys': [{...</td>\n      <td>[]</td>\n      <td>[]</td>\n    </tr>\n    <tr>\n      <th>1</th>\n      <td>2203AF9</td>\n      <td>60476e95362d421c28ee0058</td>\n      <td>SimplePack POC_02203AF9 TeamA</td>\n      <td>simple_pack_plus_full_3_0_6_0</td>\n      <td>NaN</td>\n      <td>011307880F07500A000000000000515E</td>\n      <td>True</td>\n      <td>{'lat': None, 'lng': None}</td>\n      <td>{'locationSource': 'atlas', 'view': 'last'}</td>\n      <td>{'isRegistered': True, 'isReadyForActivation':...</td>\n      <td>[{'_id': '6050c0467d354e09ee4aa73e', 'provider...</td>\n      <td>NaN</td>\n      <td>{'_id': '605b445e7746444305bb202d', 'keys': [{...</td>\n      <td>[]</td>\n      <td>[]</td>\n    </tr>\n    <tr>\n      <th>2</th>\n      <td>2203ACB</td>\n      <td>60476e95362d421c28ee0058</td>\n      <td>SimplePackPOC_02203ACB  TeamB</td>\n      <td>simple_pack_plus_full_3_0_6_0</td>\n      <td>reed</td>\n      <td>0000000000000788</td>\n      <td>True</td>\n      <td>{'lat': None, 'lng': None}</td>\n      <td>{'locationSource': 'fallback', 'view': 'last'}</td>\n      <td>{'isRegistered': True, 'isReadyForActivation':...</td>\n      <td>[{'_id': '60489995362d421c28f48edd', 'provider...</td>\n      <td>{'geoplaces': [], '_id': '605b68f2f4e46133dc9e...</td>\n      <td>{'_id': '605bc092f4e46133dca2fd8a', 'keys': [{...</td>\n      <td>[]</td>\n      <td>[]</td>\n    </tr>\n    <tr>\n      <th>3</th>\n      <td>2203AFA</td>\n      <td>60476e95362d421c28ee0058</td>\n      <td>SimplePackPOC_02203AFA TeamB</td>\n      <td>simple_pack_plus_full_3_0_6_0</td>\n      <td>press_me</td>\n      <td>0000000000000788</td>\n      <td>True</td>\n      <td>{'lat': None, 'lng': None}</td>\n      <td>{'locationSource': 'fallback', 'view': 'last'}</td>\n      <td>{'isRegistered': True, 'isReadyForActivation':...</td>\n      <td>[{'_id': '60489ad5362d421c28f49667', 'provider...</td>\n      <td>{'geoplaces': [], '_id': '605b4291f4e46133dc9b...</td>\n      <td>{'_id': '605c42ed7746444305c91bad', 'keys': [{...</td>\n      <td>[]</td>\n      <td>[]</td>\n    </tr>\n    <tr>\n      <th>4</th>\n      <td>1F25047</td>\n      <td>60476e95362d421c28ee0058</td>\n      <td>SimplePackPTH_01F25047 TeamB\\t</td>\n      <td>simple_pack_plus_full_3_0_6_0</td>\n      <td>put_me_back</td>\n      <td></td>\n      <td>True</td>\n      <td>{'lat': None, 'lng': None}</td>\n      <td>{'locationSource': 'fallback', 'view': 'last'}</td>\n      <td>{'isRegistered': True, 'isReadyForActivation':...</td>\n      <td>[{'_id': '60489b3f362d421c28f498b2', 'provider...</td>\n      <td>{'geoplaces': [], '_id': '6058b9d703380b4c4fd1...</td>\n      <td>{'_id': '605c4ba2f4e46133dca9fa98', 'keys': [{...</td>\n      <td>[]</td>\n      <td>[]</td>\n    </tr>\n    <tr>\n      <th>5</th>\n      <td>1F2504E</td>\n      <td>60476e95362d421c28ee0058</td>\n      <td>SimplePackPTH_01F2504E TeamA</td>\n      <td>simple_pack_plus_full_3_0_6_0</td>\n      <td>NaN</td>\n      <td>00000F0707880106</td>\n      <td>True</td>\n      <td>{'lat': None, 'lng': None}</td>\n      <td>{'locationSource': 'atlas', 'view': 'last'}</td>\n      <td>{'isRegistered': True, 'isReadyForActivation':...</td>\n      <td>[{'_id': '6050bd897d354e09ee4a5d37', 'provider...</td>\n      <td>NaN</td>\n      <td>{'_id': '605c4da57746444305c9bc7d', 'keys': [{...</td>\n      <td>[]</td>\n      <td>[]</td>\n    </tr>\n  </tbody>\n</table>\n</div>"
     },
     "metadata": {},
     "execution_count": 42
    }
   ],
   "source": [
    "#print(devices_response.text)\n",
    "#device_data = pd.read_json(devices_response.text)\n",
    "\n",
    "device_dict = json.loads(devices_response.text)\n",
    "device_data = pd.DataFrame.from_dict(device_dict['data'])\n",
    "#device_data = pd.json_normalize(device_dict)\n",
    "#device_dict['data']\n",
    "device_data"
   ]
  },
  {
   "cell_type": "code",
   "execution_count": 45,
   "metadata": {
    "tags": []
   },
   "outputs": [],
   "source": [
    "url = \"https://www.iofrog.com/api/v2/devices/2203AAB/messages/\"\n",
    "\n",
    "payload = json.dumps({\n",
    "  \"data\": [\n",
    "    {\n",
    "      \"_id\": \"1f704bc5-5055-43eb-a851-c87b6b0bf7b9\",\n",
    "      \"isAlarm\": False,\n",
    "      \"isDismissed\": False,\n",
    "      \"timestamp\": 1584093653,\n",
    "      \"type\": \"data_uplink\",\n",
    "      \"seqNumber\": 1,\n",
    "      \"keys\": [\n",
    "        {\n",
    "          \"isCode\": False,\n",
    "          \"_id\": \"1111111111111111111111\",\n",
    "          \"key\": \"key\",\n",
    "          \"value\": \"value\",\n",
    "          \"keyLocale\": \"Klíč\",\n",
    "          \"valueLocale\": \"Hodnota\",\n",
    "          \"color\": \"alarm\",\n",
    "          \"icon\": \"icon name (from fontAwesome)\"\n",
    "        }\n",
    "      ]\n",
    "    }\n",
    "  ],\n",
    "  \"count\": 1\n",
    "})\n",
    "headers = {\n",
    "  'Authorization': 'Bearer ' + access_token,\n",
    "  'Content-Type': 'application/json',\n",
    "  'Cookie': ''\n",
    "}\n",
    "\n",
    "message_response = requests.request(\"GET\", url, headers=headers, data=payload)\n",
    "\n",
    "# print(response.text)\n"
   ]
  },
  {
   "cell_type": "code",
   "execution_count": 92,
   "metadata": {
    "tags": []
   },
   "outputs": [
    {
     "output_type": "execute_result",
     "data": {
      "text/plain": [
       "                         _id   timestamp         type  seqNumber deviceId  \\\n",
       "0   605b57c4f4e46133dc9d069f  1616598979   data_bidir       38.0  2203AAB   \n",
       "1   605b45387746444305bb2efb  1616594230   data_bidir       37.0  2203AAB   \n",
       "2   605b45607746444305bb30d5  1616594230  service_ack        NaN  2203AAB   \n",
       "3   605b3449f4e46133dc9a8e96  1616589897   data_bidir       36.0  2203AAB   \n",
       "4   605a60aa82c5542ccc8663db  1616535721   data_bidir       35.0  2203AAB   \n",
       "5   605a023eb3ae30315afc75b5  1616511548   data_bidir       34.0  2203AAB   \n",
       "6   605a025c82c5542ccc80d88f  1616511548  service_ack        NaN  2203AAB   \n",
       "7   605a01f982c5542ccc80cf55  1616511480   data_bidir       32.0  2203AAB   \n",
       "8   605a000f82c5542ccc80b096  1616510989   data_bidir       31.0  2203AAB   \n",
       "9   605a0010b3ae30315afc4d76  1616510983   data_bidir       30.0  2203AAB   \n",
       "10  6059ffdf82c5542ccc80ad7e  1616510917   data_bidir       29.0  2203AAB   \n",
       "11  6059fdcbb3ae30315afc2180  1616510411   data_bidir       26.0  2203AAB   \n",
       "12  6059fdebb3ae30315afc246a  1616510411  service_ack        NaN  2203AAB   \n",
       "13  6059deb1b3ae30315af9dd17  1616502448   data_bidir       24.0  2203AAB   \n",
       "14  605888a70219e21f309428e2  1616414882   data_bidir       23.0  2203AAB   \n",
       "15  6057328115161419e48cfba4  1616327290   data_bidir       22.0  2203AAB   \n",
       "16  6057327574c45377d268b30a  1616327281   data_bidir       21.0  2203AAB   \n",
       "17  60565e97ca1391240368d04e  1616273045   data_bidir       20.0  2203AAB   \n",
       "18  6055dcaa0302862bbf960f20  1616239785   data_bidir       19.0  2203AAB   \n",
       "19  6054871168c1073b17870fbe  1616152337   data_bidir       18.0  2203AAB   \n",
       "20  605487095ad93a42b974e5bf  1616152328   data_bidir       17.0  2203AAB   \n",
       "21  605331f17022e578581060d7  1616064993   data_bidir       16.0  2203AAB   \n",
       "22  605331f27022e578581060fd  1616064985   data_bidir       15.0  2203AAB   \n",
       "23  605331c5db7bb56fadb29fb6  1616064963   data_bidir       14.0  2203AAB   \n",
       "24  605331947022e57858105bf8  1616064913   data_bidir       13.0  2203AAB   \n",
       "25  60525e452ccddf2fbb7d7e8e  1616010821   data_bidir       12.0  2203AAB   \n",
       "26  604e5f16362d421c28142e0c  1615748883   data_bidir       11.0  2203AAB   \n",
       "27  604e5ef2362d421c28142c94  1615748844   data_bidir        9.0  2203AAB   \n",
       "28  604e5f0c362d421c28142dee  1615748844  service_ack        NaN  2203AAB   \n",
       "29  604e4cc55486724650d0aa09  1615744196   data_bidir        8.0  2203AAB   \n",
       "\n",
       "                     created  __v isAlarm isDismissed battery temperature  \n",
       "0   2021-03-24T15:16:20.290Z    0     NaN         NaN     NaN         NaN  \n",
       "1   2021-03-24T13:57:12.136Z    0     NaN         NaN     NaN         NaN  \n",
       "2   2021-03-24T13:57:52.781Z    0     NaN         NaN     NaN         NaN  \n",
       "3   2021-03-24T12:44:57.988Z    0     NaN         NaN      3V      20.5°C  \n",
       "4   2021-03-23T21:42:02.436Z    0     NaN         NaN      3V        19°C  \n",
       "5   2021-03-23T14:59:10.293Z    0     NaN         NaN     NaN         NaN  \n",
       "6   2021-03-23T14:59:40.564Z    0     NaN         NaN     NaN         NaN  \n",
       "7   2021-03-23T14:58:01.691Z    0     NaN         NaN     NaN         NaN  \n",
       "8   2021-03-23T14:49:51.314Z    0     NaN         NaN     NaN         NaN  \n",
       "9   2021-03-23T14:49:52.374Z    0     NaN         NaN     NaN         NaN  \n",
       "10  2021-03-23T14:49:03.028Z    0     NaN         NaN     NaN         NaN  \n",
       "11  2021-03-23T14:40:11.719Z    0     NaN         NaN     NaN         NaN  \n",
       "12  2021-03-23T14:40:43.586Z    0     NaN         NaN     NaN         NaN  \n",
       "13  2021-03-23T12:27:29.614Z    0     NaN         NaN      3V      18.5°C  \n",
       "14  2021-03-22T12:08:07.485Z    0     NaN         NaN      3V      18.5°C  \n",
       "15  2021-03-21T11:48:17.267Z    0     NaN         NaN     NaN         NaN  \n",
       "16  2021-03-21T11:48:05.503Z    0     NaN         NaN      3V        18°C  \n",
       "17  2021-03-20T20:44:07.690Z    0     NaN         NaN      3V      17.5°C  \n",
       "18  2021-03-20T11:29:46.632Z    0     NaN         NaN      3V        20°C  \n",
       "19  2021-03-19T11:12:17.899Z    0     NaN         NaN     NaN         NaN  \n",
       "20  2021-03-19T11:12:09.689Z    0     NaN         NaN      3V        21°C  \n",
       "21  2021-03-18T10:56:49.754Z    0     NaN         NaN      3V      24.5°C  \n",
       "22  2021-03-18T10:56:50.969Z    0     NaN         NaN     NaN         NaN  \n",
       "23  2021-03-18T10:56:05.116Z    0     NaN         NaN     NaN         NaN  \n",
       "24  2021-03-18T10:55:16.413Z    0     NaN         NaN     NaN         NaN  \n",
       "25  2021-03-17T19:53:41.998Z    0     NaN         NaN      3V      18.5°C  \n",
       "26  2021-03-14T19:08:06.888Z    0   False       False     NaN         NaN  \n",
       "27  2021-03-14T19:07:30.830Z    0   False       False     NaN         NaN  \n",
       "28  2021-03-14T19:07:56.629Z    0   False       False     NaN         NaN  \n",
       "29  2021-03-14T17:49:57.356Z    0   False       False     NaN         NaN  "
      ],
      "text/html": "<div>\n<style scoped>\n    .dataframe tbody tr th:only-of-type {\n        vertical-align: middle;\n    }\n\n    .dataframe tbody tr th {\n        vertical-align: top;\n    }\n\n    .dataframe thead th {\n        text-align: right;\n    }\n</style>\n<table border=\"1\" class=\"dataframe\">\n  <thead>\n    <tr style=\"text-align: right;\">\n      <th></th>\n      <th>_id</th>\n      <th>timestamp</th>\n      <th>type</th>\n      <th>seqNumber</th>\n      <th>deviceId</th>\n      <th>created</th>\n      <th>__v</th>\n      <th>isAlarm</th>\n      <th>isDismissed</th>\n      <th>battery</th>\n      <th>temperature</th>\n    </tr>\n  </thead>\n  <tbody>\n    <tr>\n      <th>0</th>\n      <td>605b57c4f4e46133dc9d069f</td>\n      <td>1616598979</td>\n      <td>data_bidir</td>\n      <td>38.0</td>\n      <td>2203AAB</td>\n      <td>2021-03-24T15:16:20.290Z</td>\n      <td>0</td>\n      <td>NaN</td>\n      <td>NaN</td>\n      <td>NaN</td>\n      <td>NaN</td>\n    </tr>\n    <tr>\n      <th>1</th>\n      <td>605b45387746444305bb2efb</td>\n      <td>1616594230</td>\n      <td>data_bidir</td>\n      <td>37.0</td>\n      <td>2203AAB</td>\n      <td>2021-03-24T13:57:12.136Z</td>\n      <td>0</td>\n      <td>NaN</td>\n      <td>NaN</td>\n      <td>NaN</td>\n      <td>NaN</td>\n    </tr>\n    <tr>\n      <th>2</th>\n      <td>605b45607746444305bb30d5</td>\n      <td>1616594230</td>\n      <td>service_ack</td>\n      <td>NaN</td>\n      <td>2203AAB</td>\n      <td>2021-03-24T13:57:52.781Z</td>\n      <td>0</td>\n      <td>NaN</td>\n      <td>NaN</td>\n      <td>NaN</td>\n      <td>NaN</td>\n    </tr>\n    <tr>\n      <th>3</th>\n      <td>605b3449f4e46133dc9a8e96</td>\n      <td>1616589897</td>\n      <td>data_bidir</td>\n      <td>36.0</td>\n      <td>2203AAB</td>\n      <td>2021-03-24T12:44:57.988Z</td>\n      <td>0</td>\n      <td>NaN</td>\n      <td>NaN</td>\n      <td>3V</td>\n      <td>20.5°C</td>\n    </tr>\n    <tr>\n      <th>4</th>\n      <td>605a60aa82c5542ccc8663db</td>\n      <td>1616535721</td>\n      <td>data_bidir</td>\n      <td>35.0</td>\n      <td>2203AAB</td>\n      <td>2021-03-23T21:42:02.436Z</td>\n      <td>0</td>\n      <td>NaN</td>\n      <td>NaN</td>\n      <td>3V</td>\n      <td>19°C</td>\n    </tr>\n    <tr>\n      <th>5</th>\n      <td>605a023eb3ae30315afc75b5</td>\n      <td>1616511548</td>\n      <td>data_bidir</td>\n      <td>34.0</td>\n      <td>2203AAB</td>\n      <td>2021-03-23T14:59:10.293Z</td>\n      <td>0</td>\n      <td>NaN</td>\n      <td>NaN</td>\n      <td>NaN</td>\n      <td>NaN</td>\n    </tr>\n    <tr>\n      <th>6</th>\n      <td>605a025c82c5542ccc80d88f</td>\n      <td>1616511548</td>\n      <td>service_ack</td>\n      <td>NaN</td>\n      <td>2203AAB</td>\n      <td>2021-03-23T14:59:40.564Z</td>\n      <td>0</td>\n      <td>NaN</td>\n      <td>NaN</td>\n      <td>NaN</td>\n      <td>NaN</td>\n    </tr>\n    <tr>\n      <th>7</th>\n      <td>605a01f982c5542ccc80cf55</td>\n      <td>1616511480</td>\n      <td>data_bidir</td>\n      <td>32.0</td>\n      <td>2203AAB</td>\n      <td>2021-03-23T14:58:01.691Z</td>\n      <td>0</td>\n      <td>NaN</td>\n      <td>NaN</td>\n      <td>NaN</td>\n      <td>NaN</td>\n    </tr>\n    <tr>\n      <th>8</th>\n      <td>605a000f82c5542ccc80b096</td>\n      <td>1616510989</td>\n      <td>data_bidir</td>\n      <td>31.0</td>\n      <td>2203AAB</td>\n      <td>2021-03-23T14:49:51.314Z</td>\n      <td>0</td>\n      <td>NaN</td>\n      <td>NaN</td>\n      <td>NaN</td>\n      <td>NaN</td>\n    </tr>\n    <tr>\n      <th>9</th>\n      <td>605a0010b3ae30315afc4d76</td>\n      <td>1616510983</td>\n      <td>data_bidir</td>\n      <td>30.0</td>\n      <td>2203AAB</td>\n      <td>2021-03-23T14:49:52.374Z</td>\n      <td>0</td>\n      <td>NaN</td>\n      <td>NaN</td>\n      <td>NaN</td>\n      <td>NaN</td>\n    </tr>\n    <tr>\n      <th>10</th>\n      <td>6059ffdf82c5542ccc80ad7e</td>\n      <td>1616510917</td>\n      <td>data_bidir</td>\n      <td>29.0</td>\n      <td>2203AAB</td>\n      <td>2021-03-23T14:49:03.028Z</td>\n      <td>0</td>\n      <td>NaN</td>\n      <td>NaN</td>\n      <td>NaN</td>\n      <td>NaN</td>\n    </tr>\n    <tr>\n      <th>11</th>\n      <td>6059fdcbb3ae30315afc2180</td>\n      <td>1616510411</td>\n      <td>data_bidir</td>\n      <td>26.0</td>\n      <td>2203AAB</td>\n      <td>2021-03-23T14:40:11.719Z</td>\n      <td>0</td>\n      <td>NaN</td>\n      <td>NaN</td>\n      <td>NaN</td>\n      <td>NaN</td>\n    </tr>\n    <tr>\n      <th>12</th>\n      <td>6059fdebb3ae30315afc246a</td>\n      <td>1616510411</td>\n      <td>service_ack</td>\n      <td>NaN</td>\n      <td>2203AAB</td>\n      <td>2021-03-23T14:40:43.586Z</td>\n      <td>0</td>\n      <td>NaN</td>\n      <td>NaN</td>\n      <td>NaN</td>\n      <td>NaN</td>\n    </tr>\n    <tr>\n      <th>13</th>\n      <td>6059deb1b3ae30315af9dd17</td>\n      <td>1616502448</td>\n      <td>data_bidir</td>\n      <td>24.0</td>\n      <td>2203AAB</td>\n      <td>2021-03-23T12:27:29.614Z</td>\n      <td>0</td>\n      <td>NaN</td>\n      <td>NaN</td>\n      <td>3V</td>\n      <td>18.5°C</td>\n    </tr>\n    <tr>\n      <th>14</th>\n      <td>605888a70219e21f309428e2</td>\n      <td>1616414882</td>\n      <td>data_bidir</td>\n      <td>23.0</td>\n      <td>2203AAB</td>\n      <td>2021-03-22T12:08:07.485Z</td>\n      <td>0</td>\n      <td>NaN</td>\n      <td>NaN</td>\n      <td>3V</td>\n      <td>18.5°C</td>\n    </tr>\n    <tr>\n      <th>15</th>\n      <td>6057328115161419e48cfba4</td>\n      <td>1616327290</td>\n      <td>data_bidir</td>\n      <td>22.0</td>\n      <td>2203AAB</td>\n      <td>2021-03-21T11:48:17.267Z</td>\n      <td>0</td>\n      <td>NaN</td>\n      <td>NaN</td>\n      <td>NaN</td>\n      <td>NaN</td>\n    </tr>\n    <tr>\n      <th>16</th>\n      <td>6057327574c45377d268b30a</td>\n      <td>1616327281</td>\n      <td>data_bidir</td>\n      <td>21.0</td>\n      <td>2203AAB</td>\n      <td>2021-03-21T11:48:05.503Z</td>\n      <td>0</td>\n      <td>NaN</td>\n      <td>NaN</td>\n      <td>3V</td>\n      <td>18°C</td>\n    </tr>\n    <tr>\n      <th>17</th>\n      <td>60565e97ca1391240368d04e</td>\n      <td>1616273045</td>\n      <td>data_bidir</td>\n      <td>20.0</td>\n      <td>2203AAB</td>\n      <td>2021-03-20T20:44:07.690Z</td>\n      <td>0</td>\n      <td>NaN</td>\n      <td>NaN</td>\n      <td>3V</td>\n      <td>17.5°C</td>\n    </tr>\n    <tr>\n      <th>18</th>\n      <td>6055dcaa0302862bbf960f20</td>\n      <td>1616239785</td>\n      <td>data_bidir</td>\n      <td>19.0</td>\n      <td>2203AAB</td>\n      <td>2021-03-20T11:29:46.632Z</td>\n      <td>0</td>\n      <td>NaN</td>\n      <td>NaN</td>\n      <td>3V</td>\n      <td>20°C</td>\n    </tr>\n    <tr>\n      <th>19</th>\n      <td>6054871168c1073b17870fbe</td>\n      <td>1616152337</td>\n      <td>data_bidir</td>\n      <td>18.0</td>\n      <td>2203AAB</td>\n      <td>2021-03-19T11:12:17.899Z</td>\n      <td>0</td>\n      <td>NaN</td>\n      <td>NaN</td>\n      <td>NaN</td>\n      <td>NaN</td>\n    </tr>\n    <tr>\n      <th>20</th>\n      <td>605487095ad93a42b974e5bf</td>\n      <td>1616152328</td>\n      <td>data_bidir</td>\n      <td>17.0</td>\n      <td>2203AAB</td>\n      <td>2021-03-19T11:12:09.689Z</td>\n      <td>0</td>\n      <td>NaN</td>\n      <td>NaN</td>\n      <td>3V</td>\n      <td>21°C</td>\n    </tr>\n    <tr>\n      <th>21</th>\n      <td>605331f17022e578581060d7</td>\n      <td>1616064993</td>\n      <td>data_bidir</td>\n      <td>16.0</td>\n      <td>2203AAB</td>\n      <td>2021-03-18T10:56:49.754Z</td>\n      <td>0</td>\n      <td>NaN</td>\n      <td>NaN</td>\n      <td>3V</td>\n      <td>24.5°C</td>\n    </tr>\n    <tr>\n      <th>22</th>\n      <td>605331f27022e578581060fd</td>\n      <td>1616064985</td>\n      <td>data_bidir</td>\n      <td>15.0</td>\n      <td>2203AAB</td>\n      <td>2021-03-18T10:56:50.969Z</td>\n      <td>0</td>\n      <td>NaN</td>\n      <td>NaN</td>\n      <td>NaN</td>\n      <td>NaN</td>\n    </tr>\n    <tr>\n      <th>23</th>\n      <td>605331c5db7bb56fadb29fb6</td>\n      <td>1616064963</td>\n      <td>data_bidir</td>\n      <td>14.0</td>\n      <td>2203AAB</td>\n      <td>2021-03-18T10:56:05.116Z</td>\n      <td>0</td>\n      <td>NaN</td>\n      <td>NaN</td>\n      <td>NaN</td>\n      <td>NaN</td>\n    </tr>\n    <tr>\n      <th>24</th>\n      <td>605331947022e57858105bf8</td>\n      <td>1616064913</td>\n      <td>data_bidir</td>\n      <td>13.0</td>\n      <td>2203AAB</td>\n      <td>2021-03-18T10:55:16.413Z</td>\n      <td>0</td>\n      <td>NaN</td>\n      <td>NaN</td>\n      <td>NaN</td>\n      <td>NaN</td>\n    </tr>\n    <tr>\n      <th>25</th>\n      <td>60525e452ccddf2fbb7d7e8e</td>\n      <td>1616010821</td>\n      <td>data_bidir</td>\n      <td>12.0</td>\n      <td>2203AAB</td>\n      <td>2021-03-17T19:53:41.998Z</td>\n      <td>0</td>\n      <td>NaN</td>\n      <td>NaN</td>\n      <td>3V</td>\n      <td>18.5°C</td>\n    </tr>\n    <tr>\n      <th>26</th>\n      <td>604e5f16362d421c28142e0c</td>\n      <td>1615748883</td>\n      <td>data_bidir</td>\n      <td>11.0</td>\n      <td>2203AAB</td>\n      <td>2021-03-14T19:08:06.888Z</td>\n      <td>0</td>\n      <td>False</td>\n      <td>False</td>\n      <td>NaN</td>\n      <td>NaN</td>\n    </tr>\n    <tr>\n      <th>27</th>\n      <td>604e5ef2362d421c28142c94</td>\n      <td>1615748844</td>\n      <td>data_bidir</td>\n      <td>9.0</td>\n      <td>2203AAB</td>\n      <td>2021-03-14T19:07:30.830Z</td>\n      <td>0</td>\n      <td>False</td>\n      <td>False</td>\n      <td>NaN</td>\n      <td>NaN</td>\n    </tr>\n    <tr>\n      <th>28</th>\n      <td>604e5f0c362d421c28142dee</td>\n      <td>1615748844</td>\n      <td>service_ack</td>\n      <td>NaN</td>\n      <td>2203AAB</td>\n      <td>2021-03-14T19:07:56.629Z</td>\n      <td>0</td>\n      <td>False</td>\n      <td>False</td>\n      <td>NaN</td>\n      <td>NaN</td>\n    </tr>\n    <tr>\n      <th>29</th>\n      <td>604e4cc55486724650d0aa09</td>\n      <td>1615744196</td>\n      <td>data_bidir</td>\n      <td>8.0</td>\n      <td>2203AAB</td>\n      <td>2021-03-14T17:49:57.356Z</td>\n      <td>0</td>\n      <td>False</td>\n      <td>False</td>\n      <td>NaN</td>\n      <td>NaN</td>\n    </tr>\n  </tbody>\n</table>\n</div>"
     },
     "metadata": {},
     "execution_count": 92
    }
   ],
   "source": [
    "message_dict = json.loads(message_response.text)\n",
    "#print(message_dict['data'])\n",
    "message_data = pd.DataFrame.from_dict(message_dict['data'])\n",
    "\n",
    "#print(message_data.loc[:,'keys'][0])\n",
    "for index, keys in enumerate(message_data.loc[:,'keys']):\n",
    "    # print(index)\n",
    "    for key in keys:\n",
    "        # print(key['value'])\n",
    "        if key['key'] == 'temperature':\n",
    "            message_data.loc[index, 'temperature'] = key['value'] + key['unit']\n",
    "        if key['key'] == 'battery':\n",
    "            message_data.loc[index, 'battery'] = key['value'] + key['unit']\n",
    "\n",
    "message_data = message_data.drop(columns=['keys'])\n",
    "\n",
    "message_data\n"
   ]
  },
  {
   "cell_type": "code",
   "execution_count": null,
   "metadata": {},
   "outputs": [],
   "source": []
  }
 ]
}