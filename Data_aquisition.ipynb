{
 "metadata": {
  "language_info": {
   "codemirror_mode": {
    "name": "ipython",
    "version": 3
   },
   "file_extension": ".py",
   "mimetype": "text/x-python",
   "name": "python",
   "nbconvert_exporter": "python",
   "pygments_lexer": "ipython3",
   "version": "3.8.5-final"
  },
  "orig_nbformat": 2,
  "kernelspec": {
   "name": "python3",
   "display_name": "Python 3.8.5 32-bit",
   "metadata": {
    "interpreter": {
     "hash": "7a542ca580817fc4dd55327026e074e2fa0cd470fc5dee9350c2d8b13822db8d"
    }
   }
  }
 },
 "nbformat": 4,
 "nbformat_minor": 2,
 "cells": [
  {
   "source": [
    "## Daten aus API einlesen\n",
    "Diesdasananas\n",
    "\n",
    "Api Dokumentation gemäss: https://doc.iofrog.com/apidocumentation/api.html\n",
    "Postman requests: https://www.getpostman.com/collections/eb80441a4500fd9a0634"
   ],
   "cell_type": "markdown",
   "metadata": {}
  },
  {
   "cell_type": "code",
   "execution_count": 3,
   "metadata": {},
   "outputs": [],
   "source": [
    "# packages import\n",
    "import requests\n",
    "import json\n",
    "import pandas as pd\n"
   ]
  },
  {
   "source": [
    "Login to api"
   ],
   "cell_type": "markdown",
   "metadata": {}
  },
  {
   "cell_type": "code",
   "execution_count": 4,
   "metadata": {},
   "outputs": [],
   "source": [
    "url = \"https://www.iofrog.com/api/v2/auth/signin/\"\n",
    "\n",
    "payload = json.dumps({\n",
    "  \"username\": \"pascal.berger@students.fhnw.ch\",\n",
    "  \"password\": \"123321\"\n",
    "})\n",
    "headers = {\n",
    "  'Content-Type': 'application/json',\n",
    "  'Cookie': ''\n",
    "}\n",
    "\n",
    "login_response = requests.request(\"POST\", url, headers=headers, data=payload)\n",
    "#print(login_response.text)\n"
   ]
  },
  {
   "cell_type": "code",
   "execution_count": 5,
   "metadata": {},
   "outputs": [
    {
     "output_type": "execute_result",
     "data": {
      "text/plain": [
       "                                             user  \\\n",
       "firstName                                  Pascal   \n",
       "lastName                                   Berger   \n",
       "isActivated                                  True   \n",
       "level                                      expert   \n",
       "partner                                    heliot   \n",
       "lang                                           en   \n",
       "timeZone                            Europe/Berlin   \n",
       "units         {'temperature': 'C', 'system': 'M'}   \n",
       "accessToken                                   NaN   \n",
       "refreshToken                                  NaN   \n",
       "\n",
       "                                                          token  \n",
       "firstName                                                   NaN  \n",
       "lastName                                                    NaN  \n",
       "isActivated                                                 NaN  \n",
       "level                                                       NaN  \n",
       "partner                                                     NaN  \n",
       "lang                                                        NaN  \n",
       "timeZone                                                    NaN  \n",
       "units                                                       NaN  \n",
       "accessToken   eyJhbGciOiJIUzI1NiIsInR5cCI6IkpXVCJ9.eyJpZCI6I...  \n",
       "refreshToken  606595d6d432ff72e837cb31.a8839e00504d5d1c8a99b...  "
      ],
      "text/html": "<div>\n<style scoped>\n    .dataframe tbody tr th:only-of-type {\n        vertical-align: middle;\n    }\n\n    .dataframe tbody tr th {\n        vertical-align: top;\n    }\n\n    .dataframe thead th {\n        text-align: right;\n    }\n</style>\n<table border=\"1\" class=\"dataframe\">\n  <thead>\n    <tr style=\"text-align: right;\">\n      <th></th>\n      <th>user</th>\n      <th>token</th>\n    </tr>\n  </thead>\n  <tbody>\n    <tr>\n      <th>firstName</th>\n      <td>Pascal</td>\n      <td>NaN</td>\n    </tr>\n    <tr>\n      <th>lastName</th>\n      <td>Berger</td>\n      <td>NaN</td>\n    </tr>\n    <tr>\n      <th>isActivated</th>\n      <td>True</td>\n      <td>NaN</td>\n    </tr>\n    <tr>\n      <th>level</th>\n      <td>expert</td>\n      <td>NaN</td>\n    </tr>\n    <tr>\n      <th>partner</th>\n      <td>heliot</td>\n      <td>NaN</td>\n    </tr>\n    <tr>\n      <th>lang</th>\n      <td>en</td>\n      <td>NaN</td>\n    </tr>\n    <tr>\n      <th>timeZone</th>\n      <td>Europe/Berlin</td>\n      <td>NaN</td>\n    </tr>\n    <tr>\n      <th>units</th>\n      <td>{'temperature': 'C', 'system': 'M'}</td>\n      <td>NaN</td>\n    </tr>\n    <tr>\n      <th>accessToken</th>\n      <td>NaN</td>\n      <td>eyJhbGciOiJIUzI1NiIsInR5cCI6IkpXVCJ9.eyJpZCI6I...</td>\n    </tr>\n    <tr>\n      <th>refreshToken</th>\n      <td>NaN</td>\n      <td>606595d6d432ff72e837cb31.a8839e00504d5d1c8a99b...</td>\n    </tr>\n  </tbody>\n</table>\n</div>"
     },
     "metadata": {},
     "execution_count": 5
    }
   ],
   "source": [
    "login_data = pd.read_json(login_response.text)\n",
    "access_token = login_data.loc['accessToken', 'token']\n",
    "login_data"
   ]
  },
  {
   "source": [
    "get devices data"
   ],
   "cell_type": "markdown",
   "metadata": {}
  },
  {
   "cell_type": "code",
   "execution_count": 6,
   "metadata": {},
   "outputs": [],
   "source": [
    "url = \"https://www.iofrog.com/api/v2/devices/dashboard\"\n",
    "\n",
    "payload = json.dumps([\n",
    "  {\n",
    "    \"data\": [],\n",
    "    \"count\": 2,\n",
    "    \"meta\": {}\n",
    "  }\n",
    "])\n",
    "headers = {\n",
    "  'Authorization': 'Bearer ' + access_token,\n",
    "  'Content-Type': 'application/json',\n",
    "  'Cookie': ''\n",
    "}\n",
    "\n",
    "devices_response = requests.request(\"GET\", url, headers=headers, data=payload)\n",
    "#print(devices_response.text)\n"
   ]
  },
  {
   "cell_type": "code",
   "execution_count": 7,
   "metadata": {},
   "outputs": [
    {
     "output_type": "execute_result",
     "data": {
      "text/plain": [
       "        id                   groupId                            name  \\\n",
       "0  2203AAB  60476e95362d421c28ee0058   SimplePack POC_02203AAB TeamA   \n",
       "1  2203AF9  60476e95362d421c28ee0058   SimplePack POC_02203AF9 TeamA   \n",
       "2  2203ACB  60476e95362d421c28ee0058   SimplePackPOC_02203ACB  TeamB   \n",
       "3  2203AFA  60476e95362d421c28ee0058    SimplePackPOC_02203AFA TeamB   \n",
       "4  1F25047  60476e95362d421c28ee0058  SimplePackPTH_01F25047 TeamB\\t   \n",
       "5  1F2504E  60476e95362d421c28ee0058    SimplePackPTH_01F2504E TeamA   \n",
       "\n",
       "                          typeId        modeId  \\\n",
       "0  simple_pack_plus_full_3_0_6_0  reed_counter   \n",
       "1  simple_pack_plus_full_3_0_6_0           NaN   \n",
       "2  simple_pack_plus_full_3_0_6_0  reed_counter   \n",
       "3  simple_pack_plus_full_3_0_6_0      press_me   \n",
       "4  simple_pack_plus_full_3_0_6_0   put_me_back   \n",
       "5  simple_pack_plus_full_3_0_6_0           NaN   \n",
       "\n",
       "                       downlinkData  active                    location  \\\n",
       "0                                      True  {'lat': None, 'lng': None}   \n",
       "1                                      True  {'lat': None, 'lng': None}   \n",
       "2                                      True  {'lat': None, 'lng': None}   \n",
       "3                  0000000000000788    True  {'lat': None, 'lng': None}   \n",
       "4                                      True  {'lat': None, 'lng': None}   \n",
       "5  010607880A980F070000000049011707    True  {'lat': None, 'lng': None}   \n",
       "\n",
       "                                       viewConfig  \\\n",
       "0  {'locationSource': 'fallback', 'view': 'last'}   \n",
       "1     {'locationSource': 'atlas', 'view': 'last'}   \n",
       "2  {'locationSource': 'fallback', 'view': 'last'}   \n",
       "3  {'locationSource': 'fallback', 'view': 'last'}   \n",
       "4  {'locationSource': 'fallback', 'view': 'last'}   \n",
       "5     {'locationSource': 'atlas', 'view': 'last'}   \n",
       "\n",
       "                                              status  \\\n",
       "0  {'isRegistered': True, 'isReadyForActivation':...   \n",
       "1  {'isRegistered': True, 'isReadyForActivation':...   \n",
       "2  {'isRegistered': True, 'isReadyForActivation':...   \n",
       "3  {'isRegistered': True, 'isReadyForActivation':...   \n",
       "4  {'isRegistered': True, 'isReadyForActivation':...   \n",
       "5  {'isRegistered': True, 'isReadyForActivation':...   \n",
       "\n",
       "                                       subscriptions  \\\n",
       "0  [{'_id': '60489bab362d421c28f49a02', 'provider...   \n",
       "1  [{'_id': '6050c0467d354e09ee4aa73e', 'provider...   \n",
       "2  [{'_id': '60489995362d421c28f48edd', 'provider...   \n",
       "3  [{'_id': '60489ad5362d421c28f49667', 'provider...   \n",
       "4  [{'_id': '60489b3f362d421c28f498b2', 'provider...   \n",
       "5  [{'_id': '6050bd897d354e09ee4a5d37', 'provider...   \n",
       "\n",
       "                             lastSourceBasedLocation  \\\n",
       "0  {'geoplaces': [], '_id': '6059fbafb3ae30315afb...   \n",
       "1                                                NaN   \n",
       "2  {'geoplaces': [], '_id': '605b68f2f4e46133dc9e...   \n",
       "3  {'geoplaces': [], '_id': '605b4291f4e46133dc9b...   \n",
       "4  {'geoplaces': [], '_id': '6058b9d703380b4c4fd1...   \n",
       "5                                                NaN   \n",
       "\n",
       "                                     lastDataMessage trackedKeys badges  \n",
       "0  {'_id': '60659555d432ff72e837c19b', 'keys': [{...          []     []  \n",
       "1  {'_id': '60656d924b76c0093a1b27bd', 'keys': [{...          []     []  \n",
       "2  {'_id': '60658a76eeec4d556624216b', 'keys': [{...          []     []  \n",
       "3  {'_id': '6065900ceeec4d556624f21a', 'keys': [{...          []     []  \n",
       "4  {'_id': '60659583eeec4d5566256b22', 'keys': [{...          []     []  \n",
       "5  {'_id': '606464fd59844218e208b994', 'keys': [{...          []     []  "
      ],
      "text/html": "<div>\n<style scoped>\n    .dataframe tbody tr th:only-of-type {\n        vertical-align: middle;\n    }\n\n    .dataframe tbody tr th {\n        vertical-align: top;\n    }\n\n    .dataframe thead th {\n        text-align: right;\n    }\n</style>\n<table border=\"1\" class=\"dataframe\">\n  <thead>\n    <tr style=\"text-align: right;\">\n      <th></th>\n      <th>id</th>\n      <th>groupId</th>\n      <th>name</th>\n      <th>typeId</th>\n      <th>modeId</th>\n      <th>downlinkData</th>\n      <th>active</th>\n      <th>location</th>\n      <th>viewConfig</th>\n      <th>status</th>\n      <th>subscriptions</th>\n      <th>lastSourceBasedLocation</th>\n      <th>lastDataMessage</th>\n      <th>trackedKeys</th>\n      <th>badges</th>\n    </tr>\n  </thead>\n  <tbody>\n    <tr>\n      <th>0</th>\n      <td>2203AAB</td>\n      <td>60476e95362d421c28ee0058</td>\n      <td>SimplePack POC_02203AAB TeamA</td>\n      <td>simple_pack_plus_full_3_0_6_0</td>\n      <td>reed_counter</td>\n      <td></td>\n      <td>True</td>\n      <td>{'lat': None, 'lng': None}</td>\n      <td>{'locationSource': 'fallback', 'view': 'last'}</td>\n      <td>{'isRegistered': True, 'isReadyForActivation':...</td>\n      <td>[{'_id': '60489bab362d421c28f49a02', 'provider...</td>\n      <td>{'geoplaces': [], '_id': '6059fbafb3ae30315afb...</td>\n      <td>{'_id': '60659555d432ff72e837c19b', 'keys': [{...</td>\n      <td>[]</td>\n      <td>[]</td>\n    </tr>\n    <tr>\n      <th>1</th>\n      <td>2203AF9</td>\n      <td>60476e95362d421c28ee0058</td>\n      <td>SimplePack POC_02203AF9 TeamA</td>\n      <td>simple_pack_plus_full_3_0_6_0</td>\n      <td>NaN</td>\n      <td></td>\n      <td>True</td>\n      <td>{'lat': None, 'lng': None}</td>\n      <td>{'locationSource': 'atlas', 'view': 'last'}</td>\n      <td>{'isRegistered': True, 'isReadyForActivation':...</td>\n      <td>[{'_id': '6050c0467d354e09ee4aa73e', 'provider...</td>\n      <td>NaN</td>\n      <td>{'_id': '60656d924b76c0093a1b27bd', 'keys': [{...</td>\n      <td>[]</td>\n      <td>[]</td>\n    </tr>\n    <tr>\n      <th>2</th>\n      <td>2203ACB</td>\n      <td>60476e95362d421c28ee0058</td>\n      <td>SimplePackPOC_02203ACB  TeamB</td>\n      <td>simple_pack_plus_full_3_0_6_0</td>\n      <td>reed_counter</td>\n      <td></td>\n      <td>True</td>\n      <td>{'lat': None, 'lng': None}</td>\n      <td>{'locationSource': 'fallback', 'view': 'last'}</td>\n      <td>{'isRegistered': True, 'isReadyForActivation':...</td>\n      <td>[{'_id': '60489995362d421c28f48edd', 'provider...</td>\n      <td>{'geoplaces': [], '_id': '605b68f2f4e46133dc9e...</td>\n      <td>{'_id': '60658a76eeec4d556624216b', 'keys': [{...</td>\n      <td>[]</td>\n      <td>[]</td>\n    </tr>\n    <tr>\n      <th>3</th>\n      <td>2203AFA</td>\n      <td>60476e95362d421c28ee0058</td>\n      <td>SimplePackPOC_02203AFA TeamB</td>\n      <td>simple_pack_plus_full_3_0_6_0</td>\n      <td>press_me</td>\n      <td>0000000000000788</td>\n      <td>True</td>\n      <td>{'lat': None, 'lng': None}</td>\n      <td>{'locationSource': 'fallback', 'view': 'last'}</td>\n      <td>{'isRegistered': True, 'isReadyForActivation':...</td>\n      <td>[{'_id': '60489ad5362d421c28f49667', 'provider...</td>\n      <td>{'geoplaces': [], '_id': '605b4291f4e46133dc9b...</td>\n      <td>{'_id': '6065900ceeec4d556624f21a', 'keys': [{...</td>\n      <td>[]</td>\n      <td>[]</td>\n    </tr>\n    <tr>\n      <th>4</th>\n      <td>1F25047</td>\n      <td>60476e95362d421c28ee0058</td>\n      <td>SimplePackPTH_01F25047 TeamB\\t</td>\n      <td>simple_pack_plus_full_3_0_6_0</td>\n      <td>put_me_back</td>\n      <td></td>\n      <td>True</td>\n      <td>{'lat': None, 'lng': None}</td>\n      <td>{'locationSource': 'fallback', 'view': 'last'}</td>\n      <td>{'isRegistered': True, 'isReadyForActivation':...</td>\n      <td>[{'_id': '60489b3f362d421c28f498b2', 'provider...</td>\n      <td>{'geoplaces': [], '_id': '6058b9d703380b4c4fd1...</td>\n      <td>{'_id': '60659583eeec4d5566256b22', 'keys': [{...</td>\n      <td>[]</td>\n      <td>[]</td>\n    </tr>\n    <tr>\n      <th>5</th>\n      <td>1F2504E</td>\n      <td>60476e95362d421c28ee0058</td>\n      <td>SimplePackPTH_01F2504E TeamA</td>\n      <td>simple_pack_plus_full_3_0_6_0</td>\n      <td>NaN</td>\n      <td>010607880A980F070000000049011707</td>\n      <td>True</td>\n      <td>{'lat': None, 'lng': None}</td>\n      <td>{'locationSource': 'atlas', 'view': 'last'}</td>\n      <td>{'isRegistered': True, 'isReadyForActivation':...</td>\n      <td>[{'_id': '6050bd897d354e09ee4a5d37', 'provider...</td>\n      <td>NaN</td>\n      <td>{'_id': '606464fd59844218e208b994', 'keys': [{...</td>\n      <td>[]</td>\n      <td>[]</td>\n    </tr>\n  </tbody>\n</table>\n</div>"
     },
     "metadata": {},
     "execution_count": 7
    }
   ],
   "source": [
    "#print(devices_response.text)\n",
    "#device_data = pd.read_json(devices_response.text)\n",
    "\n",
    "device_dict = json.loads(devices_response.text)\n",
    "device_data = pd.DataFrame.from_dict(device_dict['data'])\n",
    "#device_data = pd.json_normalize(device_dict)\n",
    "#device_dict['data']\n",
    "device_data"
   ]
  },
  {
   "cell_type": "code",
   "execution_count": 8,
   "metadata": {
    "tags": []
   },
   "outputs": [],
   "source": [
    "url = \"https://www.iofrog.com/api/v2/devices/2203AAB/messages/\"\n",
    "\n",
    "payload = json.dumps({\n",
    "  \"data\": [\n",
    "    {\n",
    "      \"_id\": \"1f704bc5-5055-43eb-a851-c87b6b0bf7b9\",\n",
    "      \"isAlarm\": False,\n",
    "      \"isDismissed\": False,\n",
    "      \"timestamp\": 1584093653,\n",
    "      \"type\": \"data_uplink\",\n",
    "      \"seqNumber\": 1,\n",
    "      \"keys\": [\n",
    "        {\n",
    "          \"isCode\": False,\n",
    "          \"_id\": \"1111111111111111111111\",\n",
    "          \"key\": \"key\",\n",
    "          \"value\": \"value\",\n",
    "          \"keyLocale\": \"Klíč\",\n",
    "          \"valueLocale\": \"Hodnota\",\n",
    "          \"color\": \"alarm\",\n",
    "          \"icon\": \"icon name (from fontAwesome)\"\n",
    "        }\n",
    "      ]\n",
    "    }\n",
    "  ],\n",
    "  \"count\": 1\n",
    "})\n",
    "headers = {\n",
    "  'Authorization': 'Bearer ' + access_token,\n",
    "  'Content-Type': 'application/json',\n",
    "  'Cookie': ''\n",
    "}\n",
    "\n",
    "message_response = requests.request(\"GET\", url, headers=headers, data=payload)\n",
    "\n",
    "# print(response.text)\n"
   ]
  },
  {
   "cell_type": "code",
   "execution_count": 9,
   "metadata": {
    "tags": []
   },
   "outputs": [
    {
     "output_type": "execute_result",
     "data": {
      "text/plain": [
       "                         _id   timestamp        type  seqNumber deviceId  \\\n",
       "0   60659555d432ff72e837c19b  1617270101  data_bidir        246  2203AAB   \n",
       "1   606593e5d432ff72e837ad71  1617269733  data_bidir        245  2203AAB   \n",
       "2   60658f75eeec4d556624dba3  1617268596  data_bidir        244  2203AAB   \n",
       "3   60658cb7eeec4d5566247d6b  1617267893  data_bidir        243  2203AAB   \n",
       "4   60658c79eeec4d5566247472  1617267831  data_bidir        242  2203AAB   \n",
       "..                       ...         ...         ...        ...      ...   \n",
       "95  6062f5ea9121604b0bae751e  1617098197  data_bidir        151  2203AAB   \n",
       "96  6062f45f9121604b0bae4360  1617097823  data_bidir        150  2203AAB   \n",
       "97  6062f4209121604b0bae3a8a  1617097759  data_bidir        149  2203AAB   \n",
       "98  6062ed329121604b0bad6193  1617095979  data_bidir        148  2203AAB   \n",
       "99  6062ea889121604b0bad0d75  1617095302  data_bidir        147  2203AAB   \n",
       "\n",
       "                     created  __v        action battery counter          mode  \\\n",
       "0   2021-04-01T09:41:41.844Z    0  reed_counter       0     378  reed_counter   \n",
       "1   2021-04-01T09:35:33.760Z    0  reed_counter       0     376  reed_counter   \n",
       "2   2021-04-01T09:16:37.674Z    0   heartbeat_1       3       0  reed_counter   \n",
       "3   2021-04-01T09:04:55.133Z    0  reed_counter       0     374  reed_counter   \n",
       "4   2021-04-01T09:03:53.042Z    0  reed_counter       0     373  reed_counter   \n",
       "..                       ...  ...           ...     ...     ...           ...   \n",
       "95  2021-03-30T09:56:58.576Z    0  reed_counter       0     274  reed_counter   \n",
       "96  2021-03-30T09:50:23.869Z    0  reed_counter       0     273  reed_counter   \n",
       "97  2021-03-30T09:49:20.445Z    0  reed_counter       0     272  reed_counter   \n",
       "98  2021-03-30T09:19:46.435Z    0  reed_counter       0     271  reed_counter   \n",
       "99  2021-03-30T09:08:24.660Z    0  reed_counter       0     269  reed_counter   \n",
       "\n",
       "   temperature _merge  \n",
       "0            0   both  \n",
       "1            0   both  \n",
       "2           18   both  \n",
       "3            0   both  \n",
       "4            0   both  \n",
       "..         ...    ...  \n",
       "95           0   both  \n",
       "96           0   both  \n",
       "97           0   both  \n",
       "98           0   both  \n",
       "99           0   both  \n",
       "\n",
       "[100 rows x 13 columns]"
      ],
      "text/html": "<div>\n<style scoped>\n    .dataframe tbody tr th:only-of-type {\n        vertical-align: middle;\n    }\n\n    .dataframe tbody tr th {\n        vertical-align: top;\n    }\n\n    .dataframe thead th {\n        text-align: right;\n    }\n</style>\n<table border=\"1\" class=\"dataframe\">\n  <thead>\n    <tr style=\"text-align: right;\">\n      <th></th>\n      <th>_id</th>\n      <th>timestamp</th>\n      <th>type</th>\n      <th>seqNumber</th>\n      <th>deviceId</th>\n      <th>created</th>\n      <th>__v</th>\n      <th>action</th>\n      <th>battery</th>\n      <th>counter</th>\n      <th>mode</th>\n      <th>temperature</th>\n      <th>_merge</th>\n    </tr>\n  </thead>\n  <tbody>\n    <tr>\n      <th>0</th>\n      <td>60659555d432ff72e837c19b</td>\n      <td>1617270101</td>\n      <td>data_bidir</td>\n      <td>246</td>\n      <td>2203AAB</td>\n      <td>2021-04-01T09:41:41.844Z</td>\n      <td>0</td>\n      <td>reed_counter</td>\n      <td>0</td>\n      <td>378</td>\n      <td>reed_counter</td>\n      <td>0</td>\n      <td>both</td>\n    </tr>\n    <tr>\n      <th>1</th>\n      <td>606593e5d432ff72e837ad71</td>\n      <td>1617269733</td>\n      <td>data_bidir</td>\n      <td>245</td>\n      <td>2203AAB</td>\n      <td>2021-04-01T09:35:33.760Z</td>\n      <td>0</td>\n      <td>reed_counter</td>\n      <td>0</td>\n      <td>376</td>\n      <td>reed_counter</td>\n      <td>0</td>\n      <td>both</td>\n    </tr>\n    <tr>\n      <th>2</th>\n      <td>60658f75eeec4d556624dba3</td>\n      <td>1617268596</td>\n      <td>data_bidir</td>\n      <td>244</td>\n      <td>2203AAB</td>\n      <td>2021-04-01T09:16:37.674Z</td>\n      <td>0</td>\n      <td>heartbeat_1</td>\n      <td>3</td>\n      <td>0</td>\n      <td>reed_counter</td>\n      <td>18</td>\n      <td>both</td>\n    </tr>\n    <tr>\n      <th>3</th>\n      <td>60658cb7eeec4d5566247d6b</td>\n      <td>1617267893</td>\n      <td>data_bidir</td>\n      <td>243</td>\n      <td>2203AAB</td>\n      <td>2021-04-01T09:04:55.133Z</td>\n      <td>0</td>\n      <td>reed_counter</td>\n      <td>0</td>\n      <td>374</td>\n      <td>reed_counter</td>\n      <td>0</td>\n      <td>both</td>\n    </tr>\n    <tr>\n      <th>4</th>\n      <td>60658c79eeec4d5566247472</td>\n      <td>1617267831</td>\n      <td>data_bidir</td>\n      <td>242</td>\n      <td>2203AAB</td>\n      <td>2021-04-01T09:03:53.042Z</td>\n      <td>0</td>\n      <td>reed_counter</td>\n      <td>0</td>\n      <td>373</td>\n      <td>reed_counter</td>\n      <td>0</td>\n      <td>both</td>\n    </tr>\n    <tr>\n      <th>...</th>\n      <td>...</td>\n      <td>...</td>\n      <td>...</td>\n      <td>...</td>\n      <td>...</td>\n      <td>...</td>\n      <td>...</td>\n      <td>...</td>\n      <td>...</td>\n      <td>...</td>\n      <td>...</td>\n      <td>...</td>\n      <td>...</td>\n    </tr>\n    <tr>\n      <th>95</th>\n      <td>6062f5ea9121604b0bae751e</td>\n      <td>1617098197</td>\n      <td>data_bidir</td>\n      <td>151</td>\n      <td>2203AAB</td>\n      <td>2021-03-30T09:56:58.576Z</td>\n      <td>0</td>\n      <td>reed_counter</td>\n      <td>0</td>\n      <td>274</td>\n      <td>reed_counter</td>\n      <td>0</td>\n      <td>both</td>\n    </tr>\n    <tr>\n      <th>96</th>\n      <td>6062f45f9121604b0bae4360</td>\n      <td>1617097823</td>\n      <td>data_bidir</td>\n      <td>150</td>\n      <td>2203AAB</td>\n      <td>2021-03-30T09:50:23.869Z</td>\n      <td>0</td>\n      <td>reed_counter</td>\n      <td>0</td>\n      <td>273</td>\n      <td>reed_counter</td>\n      <td>0</td>\n      <td>both</td>\n    </tr>\n    <tr>\n      <th>97</th>\n      <td>6062f4209121604b0bae3a8a</td>\n      <td>1617097759</td>\n      <td>data_bidir</td>\n      <td>149</td>\n      <td>2203AAB</td>\n      <td>2021-03-30T09:49:20.445Z</td>\n      <td>0</td>\n      <td>reed_counter</td>\n      <td>0</td>\n      <td>272</td>\n      <td>reed_counter</td>\n      <td>0</td>\n      <td>both</td>\n    </tr>\n    <tr>\n      <th>98</th>\n      <td>6062ed329121604b0bad6193</td>\n      <td>1617095979</td>\n      <td>data_bidir</td>\n      <td>148</td>\n      <td>2203AAB</td>\n      <td>2021-03-30T09:19:46.435Z</td>\n      <td>0</td>\n      <td>reed_counter</td>\n      <td>0</td>\n      <td>271</td>\n      <td>reed_counter</td>\n      <td>0</td>\n      <td>both</td>\n    </tr>\n    <tr>\n      <th>99</th>\n      <td>6062ea889121604b0bad0d75</td>\n      <td>1617095302</td>\n      <td>data_bidir</td>\n      <td>147</td>\n      <td>2203AAB</td>\n      <td>2021-03-30T09:08:24.660Z</td>\n      <td>0</td>\n      <td>reed_counter</td>\n      <td>0</td>\n      <td>269</td>\n      <td>reed_counter</td>\n      <td>0</td>\n      <td>both</td>\n    </tr>\n  </tbody>\n</table>\n<p>100 rows × 13 columns</p>\n</div>"
     },
     "metadata": {},
     "execution_count": 9
    }
   ],
   "source": [
    "# data prep\n",
    "\n",
    "\n",
    "message_dict = json.loads(message_response.text)\n",
    "#print(message_dict['data'])\n",
    "message_data = pd.DataFrame.from_dict(message_dict['data'])\n",
    "\n",
    "message_data = message_data.drop(columns=['keys'])\n",
    "\n",
    "message_data_keys = pd.json_normalize(message_dict['data'], record_path='keys', record_prefix='keys_', meta='_id')\n",
    "message_data_keys = message_data_keys.pivot(index=['_id'], columns='keys_key', values='keys_value')\n",
    "message_data_keys.reset_index(inplace=True)\n",
    "message_data_keys = message_data_keys.groupby('_id').sum()\n",
    "#print(message_data_keys)\n",
    "# join df's\n",
    "message_data = message_data.merge(message_data_keys, on=['_id'], how='left', indicator=True)\n",
    "\n",
    "message_data\n",
    "\n"
   ]
  },
  {
   "cell_type": "code",
   "execution_count": 15,
   "metadata": {},
   "outputs": [
    {
     "output_type": "stream",
     "name": "stderr",
     "text": [
      "C:\\Users\\Pascal\\AppData\\Roaming\\Python\\Python38\\site-packages\\pandas\\plotting\\_matplotlib\\core.py:613: UserWarning: The handle <matplotlib.lines.Line2D object at 0x14264EC8> has a label of '__v' which cannot be automatically added to the legend.\n  ax.legend(handles, labels, loc=\"best\", title=title)\n"
     ]
    },
    {
     "output_type": "execute_result",
     "data": {
      "text/plain": [
       "<AxesSubplot:>"
      ]
     },
     "metadata": {},
     "execution_count": 15
    },
    {
     "output_type": "display_data",
     "data": {
      "text/plain": "<Figure size 432x288 with 1 Axes>",
      "image/svg+xml": "<?xml version=\"1.0\" encoding=\"utf-8\" standalone=\"no\"?>\r\n<!DOCTYPE svg PUBLIC \"-//W3C//DTD SVG 1.1//EN\"\r\n  \"http://www.w3.org/Graphics/SVG/1.1/DTD/svg11.dtd\">\r\n<!-- Created with matplotlib (https://matplotlib.org/) -->\r\n<svg height=\"259.116562pt\" version=\"1.1\" viewBox=\"0 0 372.103125 259.116562\" width=\"372.103125pt\" xmlns=\"http://www.w3.org/2000/svg\" xmlns:xlink=\"http://www.w3.org/1999/xlink\">\r\n <metadata>\r\n  <rdf:RDF xmlns:cc=\"http://creativecommons.org/ns#\" xmlns:dc=\"http://purl.org/dc/elements/1.1/\" xmlns:rdf=\"http://www.w3.org/1999/02/22-rdf-syntax-ns#\">\r\n   <cc:Work>\r\n    <dc:type rdf:resource=\"http://purl.org/dc/dcmitype/StillImage\"/>\r\n    <dc:date>2021-04-01T11:49:46.209173</dc:date>\r\n    <dc:format>image/svg+xml</dc:format>\r\n    <dc:creator>\r\n     <cc:Agent>\r\n      <dc:title>Matplotlib v3.3.2, https://matplotlib.org/</dc:title>\r\n     </cc:Agent>\r\n    </dc:creator>\r\n   </cc:Work>\r\n  </rdf:RDF>\r\n </metadata>\r\n <defs>\r\n  <style type=\"text/css\">*{stroke-linecap:butt;stroke-linejoin:round;}</style>\r\n </defs>\r\n <g id=\"figure_1\">\r\n  <g id=\"patch_1\">\r\n   <path d=\"M 0 259.116562 \r\nL 372.103125 259.116562 \r\nL 372.103125 0 \r\nL 0 0 \r\nz\r\n\" style=\"fill:none;\"/>\r\n  </g>\r\n  <g id=\"axes_1\">\r\n   <g id=\"patch_2\">\r\n    <path d=\"M 30.103125 235.238437 \r\nL 364.903125 235.238437 \r\nL 364.903125 17.798437 \r\nL 30.103125 17.798437 \r\nz\r\n\" style=\"fill:#ffffff;\"/>\r\n   </g>\r\n   <g id=\"matplotlib.axis_1\">\r\n    <g id=\"xtick_1\">\r\n     <g id=\"line2d_1\">\r\n      <defs>\r\n       <path d=\"M 0 0 \r\nL 0 3.5 \r\n\" id=\"maf6ef58dea\" style=\"stroke:#000000;stroke-width:0.8;\"/>\r\n      </defs>\r\n      <g>\r\n       <use style=\"stroke:#000000;stroke-width:0.8;\" x=\"45.321307\" xlink:href=\"#maf6ef58dea\" y=\"235.238437\"/>\r\n      </g>\r\n     </g>\r\n     <g id=\"text_1\">\r\n      <!-- 0 -->\r\n      <g transform=\"translate(42.140057 249.836875)scale(0.1 -0.1)\">\r\n       <defs>\r\n        <path d=\"M 31.78125 66.40625 \r\nQ 24.171875 66.40625 20.328125 58.90625 \r\nQ 16.5 51.421875 16.5 36.375 \r\nQ 16.5 21.390625 20.328125 13.890625 \r\nQ 24.171875 6.390625 31.78125 6.390625 \r\nQ 39.453125 6.390625 43.28125 13.890625 \r\nQ 47.125 21.390625 47.125 36.375 \r\nQ 47.125 51.421875 43.28125 58.90625 \r\nQ 39.453125 66.40625 31.78125 66.40625 \r\nz\r\nM 31.78125 74.21875 \r\nQ 44.046875 74.21875 50.515625 64.515625 \r\nQ 56.984375 54.828125 56.984375 36.375 \r\nQ 56.984375 17.96875 50.515625 8.265625 \r\nQ 44.046875 -1.421875 31.78125 -1.421875 \r\nQ 19.53125 -1.421875 13.0625 8.265625 \r\nQ 6.59375 17.96875 6.59375 36.375 \r\nQ 6.59375 54.828125 13.0625 64.515625 \r\nQ 19.53125 74.21875 31.78125 74.21875 \r\nz\r\n\" id=\"DejaVuSans-48\"/>\r\n       </defs>\r\n       <use xlink:href=\"#DejaVuSans-48\"/>\r\n      </g>\r\n     </g>\r\n    </g>\r\n    <g id=\"xtick_2\">\r\n     <g id=\"line2d_2\">\r\n      <g>\r\n       <use style=\"stroke:#000000;stroke-width:0.8;\" x=\"106.80891\" xlink:href=\"#maf6ef58dea\" y=\"235.238437\"/>\r\n      </g>\r\n     </g>\r\n     <g id=\"text_2\">\r\n      <!-- 20 -->\r\n      <g transform=\"translate(100.44641 249.836875)scale(0.1 -0.1)\">\r\n       <defs>\r\n        <path d=\"M 19.1875 8.296875 \r\nL 53.609375 8.296875 \r\nL 53.609375 0 \r\nL 7.328125 0 \r\nL 7.328125 8.296875 \r\nQ 12.9375 14.109375 22.625 23.890625 \r\nQ 32.328125 33.6875 34.8125 36.53125 \r\nQ 39.546875 41.84375 41.421875 45.53125 \r\nQ 43.3125 49.21875 43.3125 52.78125 \r\nQ 43.3125 58.59375 39.234375 62.25 \r\nQ 35.15625 65.921875 28.609375 65.921875 \r\nQ 23.96875 65.921875 18.8125 64.3125 \r\nQ 13.671875 62.703125 7.8125 59.421875 \r\nL 7.8125 69.390625 \r\nQ 13.765625 71.78125 18.9375 73 \r\nQ 24.125 74.21875 28.421875 74.21875 \r\nQ 39.75 74.21875 46.484375 68.546875 \r\nQ 53.21875 62.890625 53.21875 53.421875 \r\nQ 53.21875 48.921875 51.53125 44.890625 \r\nQ 49.859375 40.875 45.40625 35.40625 \r\nQ 44.1875 33.984375 37.640625 27.21875 \r\nQ 31.109375 20.453125 19.1875 8.296875 \r\nz\r\n\" id=\"DejaVuSans-50\"/>\r\n       </defs>\r\n       <use xlink:href=\"#DejaVuSans-50\"/>\r\n       <use x=\"63.623047\" xlink:href=\"#DejaVuSans-48\"/>\r\n      </g>\r\n     </g>\r\n    </g>\r\n    <g id=\"xtick_3\">\r\n     <g id=\"line2d_3\">\r\n      <g>\r\n       <use style=\"stroke:#000000;stroke-width:0.8;\" x=\"168.296513\" xlink:href=\"#maf6ef58dea\" y=\"235.238437\"/>\r\n      </g>\r\n     </g>\r\n     <g id=\"text_3\">\r\n      <!-- 40 -->\r\n      <g transform=\"translate(161.934013 249.836875)scale(0.1 -0.1)\">\r\n       <defs>\r\n        <path d=\"M 37.796875 64.3125 \r\nL 12.890625 25.390625 \r\nL 37.796875 25.390625 \r\nz\r\nM 35.203125 72.90625 \r\nL 47.609375 72.90625 \r\nL 47.609375 25.390625 \r\nL 58.015625 25.390625 \r\nL 58.015625 17.1875 \r\nL 47.609375 17.1875 \r\nL 47.609375 0 \r\nL 37.796875 0 \r\nL 37.796875 17.1875 \r\nL 4.890625 17.1875 \r\nL 4.890625 26.703125 \r\nz\r\n\" id=\"DejaVuSans-52\"/>\r\n       </defs>\r\n       <use xlink:href=\"#DejaVuSans-52\"/>\r\n       <use x=\"63.623047\" xlink:href=\"#DejaVuSans-48\"/>\r\n      </g>\r\n     </g>\r\n    </g>\r\n    <g id=\"xtick_4\">\r\n     <g id=\"line2d_4\">\r\n      <g>\r\n       <use style=\"stroke:#000000;stroke-width:0.8;\" x=\"229.784117\" xlink:href=\"#maf6ef58dea\" y=\"235.238437\"/>\r\n      </g>\r\n     </g>\r\n     <g id=\"text_4\">\r\n      <!-- 60 -->\r\n      <g transform=\"translate(223.421617 249.836875)scale(0.1 -0.1)\">\r\n       <defs>\r\n        <path d=\"M 33.015625 40.375 \r\nQ 26.375 40.375 22.484375 35.828125 \r\nQ 18.609375 31.296875 18.609375 23.390625 \r\nQ 18.609375 15.53125 22.484375 10.953125 \r\nQ 26.375 6.390625 33.015625 6.390625 \r\nQ 39.65625 6.390625 43.53125 10.953125 \r\nQ 47.40625 15.53125 47.40625 23.390625 \r\nQ 47.40625 31.296875 43.53125 35.828125 \r\nQ 39.65625 40.375 33.015625 40.375 \r\nz\r\nM 52.59375 71.296875 \r\nL 52.59375 62.3125 \r\nQ 48.875 64.0625 45.09375 64.984375 \r\nQ 41.3125 65.921875 37.59375 65.921875 \r\nQ 27.828125 65.921875 22.671875 59.328125 \r\nQ 17.53125 52.734375 16.796875 39.40625 \r\nQ 19.671875 43.65625 24.015625 45.921875 \r\nQ 28.375 48.1875 33.59375 48.1875 \r\nQ 44.578125 48.1875 50.953125 41.515625 \r\nQ 57.328125 34.859375 57.328125 23.390625 \r\nQ 57.328125 12.15625 50.6875 5.359375 \r\nQ 44.046875 -1.421875 33.015625 -1.421875 \r\nQ 20.359375 -1.421875 13.671875 8.265625 \r\nQ 6.984375 17.96875 6.984375 36.375 \r\nQ 6.984375 53.65625 15.1875 63.9375 \r\nQ 23.390625 74.21875 37.203125 74.21875 \r\nQ 40.921875 74.21875 44.703125 73.484375 \r\nQ 48.484375 72.75 52.59375 71.296875 \r\nz\r\n\" id=\"DejaVuSans-54\"/>\r\n       </defs>\r\n       <use xlink:href=\"#DejaVuSans-54\"/>\r\n       <use x=\"63.623047\" xlink:href=\"#DejaVuSans-48\"/>\r\n      </g>\r\n     </g>\r\n    </g>\r\n    <g id=\"xtick_5\">\r\n     <g id=\"line2d_5\">\r\n      <g>\r\n       <use style=\"stroke:#000000;stroke-width:0.8;\" x=\"291.27172\" xlink:href=\"#maf6ef58dea\" y=\"235.238437\"/>\r\n      </g>\r\n     </g>\r\n     <g id=\"text_5\">\r\n      <!-- 80 -->\r\n      <g transform=\"translate(284.90922 249.836875)scale(0.1 -0.1)\">\r\n       <defs>\r\n        <path d=\"M 31.78125 34.625 \r\nQ 24.75 34.625 20.71875 30.859375 \r\nQ 16.703125 27.09375 16.703125 20.515625 \r\nQ 16.703125 13.921875 20.71875 10.15625 \r\nQ 24.75 6.390625 31.78125 6.390625 \r\nQ 38.8125 6.390625 42.859375 10.171875 \r\nQ 46.921875 13.96875 46.921875 20.515625 \r\nQ 46.921875 27.09375 42.890625 30.859375 \r\nQ 38.875 34.625 31.78125 34.625 \r\nz\r\nM 21.921875 38.8125 \r\nQ 15.578125 40.375 12.03125 44.71875 \r\nQ 8.5 49.078125 8.5 55.328125 \r\nQ 8.5 64.0625 14.71875 69.140625 \r\nQ 20.953125 74.21875 31.78125 74.21875 \r\nQ 42.671875 74.21875 48.875 69.140625 \r\nQ 55.078125 64.0625 55.078125 55.328125 \r\nQ 55.078125 49.078125 51.53125 44.71875 \r\nQ 48 40.375 41.703125 38.8125 \r\nQ 48.828125 37.15625 52.796875 32.3125 \r\nQ 56.78125 27.484375 56.78125 20.515625 \r\nQ 56.78125 9.90625 50.3125 4.234375 \r\nQ 43.84375 -1.421875 31.78125 -1.421875 \r\nQ 19.734375 -1.421875 13.25 4.234375 \r\nQ 6.78125 9.90625 6.78125 20.515625 \r\nQ 6.78125 27.484375 10.78125 32.3125 \r\nQ 14.796875 37.15625 21.921875 38.8125 \r\nz\r\nM 18.3125 54.390625 \r\nQ 18.3125 48.734375 21.84375 45.5625 \r\nQ 25.390625 42.390625 31.78125 42.390625 \r\nQ 38.140625 42.390625 41.71875 45.5625 \r\nQ 45.3125 48.734375 45.3125 54.390625 \r\nQ 45.3125 60.0625 41.71875 63.234375 \r\nQ 38.140625 66.40625 31.78125 66.40625 \r\nQ 25.390625 66.40625 21.84375 63.234375 \r\nQ 18.3125 60.0625 18.3125 54.390625 \r\nz\r\n\" id=\"DejaVuSans-56\"/>\r\n       </defs>\r\n       <use xlink:href=\"#DejaVuSans-56\"/>\r\n       <use x=\"63.623047\" xlink:href=\"#DejaVuSans-48\"/>\r\n      </g>\r\n     </g>\r\n    </g>\r\n    <g id=\"xtick_6\">\r\n     <g id=\"line2d_6\">\r\n      <g>\r\n       <use style=\"stroke:#000000;stroke-width:0.8;\" x=\"352.759323\" xlink:href=\"#maf6ef58dea\" y=\"235.238437\"/>\r\n      </g>\r\n     </g>\r\n     <g id=\"text_6\">\r\n      <!-- 100 -->\r\n      <g transform=\"translate(343.215573 249.836875)scale(0.1 -0.1)\">\r\n       <defs>\r\n        <path d=\"M 12.40625 8.296875 \r\nL 28.515625 8.296875 \r\nL 28.515625 63.921875 \r\nL 10.984375 60.40625 \r\nL 10.984375 69.390625 \r\nL 28.421875 72.90625 \r\nL 38.28125 72.90625 \r\nL 38.28125 8.296875 \r\nL 54.390625 8.296875 \r\nL 54.390625 0 \r\nL 12.40625 0 \r\nz\r\n\" id=\"DejaVuSans-49\"/>\r\n       </defs>\r\n       <use xlink:href=\"#DejaVuSans-49\"/>\r\n       <use x=\"63.623047\" xlink:href=\"#DejaVuSans-48\"/>\r\n       <use x=\"127.246094\" xlink:href=\"#DejaVuSans-48\"/>\r\n      </g>\r\n     </g>\r\n    </g>\r\n   </g>\r\n   <g id=\"matplotlib.axis_2\">\r\n    <g id=\"ytick_1\">\r\n     <g id=\"line2d_7\">\r\n      <defs>\r\n       <path d=\"M 0 0 \r\nL -3.5 0 \r\n\" id=\"m24bc24b954\" style=\"stroke:#000000;stroke-width:0.8;\"/>\r\n      </defs>\r\n      <g>\r\n       <use style=\"stroke:#000000;stroke-width:0.8;\" x=\"30.103125\" xlink:href=\"#m24bc24b954\" y=\"225.354801\"/>\r\n      </g>\r\n     </g>\r\n     <g id=\"text_7\">\r\n      <!-- 0.0 -->\r\n      <g transform=\"translate(7.2 229.15402)scale(0.1 -0.1)\">\r\n       <defs>\r\n        <path d=\"M 10.6875 12.40625 \r\nL 21 12.40625 \r\nL 21 0 \r\nL 10.6875 0 \r\nz\r\n\" id=\"DejaVuSans-46\"/>\r\n       </defs>\r\n       <use xlink:href=\"#DejaVuSans-48\"/>\r\n       <use x=\"63.623047\" xlink:href=\"#DejaVuSans-46\"/>\r\n       <use x=\"95.410156\" xlink:href=\"#DejaVuSans-48\"/>\r\n      </g>\r\n     </g>\r\n    </g>\r\n    <g id=\"ytick_2\">\r\n     <g id=\"line2d_8\">\r\n      <g>\r\n       <use style=\"stroke:#000000;stroke-width:0.8;\" x=\"30.103125\" xlink:href=\"#m24bc24b954\" y=\"200.909568\"/>\r\n      </g>\r\n     </g>\r\n     <g id=\"text_8\">\r\n      <!-- 0.2 -->\r\n      <g transform=\"translate(7.2 204.708786)scale(0.1 -0.1)\">\r\n       <use xlink:href=\"#DejaVuSans-48\"/>\r\n       <use x=\"63.623047\" xlink:href=\"#DejaVuSans-46\"/>\r\n       <use x=\"95.410156\" xlink:href=\"#DejaVuSans-50\"/>\r\n      </g>\r\n     </g>\r\n    </g>\r\n    <g id=\"ytick_3\">\r\n     <g id=\"line2d_9\">\r\n      <g>\r\n       <use style=\"stroke:#000000;stroke-width:0.8;\" x=\"30.103125\" xlink:href=\"#m24bc24b954\" y=\"176.464334\"/>\r\n      </g>\r\n     </g>\r\n     <g id=\"text_9\">\r\n      <!-- 0.4 -->\r\n      <g transform=\"translate(7.2 180.263553)scale(0.1 -0.1)\">\r\n       <use xlink:href=\"#DejaVuSans-48\"/>\r\n       <use x=\"63.623047\" xlink:href=\"#DejaVuSans-46\"/>\r\n       <use x=\"95.410156\" xlink:href=\"#DejaVuSans-52\"/>\r\n      </g>\r\n     </g>\r\n    </g>\r\n    <g id=\"ytick_4\">\r\n     <g id=\"line2d_10\">\r\n      <g>\r\n       <use style=\"stroke:#000000;stroke-width:0.8;\" x=\"30.103125\" xlink:href=\"#m24bc24b954\" y=\"152.0191\"/>\r\n      </g>\r\n     </g>\r\n     <g id=\"text_10\">\r\n      <!-- 0.6 -->\r\n      <g transform=\"translate(7.2 155.818319)scale(0.1 -0.1)\">\r\n       <use xlink:href=\"#DejaVuSans-48\"/>\r\n       <use x=\"63.623047\" xlink:href=\"#DejaVuSans-46\"/>\r\n       <use x=\"95.410156\" xlink:href=\"#DejaVuSans-54\"/>\r\n      </g>\r\n     </g>\r\n    </g>\r\n    <g id=\"ytick_5\">\r\n     <g id=\"line2d_11\">\r\n      <g>\r\n       <use style=\"stroke:#000000;stroke-width:0.8;\" x=\"30.103125\" xlink:href=\"#m24bc24b954\" y=\"127.573867\"/>\r\n      </g>\r\n     </g>\r\n     <g id=\"text_11\">\r\n      <!-- 0.8 -->\r\n      <g transform=\"translate(7.2 131.373085)scale(0.1 -0.1)\">\r\n       <use xlink:href=\"#DejaVuSans-48\"/>\r\n       <use x=\"63.623047\" xlink:href=\"#DejaVuSans-46\"/>\r\n       <use x=\"95.410156\" xlink:href=\"#DejaVuSans-56\"/>\r\n      </g>\r\n     </g>\r\n    </g>\r\n    <g id=\"ytick_6\">\r\n     <g id=\"line2d_12\">\r\n      <g>\r\n       <use style=\"stroke:#000000;stroke-width:0.8;\" x=\"30.103125\" xlink:href=\"#m24bc24b954\" y=\"103.128633\"/>\r\n      </g>\r\n     </g>\r\n     <g id=\"text_12\">\r\n      <!-- 1.0 -->\r\n      <g transform=\"translate(7.2 106.927852)scale(0.1 -0.1)\">\r\n       <use xlink:href=\"#DejaVuSans-49\"/>\r\n       <use x=\"63.623047\" xlink:href=\"#DejaVuSans-46\"/>\r\n       <use x=\"95.410156\" xlink:href=\"#DejaVuSans-48\"/>\r\n      </g>\r\n     </g>\r\n    </g>\r\n    <g id=\"ytick_7\">\r\n     <g id=\"line2d_13\">\r\n      <g>\r\n       <use style=\"stroke:#000000;stroke-width:0.8;\" x=\"30.103125\" xlink:href=\"#m24bc24b954\" y=\"78.683399\"/>\r\n      </g>\r\n     </g>\r\n     <g id=\"text_13\">\r\n      <!-- 1.2 -->\r\n      <g transform=\"translate(7.2 82.482618)scale(0.1 -0.1)\">\r\n       <use xlink:href=\"#DejaVuSans-49\"/>\r\n       <use x=\"63.623047\" xlink:href=\"#DejaVuSans-46\"/>\r\n       <use x=\"95.410156\" xlink:href=\"#DejaVuSans-50\"/>\r\n      </g>\r\n     </g>\r\n    </g>\r\n    <g id=\"ytick_8\">\r\n     <g id=\"line2d_14\">\r\n      <g>\r\n       <use style=\"stroke:#000000;stroke-width:0.8;\" x=\"30.103125\" xlink:href=\"#m24bc24b954\" y=\"54.238166\"/>\r\n      </g>\r\n     </g>\r\n     <g id=\"text_14\">\r\n      <!-- 1.4 -->\r\n      <g transform=\"translate(7.2 58.037385)scale(0.1 -0.1)\">\r\n       <use xlink:href=\"#DejaVuSans-49\"/>\r\n       <use x=\"63.623047\" xlink:href=\"#DejaVuSans-46\"/>\r\n       <use x=\"95.410156\" xlink:href=\"#DejaVuSans-52\"/>\r\n      </g>\r\n     </g>\r\n    </g>\r\n    <g id=\"ytick_9\">\r\n     <g id=\"line2d_15\">\r\n      <g>\r\n       <use style=\"stroke:#000000;stroke-width:0.8;\" x=\"30.103125\" xlink:href=\"#m24bc24b954\" y=\"29.792932\"/>\r\n      </g>\r\n     </g>\r\n     <g id=\"text_15\">\r\n      <!-- 1.6 -->\r\n      <g transform=\"translate(7.2 33.592151)scale(0.1 -0.1)\">\r\n       <use xlink:href=\"#DejaVuSans-49\"/>\r\n       <use x=\"63.623047\" xlink:href=\"#DejaVuSans-46\"/>\r\n       <use x=\"95.410156\" xlink:href=\"#DejaVuSans-54\"/>\r\n      </g>\r\n     </g>\r\n    </g>\r\n    <g id=\"text_16\">\r\n     <!-- 1e9 -->\r\n     <g transform=\"translate(30.103125 14.798437)scale(0.1 -0.1)\">\r\n      <defs>\r\n       <path d=\"M 56.203125 29.59375 \r\nL 56.203125 25.203125 \r\nL 14.890625 25.203125 \r\nQ 15.484375 15.921875 20.484375 11.0625 \r\nQ 25.484375 6.203125 34.421875 6.203125 \r\nQ 39.59375 6.203125 44.453125 7.46875 \r\nQ 49.3125 8.734375 54.109375 11.28125 \r\nL 54.109375 2.78125 \r\nQ 49.265625 0.734375 44.1875 -0.34375 \r\nQ 39.109375 -1.421875 33.890625 -1.421875 \r\nQ 20.796875 -1.421875 13.15625 6.1875 \r\nQ 5.515625 13.8125 5.515625 26.8125 \r\nQ 5.515625 40.234375 12.765625 48.109375 \r\nQ 20.015625 56 32.328125 56 \r\nQ 43.359375 56 49.78125 48.890625 \r\nQ 56.203125 41.796875 56.203125 29.59375 \r\nz\r\nM 47.21875 32.234375 \r\nQ 47.125 39.59375 43.09375 43.984375 \r\nQ 39.0625 48.390625 32.421875 48.390625 \r\nQ 24.90625 48.390625 20.390625 44.140625 \r\nQ 15.875 39.890625 15.1875 32.171875 \r\nz\r\n\" id=\"DejaVuSans-101\"/>\r\n       <path d=\"M 10.984375 1.515625 \r\nL 10.984375 10.5 \r\nQ 14.703125 8.734375 18.5 7.8125 \r\nQ 22.3125 6.890625 25.984375 6.890625 \r\nQ 35.75 6.890625 40.890625 13.453125 \r\nQ 46.046875 20.015625 46.78125 33.40625 \r\nQ 43.953125 29.203125 39.59375 26.953125 \r\nQ 35.25 24.703125 29.984375 24.703125 \r\nQ 19.046875 24.703125 12.671875 31.3125 \r\nQ 6.296875 37.9375 6.296875 49.421875 \r\nQ 6.296875 60.640625 12.9375 67.421875 \r\nQ 19.578125 74.21875 30.609375 74.21875 \r\nQ 43.265625 74.21875 49.921875 64.515625 \r\nQ 56.59375 54.828125 56.59375 36.375 \r\nQ 56.59375 19.140625 48.40625 8.859375 \r\nQ 40.234375 -1.421875 26.421875 -1.421875 \r\nQ 22.703125 -1.421875 18.890625 -0.6875 \r\nQ 15.09375 0.046875 10.984375 1.515625 \r\nz\r\nM 30.609375 32.421875 \r\nQ 37.25 32.421875 41.125 36.953125 \r\nQ 45.015625 41.5 45.015625 49.421875 \r\nQ 45.015625 57.28125 41.125 61.84375 \r\nQ 37.25 66.40625 30.609375 66.40625 \r\nQ 23.96875 66.40625 20.09375 61.84375 \r\nQ 16.21875 57.28125 16.21875 49.421875 \r\nQ 16.21875 41.5 20.09375 36.953125 \r\nQ 23.96875 32.421875 30.609375 32.421875 \r\nz\r\n\" id=\"DejaVuSans-57\"/>\r\n      </defs>\r\n      <use xlink:href=\"#DejaVuSans-49\"/>\r\n      <use x=\"63.623047\" xlink:href=\"#DejaVuSans-101\"/>\r\n      <use x=\"125.146484\" xlink:href=\"#DejaVuSans-57\"/>\r\n     </g>\r\n    </g>\r\n   </g>\r\n   <g id=\"line2d_16\">\r\n    <path clip-path=\"url(#p7dff8dff85)\" d=\"M 45.321307 27.682074 \r\nL 48.395687 27.682119 \r\nL 51.470067 27.682258 \r\nL 54.544447 27.682344 \r\nL 57.618827 27.682351 \r\nL 60.693208 27.682381 \r\nL 63.767588 27.682412 \r\nL 66.841968 27.682562 \r\nL 69.916348 27.682569 \r\nL 72.990728 27.682615 \r\nL 76.065108 27.68272 \r\nL 79.139489 27.682728 \r\nL 82.213869 27.682796 \r\nL 85.288249 27.683008 \r\nL 88.362629 27.683015 \r\nL 91.437009 27.683339 \r\nL 94.511389 27.683438 \r\nL 97.58577 27.683445 \r\nL 100.66015 27.683536 \r\nL 103.73453 27.683543 \r\nL 106.80891 27.685848 \r\nL 109.88329 27.685849 \r\nL 112.95767 27.68824 \r\nL 116.032051 27.688248 \r\nL 119.106431 27.688263 \r\nL 122.180811 27.68827 \r\nL 125.255191 27.688697 \r\nL 128.329571 27.688705 \r\nL 131.403951 27.688817 \r\nL 134.478332 27.688825 \r\nL 137.552712 27.68887 \r\nL 140.627092 27.688915 \r\nL 143.701472 27.688923 \r\nL 146.775852 27.689109 \r\nL 149.850232 27.689117 \r\nL 152.924613 27.689424 \r\nL 155.998993 27.689534 \r\nL 159.073373 27.689542 \r\nL 162.147753 27.689549 \r\nL 165.222133 27.689647 \r\nL 168.296513 27.689654 \r\nL 171.370894 27.69019 \r\nL 174.445274 27.690198 \r\nL 177.519654 27.690622 \r\nL 180.594034 27.69063 \r\nL 183.668414 27.691286 \r\nL 186.742794 27.691323 \r\nL 189.817175 27.691509 \r\nL 192.891555 27.691517 \r\nL 195.965935 27.692599 \r\nL 199.040315 27.692606 \r\nL 202.114695 27.692808 \r\nL 205.189075 27.692816 \r\nL 208.263456 27.692978 \r\nL 211.337836 27.693139 \r\nL 214.412216 27.693147 \r\nL 217.486596 27.693214 \r\nL 220.560976 27.693222 \r\nL 223.635356 27.693328 \r\nL 226.709737 27.693335 \r\nL 229.784117 27.693373 \r\nL 232.858497 27.69338 \r\nL 235.932877 27.693434 \r\nL 239.007257 27.693457 \r\nL 242.081637 27.693963 \r\nL 245.156018 27.694174 \r\nL 248.230398 27.696573 \r\nL 251.304778 27.696574 \r\nL 254.379158 27.699016 \r\nL 257.453538 27.699031 \r\nL 260.527918 27.699174 \r\nL 263.602299 27.699181 \r\nL 266.676679 27.699317 \r\nL 269.751059 27.699324 \r\nL 272.825439 27.699332 \r\nL 275.899819 27.699459 \r\nL 278.974199 27.699504 \r\nL 282.04858 27.699572 \r\nL 285.12296 27.699699 \r\nL 288.19734 27.699706 \r\nL 291.27172 27.699759 \r\nL 294.3461 27.699991 \r\nL 297.42048 27.699998 \r\nL 300.494861 27.700058 \r\nL 303.569241 27.700065 \r\nL 306.643621 27.700151 \r\nL 309.718001 27.700267 \r\nL 312.792381 27.700274 \r\nL 315.866761 27.700663 \r\nL 318.941142 27.701492 \r\nL 322.015522 27.701508 \r\nL 325.089902 27.701523 \r\nL 328.164282 27.702569 \r\nL 331.238662 27.702576 \r\nL 334.313042 27.703077 \r\nL 337.387423 27.703085 \r\nL 340.461803 27.703131 \r\nL 343.536183 27.703139 \r\nL 346.610563 27.703356 \r\nL 349.684943 27.703439 \r\n\" style=\"fill:none;stroke:#1f77b4;stroke-linecap:square;stroke-width:1.5;\"/>\r\n   </g>\r\n   <g id=\"line2d_17\">\r\n    <path clip-path=\"url(#p7dff8dff85)\" d=\"M 45.321307 225.354771 \r\nL 48.395687 225.354771 \r\nL 51.470067 225.354771 \r\nL 54.544447 225.354771 \r\nL 57.618827 225.354772 \r\nL 60.693208 225.354772 \r\nL 63.767588 225.354772 \r\nL 66.841968 225.354772 \r\nL 69.916348 225.354772 \r\nL 72.990728 225.354772 \r\nL 76.065108 225.354772 \r\nL 79.139489 225.354772 \r\nL 82.213869 225.354773 \r\nL 85.288249 225.354773 \r\nL 88.362629 225.354773 \r\nL 91.437009 225.354773 \r\nL 94.511389 225.354773 \r\nL 97.58577 225.354773 \r\nL 100.66015 225.354773 \r\nL 103.73453 225.354773 \r\nL 106.80891 225.354774 \r\nL 109.88329 225.354774 \r\nL 112.95767 225.354774 \r\nL 116.032051 225.354774 \r\nL 119.106431 225.354774 \r\nL 122.180811 225.354774 \r\nL 125.255191 225.354774 \r\nL 128.329571 225.354774 \r\nL 131.403951 225.354774 \r\nL 134.478332 225.354775 \r\nL 137.552712 225.354775 \r\nL 140.627092 225.354775 \r\nL 143.701472 225.354775 \r\nL 146.775852 225.354775 \r\nL 149.850232 225.354775 \r\nL 152.924613 225.354775 \r\nL 155.998993 225.354775 \r\nL 159.073373 225.354776 \r\nL 162.147753 225.354776 \r\nL 165.222133 225.354776 \r\nL 168.296513 225.354776 \r\nL 171.370894 225.354776 \r\nL 174.445274 225.354776 \r\nL 177.519654 225.354776 \r\nL 180.594034 225.354776 \r\nL 183.668414 225.354777 \r\nL 186.742794 225.354777 \r\nL 189.817175 225.354777 \r\nL 192.891555 225.354777 \r\nL 195.965935 225.354777 \r\nL 199.040315 225.354777 \r\nL 202.114695 225.354777 \r\nL 205.189075 225.354777 \r\nL 208.263456 225.354778 \r\nL 211.337836 225.354778 \r\nL 214.412216 225.354778 \r\nL 217.486596 225.354778 \r\nL 220.560976 225.354778 \r\nL 223.635356 225.354778 \r\nL 226.709737 225.354778 \r\nL 229.784117 225.354778 \r\nL 232.858497 225.354779 \r\nL 235.932877 225.354779 \r\nL 239.007257 225.354779 \r\nL 242.081637 225.354779 \r\nL 245.156018 225.354779 \r\nL 248.230398 225.354779 \r\nL 251.304778 225.354779 \r\nL 254.379158 225.354779 \r\nL 257.453538 225.35478 \r\nL 260.527918 225.35478 \r\nL 263.602299 225.35478 \r\nL 266.676679 225.35478 \r\nL 269.751059 225.35478 \r\nL 272.825439 225.35478 \r\nL 275.899819 225.35478 \r\nL 278.974199 225.35478 \r\nL 282.04858 225.35478 \r\nL 285.12296 225.354781 \r\nL 288.19734 225.354781 \r\nL 291.27172 225.354781 \r\nL 294.3461 225.354781 \r\nL 297.42048 225.354781 \r\nL 300.494861 225.354781 \r\nL 303.569241 225.354781 \r\nL 306.643621 225.354781 \r\nL 309.718001 225.354782 \r\nL 312.792381 225.354782 \r\nL 315.866761 225.354782 \r\nL 318.941142 225.354782 \r\nL 322.015522 225.354782 \r\nL 325.089902 225.354782 \r\nL 328.164282 225.354782 \r\nL 331.238662 225.354782 \r\nL 334.313042 225.354783 \r\nL 337.387423 225.354783 \r\nL 340.461803 225.354783 \r\nL 343.536183 225.354783 \r\nL 346.610563 225.354783 \r\nL 349.684943 225.354783 \r\n\" style=\"fill:none;stroke:#ff7f0e;stroke-linecap:square;stroke-width:1.5;\"/>\r\n   </g>\r\n   <g id=\"line2d_18\">\r\n    <path clip-path=\"url(#p7dff8dff85)\" d=\"M 45.321307 225.354801 \r\nL 48.395687 225.354801 \r\nL 51.470067 225.354801 \r\nL 54.544447 225.354801 \r\nL 57.618827 225.354801 \r\nL 60.693208 225.354801 \r\nL 63.767588 225.354801 \r\nL 66.841968 225.354801 \r\nL 69.916348 225.354801 \r\nL 72.990728 225.354801 \r\nL 76.065108 225.354801 \r\nL 79.139489 225.354801 \r\nL 82.213869 225.354801 \r\nL 85.288249 225.354801 \r\nL 88.362629 225.354801 \r\nL 91.437009 225.354801 \r\nL 94.511389 225.354801 \r\nL 97.58577 225.354801 \r\nL 100.66015 225.354801 \r\nL 103.73453 225.354801 \r\nL 106.80891 225.354801 \r\nL 109.88329 225.354801 \r\nL 112.95767 225.354801 \r\nL 116.032051 225.354801 \r\nL 119.106431 225.354801 \r\nL 122.180811 225.354801 \r\nL 125.255191 225.354801 \r\nL 128.329571 225.354801 \r\nL 131.403951 225.354801 \r\nL 134.478332 225.354801 \r\nL 137.552712 225.354801 \r\nL 140.627092 225.354801 \r\nL 143.701472 225.354801 \r\nL 146.775852 225.354801 \r\nL 149.850232 225.354801 \r\nL 152.924613 225.354801 \r\nL 155.998993 225.354801 \r\nL 159.073373 225.354801 \r\nL 162.147753 225.354801 \r\nL 165.222133 225.354801 \r\nL 168.296513 225.354801 \r\nL 171.370894 225.354801 \r\nL 174.445274 225.354801 \r\nL 177.519654 225.354801 \r\nL 180.594034 225.354801 \r\nL 183.668414 225.354801 \r\nL 186.742794 225.354801 \r\nL 189.817175 225.354801 \r\nL 192.891555 225.354801 \r\nL 195.965935 225.354801 \r\nL 199.040315 225.354801 \r\nL 202.114695 225.354801 \r\nL 205.189075 225.354801 \r\nL 208.263456 225.354801 \r\nL 211.337836 225.354801 \r\nL 214.412216 225.354801 \r\nL 217.486596 225.354801 \r\nL 220.560976 225.354801 \r\nL 223.635356 225.354801 \r\nL 226.709737 225.354801 \r\nL 229.784117 225.354801 \r\nL 232.858497 225.354801 \r\nL 235.932877 225.354801 \r\nL 239.007257 225.354801 \r\nL 242.081637 225.354801 \r\nL 245.156018 225.354801 \r\nL 248.230398 225.354801 \r\nL 251.304778 225.354801 \r\nL 254.379158 225.354801 \r\nL 257.453538 225.354801 \r\nL 260.527918 225.354801 \r\nL 263.602299 225.354801 \r\nL 266.676679 225.354801 \r\nL 269.751059 225.354801 \r\nL 272.825439 225.354801 \r\nL 275.899819 225.354801 \r\nL 278.974199 225.354801 \r\nL 282.04858 225.354801 \r\nL 285.12296 225.354801 \r\nL 288.19734 225.354801 \r\nL 291.27172 225.354801 \r\nL 294.3461 225.354801 \r\nL 297.42048 225.354801 \r\nL 300.494861 225.354801 \r\nL 303.569241 225.354801 \r\nL 306.643621 225.354801 \r\nL 309.718001 225.354801 \r\nL 312.792381 225.354801 \r\nL 315.866761 225.354801 \r\nL 318.941142 225.354801 \r\nL 322.015522 225.354801 \r\nL 325.089902 225.354801 \r\nL 328.164282 225.354801 \r\nL 331.238662 225.354801 \r\nL 334.313042 225.354801 \r\nL 337.387423 225.354801 \r\nL 340.461803 225.354801 \r\nL 343.536183 225.354801 \r\nL 346.610563 225.354801 \r\nL 349.684943 225.354801 \r\n\" style=\"fill:none;stroke:#2ca02c;stroke-linecap:square;stroke-width:1.5;\"/>\r\n   </g>\r\n   <g id=\"patch_3\">\r\n    <path d=\"M 30.103125 235.238437 \r\nL 30.103125 17.798437 \r\n\" style=\"fill:none;stroke:#000000;stroke-linecap:square;stroke-linejoin:miter;stroke-width:0.8;\"/>\r\n   </g>\r\n   <g id=\"patch_4\">\r\n    <path d=\"M 364.903125 235.238437 \r\nL 364.903125 17.798437 \r\n\" style=\"fill:none;stroke:#000000;stroke-linecap:square;stroke-linejoin:miter;stroke-width:0.8;\"/>\r\n   </g>\r\n   <g id=\"patch_5\">\r\n    <path d=\"M 30.103125 235.238437 \r\nL 364.903125 235.238437 \r\n\" style=\"fill:none;stroke:#000000;stroke-linecap:square;stroke-linejoin:miter;stroke-width:0.8;\"/>\r\n   </g>\r\n   <g id=\"patch_6\">\r\n    <path d=\"M 30.103125 17.798437 \r\nL 364.903125 17.798437 \r\n\" style=\"fill:none;stroke:#000000;stroke-linecap:square;stroke-linejoin:miter;stroke-width:0.8;\"/>\r\n   </g>\r\n   <g id=\"legend_1\">\r\n    <g id=\"patch_7\">\r\n     <path d=\"M 268.020313 142.696562 \r\nL 357.903125 142.696562 \r\nQ 359.903125 142.696562 359.903125 140.696562 \r\nL 359.903125 112.340312 \r\nQ 359.903125 110.340312 357.903125 110.340312 \r\nL 268.020313 110.340312 \r\nQ 266.020313 110.340312 266.020313 112.340312 \r\nL 266.020313 140.696562 \r\nQ 266.020313 142.696562 268.020313 142.696562 \r\nz\r\n\" style=\"fill:#ffffff;opacity:0.8;stroke:#cccccc;stroke-linejoin:miter;\"/>\r\n    </g>\r\n    <g id=\"line2d_19\">\r\n     <path d=\"M 270.020313 118.43875 \r\nL 290.020313 118.43875 \r\n\" style=\"fill:none;stroke:#1f77b4;stroke-linecap:square;stroke-width:1.5;\"/>\r\n    </g>\r\n    <g id=\"line2d_20\"/>\r\n    <g id=\"text_17\">\r\n     <!-- timestamp -->\r\n     <g transform=\"translate(298.020313 121.93875)scale(0.1 -0.1)\">\r\n      <defs>\r\n       <path d=\"M 18.3125 70.21875 \r\nL 18.3125 54.6875 \r\nL 36.8125 54.6875 \r\nL 36.8125 47.703125 \r\nL 18.3125 47.703125 \r\nL 18.3125 18.015625 \r\nQ 18.3125 11.328125 20.140625 9.421875 \r\nQ 21.96875 7.515625 27.59375 7.515625 \r\nL 36.8125 7.515625 \r\nL 36.8125 0 \r\nL 27.59375 0 \r\nQ 17.1875 0 13.234375 3.875 \r\nQ 9.28125 7.765625 9.28125 18.015625 \r\nL 9.28125 47.703125 \r\nL 2.6875 47.703125 \r\nL 2.6875 54.6875 \r\nL 9.28125 54.6875 \r\nL 9.28125 70.21875 \r\nz\r\n\" id=\"DejaVuSans-116\"/>\r\n       <path d=\"M 9.421875 54.6875 \r\nL 18.40625 54.6875 \r\nL 18.40625 0 \r\nL 9.421875 0 \r\nz\r\nM 9.421875 75.984375 \r\nL 18.40625 75.984375 \r\nL 18.40625 64.59375 \r\nL 9.421875 64.59375 \r\nz\r\n\" id=\"DejaVuSans-105\"/>\r\n       <path d=\"M 52 44.1875 \r\nQ 55.375 50.25 60.0625 53.125 \r\nQ 64.75 56 71.09375 56 \r\nQ 79.640625 56 84.28125 50.015625 \r\nQ 88.921875 44.046875 88.921875 33.015625 \r\nL 88.921875 0 \r\nL 79.890625 0 \r\nL 79.890625 32.71875 \r\nQ 79.890625 40.578125 77.09375 44.375 \r\nQ 74.3125 48.1875 68.609375 48.1875 \r\nQ 61.625 48.1875 57.5625 43.546875 \r\nQ 53.515625 38.921875 53.515625 30.90625 \r\nL 53.515625 0 \r\nL 44.484375 0 \r\nL 44.484375 32.71875 \r\nQ 44.484375 40.625 41.703125 44.40625 \r\nQ 38.921875 48.1875 33.109375 48.1875 \r\nQ 26.21875 48.1875 22.15625 43.53125 \r\nQ 18.109375 38.875 18.109375 30.90625 \r\nL 18.109375 0 \r\nL 9.078125 0 \r\nL 9.078125 54.6875 \r\nL 18.109375 54.6875 \r\nL 18.109375 46.1875 \r\nQ 21.1875 51.21875 25.484375 53.609375 \r\nQ 29.78125 56 35.6875 56 \r\nQ 41.65625 56 45.828125 52.96875 \r\nQ 50 49.953125 52 44.1875 \r\nz\r\n\" id=\"DejaVuSans-109\"/>\r\n       <path d=\"M 44.28125 53.078125 \r\nL 44.28125 44.578125 \r\nQ 40.484375 46.53125 36.375 47.5 \r\nQ 32.28125 48.484375 27.875 48.484375 \r\nQ 21.1875 48.484375 17.84375 46.4375 \r\nQ 14.5 44.390625 14.5 40.28125 \r\nQ 14.5 37.15625 16.890625 35.375 \r\nQ 19.28125 33.59375 26.515625 31.984375 \r\nL 29.59375 31.296875 \r\nQ 39.15625 29.25 43.1875 25.515625 \r\nQ 47.21875 21.78125 47.21875 15.09375 \r\nQ 47.21875 7.46875 41.1875 3.015625 \r\nQ 35.15625 -1.421875 24.609375 -1.421875 \r\nQ 20.21875 -1.421875 15.453125 -0.5625 \r\nQ 10.6875 0.296875 5.421875 2 \r\nL 5.421875 11.28125 \r\nQ 10.40625 8.6875 15.234375 7.390625 \r\nQ 20.0625 6.109375 24.8125 6.109375 \r\nQ 31.15625 6.109375 34.5625 8.28125 \r\nQ 37.984375 10.453125 37.984375 14.40625 \r\nQ 37.984375 18.0625 35.515625 20.015625 \r\nQ 33.0625 21.96875 24.703125 23.78125 \r\nL 21.578125 24.515625 \r\nQ 13.234375 26.265625 9.515625 29.90625 \r\nQ 5.8125 33.546875 5.8125 39.890625 \r\nQ 5.8125 47.609375 11.28125 51.796875 \r\nQ 16.75 56 26.8125 56 \r\nQ 31.78125 56 36.171875 55.265625 \r\nQ 40.578125 54.546875 44.28125 53.078125 \r\nz\r\n\" id=\"DejaVuSans-115\"/>\r\n       <path d=\"M 34.28125 27.484375 \r\nQ 23.390625 27.484375 19.1875 25 \r\nQ 14.984375 22.515625 14.984375 16.5 \r\nQ 14.984375 11.71875 18.140625 8.90625 \r\nQ 21.296875 6.109375 26.703125 6.109375 \r\nQ 34.1875 6.109375 38.703125 11.40625 \r\nQ 43.21875 16.703125 43.21875 25.484375 \r\nL 43.21875 27.484375 \r\nz\r\nM 52.203125 31.203125 \r\nL 52.203125 0 \r\nL 43.21875 0 \r\nL 43.21875 8.296875 \r\nQ 40.140625 3.328125 35.546875 0.953125 \r\nQ 30.953125 -1.421875 24.3125 -1.421875 \r\nQ 15.921875 -1.421875 10.953125 3.296875 \r\nQ 6 8.015625 6 15.921875 \r\nQ 6 25.140625 12.171875 29.828125 \r\nQ 18.359375 34.515625 30.609375 34.515625 \r\nL 43.21875 34.515625 \r\nL 43.21875 35.40625 \r\nQ 43.21875 41.609375 39.140625 45 \r\nQ 35.0625 48.390625 27.6875 48.390625 \r\nQ 23 48.390625 18.546875 47.265625 \r\nQ 14.109375 46.140625 10.015625 43.890625 \r\nL 10.015625 52.203125 \r\nQ 14.9375 54.109375 19.578125 55.046875 \r\nQ 24.21875 56 28.609375 56 \r\nQ 40.484375 56 46.34375 49.84375 \r\nQ 52.203125 43.703125 52.203125 31.203125 \r\nz\r\n\" id=\"DejaVuSans-97\"/>\r\n       <path d=\"M 18.109375 8.203125 \r\nL 18.109375 -20.796875 \r\nL 9.078125 -20.796875 \r\nL 9.078125 54.6875 \r\nL 18.109375 54.6875 \r\nL 18.109375 46.390625 \r\nQ 20.953125 51.265625 25.265625 53.625 \r\nQ 29.59375 56 35.59375 56 \r\nQ 45.5625 56 51.78125 48.09375 \r\nQ 58.015625 40.1875 58.015625 27.296875 \r\nQ 58.015625 14.40625 51.78125 6.484375 \r\nQ 45.5625 -1.421875 35.59375 -1.421875 \r\nQ 29.59375 -1.421875 25.265625 0.953125 \r\nQ 20.953125 3.328125 18.109375 8.203125 \r\nz\r\nM 48.6875 27.296875 \r\nQ 48.6875 37.203125 44.609375 42.84375 \r\nQ 40.53125 48.484375 33.40625 48.484375 \r\nQ 26.265625 48.484375 22.1875 42.84375 \r\nQ 18.109375 37.203125 18.109375 27.296875 \r\nQ 18.109375 17.390625 22.1875 11.75 \r\nQ 26.265625 6.109375 33.40625 6.109375 \r\nQ 40.53125 6.109375 44.609375 11.75 \r\nQ 48.6875 17.390625 48.6875 27.296875 \r\nz\r\n\" id=\"DejaVuSans-112\"/>\r\n      </defs>\r\n      <use xlink:href=\"#DejaVuSans-116\"/>\r\n      <use x=\"39.208984\" xlink:href=\"#DejaVuSans-105\"/>\r\n      <use x=\"66.992188\" xlink:href=\"#DejaVuSans-109\"/>\r\n      <use x=\"164.404297\" xlink:href=\"#DejaVuSans-101\"/>\r\n      <use x=\"225.927734\" xlink:href=\"#DejaVuSans-115\"/>\r\n      <use x=\"278.027344\" xlink:href=\"#DejaVuSans-116\"/>\r\n      <use x=\"317.236328\" xlink:href=\"#DejaVuSans-97\"/>\r\n      <use x=\"378.515625\" xlink:href=\"#DejaVuSans-109\"/>\r\n      <use x=\"475.927734\" xlink:href=\"#DejaVuSans-112\"/>\r\n     </g>\r\n    </g>\r\n    <g id=\"line2d_21\">\r\n     <path d=\"M 270.020313 133.116875 \r\nL 290.020313 133.116875 \r\n\" style=\"fill:none;stroke:#ff7f0e;stroke-linecap:square;stroke-width:1.5;\"/>\r\n    </g>\r\n    <g id=\"line2d_22\"/>\r\n    <g id=\"text_18\">\r\n     <!-- seqNumber -->\r\n     <g transform=\"translate(298.020313 136.616875)scale(0.1 -0.1)\">\r\n      <defs>\r\n       <path d=\"M 14.796875 27.296875 \r\nQ 14.796875 17.390625 18.875 11.75 \r\nQ 22.953125 6.109375 30.078125 6.109375 \r\nQ 37.203125 6.109375 41.296875 11.75 \r\nQ 45.40625 17.390625 45.40625 27.296875 \r\nQ 45.40625 37.203125 41.296875 42.84375 \r\nQ 37.203125 48.484375 30.078125 48.484375 \r\nQ 22.953125 48.484375 18.875 42.84375 \r\nQ 14.796875 37.203125 14.796875 27.296875 \r\nz\r\nM 45.40625 8.203125 \r\nQ 42.578125 3.328125 38.25 0.953125 \r\nQ 33.9375 -1.421875 27.875 -1.421875 \r\nQ 17.96875 -1.421875 11.734375 6.484375 \r\nQ 5.515625 14.40625 5.515625 27.296875 \r\nQ 5.515625 40.1875 11.734375 48.09375 \r\nQ 17.96875 56 27.875 56 \r\nQ 33.9375 56 38.25 53.625 \r\nQ 42.578125 51.265625 45.40625 46.390625 \r\nL 45.40625 54.6875 \r\nL 54.390625 54.6875 \r\nL 54.390625 -20.796875 \r\nL 45.40625 -20.796875 \r\nz\r\n\" id=\"DejaVuSans-113\"/>\r\n       <path d=\"M 9.8125 72.90625 \r\nL 23.09375 72.90625 \r\nL 55.421875 11.921875 \r\nL 55.421875 72.90625 \r\nL 64.984375 72.90625 \r\nL 64.984375 0 \r\nL 51.703125 0 \r\nL 19.390625 60.984375 \r\nL 19.390625 0 \r\nL 9.8125 0 \r\nz\r\n\" id=\"DejaVuSans-78\"/>\r\n       <path d=\"M 8.5 21.578125 \r\nL 8.5 54.6875 \r\nL 17.484375 54.6875 \r\nL 17.484375 21.921875 \r\nQ 17.484375 14.15625 20.5 10.265625 \r\nQ 23.53125 6.390625 29.59375 6.390625 \r\nQ 36.859375 6.390625 41.078125 11.03125 \r\nQ 45.3125 15.671875 45.3125 23.6875 \r\nL 45.3125 54.6875 \r\nL 54.296875 54.6875 \r\nL 54.296875 0 \r\nL 45.3125 0 \r\nL 45.3125 8.40625 \r\nQ 42.046875 3.421875 37.71875 1 \r\nQ 33.40625 -1.421875 27.6875 -1.421875 \r\nQ 18.265625 -1.421875 13.375 4.4375 \r\nQ 8.5 10.296875 8.5 21.578125 \r\nz\r\nM 31.109375 56 \r\nz\r\n\" id=\"DejaVuSans-117\"/>\r\n       <path d=\"M 48.6875 27.296875 \r\nQ 48.6875 37.203125 44.609375 42.84375 \r\nQ 40.53125 48.484375 33.40625 48.484375 \r\nQ 26.265625 48.484375 22.1875 42.84375 \r\nQ 18.109375 37.203125 18.109375 27.296875 \r\nQ 18.109375 17.390625 22.1875 11.75 \r\nQ 26.265625 6.109375 33.40625 6.109375 \r\nQ 40.53125 6.109375 44.609375 11.75 \r\nQ 48.6875 17.390625 48.6875 27.296875 \r\nz\r\nM 18.109375 46.390625 \r\nQ 20.953125 51.265625 25.265625 53.625 \r\nQ 29.59375 56 35.59375 56 \r\nQ 45.5625 56 51.78125 48.09375 \r\nQ 58.015625 40.1875 58.015625 27.296875 \r\nQ 58.015625 14.40625 51.78125 6.484375 \r\nQ 45.5625 -1.421875 35.59375 -1.421875 \r\nQ 29.59375 -1.421875 25.265625 0.953125 \r\nQ 20.953125 3.328125 18.109375 8.203125 \r\nL 18.109375 0 \r\nL 9.078125 0 \r\nL 9.078125 75.984375 \r\nL 18.109375 75.984375 \r\nz\r\n\" id=\"DejaVuSans-98\"/>\r\n       <path d=\"M 41.109375 46.296875 \r\nQ 39.59375 47.171875 37.8125 47.578125 \r\nQ 36.03125 48 33.890625 48 \r\nQ 26.265625 48 22.1875 43.046875 \r\nQ 18.109375 38.09375 18.109375 28.8125 \r\nL 18.109375 0 \r\nL 9.078125 0 \r\nL 9.078125 54.6875 \r\nL 18.109375 54.6875 \r\nL 18.109375 46.1875 \r\nQ 20.953125 51.171875 25.484375 53.578125 \r\nQ 30.03125 56 36.53125 56 \r\nQ 37.453125 56 38.578125 55.875 \r\nQ 39.703125 55.765625 41.0625 55.515625 \r\nz\r\n\" id=\"DejaVuSans-114\"/>\r\n      </defs>\r\n      <use xlink:href=\"#DejaVuSans-115\"/>\r\n      <use x=\"52.099609\" xlink:href=\"#DejaVuSans-101\"/>\r\n      <use x=\"113.623047\" xlink:href=\"#DejaVuSans-113\"/>\r\n      <use x=\"177.099609\" xlink:href=\"#DejaVuSans-78\"/>\r\n      <use x=\"251.904297\" xlink:href=\"#DejaVuSans-117\"/>\r\n      <use x=\"315.283203\" xlink:href=\"#DejaVuSans-109\"/>\r\n      <use x=\"412.695312\" xlink:href=\"#DejaVuSans-98\"/>\r\n      <use x=\"476.171875\" xlink:href=\"#DejaVuSans-101\"/>\r\n      <use x=\"537.695312\" xlink:href=\"#DejaVuSans-114\"/>\r\n     </g>\r\n    </g>\r\n   </g>\r\n  </g>\r\n </g>\r\n <defs>\r\n  <clipPath id=\"p7dff8dff85\">\r\n   <rect height=\"217.44\" width=\"334.8\" x=\"30.103125\" y=\"17.798437\"/>\r\n  </clipPath>\r\n </defs>\r\n</svg>\r\n",
      "image/png": "[encoded data removed]"
     },
     "metadata": {
      "needs_background": "light"
     }
    }
   ],
   "source": [
    "message_data.plot()"
   ]
  },
  {
   "source": [
    "drive api (testing still)"
   ],
   "cell_type": "markdown",
   "metadata": {}
  },
  {
   "cell_type": "code",
   "execution_count": 9,
   "metadata": {},
   "outputs": [],
   "source": [
    "# pip install pydrive\n",
    "from pydrive.auth import GoogleAuth\n",
    "from pydrive.drive import GoogleDrive"
   ]
  },
  {
   "cell_type": "code",
   "execution_count": 11,
   "metadata": {
    "tags": []
   },
   "outputs": [
    {
     "output_type": "stream",
     "name": "stdout",
     "text": [
      "Your browser has been opened to visit:\n\n    https://accounts.google.com/o/oauth2/auth?client_id=491460359726-lj3ilu22ir8ckqnjefot5gs99vmig1d2.apps.googleusercontent.com&redirect_uri=http%3A%2F%2Flocalhost%3A8080%2F&scope=https%3A%2F%2Fwww.googleapis.com%2Fauth%2Fdrive&access_type=offline&response_type=code\n\n"
     ]
    }
   ],
   "source": [
    "# Rename the downloaded JSON file to client_secrets.json\n",
    "# The client_secrets.json file needs to be in the same directory as the script.\n",
    "gauth = GoogleAuth()\n",
    "drive = GoogleDrive(gauth)\n",
    "# List files in Google Drive\n",
    "fileList = drive.ListFile({'q': \"'1pxYux33QnFcvrpP17Q88_xY1nW79aJL-' in parents and trashed=false\"}).GetList()\n",
    "# for file1 in fileList:\n",
    "#   print('title: %s, id: %s' % (file1['title'], file1['id']))\n",
    "\n",
    "  "
   ]
  },
  {
   "cell_type": "code",
   "execution_count": 51,
   "metadata": {},
   "outputs": [
    {
     "output_type": "stream",
     "name": "stdout",
     "text": [
      "unsupported file\n"
     ]
    }
   ],
   "source": [
    "fileCons = list()\n",
    "\n",
    "for file1 in fileList:\n",
    "  if 'downloadUrl' in file1:\n",
    "    fileCons.append(requests.get(file1['downloadUrl']).content)\n",
    "  else:\n",
    "    print('unsupported file')"
   ]
  },
  {
   "cell_type": "code",
   "execution_count": 53,
   "metadata": {},
   "outputs": [
    {
     "output_type": "stream",
     "name": "stdout",
     "text": [
      "[b'{\\n \"error\": {\\n  \"errors\": [\\n   {\\n    \"domain\": \"usageLimits\",\\n    \"reason\": \"dailyLimitExceededUnreg\",\\n    \"message\": \"Daily Limit for Unauthenticated Use Exceeded. Continued use requires signup.\",\\n    \"extendedHelp\": \"https://code.google.com/apis/console\"\\n   }\\n  ],\\n  \"code\": 403,\\n  \"message\": \"Daily Limit for Unauthenticated Use Exceeded. Continued use requires signup.\"\\n }\\n}\\n']\n"
     ]
    }
   ],
   "source": [
    "print(fileCons)"
   ]
  },
  {
   "cell_type": "code",
   "execution_count": null,
   "metadata": {},
   "outputs": [],
   "source": []
  }
 ]
}