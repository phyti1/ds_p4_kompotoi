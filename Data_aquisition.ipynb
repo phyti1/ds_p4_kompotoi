{
 "metadata": {
  "language_info": {
   "codemirror_mode": {
    "name": "ipython",
    "version": 3
   },
   "file_extension": ".py",
   "mimetype": "text/x-python",
   "name": "python",
   "nbconvert_exporter": "python",
   "pygments_lexer": "ipython3",
   "version": "3.9.4-final"
  },
  "orig_nbformat": 2,
  "kernelspec": {
   "name": "python394jvsc74a57bd05a8dfbfd32fb00bbc17b1b5ed9a75c3d0d227413af784821a14e9b99de62ed8e",
   "display_name": "Python 3.9.4 64-bit"
  }
 },
 "nbformat": 4,
 "nbformat_minor": 2,
 "cells": [
  {
   "source": [
    "## Daten aus API einlesen\n",
    "Diesdasananas\n",
    "\n",
    "Api Dokumentation gemäss: https://doc.iofrog.com/apidocumentation/api.html\n",
    "Postman requests: https://www.getpostman.com/collections/eb80441a4500fd9a0634"
   ],
   "cell_type": "markdown",
   "metadata": {}
  },
  {
   "cell_type": "code",
   "execution_count": 26,
   "metadata": {},
   "outputs": [],
   "source": [
    "# packages import\n",
    "import requests\n",
    "import json\n",
    "import pandas as pd\n"
   ]
  },
  {
   "source": [
    "Login to api"
   ],
   "cell_type": "markdown",
   "metadata": {}
  },
  {
   "cell_type": "code",
   "execution_count": 27,
   "metadata": {},
   "outputs": [],
   "source": [
    "url = \"https://www.iofrog.com/api/v2/auth/signin/\"\n",
    "\n",
    "payload = json.dumps({\n",
    "  \"username\": \"pascal.berger@students.fhnw.ch\",\n",
    "  \"password\": \"123321\"\n",
    "})\n",
    "headers = {\n",
    "  'Content-Type': 'application/json',\n",
    "  'Cookie': ''\n",
    "}\n",
    "\n",
    "login_response = requests.request(\"POST\", url, headers=headers, data=payload)\n",
    "#print(login_response.text)\n"
   ]
  },
  {
   "cell_type": "code",
   "execution_count": 28,
   "metadata": {},
   "outputs": [
    {
     "output_type": "execute_result",
     "data": {
      "text/plain": [
       "                                             user  \\\n",
       "firstName                                  Pascal   \n",
       "lastName                                   Berger   \n",
       "isActivated                                  True   \n",
       "level                                      expert   \n",
       "partner                                    heliot   \n",
       "lang                                           en   \n",
       "timeZone                            Europe/Berlin   \n",
       "units         {'temperature': 'C', 'system': 'M'}   \n",
       "accessToken                                   NaN   \n",
       "refreshToken                                  NaN   \n",
       "\n",
       "                                                          token  \n",
       "firstName                                                   NaN  \n",
       "lastName                                                    NaN  \n",
       "isActivated                                                 NaN  \n",
       "level                                                       NaN  \n",
       "partner                                                     NaN  \n",
       "lang                                                        NaN  \n",
       "timeZone                                                    NaN  \n",
       "units                                                       NaN  \n",
       "accessToken   eyJhbGciOiJIUzI1NiIsInR5cCI6IkpXVCJ9.eyJpZCI6I...  \n",
       "refreshToken  6078784c4568aa5ea53bd976.392411e34673f553aa54c...  "
      ],
      "text/html": "<div>\n<style scoped>\n    .dataframe tbody tr th:only-of-type {\n        vertical-align: middle;\n    }\n\n    .dataframe tbody tr th {\n        vertical-align: top;\n    }\n\n    .dataframe thead th {\n        text-align: right;\n    }\n</style>\n<table border=\"1\" class=\"dataframe\">\n  <thead>\n    <tr style=\"text-align: right;\">\n      <th></th>\n      <th>user</th>\n      <th>token</th>\n    </tr>\n  </thead>\n  <tbody>\n    <tr>\n      <th>firstName</th>\n      <td>Pascal</td>\n      <td>NaN</td>\n    </tr>\n    <tr>\n      <th>lastName</th>\n      <td>Berger</td>\n      <td>NaN</td>\n    </tr>\n    <tr>\n      <th>isActivated</th>\n      <td>True</td>\n      <td>NaN</td>\n    </tr>\n    <tr>\n      <th>level</th>\n      <td>expert</td>\n      <td>NaN</td>\n    </tr>\n    <tr>\n      <th>partner</th>\n      <td>heliot</td>\n      <td>NaN</td>\n    </tr>\n    <tr>\n      <th>lang</th>\n      <td>en</td>\n      <td>NaN</td>\n    </tr>\n    <tr>\n      <th>timeZone</th>\n      <td>Europe/Berlin</td>\n      <td>NaN</td>\n    </tr>\n    <tr>\n      <th>units</th>\n      <td>{'temperature': 'C', 'system': 'M'}</td>\n      <td>NaN</td>\n    </tr>\n    <tr>\n      <th>accessToken</th>\n      <td>NaN</td>\n      <td>eyJhbGciOiJIUzI1NiIsInR5cCI6IkpXVCJ9.eyJpZCI6I...</td>\n    </tr>\n    <tr>\n      <th>refreshToken</th>\n      <td>NaN</td>\n      <td>6078784c4568aa5ea53bd976.392411e34673f553aa54c...</td>\n    </tr>\n  </tbody>\n</table>\n</div>"
     },
     "metadata": {},
     "execution_count": 28
    }
   ],
   "source": [
    "login_data = pd.read_json(login_response.text)\n",
    "access_token = login_data.loc['accessToken', 'token']\n",
    "login_data"
   ]
  },
  {
   "source": [
    "get devices data"
   ],
   "cell_type": "markdown",
   "metadata": {}
  },
  {
   "cell_type": "code",
   "execution_count": 29,
   "metadata": {},
   "outputs": [],
   "source": [
    "url = \"https://www.iofrog.com/api/v2/devices/dashboard\"\n",
    "\n",
    "payload = json.dumps([\n",
    "  {\n",
    "    \"data\": [],\n",
    "    \"count\": 2,\n",
    "    \"meta\": {}\n",
    "  }\n",
    "])\n",
    "headers = {\n",
    "  'Authorization': 'Bearer ' + access_token,\n",
    "  'Content-Type': 'application/json',\n",
    "  'Cookie': ''\n",
    "}\n",
    "\n",
    "devices_response = requests.request(\"GET\", url, headers=headers, data=payload)\n",
    "#print(devices_response.text)\n"
   ]
  },
  {
   "cell_type": "code",
   "execution_count": 30,
   "metadata": {},
   "outputs": [
    {
     "output_type": "execute_result",
     "data": {
      "text/plain": [
       "        id                   groupId                           name  \\\n",
       "0  2203AF9  60476e95362d421c28ee0058  SimplePack POC_02203AF9 TeamA   \n",
       "1  1F2504E  60476e95362d421c28ee0058  Türe Beschleunigung (PTH-04E)   \n",
       "2  2203AFA  60476e95362d421c28ee0058   Türe Magnet aussen (POC-AFA)   \n",
       "3  2203AAB  60476e95362d421c28ee0058    Türe Magnet innen (POC-AAB)   \n",
       "4  1F25047  60476e95362d421c28ee0058    Türriegel Beschl. (PTH-047)   \n",
       "5  2203ACB  60476e95362d421c28ee0058     Türriegel Magnet (POC-ACB)   \n",
       "\n",
       "                          typeId        modeId downlinkData  active  \\\n",
       "0  simple_pack_plus_full_3_0_6_0  reed_counter                 True   \n",
       "1  simple_pack_plus_full_3_0_6_0   put_me_back                 True   \n",
       "2  simple_pack_plus_full_3_0_6_0  reed_counter                 True   \n",
       "3  simple_pack_plus_full_3_0_6_0  reed_counter                 True   \n",
       "4  simple_pack_plus_full_3_0_6_0   put_me_back                 True   \n",
       "5  simple_pack_plus_full_3_0_6_0  reed_counter                 True   \n",
       "\n",
       "                     location                                      viewConfig  \\\n",
       "0  {'lat': None, 'lng': None}     {'locationSource': 'atlas', 'view': 'last'}   \n",
       "1  {'lat': None, 'lng': None}     {'locationSource': 'atlas', 'view': 'last'}   \n",
       "2  {'lat': None, 'lng': None}  {'locationSource': 'fallback', 'view': 'last'}   \n",
       "3  {'lat': None, 'lng': None}  {'locationSource': 'fallback', 'view': 'last'}   \n",
       "4  {'lat': None, 'lng': None}  {'locationSource': 'fallback', 'view': 'last'}   \n",
       "5  {'lat': None, 'lng': None}  {'locationSource': 'fallback', 'view': 'last'}   \n",
       "\n",
       "                                              status  \\\n",
       "0  {'isRegistered': True, 'isReadyForActivation':...   \n",
       "1  {'isRegistered': True, 'isReadyForActivation':...   \n",
       "2  {'isRegistered': True, 'isReadyForActivation':...   \n",
       "3  {'isRegistered': True, 'isReadyForActivation':...   \n",
       "4  {'isRegistered': True, 'isReadyForActivation':...   \n",
       "5  {'isRegistered': True, 'isReadyForActivation':...   \n",
       "\n",
       "                                       subscriptions  \\\n",
       "0  [{'_id': '6050c0467d354e09ee4aa73e', 'provider...   \n",
       "1  [{'_id': '6050bd897d354e09ee4a5d37', 'provider...   \n",
       "2  [{'_id': '60489ad5362d421c28f49667', 'provider...   \n",
       "3  [{'_id': '60489bab362d421c28f49a02', 'provider...   \n",
       "4  [{'_id': '60489b3f362d421c28f498b2', 'provider...   \n",
       "5  [{'_id': '60489995362d421c28f48edd', 'provider...   \n",
       "\n",
       "                                    lastDataMessages trackedKeys badges  \\\n",
       "0  [{'_id': '607824844568aa5ea52ea8ba', 'keys': [...          []     []   \n",
       "1  [{'_id': '6078778a4568aa5ea53bc5be', 'keys': [...          []     []   \n",
       "2  [{'_id': '60785a8f4568aa5ea53894ed', 'keys': [...          []     []   \n",
       "3  [{'_id': '607877774568aa5ea53bc306', 'keys': [...          []     []   \n",
       "4  [{'_id': '6078778d4568aa5ea53bc616', 'keys': [...          []     []   \n",
       "5  [{'_id': '607877c68227aa5e85717ca2', 'keys': [...          []     []   \n",
       "\n",
       "                                     lastDataMessage  \\\n",
       "0  {'_id': '607824844568aa5ea52ea8ba', 'keys': [{...   \n",
       "1  {'_id': '6078778a4568aa5ea53bc5be', 'keys': [{...   \n",
       "2  {'_id': '60785a8f4568aa5ea53894ed', 'keys': [{...   \n",
       "3  {'_id': '607877774568aa5ea53bc306', 'keys': [{...   \n",
       "4  {'_id': '6078778d4568aa5ea53bc616', 'keys': [{...   \n",
       "5  {'_id': '607877c68227aa5e85717ca2', 'keys': [{...   \n",
       "\n",
       "                             lastSourceBasedLocation  \n",
       "0                                                NaN  \n",
       "1                                                NaN  \n",
       "2  {'geoplaces': [], '_id': '605b4291f4e46133dc9b...  \n",
       "3  {'geoplaces': [], '_id': '6059fbafb3ae30315afb...  \n",
       "4  {'geoplaces': [], '_id': '6058b9d703380b4c4fd1...  \n",
       "5  {'geoplaces': [], '_id': '605b68f2f4e46133dc9e...  "
      ],
      "text/html": "<div>\n<style scoped>\n    .dataframe tbody tr th:only-of-type {\n        vertical-align: middle;\n    }\n\n    .dataframe tbody tr th {\n        vertical-align: top;\n    }\n\n    .dataframe thead th {\n        text-align: right;\n    }\n</style>\n<table border=\"1\" class=\"dataframe\">\n  <thead>\n    <tr style=\"text-align: right;\">\n      <th></th>\n      <th>id</th>\n      <th>groupId</th>\n      <th>name</th>\n      <th>typeId</th>\n      <th>modeId</th>\n      <th>downlinkData</th>\n      <th>active</th>\n      <th>location</th>\n      <th>viewConfig</th>\n      <th>status</th>\n      <th>subscriptions</th>\n      <th>lastDataMessages</th>\n      <th>trackedKeys</th>\n      <th>badges</th>\n      <th>lastDataMessage</th>\n      <th>lastSourceBasedLocation</th>\n    </tr>\n  </thead>\n  <tbody>\n    <tr>\n      <th>0</th>\n      <td>2203AF9</td>\n      <td>60476e95362d421c28ee0058</td>\n      <td>SimplePack POC_02203AF9 TeamA</td>\n      <td>simple_pack_plus_full_3_0_6_0</td>\n      <td>reed_counter</td>\n      <td></td>\n      <td>True</td>\n      <td>{'lat': None, 'lng': None}</td>\n      <td>{'locationSource': 'atlas', 'view': 'last'}</td>\n      <td>{'isRegistered': True, 'isReadyForActivation':...</td>\n      <td>[{'_id': '6050c0467d354e09ee4aa73e', 'provider...</td>\n      <td>[{'_id': '607824844568aa5ea52ea8ba', 'keys': [...</td>\n      <td>[]</td>\n      <td>[]</td>\n      <td>{'_id': '607824844568aa5ea52ea8ba', 'keys': [{...</td>\n      <td>NaN</td>\n    </tr>\n    <tr>\n      <th>1</th>\n      <td>1F2504E</td>\n      <td>60476e95362d421c28ee0058</td>\n      <td>Türe Beschleunigung (PTH-04E)</td>\n      <td>simple_pack_plus_full_3_0_6_0</td>\n      <td>put_me_back</td>\n      <td></td>\n      <td>True</td>\n      <td>{'lat': None, 'lng': None}</td>\n      <td>{'locationSource': 'atlas', 'view': 'last'}</td>\n      <td>{'isRegistered': True, 'isReadyForActivation':...</td>\n      <td>[{'_id': '6050bd897d354e09ee4a5d37', 'provider...</td>\n      <td>[{'_id': '6078778a4568aa5ea53bc5be', 'keys': [...</td>\n      <td>[]</td>\n      <td>[]</td>\n      <td>{'_id': '6078778a4568aa5ea53bc5be', 'keys': [{...</td>\n      <td>NaN</td>\n    </tr>\n    <tr>\n      <th>2</th>\n      <td>2203AFA</td>\n      <td>60476e95362d421c28ee0058</td>\n      <td>Türe Magnet aussen (POC-AFA)</td>\n      <td>simple_pack_plus_full_3_0_6_0</td>\n      <td>reed_counter</td>\n      <td></td>\n      <td>True</td>\n      <td>{'lat': None, 'lng': None}</td>\n      <td>{'locationSource': 'fallback', 'view': 'last'}</td>\n      <td>{'isRegistered': True, 'isReadyForActivation':...</td>\n      <td>[{'_id': '60489ad5362d421c28f49667', 'provider...</td>\n      <td>[{'_id': '60785a8f4568aa5ea53894ed', 'keys': [...</td>\n      <td>[]</td>\n      <td>[]</td>\n      <td>{'_id': '60785a8f4568aa5ea53894ed', 'keys': [{...</td>\n      <td>{'geoplaces': [], '_id': '605b4291f4e46133dc9b...</td>\n    </tr>\n    <tr>\n      <th>3</th>\n      <td>2203AAB</td>\n      <td>60476e95362d421c28ee0058</td>\n      <td>Türe Magnet innen (POC-AAB)</td>\n      <td>simple_pack_plus_full_3_0_6_0</td>\n      <td>reed_counter</td>\n      <td></td>\n      <td>True</td>\n      <td>{'lat': None, 'lng': None}</td>\n      <td>{'locationSource': 'fallback', 'view': 'last'}</td>\n      <td>{'isRegistered': True, 'isReadyForActivation':...</td>\n      <td>[{'_id': '60489bab362d421c28f49a02', 'provider...</td>\n      <td>[{'_id': '607877774568aa5ea53bc306', 'keys': [...</td>\n      <td>[]</td>\n      <td>[]</td>\n      <td>{'_id': '607877774568aa5ea53bc306', 'keys': [{...</td>\n      <td>{'geoplaces': [], '_id': '6059fbafb3ae30315afb...</td>\n    </tr>\n    <tr>\n      <th>4</th>\n      <td>1F25047</td>\n      <td>60476e95362d421c28ee0058</td>\n      <td>Türriegel Beschl. (PTH-047)</td>\n      <td>simple_pack_plus_full_3_0_6_0</td>\n      <td>put_me_back</td>\n      <td></td>\n      <td>True</td>\n      <td>{'lat': None, 'lng': None}</td>\n      <td>{'locationSource': 'fallback', 'view': 'last'}</td>\n      <td>{'isRegistered': True, 'isReadyForActivation':...</td>\n      <td>[{'_id': '60489b3f362d421c28f498b2', 'provider...</td>\n      <td>[{'_id': '6078778d4568aa5ea53bc616', 'keys': [...</td>\n      <td>[]</td>\n      <td>[]</td>\n      <td>{'_id': '6078778d4568aa5ea53bc616', 'keys': [{...</td>\n      <td>{'geoplaces': [], '_id': '6058b9d703380b4c4fd1...</td>\n    </tr>\n    <tr>\n      <th>5</th>\n      <td>2203ACB</td>\n      <td>60476e95362d421c28ee0058</td>\n      <td>Türriegel Magnet (POC-ACB)</td>\n      <td>simple_pack_plus_full_3_0_6_0</td>\n      <td>reed_counter</td>\n      <td></td>\n      <td>True</td>\n      <td>{'lat': None, 'lng': None}</td>\n      <td>{'locationSource': 'fallback', 'view': 'last'}</td>\n      <td>{'isRegistered': True, 'isReadyForActivation':...</td>\n      <td>[{'_id': '60489995362d421c28f48edd', 'provider...</td>\n      <td>[{'_id': '607877c68227aa5e85717ca2', 'keys': [...</td>\n      <td>[]</td>\n      <td>[]</td>\n      <td>{'_id': '607877c68227aa5e85717ca2', 'keys': [{...</td>\n      <td>{'geoplaces': [], '_id': '605b68f2f4e46133dc9e...</td>\n    </tr>\n  </tbody>\n</table>\n</div>"
     },
     "metadata": {},
     "execution_count": 30
    }
   ],
   "source": [
    "#print(devices_response.text)\n",
    "#device_data = pd.read_json(devices_response.text)\n",
    "\n",
    "device_dict = json.loads(devices_response.text)\n",
    "device_data = pd.DataFrame.from_dict(device_dict['data'])\n",
    "#device_data = pd.json_normalize(device_dict)\n",
    "#device_dict['data']\n",
    "device_data"
   ]
  },
  {
   "cell_type": "code",
   "execution_count": 31,
   "metadata": {
    "tags": []
   },
   "outputs": [],
   "source": [
    "url = \"https://www.iofrog.com/api/v2/devices/2203AAB/messages/\"\n",
    "\n",
    "payload = json.dumps({\n",
    "  \"data\": [\n",
    "    {\n",
    "      \"_id\": \"1f704bc5-5055-43eb-a851-c87b6b0bf7b9\",\n",
    "      \"isAlarm\": False,\n",
    "      \"isDismissed\": False,\n",
    "      \"timestamp\": 1584093653,\n",
    "      \"type\": \"data_uplink\",\n",
    "      \"seqNumber\": 1,\n",
    "      \"keys\": [\n",
    "        {\n",
    "          \"isCode\": False,\n",
    "          \"_id\": \"1111111111111111111111\",\n",
    "          \"key\": \"key\",\n",
    "          \"value\": \"value\",\n",
    "          \"keyLocale\": \"Klíč\",\n",
    "          \"valueLocale\": \"Hodnota\",\n",
    "          \"color\": \"alarm\",\n",
    "          \"icon\": \"icon name (from fontAwesome)\"\n",
    "        }\n",
    "      ]\n",
    "    }\n",
    "  ],\n",
    "  \"count\": 1\n",
    "})\n",
    "headers = {\n",
    "  'Authorization': 'Bearer ' + access_token,\n",
    "  'Content-Type': 'application/json',\n",
    "  'Cookie': ''\n",
    "}\n",
    "\n",
    "message_response = requests.request(\"GET\", url, headers=headers, data=payload)\n",
    "\n",
    "# print(response.text)\n"
   ]
  },
  {
   "cell_type": "code",
   "execution_count": 32,
   "metadata": {
    "tags": []
   },
   "outputs": [
    {
     "output_type": "execute_result",
     "data": {
      "text/plain": [
       "                         _id   timestamp        type  seqNumber deviceId  \\\n",
       "0   607877774568aa5ea53bc306  1618507638  data_bidir        762  2203AAB   \n",
       "1   6078773a4568aa5ea53bbd33  1618507577  data_bidir        761  2203AAB   \n",
       "2   607875104568aa5ea53b91ba  1618507023  data_bidir        760  2203AAB   \n",
       "3   607874d24568aa5ea53b8d77  1618506961  data_bidir        759  2203AAB   \n",
       "4   607874568227aa5e857134eb  1618506837  data_bidir        758  2203AAB   \n",
       "..                       ...         ...         ...        ...      ...   \n",
       "95  6076c78d02ab2e5243c0e14c  1618397069  data_bidir        667  2203AAB   \n",
       "96  6076c75002ab2e5243c0d94f  1618397007  data_bidir        666  2203AAB   \n",
       "97  6076ba17a31a3740f5d00416  1618393621  data_bidir        665  2203AAB   \n",
       "98  6076b9d94d773e0629fe5715  1618393561  data_bidir        664  2203AAB   \n",
       "99  6076b8a4a31a3740f5cfb51d  1618393251  data_bidir        663  2203AAB   \n",
       "\n",
       "                     created  __v        action battery counter          mode  \\\n",
       "0   2021-04-15T17:27:19.822Z    0  reed_counter       0     896  reed_counter   \n",
       "1   2021-04-15T17:26:18.675Z    0  reed_counter       0     895  reed_counter   \n",
       "2   2021-04-15T17:17:04.852Z    0  reed_counter       0     894  reed_counter   \n",
       "3   2021-04-15T17:16:02.672Z    0  reed_counter       0     893  reed_counter   \n",
       "4   2021-04-15T17:13:58.590Z    0  reed_counter       0     892  reed_counter   \n",
       "..                       ...  ...           ...     ...     ...           ...   \n",
       "95  2021-04-14T10:44:29.619Z    0  reed_counter       0     796  reed_counter   \n",
       "96  2021-04-14T10:43:28.500Z    0  reed_counter       0     795  reed_counter   \n",
       "97  2021-04-14T09:47:03.254Z    0  reed_counter       0     794  reed_counter   \n",
       "98  2021-04-14T09:46:01.861Z    0  reed_counter       0     793  reed_counter   \n",
       "99  2021-04-14T09:40:52.863Z    0  reed_counter       0     792  reed_counter   \n",
       "\n",
       "   temperature _merge  \n",
       "0            0   both  \n",
       "1            0   both  \n",
       "2            0   both  \n",
       "3            0   both  \n",
       "4            0   both  \n",
       "..         ...    ...  \n",
       "95           0   both  \n",
       "96           0   both  \n",
       "97           0   both  \n",
       "98           0   both  \n",
       "99           0   both  \n",
       "\n",
       "[100 rows x 13 columns]"
      ],
      "text/html": "<div>\n<style scoped>\n    .dataframe tbody tr th:only-of-type {\n        vertical-align: middle;\n    }\n\n    .dataframe tbody tr th {\n        vertical-align: top;\n    }\n\n    .dataframe thead th {\n        text-align: right;\n    }\n</style>\n<table border=\"1\" class=\"dataframe\">\n  <thead>\n    <tr style=\"text-align: right;\">\n      <th></th>\n      <th>_id</th>\n      <th>timestamp</th>\n      <th>type</th>\n      <th>seqNumber</th>\n      <th>deviceId</th>\n      <th>created</th>\n      <th>__v</th>\n      <th>action</th>\n      <th>battery</th>\n      <th>counter</th>\n      <th>mode</th>\n      <th>temperature</th>\n      <th>_merge</th>\n    </tr>\n  </thead>\n  <tbody>\n    <tr>\n      <th>0</th>\n      <td>607877774568aa5ea53bc306</td>\n      <td>1618507638</td>\n      <td>data_bidir</td>\n      <td>762</td>\n      <td>2203AAB</td>\n      <td>2021-04-15T17:27:19.822Z</td>\n      <td>0</td>\n      <td>reed_counter</td>\n      <td>0</td>\n      <td>896</td>\n      <td>reed_counter</td>\n      <td>0</td>\n      <td>both</td>\n    </tr>\n    <tr>\n      <th>1</th>\n      <td>6078773a4568aa5ea53bbd33</td>\n      <td>1618507577</td>\n      <td>data_bidir</td>\n      <td>761</td>\n      <td>2203AAB</td>\n      <td>2021-04-15T17:26:18.675Z</td>\n      <td>0</td>\n      <td>reed_counter</td>\n      <td>0</td>\n      <td>895</td>\n      <td>reed_counter</td>\n      <td>0</td>\n      <td>both</td>\n    </tr>\n    <tr>\n      <th>2</th>\n      <td>607875104568aa5ea53b91ba</td>\n      <td>1618507023</td>\n      <td>data_bidir</td>\n      <td>760</td>\n      <td>2203AAB</td>\n      <td>2021-04-15T17:17:04.852Z</td>\n      <td>0</td>\n      <td>reed_counter</td>\n      <td>0</td>\n      <td>894</td>\n      <td>reed_counter</td>\n      <td>0</td>\n      <td>both</td>\n    </tr>\n    <tr>\n      <th>3</th>\n      <td>607874d24568aa5ea53b8d77</td>\n      <td>1618506961</td>\n      <td>data_bidir</td>\n      <td>759</td>\n      <td>2203AAB</td>\n      <td>2021-04-15T17:16:02.672Z</td>\n      <td>0</td>\n      <td>reed_counter</td>\n      <td>0</td>\n      <td>893</td>\n      <td>reed_counter</td>\n      <td>0</td>\n      <td>both</td>\n    </tr>\n    <tr>\n      <th>4</th>\n      <td>607874568227aa5e857134eb</td>\n      <td>1618506837</td>\n      <td>data_bidir</td>\n      <td>758</td>\n      <td>2203AAB</td>\n      <td>2021-04-15T17:13:58.590Z</td>\n      <td>0</td>\n      <td>reed_counter</td>\n      <td>0</td>\n      <td>892</td>\n      <td>reed_counter</td>\n      <td>0</td>\n      <td>both</td>\n    </tr>\n    <tr>\n      <th>...</th>\n      <td>...</td>\n      <td>...</td>\n      <td>...</td>\n      <td>...</td>\n      <td>...</td>\n      <td>...</td>\n      <td>...</td>\n      <td>...</td>\n      <td>...</td>\n      <td>...</td>\n      <td>...</td>\n      <td>...</td>\n      <td>...</td>\n    </tr>\n    <tr>\n      <th>95</th>\n      <td>6076c78d02ab2e5243c0e14c</td>\n      <td>1618397069</td>\n      <td>data_bidir</td>\n      <td>667</td>\n      <td>2203AAB</td>\n      <td>2021-04-14T10:44:29.619Z</td>\n      <td>0</td>\n      <td>reed_counter</td>\n      <td>0</td>\n      <td>796</td>\n      <td>reed_counter</td>\n      <td>0</td>\n      <td>both</td>\n    </tr>\n    <tr>\n      <th>96</th>\n      <td>6076c75002ab2e5243c0d94f</td>\n      <td>1618397007</td>\n      <td>data_bidir</td>\n      <td>666</td>\n      <td>2203AAB</td>\n      <td>2021-04-14T10:43:28.500Z</td>\n      <td>0</td>\n      <td>reed_counter</td>\n      <td>0</td>\n      <td>795</td>\n      <td>reed_counter</td>\n      <td>0</td>\n      <td>both</td>\n    </tr>\n    <tr>\n      <th>97</th>\n      <td>6076ba17a31a3740f5d00416</td>\n      <td>1618393621</td>\n      <td>data_bidir</td>\n      <td>665</td>\n      <td>2203AAB</td>\n      <td>2021-04-14T09:47:03.254Z</td>\n      <td>0</td>\n      <td>reed_counter</td>\n      <td>0</td>\n      <td>794</td>\n      <td>reed_counter</td>\n      <td>0</td>\n      <td>both</td>\n    </tr>\n    <tr>\n      <th>98</th>\n      <td>6076b9d94d773e0629fe5715</td>\n      <td>1618393561</td>\n      <td>data_bidir</td>\n      <td>664</td>\n      <td>2203AAB</td>\n      <td>2021-04-14T09:46:01.861Z</td>\n      <td>0</td>\n      <td>reed_counter</td>\n      <td>0</td>\n      <td>793</td>\n      <td>reed_counter</td>\n      <td>0</td>\n      <td>both</td>\n    </tr>\n    <tr>\n      <th>99</th>\n      <td>6076b8a4a31a3740f5cfb51d</td>\n      <td>1618393251</td>\n      <td>data_bidir</td>\n      <td>663</td>\n      <td>2203AAB</td>\n      <td>2021-04-14T09:40:52.863Z</td>\n      <td>0</td>\n      <td>reed_counter</td>\n      <td>0</td>\n      <td>792</td>\n      <td>reed_counter</td>\n      <td>0</td>\n      <td>both</td>\n    </tr>\n  </tbody>\n</table>\n<p>100 rows × 13 columns</p>\n</div>"
     },
     "metadata": {},
     "execution_count": 32
    }
   ],
   "source": [
    "# data prep\n",
    "\n",
    "\n",
    "message_dict = json.loads(message_response.text)\n",
    "#print(message_dict['data'])\n",
    "message_data = pd.DataFrame.from_dict(message_dict['data'])\n",
    "\n",
    "message_data = message_data.drop(columns=['keys'])\n",
    "\n",
    "message_data_keys = pd.json_normalize(message_dict['data'], record_path='keys', record_prefix='keys_', meta='_id')\n",
    "message_data_keys = message_data_keys.pivot(index=['_id'], columns='keys_key', values='keys_value')\n",
    "message_data_keys.reset_index(inplace=True)\n",
    "message_data_keys = message_data_keys.groupby('_id').sum()\n",
    "#print(message_data_keys)\n",
    "# join df's\n",
    "message_data = message_data.merge(message_data_keys, on=['_id'], how='left', indicator=True)\n",
    "\n",
    "message_data\n",
    "\n"
   ]
  },
  {
   "cell_type": "code",
   "execution_count": 33,
   "metadata": {},
   "outputs": [],
   "source": [
    "message_data['created'] = pd.to_datetime(message_data['created'])\n",
    "message_data['counter'] = message_data['counter'].astype(float)"
   ]
  },
  {
   "cell_type": "code",
   "execution_count": 34,
   "metadata": {},
   "outputs": [],
   "source": [
    "message_data_rc = message_data[message_data['action'] == 'reed_counter']"
   ]
  },
  {
   "cell_type": "code",
   "execution_count": 35,
   "metadata": {},
   "outputs": [
    {
     "output_type": "execute_result",
     "data": {
      "text/plain": [
       "<AxesSubplot:xlabel='created'>"
      ]
     },
     "metadata": {},
     "execution_count": 35
    },
    {
     "output_type": "display_data",
     "data": {
      "text/plain": "<Figure size 1584x360 with 1 Axes>",
      "image/svg+xml": "<?xml version=\"1.0\" encoding=\"utf-8\" standalone=\"no\"?>\r\n<!DOCTYPE svg PUBLIC \"-//W3C//DTD SVG 1.1//EN\"\r\n  \"http://www.w3.org/Graphics/SVG/1.1/DTD/svg11.dtd\">\r\n<svg height=\"310.740096pt\" version=\"1.1\" viewBox=\"0 0 1279.645313 310.740096\" width=\"1279.645313pt\" xmlns=\"http://www.w3.org/2000/svg\" xmlns:xlink=\"http://www.w3.org/1999/xlink\">\r\n <metadata>\r\n  <rdf:RDF xmlns:cc=\"http://creativecommons.org/ns#\" xmlns:dc=\"http://purl.org/dc/elements/1.1/\" xmlns:rdf=\"http://www.w3.org/1999/02/22-rdf-syntax-ns#\">\r\n   <cc:Work>\r\n    <dc:type rdf:resource=\"http://purl.org/dc/dcmitype/StillImage\"/>\r\n    <dc:date>2021-04-15T19:30:53.457911</dc:date>\r\n    <dc:format>image/svg+xml</dc:format>\r\n    <dc:creator>\r\n     <cc:Agent>\r\n      <dc:title>Matplotlib v3.4.1, https://matplotlib.org/</dc:title>\r\n     </cc:Agent>\r\n    </dc:creator>\r\n   </cc:Work>\r\n  </rdf:RDF>\r\n </metadata>\r\n <defs>\r\n  <style type=\"text/css\">*{stroke-linecap:butt;stroke-linejoin:round;}</style>\r\n </defs>\r\n <g id=\"figure_1\">\r\n  <g id=\"patch_1\">\r\n   <path d=\"M 0 310.740096 \r\nL 1279.645313 310.740096 \r\nL 1279.645313 0 \r\nL 0 0 \r\nz\r\n\" style=\"fill:none;\"/>\r\n  </g>\r\n  <g id=\"axes_1\">\r\n   <g id=\"patch_2\">\r\n    <path d=\"M 44.845313 252 \r\nL 1272.445313 252 \r\nL 1272.445313 7.2 \r\nL 44.845313 7.2 \r\nz\r\n\" style=\"fill:#ffffff;\"/>\r\n   </g>\r\n   <g id=\"matplotlib.axis_1\">\r\n    <g id=\"xtick_1\">\r\n     <g id=\"line2d_1\">\r\n      <defs>\r\n       <path d=\"M 0 0 \r\nL 0 3.5 \r\n\" id=\"mdf89cdbeab\" style=\"stroke:#000000;stroke-width:0.8;\"/>\r\n      </defs>\r\n      <g>\r\n       <use style=\"stroke:#000000;stroke-width:0.8;\" x=\"182.08296\" xlink:href=\"#mdf89cdbeab\" y=\"252\"/>\r\n      </g>\r\n     </g>\r\n     <g id=\"text_1\">\r\n      <!-- 04-14 12 -->\r\n      <g transform=\"translate(142.105803 288.060909)rotate(-30)scale(0.1 -0.1)\">\r\n       <defs>\r\n        <path d=\"M 2034 4250 \r\nQ 1547 4250 1301 3770 \r\nQ 1056 3291 1056 2328 \r\nQ 1056 1369 1301 889 \r\nQ 1547 409 2034 409 \r\nQ 2525 409 2770 889 \r\nQ 3016 1369 3016 2328 \r\nQ 3016 3291 2770 3770 \r\nQ 2525 4250 2034 4250 \r\nz\r\nM 2034 4750 \r\nQ 2819 4750 3233 4129 \r\nQ 3647 3509 3647 2328 \r\nQ 3647 1150 3233 529 \r\nQ 2819 -91 2034 -91 \r\nQ 1250 -91 836 529 \r\nQ 422 1150 422 2328 \r\nQ 422 3509 836 4129 \r\nQ 1250 4750 2034 4750 \r\nz\r\n\" id=\"DejaVuSans-30\" transform=\"scale(0.015625)\"/>\r\n        <path d=\"M 2419 4116 \r\nL 825 1625 \r\nL 2419 1625 \r\nL 2419 4116 \r\nz\r\nM 2253 4666 \r\nL 3047 4666 \r\nL 3047 1625 \r\nL 3713 1625 \r\nL 3713 1100 \r\nL 3047 1100 \r\nL 3047 0 \r\nL 2419 0 \r\nL 2419 1100 \r\nL 313 1100 \r\nL 313 1709 \r\nL 2253 4666 \r\nz\r\n\" id=\"DejaVuSans-34\" transform=\"scale(0.015625)\"/>\r\n        <path d=\"M 313 2009 \r\nL 1997 2009 \r\nL 1997 1497 \r\nL 313 1497 \r\nL 313 2009 \r\nz\r\n\" id=\"DejaVuSans-2d\" transform=\"scale(0.015625)\"/>\r\n        <path d=\"M 794 531 \r\nL 1825 531 \r\nL 1825 4091 \r\nL 703 3866 \r\nL 703 4441 \r\nL 1819 4666 \r\nL 2450 4666 \r\nL 2450 531 \r\nL 3481 531 \r\nL 3481 0 \r\nL 794 0 \r\nL 794 531 \r\nz\r\n\" id=\"DejaVuSans-31\" transform=\"scale(0.015625)\"/>\r\n        <path id=\"DejaVuSans-20\" transform=\"scale(0.015625)\"/>\r\n        <path d=\"M 1228 531 \r\nL 3431 531 \r\nL 3431 0 \r\nL 469 0 \r\nL 469 531 \r\nQ 828 903 1448 1529 \r\nQ 2069 2156 2228 2338 \r\nQ 2531 2678 2651 2914 \r\nQ 2772 3150 2772 3378 \r\nQ 2772 3750 2511 3984 \r\nQ 2250 4219 1831 4219 \r\nQ 1534 4219 1204 4116 \r\nQ 875 4013 500 3803 \r\nL 500 4441 \r\nQ 881 4594 1212 4672 \r\nQ 1544 4750 1819 4750 \r\nQ 2544 4750 2975 4387 \r\nQ 3406 4025 3406 3419 \r\nQ 3406 3131 3298 2873 \r\nQ 3191 2616 2906 2266 \r\nQ 2828 2175 2409 1742 \r\nQ 1991 1309 1228 531 \r\nz\r\n\" id=\"DejaVuSans-32\" transform=\"scale(0.015625)\"/>\r\n       </defs>\r\n       <use xlink:href=\"#DejaVuSans-30\"/>\r\n       <use x=\"63.623047\" xlink:href=\"#DejaVuSans-34\"/>\r\n       <use x=\"127.246094\" xlink:href=\"#DejaVuSans-2d\"/>\r\n       <use x=\"163.330078\" xlink:href=\"#DejaVuSans-31\"/>\r\n       <use x=\"226.953125\" xlink:href=\"#DejaVuSans-34\"/>\r\n       <use x=\"290.576172\" xlink:href=\"#DejaVuSans-20\"/>\r\n       <use x=\"322.363281\" xlink:href=\"#DejaVuSans-31\"/>\r\n       <use x=\"385.986328\" xlink:href=\"#DejaVuSans-32\"/>\r\n      </g>\r\n     </g>\r\n    </g>\r\n    <g id=\"xtick_2\">\r\n     <g id=\"line2d_2\">\r\n      <g>\r\n       <use style=\"stroke:#000000;stroke-width:0.8;\" x=\"322.5745\" xlink:href=\"#mdf89cdbeab\" y=\"252\"/>\r\n      </g>\r\n     </g>\r\n     <g id=\"text_2\">\r\n      <!-- 04-14 16 -->\r\n      <g transform=\"translate(282.597342 288.060909)rotate(-30)scale(0.1 -0.1)\">\r\n       <defs>\r\n        <path d=\"M 2113 2584 \r\nQ 1688 2584 1439 2293 \r\nQ 1191 2003 1191 1497 \r\nQ 1191 994 1439 701 \r\nQ 1688 409 2113 409 \r\nQ 2538 409 2786 701 \r\nQ 3034 994 3034 1497 \r\nQ 3034 2003 2786 2293 \r\nQ 2538 2584 2113 2584 \r\nz\r\nM 3366 4563 \r\nL 3366 3988 \r\nQ 3128 4100 2886 4159 \r\nQ 2644 4219 2406 4219 \r\nQ 1781 4219 1451 3797 \r\nQ 1122 3375 1075 2522 \r\nQ 1259 2794 1537 2939 \r\nQ 1816 3084 2150 3084 \r\nQ 2853 3084 3261 2657 \r\nQ 3669 2231 3669 1497 \r\nQ 3669 778 3244 343 \r\nQ 2819 -91 2113 -91 \r\nQ 1303 -91 875 529 \r\nQ 447 1150 447 2328 \r\nQ 447 3434 972 4092 \r\nQ 1497 4750 2381 4750 \r\nQ 2619 4750 2861 4703 \r\nQ 3103 4656 3366 4563 \r\nz\r\n\" id=\"DejaVuSans-36\" transform=\"scale(0.015625)\"/>\r\n       </defs>\r\n       <use xlink:href=\"#DejaVuSans-30\"/>\r\n       <use x=\"63.623047\" xlink:href=\"#DejaVuSans-34\"/>\r\n       <use x=\"127.246094\" xlink:href=\"#DejaVuSans-2d\"/>\r\n       <use x=\"163.330078\" xlink:href=\"#DejaVuSans-31\"/>\r\n       <use x=\"226.953125\" xlink:href=\"#DejaVuSans-34\"/>\r\n       <use x=\"290.576172\" xlink:href=\"#DejaVuSans-20\"/>\r\n       <use x=\"322.363281\" xlink:href=\"#DejaVuSans-31\"/>\r\n       <use x=\"385.986328\" xlink:href=\"#DejaVuSans-36\"/>\r\n      </g>\r\n     </g>\r\n    </g>\r\n    <g id=\"xtick_3\">\r\n     <g id=\"line2d_3\">\r\n      <g>\r\n       <use style=\"stroke:#000000;stroke-width:0.8;\" x=\"463.06604\" xlink:href=\"#mdf89cdbeab\" y=\"252\"/>\r\n      </g>\r\n     </g>\r\n     <g id=\"text_3\">\r\n      <!-- 04-14 20 -->\r\n      <g transform=\"translate(423.088882 288.060909)rotate(-30)scale(0.1 -0.1)\">\r\n       <use xlink:href=\"#DejaVuSans-30\"/>\r\n       <use x=\"63.623047\" xlink:href=\"#DejaVuSans-34\"/>\r\n       <use x=\"127.246094\" xlink:href=\"#DejaVuSans-2d\"/>\r\n       <use x=\"163.330078\" xlink:href=\"#DejaVuSans-31\"/>\r\n       <use x=\"226.953125\" xlink:href=\"#DejaVuSans-34\"/>\r\n       <use x=\"290.576172\" xlink:href=\"#DejaVuSans-20\"/>\r\n       <use x=\"322.363281\" xlink:href=\"#DejaVuSans-32\"/>\r\n       <use x=\"385.986328\" xlink:href=\"#DejaVuSans-30\"/>\r\n      </g>\r\n     </g>\r\n    </g>\r\n    <g id=\"xtick_4\">\r\n     <g id=\"line2d_4\">\r\n      <g>\r\n       <use style=\"stroke:#000000;stroke-width:0.8;\" x=\"603.55758\" xlink:href=\"#mdf89cdbeab\" y=\"252\"/>\r\n      </g>\r\n     </g>\r\n     <g id=\"text_4\">\r\n      <!-- 04-15 00 -->\r\n      <g transform=\"translate(563.580422 288.060909)rotate(-30)scale(0.1 -0.1)\">\r\n       <defs>\r\n        <path d=\"M 691 4666 \r\nL 3169 4666 \r\nL 3169 4134 \r\nL 1269 4134 \r\nL 1269 2991 \r\nQ 1406 3038 1543 3061 \r\nQ 1681 3084 1819 3084 \r\nQ 2600 3084 3056 2656 \r\nQ 3513 2228 3513 1497 \r\nQ 3513 744 3044 326 \r\nQ 2575 -91 1722 -91 \r\nQ 1428 -91 1123 -41 \r\nQ 819 9 494 109 \r\nL 494 744 \r\nQ 775 591 1075 516 \r\nQ 1375 441 1709 441 \r\nQ 2250 441 2565 725 \r\nQ 2881 1009 2881 1497 \r\nQ 2881 1984 2565 2268 \r\nQ 2250 2553 1709 2553 \r\nQ 1456 2553 1204 2497 \r\nQ 953 2441 691 2322 \r\nL 691 4666 \r\nz\r\n\" id=\"DejaVuSans-35\" transform=\"scale(0.015625)\"/>\r\n       </defs>\r\n       <use xlink:href=\"#DejaVuSans-30\"/>\r\n       <use x=\"63.623047\" xlink:href=\"#DejaVuSans-34\"/>\r\n       <use x=\"127.246094\" xlink:href=\"#DejaVuSans-2d\"/>\r\n       <use x=\"163.330078\" xlink:href=\"#DejaVuSans-31\"/>\r\n       <use x=\"226.953125\" xlink:href=\"#DejaVuSans-35\"/>\r\n       <use x=\"290.576172\" xlink:href=\"#DejaVuSans-20\"/>\r\n       <use x=\"322.363281\" xlink:href=\"#DejaVuSans-30\"/>\r\n       <use x=\"385.986328\" xlink:href=\"#DejaVuSans-30\"/>\r\n      </g>\r\n     </g>\r\n    </g>\r\n    <g id=\"xtick_5\">\r\n     <g id=\"line2d_5\">\r\n      <g>\r\n       <use style=\"stroke:#000000;stroke-width:0.8;\" x=\"744.04912\" xlink:href=\"#mdf89cdbeab\" y=\"252\"/>\r\n      </g>\r\n     </g>\r\n     <g id=\"text_5\">\r\n      <!-- 04-15 04 -->\r\n      <g transform=\"translate(704.071962 288.060909)rotate(-30)scale(0.1 -0.1)\">\r\n       <use xlink:href=\"#DejaVuSans-30\"/>\r\n       <use x=\"63.623047\" xlink:href=\"#DejaVuSans-34\"/>\r\n       <use x=\"127.246094\" xlink:href=\"#DejaVuSans-2d\"/>\r\n       <use x=\"163.330078\" xlink:href=\"#DejaVuSans-31\"/>\r\n       <use x=\"226.953125\" xlink:href=\"#DejaVuSans-35\"/>\r\n       <use x=\"290.576172\" xlink:href=\"#DejaVuSans-20\"/>\r\n       <use x=\"322.363281\" xlink:href=\"#DejaVuSans-30\"/>\r\n       <use x=\"385.986328\" xlink:href=\"#DejaVuSans-34\"/>\r\n      </g>\r\n     </g>\r\n    </g>\r\n    <g id=\"xtick_6\">\r\n     <g id=\"line2d_6\">\r\n      <g>\r\n       <use style=\"stroke:#000000;stroke-width:0.8;\" x=\"884.540659\" xlink:href=\"#mdf89cdbeab\" y=\"252\"/>\r\n      </g>\r\n     </g>\r\n     <g id=\"text_6\">\r\n      <!-- 04-15 08 -->\r\n      <g transform=\"translate(844.563501 288.060909)rotate(-30)scale(0.1 -0.1)\">\r\n       <defs>\r\n        <path d=\"M 2034 2216 \r\nQ 1584 2216 1326 1975 \r\nQ 1069 1734 1069 1313 \r\nQ 1069 891 1326 650 \r\nQ 1584 409 2034 409 \r\nQ 2484 409 2743 651 \r\nQ 3003 894 3003 1313 \r\nQ 3003 1734 2745 1975 \r\nQ 2488 2216 2034 2216 \r\nz\r\nM 1403 2484 \r\nQ 997 2584 770 2862 \r\nQ 544 3141 544 3541 \r\nQ 544 4100 942 4425 \r\nQ 1341 4750 2034 4750 \r\nQ 2731 4750 3128 4425 \r\nQ 3525 4100 3525 3541 \r\nQ 3525 3141 3298 2862 \r\nQ 3072 2584 2669 2484 \r\nQ 3125 2378 3379 2068 \r\nQ 3634 1759 3634 1313 \r\nQ 3634 634 3220 271 \r\nQ 2806 -91 2034 -91 \r\nQ 1263 -91 848 271 \r\nQ 434 634 434 1313 \r\nQ 434 1759 690 2068 \r\nQ 947 2378 1403 2484 \r\nz\r\nM 1172 3481 \r\nQ 1172 3119 1398 2916 \r\nQ 1625 2713 2034 2713 \r\nQ 2441 2713 2670 2916 \r\nQ 2900 3119 2900 3481 \r\nQ 2900 3844 2670 4047 \r\nQ 2441 4250 2034 4250 \r\nQ 1625 4250 1398 4047 \r\nQ 1172 3844 1172 3481 \r\nz\r\n\" id=\"DejaVuSans-38\" transform=\"scale(0.015625)\"/>\r\n       </defs>\r\n       <use xlink:href=\"#DejaVuSans-30\"/>\r\n       <use x=\"63.623047\" xlink:href=\"#DejaVuSans-34\"/>\r\n       <use x=\"127.246094\" xlink:href=\"#DejaVuSans-2d\"/>\r\n       <use x=\"163.330078\" xlink:href=\"#DejaVuSans-31\"/>\r\n       <use x=\"226.953125\" xlink:href=\"#DejaVuSans-35\"/>\r\n       <use x=\"290.576172\" xlink:href=\"#DejaVuSans-20\"/>\r\n       <use x=\"322.363281\" xlink:href=\"#DejaVuSans-30\"/>\r\n       <use x=\"385.986328\" xlink:href=\"#DejaVuSans-38\"/>\r\n      </g>\r\n     </g>\r\n    </g>\r\n    <g id=\"xtick_7\">\r\n     <g id=\"line2d_7\">\r\n      <g>\r\n       <use style=\"stroke:#000000;stroke-width:0.8;\" x=\"1025.032199\" xlink:href=\"#mdf89cdbeab\" y=\"252\"/>\r\n      </g>\r\n     </g>\r\n     <g id=\"text_7\">\r\n      <!-- 04-15 12 -->\r\n      <g transform=\"translate(985.055041 288.060909)rotate(-30)scale(0.1 -0.1)\">\r\n       <use xlink:href=\"#DejaVuSans-30\"/>\r\n       <use x=\"63.623047\" xlink:href=\"#DejaVuSans-34\"/>\r\n       <use x=\"127.246094\" xlink:href=\"#DejaVuSans-2d\"/>\r\n       <use x=\"163.330078\" xlink:href=\"#DejaVuSans-31\"/>\r\n       <use x=\"226.953125\" xlink:href=\"#DejaVuSans-35\"/>\r\n       <use x=\"290.576172\" xlink:href=\"#DejaVuSans-20\"/>\r\n       <use x=\"322.363281\" xlink:href=\"#DejaVuSans-31\"/>\r\n       <use x=\"385.986328\" xlink:href=\"#DejaVuSans-32\"/>\r\n      </g>\r\n     </g>\r\n    </g>\r\n    <g id=\"xtick_8\">\r\n     <g id=\"line2d_8\">\r\n      <g>\r\n       <use style=\"stroke:#000000;stroke-width:0.8;\" x=\"1165.523739\" xlink:href=\"#mdf89cdbeab\" y=\"252\"/>\r\n      </g>\r\n     </g>\r\n     <g id=\"text_8\">\r\n      <!-- 04-15 16 -->\r\n      <g transform=\"translate(1125.546581 288.060909)rotate(-30)scale(0.1 -0.1)\">\r\n       <use xlink:href=\"#DejaVuSans-30\"/>\r\n       <use x=\"63.623047\" xlink:href=\"#DejaVuSans-34\"/>\r\n       <use x=\"127.246094\" xlink:href=\"#DejaVuSans-2d\"/>\r\n       <use x=\"163.330078\" xlink:href=\"#DejaVuSans-31\"/>\r\n       <use x=\"226.953125\" xlink:href=\"#DejaVuSans-35\"/>\r\n       <use x=\"290.576172\" xlink:href=\"#DejaVuSans-20\"/>\r\n       <use x=\"322.363281\" xlink:href=\"#DejaVuSans-31\"/>\r\n       <use x=\"385.986328\" xlink:href=\"#DejaVuSans-36\"/>\r\n      </g>\r\n     </g>\r\n    </g>\r\n    <g id=\"text_9\">\r\n     <!-- created -->\r\n     <g transform=\"translate(639.601562 301.460408)scale(0.1 -0.1)\">\r\n      <defs>\r\n       <path d=\"M 3122 3366 \r\nL 3122 2828 \r\nQ 2878 2963 2633 3030 \r\nQ 2388 3097 2138 3097 \r\nQ 1578 3097 1268 2742 \r\nQ 959 2388 959 1747 \r\nQ 959 1106 1268 751 \r\nQ 1578 397 2138 397 \r\nQ 2388 397 2633 464 \r\nQ 2878 531 3122 666 \r\nL 3122 134 \r\nQ 2881 22 2623 -34 \r\nQ 2366 -91 2075 -91 \r\nQ 1284 -91 818 406 \r\nQ 353 903 353 1747 \r\nQ 353 2603 823 3093 \r\nQ 1294 3584 2113 3584 \r\nQ 2378 3584 2631 3529 \r\nQ 2884 3475 3122 3366 \r\nz\r\n\" id=\"DejaVuSans-63\" transform=\"scale(0.015625)\"/>\r\n       <path d=\"M 2631 2963 \r\nQ 2534 3019 2420 3045 \r\nQ 2306 3072 2169 3072 \r\nQ 1681 3072 1420 2755 \r\nQ 1159 2438 1159 1844 \r\nL 1159 0 \r\nL 581 0 \r\nL 581 3500 \r\nL 1159 3500 \r\nL 1159 2956 \r\nQ 1341 3275 1631 3429 \r\nQ 1922 3584 2338 3584 \r\nQ 2397 3584 2469 3576 \r\nQ 2541 3569 2628 3553 \r\nL 2631 2963 \r\nz\r\n\" id=\"DejaVuSans-72\" transform=\"scale(0.015625)\"/>\r\n       <path d=\"M 3597 1894 \r\nL 3597 1613 \r\nL 953 1613 \r\nQ 991 1019 1311 708 \r\nQ 1631 397 2203 397 \r\nQ 2534 397 2845 478 \r\nQ 3156 559 3463 722 \r\nL 3463 178 \r\nQ 3153 47 2828 -22 \r\nQ 2503 -91 2169 -91 \r\nQ 1331 -91 842 396 \r\nQ 353 884 353 1716 \r\nQ 353 2575 817 3079 \r\nQ 1281 3584 2069 3584 \r\nQ 2775 3584 3186 3129 \r\nQ 3597 2675 3597 1894 \r\nz\r\nM 3022 2063 \r\nQ 3016 2534 2758 2815 \r\nQ 2500 3097 2075 3097 \r\nQ 1594 3097 1305 2825 \r\nQ 1016 2553 972 2059 \r\nL 3022 2063 \r\nz\r\n\" id=\"DejaVuSans-65\" transform=\"scale(0.015625)\"/>\r\n       <path d=\"M 2194 1759 \r\nQ 1497 1759 1228 1600 \r\nQ 959 1441 959 1056 \r\nQ 959 750 1161 570 \r\nQ 1363 391 1709 391 \r\nQ 2188 391 2477 730 \r\nQ 2766 1069 2766 1631 \r\nL 2766 1759 \r\nL 2194 1759 \r\nz\r\nM 3341 1997 \r\nL 3341 0 \r\nL 2766 0 \r\nL 2766 531 \r\nQ 2569 213 2275 61 \r\nQ 1981 -91 1556 -91 \r\nQ 1019 -91 701 211 \r\nQ 384 513 384 1019 \r\nQ 384 1609 779 1909 \r\nQ 1175 2209 1959 2209 \r\nL 2766 2209 \r\nL 2766 2266 \r\nQ 2766 2663 2505 2880 \r\nQ 2244 3097 1772 3097 \r\nQ 1472 3097 1187 3025 \r\nQ 903 2953 641 2809 \r\nL 641 3341 \r\nQ 956 3463 1253 3523 \r\nQ 1550 3584 1831 3584 \r\nQ 2591 3584 2966 3190 \r\nQ 3341 2797 3341 1997 \r\nz\r\n\" id=\"DejaVuSans-61\" transform=\"scale(0.015625)\"/>\r\n       <path d=\"M 1172 4494 \r\nL 1172 3500 \r\nL 2356 3500 \r\nL 2356 3053 \r\nL 1172 3053 \r\nL 1172 1153 \r\nQ 1172 725 1289 603 \r\nQ 1406 481 1766 481 \r\nL 2356 481 \r\nL 2356 0 \r\nL 1766 0 \r\nQ 1100 0 847 248 \r\nQ 594 497 594 1153 \r\nL 594 3053 \r\nL 172 3053 \r\nL 172 3500 \r\nL 594 3500 \r\nL 594 4494 \r\nL 1172 4494 \r\nz\r\n\" id=\"DejaVuSans-74\" transform=\"scale(0.015625)\"/>\r\n       <path d=\"M 2906 2969 \r\nL 2906 4863 \r\nL 3481 4863 \r\nL 3481 0 \r\nL 2906 0 \r\nL 2906 525 \r\nQ 2725 213 2448 61 \r\nQ 2172 -91 1784 -91 \r\nQ 1150 -91 751 415 \r\nQ 353 922 353 1747 \r\nQ 353 2572 751 3078 \r\nQ 1150 3584 1784 3584 \r\nQ 2172 3584 2448 3432 \r\nQ 2725 3281 2906 2969 \r\nz\r\nM 947 1747 \r\nQ 947 1113 1208 752 \r\nQ 1469 391 1925 391 \r\nQ 2381 391 2643 752 \r\nQ 2906 1113 2906 1747 \r\nQ 2906 2381 2643 2742 \r\nQ 2381 3103 1925 3103 \r\nQ 1469 3103 1208 2742 \r\nQ 947 2381 947 1747 \r\nz\r\n\" id=\"DejaVuSans-64\" transform=\"scale(0.015625)\"/>\r\n      </defs>\r\n      <use xlink:href=\"#DejaVuSans-63\"/>\r\n      <use x=\"54.980469\" xlink:href=\"#DejaVuSans-72\"/>\r\n      <use x=\"93.84375\" xlink:href=\"#DejaVuSans-65\"/>\r\n      <use x=\"155.367188\" xlink:href=\"#DejaVuSans-61\"/>\r\n      <use x=\"216.646484\" xlink:href=\"#DejaVuSans-74\"/>\r\n      <use x=\"255.855469\" xlink:href=\"#DejaVuSans-65\"/>\r\n      <use x=\"317.378906\" xlink:href=\"#DejaVuSans-64\"/>\r\n     </g>\r\n    </g>\r\n   </g>\r\n   <g id=\"matplotlib.axis_2\">\r\n    <g id=\"ytick_1\">\r\n     <g id=\"line2d_9\">\r\n      <defs>\r\n       <path d=\"M 0 0 \r\nL -3.5 0 \r\n\" id=\"mb72223cdbf\" style=\"stroke:#000000;stroke-width:0.8;\"/>\r\n      </defs>\r\n      <g>\r\n       <use style=\"stroke:#000000;stroke-width:0.8;\" x=\"44.845313\" xlink:href=\"#mb72223cdbf\" y=\"218.618182\"/>\r\n      </g>\r\n     </g>\r\n     <g id=\"text_10\">\r\n      <!-- −0.04 -->\r\n      <g transform=\"translate(7.2 222.417401)scale(0.1 -0.1)\">\r\n       <defs>\r\n        <path d=\"M 678 2272 \r\nL 4684 2272 \r\nL 4684 1741 \r\nL 678 1741 \r\nL 678 2272 \r\nz\r\n\" id=\"DejaVuSans-2212\" transform=\"scale(0.015625)\"/>\r\n        <path d=\"M 684 794 \r\nL 1344 794 \r\nL 1344 0 \r\nL 684 0 \r\nL 684 794 \r\nz\r\n\" id=\"DejaVuSans-2e\" transform=\"scale(0.015625)\"/>\r\n       </defs>\r\n       <use xlink:href=\"#DejaVuSans-2212\"/>\r\n       <use x=\"83.789062\" xlink:href=\"#DejaVuSans-30\"/>\r\n       <use x=\"147.412109\" xlink:href=\"#DejaVuSans-2e\"/>\r\n       <use x=\"179.199219\" xlink:href=\"#DejaVuSans-30\"/>\r\n       <use x=\"242.822266\" xlink:href=\"#DejaVuSans-34\"/>\r\n      </g>\r\n     </g>\r\n    </g>\r\n    <g id=\"ytick_2\">\r\n     <g id=\"line2d_10\">\r\n      <g>\r\n       <use style=\"stroke:#000000;stroke-width:0.8;\" x=\"44.845313\" xlink:href=\"#mb72223cdbf\" y=\"174.109091\"/>\r\n      </g>\r\n     </g>\r\n     <g id=\"text_11\">\r\n      <!-- −0.02 -->\r\n      <g transform=\"translate(7.2 177.90831)scale(0.1 -0.1)\">\r\n       <use xlink:href=\"#DejaVuSans-2212\"/>\r\n       <use x=\"83.789062\" xlink:href=\"#DejaVuSans-30\"/>\r\n       <use x=\"147.412109\" xlink:href=\"#DejaVuSans-2e\"/>\r\n       <use x=\"179.199219\" xlink:href=\"#DejaVuSans-30\"/>\r\n       <use x=\"242.822266\" xlink:href=\"#DejaVuSans-32\"/>\r\n      </g>\r\n     </g>\r\n    </g>\r\n    <g id=\"ytick_3\">\r\n     <g id=\"line2d_11\">\r\n      <g>\r\n       <use style=\"stroke:#000000;stroke-width:0.8;\" x=\"44.845313\" xlink:href=\"#mb72223cdbf\" y=\"129.6\"/>\r\n      </g>\r\n     </g>\r\n     <g id=\"text_12\">\r\n      <!-- 0.00 -->\r\n      <g transform=\"translate(15.579688 133.399219)scale(0.1 -0.1)\">\r\n       <use xlink:href=\"#DejaVuSans-30\"/>\r\n       <use x=\"63.623047\" xlink:href=\"#DejaVuSans-2e\"/>\r\n       <use x=\"95.410156\" xlink:href=\"#DejaVuSans-30\"/>\r\n       <use x=\"159.033203\" xlink:href=\"#DejaVuSans-30\"/>\r\n      </g>\r\n     </g>\r\n    </g>\r\n    <g id=\"ytick_4\">\r\n     <g id=\"line2d_12\">\r\n      <g>\r\n       <use style=\"stroke:#000000;stroke-width:0.8;\" x=\"44.845313\" xlink:href=\"#mb72223cdbf\" y=\"85.090909\"/>\r\n      </g>\r\n     </g>\r\n     <g id=\"text_13\">\r\n      <!-- 0.02 -->\r\n      <g transform=\"translate(15.579688 88.890128)scale(0.1 -0.1)\">\r\n       <use xlink:href=\"#DejaVuSans-30\"/>\r\n       <use x=\"63.623047\" xlink:href=\"#DejaVuSans-2e\"/>\r\n       <use x=\"95.410156\" xlink:href=\"#DejaVuSans-30\"/>\r\n       <use x=\"159.033203\" xlink:href=\"#DejaVuSans-32\"/>\r\n      </g>\r\n     </g>\r\n    </g>\r\n    <g id=\"ytick_5\">\r\n     <g id=\"line2d_13\">\r\n      <g>\r\n       <use style=\"stroke:#000000;stroke-width:0.8;\" x=\"44.845313\" xlink:href=\"#mb72223cdbf\" y=\"40.581818\"/>\r\n      </g>\r\n     </g>\r\n     <g id=\"text_14\">\r\n      <!-- 0.04 -->\r\n      <g transform=\"translate(15.579688 44.381037)scale(0.1 -0.1)\">\r\n       <use xlink:href=\"#DejaVuSans-30\"/>\r\n       <use x=\"63.623047\" xlink:href=\"#DejaVuSans-2e\"/>\r\n       <use x=\"95.410156\" xlink:href=\"#DejaVuSans-30\"/>\r\n       <use x=\"159.033203\" xlink:href=\"#DejaVuSans-34\"/>\r\n      </g>\r\n     </g>\r\n    </g>\r\n   </g>\r\n   <g id=\"line2d_14\">\r\n    <path clip-path=\"url(#pab38a38820)\" d=\"M 100.645313 129.6 \r\nL 103.660007 129.6 \r\nL 104.258979 129.6 \r\nL 137.286648 129.6 \r\nL 137.882946 129.6 \r\nL 140.882109 129.6 \r\nL 148.142829 129.6 \r\nL 151.758691 129.6 \r\nL 155.963427 129.6 \r\nL 166.176372 129.6 \r\nL 166.773353 129.6 \r\nL 179.386996 129.6 \r\nL 179.984475 129.6 \r\nL 211.818297 129.6 \r\nL 225.022365 129.6 \r\nL 225.619601 129.6 \r\nL 244.844307 129.6 \r\nL 245.472811 129.6 \r\nL 265.295163 129.6 \r\nL 265.883764 129.6 \r\nL 279.696248 129.6 \r\nL 280.297971 129.6 \r\nL 302.539675 129.6 \r\nL 303.746614 129.6 \r\nL 304.394505 129.6 \r\nL 309.207569 129.6 \r\nL 309.805458 129.6 \r\nL 314.694047 129.6 \r\nL 320.70929 129.6 \r\nL 321.307247 129.6 \r\nL 368.20024 129.6 \r\nL 774.173745 129.6 \r\nL 774.774873 129.6 \r\nL 860.121542 129.6 \r\nL 866.770802 129.6 \r\nL 879.501189 129.6 \r\nL 890.111354 129.6 \r\nL 890.711311 129.6 \r\nL 893.729255 129.6 \r\nL 906.442676 129.6 \r\nL 909.457146 129.6 \r\nL 910.05606 129.6 \r\nL 910.663227 129.6 \r\nL 913.081291 129.6 \r\nL 913.6808 129.6 \r\nL 931.136961 129.6 \r\nL 931.734099 129.6 \r\nL 954.57776 129.6 \r\nL 955.176371 129.6 \r\nL 958.786301 129.6 \r\nL 959.386054 129.6 \r\nL 962.995525 129.6 \r\nL 963.606771 129.6 \r\nL 991.875659 129.6 \r\nL 992.473646 129.6 \r\nL 1001.49211 129.6 \r\nL 1002.700786 129.6 \r\nL 1030.340047 129.6 \r\nL 1030.939985 129.6 \r\nL 1031.607925 129.6 \r\nL 1069.972155 129.6 \r\nL 1075.982246 129.6 \r\nL 1076.604585 129.6 \r\nL 1078.387471 129.6 \r\nL 1079.586908 129.6 \r\nL 1094.004735 129.6 \r\nL 1094.601005 129.6 \r\nL 1095.198269 129.6 \r\nL 1099.422401 129.6 \r\nL 1100.614091 129.6 \r\nL 1101.821333 129.6 \r\nL 1121.665353 129.6 \r\nL 1122.251584 129.6 \r\nL 1124.652223 129.6 \r\nL 1126.460037 129.6 \r\nL 1134.259795 129.6 \r\nL 1134.855606 129.6 \r\nL 1153.467848 129.6 \r\nL 1154.059297 129.6 \r\nL 1161.860432 129.6 \r\nL 1162.458477 129.6 \r\nL 1163.054581 129.6 \r\nL 1166.057197 129.6 \r\nL 1166.653701 129.6 \r\nL 1191.380758 129.6 \r\nL 1191.982998 129.6 \r\nL 1192.619825 129.6 \r\nL 1195.029157 129.6 \r\nL 1195.61971 129.6 \r\nL 1208.230835 129.6 \r\nL 1208.828207 129.6 \r\nL 1210.038795 129.6 \r\nL 1210.645446 129.6 \r\nL 1216.048741 129.6 \r\nL 1216.645312 129.6 \r\n\" style=\"fill:none;stroke:#1f77b4;stroke-linecap:square;stroke-width:1.5;\"/>\r\n   </g>\r\n   <g id=\"patch_3\">\r\n    <path d=\"M 44.845313 252 \r\nL 44.845313 7.2 \r\n\" style=\"fill:none;stroke:#000000;stroke-linecap:square;stroke-linejoin:miter;stroke-width:0.8;\"/>\r\n   </g>\r\n   <g id=\"patch_4\">\r\n    <path d=\"M 1272.445313 252 \r\nL 1272.445313 7.2 \r\n\" style=\"fill:none;stroke:#000000;stroke-linecap:square;stroke-linejoin:miter;stroke-width:0.8;\"/>\r\n   </g>\r\n   <g id=\"patch_5\">\r\n    <path d=\"M 44.845313 252 \r\nL 1272.445312 252 \r\n\" style=\"fill:none;stroke:#000000;stroke-linecap:square;stroke-linejoin:miter;stroke-width:0.8;\"/>\r\n   </g>\r\n   <g id=\"patch_6\">\r\n    <path d=\"M 44.845313 7.2 \r\nL 1272.445312 7.2 \r\n\" style=\"fill:none;stroke:#000000;stroke-linecap:square;stroke-linejoin:miter;stroke-width:0.8;\"/>\r\n   </g>\r\n   <g id=\"legend_1\">\r\n    <g id=\"patch_7\">\r\n     <path d=\"M 1170.59375 29.878125 \r\nL 1265.445313 29.878125 \r\nQ 1267.445313 29.878125 1267.445313 27.878125 \r\nL 1267.445313 14.2 \r\nQ 1267.445313 12.2 1265.445313 12.2 \r\nL 1170.59375 12.2 \r\nQ 1168.59375 12.2 1168.59375 14.2 \r\nL 1168.59375 27.878125 \r\nQ 1168.59375 29.878125 1170.59375 29.878125 \r\nz\r\n\" style=\"fill:#ffffff;opacity:0.8;stroke:#cccccc;stroke-linejoin:miter;\"/>\r\n    </g>\r\n    <g id=\"line2d_15\">\r\n     <path d=\"M 1172.59375 20.298437 \r\nL 1192.59375 20.298437 \r\n\" style=\"fill:none;stroke:#1f77b4;stroke-linecap:square;stroke-width:1.5;\"/>\r\n    </g>\r\n    <g id=\"line2d_16\"/>\r\n    <g id=\"text_15\">\r\n     <!-- temperature -->\r\n     <g transform=\"translate(1200.59375 23.798437)scale(0.1 -0.1)\">\r\n      <defs>\r\n       <path d=\"M 3328 2828 \r\nQ 3544 3216 3844 3400 \r\nQ 4144 3584 4550 3584 \r\nQ 5097 3584 5394 3201 \r\nQ 5691 2819 5691 2113 \r\nL 5691 0 \r\nL 5113 0 \r\nL 5113 2094 \r\nQ 5113 2597 4934 2840 \r\nQ 4756 3084 4391 3084 \r\nQ 3944 3084 3684 2787 \r\nQ 3425 2491 3425 1978 \r\nL 3425 0 \r\nL 2847 0 \r\nL 2847 2094 \r\nQ 2847 2600 2669 2842 \r\nQ 2491 3084 2119 3084 \r\nQ 1678 3084 1418 2786 \r\nQ 1159 2488 1159 1978 \r\nL 1159 0 \r\nL 581 0 \r\nL 581 3500 \r\nL 1159 3500 \r\nL 1159 2956 \r\nQ 1356 3278 1631 3431 \r\nQ 1906 3584 2284 3584 \r\nQ 2666 3584 2933 3390 \r\nQ 3200 3197 3328 2828 \r\nz\r\n\" id=\"DejaVuSans-6d\" transform=\"scale(0.015625)\"/>\r\n       <path d=\"M 1159 525 \r\nL 1159 -1331 \r\nL 581 -1331 \r\nL 581 3500 \r\nL 1159 3500 \r\nL 1159 2969 \r\nQ 1341 3281 1617 3432 \r\nQ 1894 3584 2278 3584 \r\nQ 2916 3584 3314 3078 \r\nQ 3713 2572 3713 1747 \r\nQ 3713 922 3314 415 \r\nQ 2916 -91 2278 -91 \r\nQ 1894 -91 1617 61 \r\nQ 1341 213 1159 525 \r\nz\r\nM 3116 1747 \r\nQ 3116 2381 2855 2742 \r\nQ 2594 3103 2138 3103 \r\nQ 1681 3103 1420 2742 \r\nQ 1159 2381 1159 1747 \r\nQ 1159 1113 1420 752 \r\nQ 1681 391 2138 391 \r\nQ 2594 391 2855 752 \r\nQ 3116 1113 3116 1747 \r\nz\r\n\" id=\"DejaVuSans-70\" transform=\"scale(0.015625)\"/>\r\n       <path d=\"M 544 1381 \r\nL 544 3500 \r\nL 1119 3500 \r\nL 1119 1403 \r\nQ 1119 906 1312 657 \r\nQ 1506 409 1894 409 \r\nQ 2359 409 2629 706 \r\nQ 2900 1003 2900 1516 \r\nL 2900 3500 \r\nL 3475 3500 \r\nL 3475 0 \r\nL 2900 0 \r\nL 2900 538 \r\nQ 2691 219 2414 64 \r\nQ 2138 -91 1772 -91 \r\nQ 1169 -91 856 284 \r\nQ 544 659 544 1381 \r\nz\r\nM 1991 3584 \r\nL 1991 3584 \r\nz\r\n\" id=\"DejaVuSans-75\" transform=\"scale(0.015625)\"/>\r\n      </defs>\r\n      <use xlink:href=\"#DejaVuSans-74\"/>\r\n      <use x=\"39.208984\" xlink:href=\"#DejaVuSans-65\"/>\r\n      <use x=\"100.732422\" xlink:href=\"#DejaVuSans-6d\"/>\r\n      <use x=\"198.144531\" xlink:href=\"#DejaVuSans-70\"/>\r\n      <use x=\"261.621094\" xlink:href=\"#DejaVuSans-65\"/>\r\n      <use x=\"323.144531\" xlink:href=\"#DejaVuSans-72\"/>\r\n      <use x=\"364.257812\" xlink:href=\"#DejaVuSans-61\"/>\r\n      <use x=\"425.537109\" xlink:href=\"#DejaVuSans-74\"/>\r\n      <use x=\"464.746094\" xlink:href=\"#DejaVuSans-75\"/>\r\n      <use x=\"528.125\" xlink:href=\"#DejaVuSans-72\"/>\r\n      <use x=\"566.988281\" xlink:href=\"#DejaVuSans-65\"/>\r\n     </g>\r\n    </g>\r\n   </g>\r\n  </g>\r\n </g>\r\n <defs>\r\n  <clipPath id=\"pab38a38820\">\r\n   <rect height=\"244.8\" width=\"1227.6\" x=\"44.845313\" y=\"7.2\"/>\r\n  </clipPath>\r\n </defs>\r\n</svg>\r\n",
      "image/png": "[encoded data removed]"
     },
     "metadata": {
      "needs_background": "light"
     }
    }
   ],
   "source": [
    "#message_data_rc.plot(x='created', y='counter', figsize=(22, 5))\n",
    "message_data_rc.plot(x='created', y='temperature', figsize=(22, 5))"
   ]
  },
  {
   "source": [
    "drive api (testing still)"
   ],
   "cell_type": "markdown",
   "metadata": {}
  },
  {
   "cell_type": "code",
   "execution_count": 36,
   "metadata": {},
   "outputs": [],
   "source": [
    "# pip install pydrive\n",
    "from pydrive.auth import GoogleAuth\n",
    "from pydrive.drive import GoogleDrive"
   ]
  },
  {
   "cell_type": "code",
   "execution_count": 37,
   "metadata": {
    "tags": []
   },
   "outputs": [
    {
     "output_type": "stream",
     "name": "stdout",
     "text": [
      "Your browser has been opened to visit:\n",
      "\n",
      "    https://accounts.google.com/o/oauth2/auth?client_id=491460359726-lj3ilu22ir8ckqnjefot5gs99vmig1d2.apps.googleusercontent.com&redirect_uri=http%3A%2F%2Flocalhost%3A8080%2F&scope=https%3A%2F%2Fwww.googleapis.com%2Fauth%2Fdrive&access_type=offline&response_type=code\n",
      "\n",
      "Authentication successful.\n"
     ]
    }
   ],
   "source": [
    "# Rename the downloaded JSON file to client_secrets.json\n",
    "# The client_secrets.json file needs to be in the same directory as the script.\n",
    "gauth = GoogleAuth()\n",
    "drive = GoogleDrive(gauth)\n",
    "# List files in Google Drive\n",
    "fileList = drive.ListFile({'q': \"'1pxYux33QnFcvrpP17Q88_xY1nW79aJL-' in parents and trashed=false\"}).GetList()\n",
    "# for file1 in fileList:\n",
    "#   print('title: %s, id: %s' % (file1['title'], file1['id']))\n",
    "\n",
    "  "
   ]
  },
  {
   "cell_type": "code",
   "execution_count": 40,
   "metadata": {},
   "outputs": [
    {
     "output_type": "stream",
     "name": "stdout",
     "text": [
      "unsupported file\nGoogleDriveFile({'kind': 'drive#file', 'id': '1d0ORJisSlsO68xoX9jHrC8vsGZgaNfn1d45gVDojFCA', 'etag': '\"MTYxNjc3NDQ0MTgxNA\"', 'selfLink': 'https://www.googleapis.com/drive/v2/files/1d0ORJisSlsO68xoX9jHrC8vsGZgaNfn1d45gVDojFCA', 'alternateLink': 'https://docs.google.com/document/d/1d0ORJisSlsO68xoX9jHrC8vsGZgaNfn1d45gVDojFCA/edit?usp=drivesdk', 'embedLink': 'https://docs.google.com/document/d/1d0ORJisSlsO68xoX9jHrC8vsGZgaNfn1d45gVDojFCA/preview?ouid=115354251365952521942', 'iconLink': 'https://drive-thirdparty.googleusercontent.com/16/type/application/vnd.google-apps.document', 'thumbnailLink': 'https://docs.google.com/feeds/vt?gd=true&id=1d0ORJisSlsO68xoX9jHrC8vsGZgaNfn1d45gVDojFCA&v=1&s=AMedNnoAAAAAYHiUgOHxY2GBCCAsx8NKmBSA7JzDNswk&sz=s220', 'title': 'Unbenanntes Dokument', 'mimeType': 'application/vnd.google-apps.document', 'labels': {'starred': False, 'hidden': False, 'trashed': False, 'restricted': False, 'viewed': True}, 'copyRequiresWriterPermission': False, 'createdDate': '2021-03-26T16:00:34.328Z', 'modifiedDate': '2021-03-26T16:00:41.814Z', 'modifiedByMeDate': '2021-03-26T16:00:41.814Z', 'lastViewedByMeDate': '2021-03-26T21:07:37.076Z', 'markedViewedByMeDate': '1970-01-01T00:00:00.000Z', 'version': '7', 'parents': [{'kind': 'drive#parentReference', 'id': '1pxYux33QnFcvrpP17Q88_xY1nW79aJL-', 'selfLink': 'https://www.googleapis.com/drive/v2/files/1d0ORJisSlsO68xoX9jHrC8vsGZgaNfn1d45gVDojFCA/parents/1pxYux33QnFcvrpP17Q88_xY1nW79aJL-', 'parentLink': 'https://www.googleapis.com/drive/v2/files/1pxYux33QnFcvrpP17Q88_xY1nW79aJL-', 'isRoot': False}], 'exportLinks': {'application/rtf': 'https://docs.google.com/feeds/download/documents/export/Export?id=1d0ORJisSlsO68xoX9jHrC8vsGZgaNfn1d45gVDojFCA&exportFormat=rtf', 'application/vnd.oasis.opendocument.text': 'https://docs.google.com/feeds/download/documents/export/Export?id=1d0ORJisSlsO68xoX9jHrC8vsGZgaNfn1d45gVDojFCA&exportFormat=odt', 'text/html': 'https://docs.google.com/feeds/download/documents/export/Export?id=1d0ORJisSlsO68xoX9jHrC8vsGZgaNfn1d45gVDojFCA&exportFormat=html', 'application/pdf': 'https://docs.google.com/feeds/download/documents/export/Export?id=1d0ORJisSlsO68xoX9jHrC8vsGZgaNfn1d45gVDojFCA&exportFormat=pdf', 'application/epub+zip': 'https://docs.google.com/feeds/download/documents/export/Export?id=1d0ORJisSlsO68xoX9jHrC8vsGZgaNfn1d45gVDojFCA&exportFormat=epub', 'application/zip': 'https://docs.google.com/feeds/download/documents/export/Export?id=1d0ORJisSlsO68xoX9jHrC8vsGZgaNfn1d45gVDojFCA&exportFormat=zip', 'application/vnd.openxmlformats-officedocument.wordprocessingml.document': 'https://docs.google.com/feeds/download/documents/export/Export?id=1d0ORJisSlsO68xoX9jHrC8vsGZgaNfn1d45gVDojFCA&exportFormat=docx', 'text/plain': 'https://docs.google.com/feeds/download/documents/export/Export?id=1d0ORJisSlsO68xoX9jHrC8vsGZgaNfn1d45gVDojFCA&exportFormat=txt'}, 'userPermission': {'kind': 'drive#permission', 'etag': '\"wInpqOdzFPUYlvE5WTHjs4Tnug8\"', 'id': 'me', 'selfLink': 'https://www.googleapis.com/drive/v2/files/1d0ORJisSlsO68xoX9jHrC8vsGZgaNfn1d45gVDojFCA/permissions/me', 'role': 'owner', 'type': 'user'}, 'quotaBytesUsed': '0', 'ownerNames': ['Pascal Berger'], 'owners': [{'kind': 'drive#user', 'displayName': 'Pascal Berger', 'isAuthenticatedUser': True, 'permissionId': '13414944967758792359', 'emailAddress': 'pascal.berger21@gmail.com'}], 'lastModifyingUserName': 'Pascal Berger', 'lastModifyingUser': {'kind': 'drive#user', 'displayName': 'Pascal Berger', 'isAuthenticatedUser': True, 'permissionId': '13414944967758792359', 'emailAddress': 'pascal.berger21@gmail.com'}, 'capabilities': {'canCopy': True, 'canEdit': True}, 'editable': True, 'copyable': True, 'writersCanShare': True, 'shared': True, 'explicitlyTrashed': False, 'appDataContents': False, 'spaces': ['drive']})\n"
     ]
    }
   ],
   "source": [
    "fileCons = list()\n",
    "\n",
    "for file1 in fileList:\n",
    "  if 'downloadUrl' in file1:\n",
    "    fileCons.append(requests.get(file1['downloadUrl']).content)\n",
    "  else:\n",
    "    print('unsupported file')\n",
    "    print(file1)"
   ]
  },
  {
   "cell_type": "code",
   "execution_count": 41,
   "metadata": {},
   "outputs": [
    {
     "output_type": "stream",
     "name": "stdout",
     "text": [
      "[b'{\\n \"error\": {\\n  \"errors\": [\\n   {\\n    \"domain\": \"usageLimits\",\\n    \"reason\": \"dailyLimitExceededUnreg\",\\n    \"message\": \"Daily Limit for Unauthenticated Use Exceeded. Continued use requires signup.\",\\n    \"extendedHelp\": \"https://code.google.com/apis/console\"\\n   }\\n  ],\\n  \"code\": 403,\\n  \"message\": \"Daily Limit for Unauthenticated Use Exceeded. Continued use requires signup.\"\\n }\\n}\\n']\n"
     ]
    }
   ],
   "source": [
    "print(fileCons)"
   ]
  },
  {
   "cell_type": "code",
   "execution_count": null,
   "metadata": {},
   "outputs": [],
   "source": []
  }
 ]
}